{
  "nbformat": 4,
  "nbformat_minor": 0,
  "metadata": {
    "colab": {
      "provenance": [],
      "authorship_tag": "ABX9TyPtG1uOWdpmphXccqlc3Rld"
    },
    "kernelspec": {
      "name": "python3",
      "display_name": "Python 3"
    },
    "language_info": {
      "name": "python"
    }
  },
  "cells": [
    {
      "cell_type": "markdown",
      "source": [
        "#### Architecture of a CNN\n",
        "1. Input images - target images we want to discover patterns in\n",
        "2. Input layer - takes in image shape such as batch size, image height, width, color channels\n",
        "3. Convolutional layer - extracts/learns the most important features in a image\n",
        "4. Hidden layer - adds non-linearity to learned features\n",
        "5. Pooling layer - reduces the dimensionality of learned image features\n",
        "6. Fully connected layer - further reduces learned features from convolutional layers\n",
        "7. Output layer - takes learned features and outputs them\n",
        "8. Output activation - adds non-linearity to output features\n"
      ],
      "metadata": {
        "id": "QLWXtT51kyoM"
      }
    },
    {
      "cell_type": "code",
      "source": [
        "import zipfile\n",
        "\n",
        "# Download zip file of pizza_steak images\n",
        "!wget https://storage.googleapis.com/ztm_tf_course/food_vision/pizza_steak.zip\n",
        "\n",
        "# Unzip the downloaded file\n",
        "zip_ref = zipfile.ZipFile(\"pizza_steak.zip\", \"r\")\n",
        "zip_ref.extractall()\n",
        "zip_ref.close()\n",
        ""
      ],
      "metadata": {
        "colab": {
          "base_uri": "https://localhost:8080/"
        },
        "id": "wr-V__rGl3yD",
        "outputId": "fdfc7179-47a3-4212-9ed0-abdfe183452b"
      },
      "execution_count": 1,
      "outputs": [
        {
          "output_type": "stream",
          "name": "stdout",
          "text": [
            "--2023-07-24 20:48:04--  https://storage.googleapis.com/ztm_tf_course/food_vision/pizza_steak.zip\n",
            "Resolving storage.googleapis.com (storage.googleapis.com)... 142.250.141.128, 142.251.2.128, 74.125.137.128, ...\n",
            "Connecting to storage.googleapis.com (storage.googleapis.com)|142.250.141.128|:443... connected.\n",
            "HTTP request sent, awaiting response... 200 OK\n",
            "Length: 109540975 (104M) [application/zip]\n",
            "Saving to: ‘pizza_steak.zip’\n",
            "\n",
            "pizza_steak.zip     100%[===================>] 104.47M   140MB/s    in 0.7s    \n",
            "\n",
            "2023-07-24 20:48:05 (140 MB/s) - ‘pizza_steak.zip’ saved [109540975/109540975]\n",
            "\n"
          ]
        }
      ]
    },
    {
      "cell_type": "code",
      "source": [],
      "metadata": {
        "id": "33m0peJ0qKdX"
      },
      "execution_count": null,
      "outputs": []
    }
  ]
}