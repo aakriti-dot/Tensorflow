{
  "nbformat": 4,
  "nbformat_minor": 0,
  "metadata": {
    "colab": {
      "provenance": [],
      "authorship_tag": "ABX9TyO32KCsm572bQhiEQ3y5hKA"
    },
    "kernelspec": {
      "name": "python3",
      "display_name": "Python 3"
    },
    "language_info": {
      "name": "python"
    }
  },
  "cells": [
    {
      "cell_type": "markdown",
      "source": [
        "Architecture of a neural netwrok regression.\n",
        "1. Input layer shape - Same shape as number of features.\n",
        "2. Hidden layer - minimum:1 , maximum: unlimited.\n",
        "3. Neurons per hidden layer - Problem specific, generally 10 to 100.\n",
        "4. Output layer shape : Same shape as desired predition shape.\n",
        "5. Hidden activation - Usually ReLU\n",
        "6. Output activation - None, ReLU, logistic/tanh\n",
        "7. Loss function - MSE, MAE if outliers\n",
        "8. Optimizer - SGD, Adam"
      ],
      "metadata": {
        "id": "lVFoa14OWJV1"
      }
    },
    {
      "cell_type": "code",
      "source": [
        "import tensorflow as tf\n",
        "print(tf.__version__)"
      ],
      "metadata": {
        "colab": {
          "base_uri": "https://localhost:8080/"
        },
        "id": "0wxEXxYbXLli",
        "outputId": "0bbce99b-7588-4577-f9c7-bc220d625b94"
      },
      "execution_count": 1,
      "outputs": [
        {
          "output_type": "stream",
          "name": "stdout",
          "text": [
            "2.12.0\n"
          ]
        }
      ]
    },
    {
      "cell_type": "code",
      "source": [
        "house_info = tf.constant(['bedroom', 'bathroom', 'garage'])\n",
        "house_price = tf.constant([939700])\n",
        "house_info, house_price"
      ],
      "metadata": {
        "colab": {
          "base_uri": "https://localhost:8080/"
        },
        "id": "7vQnye9N_ApT",
        "outputId": "9bf7e1cf-439b-4f8b-fd58-b592eccc9f88"
      },
      "execution_count": 2,
      "outputs": [
        {
          "output_type": "execute_result",
          "data": {
            "text/plain": [
              "(<tf.Tensor: shape=(3,), dtype=string, numpy=array([b'bedroom', b'bathroom', b'garage'], dtype=object)>,\n",
              " <tf.Tensor: shape=(1,), dtype=int32, numpy=array([939700], dtype=int32)>)"
            ]
          },
          "metadata": {},
          "execution_count": 2
        }
      ]
    },
    {
      "cell_type": "markdown",
      "source": [
        "## Steps in modelling with tensorflow\n",
        "1. **Creating a model** - define the input and output layers as well as the hidden layers.\n",
        "2. **Compiling a model** - define the loss function, optimizer, evaluation metrics.\n",
        "3. Fitting a model - Letting a model to try to find patterns between features and labels."
      ],
      "metadata": {
        "id": "EHtObwKHEmns"
      }
    },
    {
      "cell_type": "code",
      "source": [
        "import numpy as np\n",
        "X = np.array([-7.0, -4.0, -1.0, 2.0, 5.0, 8.0, 11.0, 14.0])\n",
        "y = np.array( [3.0, 6.0, 9.0, 12.0, 15.0, 18.0, 21.0, 24.0])\n",
        "\n",
        "\n",
        "X = tf.constant(X)\n",
        "y = tf.constant(y)\n",
        "\n",
        "X,y"
      ],
      "metadata": {
        "colab": {
          "base_uri": "https://localhost:8080/"
        },
        "id": "EQpnzKZyFaTv",
        "outputId": "b863fef3-30b4-41b3-e28f-d835bc22e4e9"
      },
      "execution_count": 3,
      "outputs": [
        {
          "output_type": "execute_result",
          "data": {
            "text/plain": [
              "(<tf.Tensor: shape=(8,), dtype=float64, numpy=array([-7., -4., -1.,  2.,  5.,  8., 11., 14.])>,\n",
              " <tf.Tensor: shape=(8,), dtype=float64, numpy=array([ 3.,  6.,  9., 12., 15., 18., 21., 24.])>)"
            ]
          },
          "metadata": {},
          "execution_count": 3
        }
      ]
    },
    {
      "cell_type": "code",
      "source": [
        "tf.random.set_seed(42)\n",
        "\n",
        "#create a model using sequential API\n",
        "model = tf.keras.Sequential()\n",
        "model.add(tf.keras.layers.Dense(1))\n",
        "\n",
        "#Compiling model\n",
        "model.compile(loss=tf.keras.losses.mae,\n",
        "              optimizer=tf.keras.optimizers.SGD(),\n",
        "              metrics=['mae'])\n",
        "\n",
        "model.fit(tf.expand_dims(X, axis=-1), y, epochs=10)"
      ],
      "metadata": {
        "colab": {
          "base_uri": "https://localhost:8080/"
        },
        "id": "EPIXAZkFJLOZ",
        "outputId": "a8c7560e-bcfd-4c4d-fff0-6ab2cd867727"
      },
      "execution_count": 4,
      "outputs": [
        {
          "output_type": "stream",
          "name": "stdout",
          "text": [
            "Epoch 1/10\n",
            "1/1 [==============================] - 2s 2s/step - loss: 17.4789 - mae: 17.4789\n",
            "Epoch 2/10\n",
            "1/1 [==============================] - 0s 25ms/step - loss: 17.1976 - mae: 17.1976\n",
            "Epoch 3/10\n",
            "1/1 [==============================] - 0s 17ms/step - loss: 16.9164 - mae: 16.9164\n",
            "Epoch 4/10\n",
            "1/1 [==============================] - 0s 24ms/step - loss: 16.6351 - mae: 16.6351\n",
            "Epoch 5/10\n",
            "1/1 [==============================] - 0s 37ms/step - loss: 16.3539 - mae: 16.3539\n",
            "Epoch 6/10\n",
            "1/1 [==============================] - 0s 16ms/step - loss: 16.0726 - mae: 16.0726\n",
            "Epoch 7/10\n",
            "1/1 [==============================] - 0s 16ms/step - loss: 15.7914 - mae: 15.7914\n",
            "Epoch 8/10\n",
            "1/1 [==============================] - 0s 16ms/step - loss: 15.5101 - mae: 15.5101\n",
            "Epoch 9/10\n",
            "1/1 [==============================] - 0s 22ms/step - loss: 15.2289 - mae: 15.2289\n",
            "Epoch 10/10\n",
            "1/1 [==============================] - 0s 55ms/step - loss: 14.9476 - mae: 14.9476\n"
          ]
        },
        {
          "output_type": "execute_result",
          "data": {
            "text/plain": [
              "<keras.callbacks.History at 0x7f13fe74d930>"
            ]
          },
          "metadata": {},
          "execution_count": 4
        }
      ]
    },
    {
      "cell_type": "code",
      "source": [
        "model.predict([17.0])"
      ],
      "metadata": {
        "colab": {
          "base_uri": "https://localhost:8080/"
        },
        "id": "MO0gpDK-Ilie",
        "outputId": "9fee3a51-7897-4064-c90f-149d0fac3b98"
      },
      "execution_count": 5,
      "outputs": [
        {
          "output_type": "stream",
          "name": "stdout",
          "text": [
            "1/1 [==============================] - 1s 511ms/step\n"
          ]
        },
        {
          "output_type": "execute_result",
          "data": {
            "text/plain": [
              "array([[-6.3126116]], dtype=float32)"
            ]
          },
          "metadata": {},
          "execution_count": 5
        }
      ]
    },
    {
      "cell_type": "markdown",
      "source": [
        "### Improving the model\n",
        "\n",
        "1. Creating a model - Here we can **add more layers**, increase the number of hidden units with each of the hidden layers, **change the activation functions** of each layer.\n",
        "2. Compiling a model - Change the optimization function or maybe the **learning rate** of the function.\n",
        "3. Fitting a model - Fit the model for **more epochs**.\n",
        "\n",
        "\n",
        "The lower the learning rate, the smaller the steps the optimizer tells the neural network to improve."
      ],
      "metadata": {
        "id": "3wSOKTakGPPe"
      }
    },
    {
      "cell_type": "code",
      "source": [
        "model = tf.keras.Sequential([\n",
        "    tf.keras.layers.Dense(1)\n",
        "])\n",
        "\n",
        "model.compile(loss=tf.keras.losses.mae,\n",
        "              optimizer=tf.keras.optimizers.SGD(),\n",
        "              metrics=['mae'])\n",
        "\n",
        "model.fit(tf.expand_dims(X, axis=-1), y, epochs=100)\n"
      ],
      "metadata": {
        "colab": {
          "base_uri": "https://localhost:8080/"
        },
        "id": "1lK7SErVLJSu",
        "outputId": "fe439d24-7258-4aa2-9cfd-7c2b28fd43d2"
      },
      "execution_count": 6,
      "outputs": [
        {
          "output_type": "stream",
          "name": "stdout",
          "text": [
            "Epoch 1/100\n",
            "1/1 [==============================] - 1s 941ms/step - loss: 11.6335 - mae: 11.6335\n",
            "Epoch 2/100\n",
            "1/1 [==============================] - 0s 21ms/step - loss: 11.5010 - mae: 11.5010\n",
            "Epoch 3/100\n",
            "1/1 [==============================] - 0s 25ms/step - loss: 11.3685 - mae: 11.3685\n",
            "Epoch 4/100\n",
            "1/1 [==============================] - 0s 25ms/step - loss: 11.2360 - mae: 11.2360\n",
            "Epoch 5/100\n",
            "1/1 [==============================] - 0s 40ms/step - loss: 11.1035 - mae: 11.1035\n",
            "Epoch 6/100\n",
            "1/1 [==============================] - 0s 22ms/step - loss: 10.9710 - mae: 10.9710\n",
            "Epoch 7/100\n",
            "1/1 [==============================] - 0s 34ms/step - loss: 10.8385 - mae: 10.8385\n",
            "Epoch 8/100\n",
            "1/1 [==============================] - 0s 28ms/step - loss: 10.7060 - mae: 10.7060\n",
            "Epoch 9/100\n",
            "1/1 [==============================] - 0s 24ms/step - loss: 10.5735 - mae: 10.5735\n",
            "Epoch 10/100\n",
            "1/1 [==============================] - 0s 47ms/step - loss: 10.4410 - mae: 10.4410\n",
            "Epoch 11/100\n",
            "1/1 [==============================] - 0s 48ms/step - loss: 10.3085 - mae: 10.3085\n",
            "Epoch 12/100\n",
            "1/1 [==============================] - 0s 48ms/step - loss: 10.1760 - mae: 10.1760\n",
            "Epoch 13/100\n",
            "1/1 [==============================] - 0s 36ms/step - loss: 10.0435 - mae: 10.0435\n",
            "Epoch 14/100\n",
            "1/1 [==============================] - 0s 56ms/step - loss: 9.9110 - mae: 9.9110\n",
            "Epoch 15/100\n",
            "1/1 [==============================] - 0s 23ms/step - loss: 9.7785 - mae: 9.7785\n",
            "Epoch 16/100\n",
            "1/1 [==============================] - 0s 31ms/step - loss: 9.6460 - mae: 9.6460\n",
            "Epoch 17/100\n",
            "1/1 [==============================] - 0s 36ms/step - loss: 9.5135 - mae: 9.5135\n",
            "Epoch 18/100\n",
            "1/1 [==============================] - 0s 12ms/step - loss: 9.3810 - mae: 9.3810\n",
            "Epoch 19/100\n",
            "1/1 [==============================] - 0s 17ms/step - loss: 9.2485 - mae: 9.2485\n",
            "Epoch 20/100\n",
            "1/1 [==============================] - 0s 12ms/step - loss: 9.1160 - mae: 9.1160\n",
            "Epoch 21/100\n",
            "1/1 [==============================] - 0s 14ms/step - loss: 8.9835 - mae: 8.9835\n",
            "Epoch 22/100\n",
            "1/1 [==============================] - 0s 11ms/step - loss: 8.8510 - mae: 8.8510\n",
            "Epoch 23/100\n",
            "1/1 [==============================] - 0s 12ms/step - loss: 8.7185 - mae: 8.7185\n",
            "Epoch 24/100\n",
            "1/1 [==============================] - 0s 22ms/step - loss: 8.5860 - mae: 8.5860\n",
            "Epoch 25/100\n",
            "1/1 [==============================] - 0s 13ms/step - loss: 8.4535 - mae: 8.4535\n",
            "Epoch 26/100\n",
            "1/1 [==============================] - 0s 11ms/step - loss: 8.3210 - mae: 8.3210\n",
            "Epoch 27/100\n",
            "1/1 [==============================] - 0s 12ms/step - loss: 8.1885 - mae: 8.1885\n",
            "Epoch 28/100\n",
            "1/1 [==============================] - 0s 20ms/step - loss: 8.0560 - mae: 8.0560\n",
            "Epoch 29/100\n",
            "1/1 [==============================] - 0s 18ms/step - loss: 7.9235 - mae: 7.9235\n",
            "Epoch 30/100\n",
            "1/1 [==============================] - 0s 11ms/step - loss: 7.7910 - mae: 7.7910\n",
            "Epoch 31/100\n",
            "1/1 [==============================] - 0s 21ms/step - loss: 7.6585 - mae: 7.6585\n",
            "Epoch 32/100\n",
            "1/1 [==============================] - 0s 19ms/step - loss: 7.5260 - mae: 7.5260\n",
            "Epoch 33/100\n",
            "1/1 [==============================] - 0s 27ms/step - loss: 7.3935 - mae: 7.3935\n",
            "Epoch 34/100\n",
            "1/1 [==============================] - 0s 21ms/step - loss: 7.2610 - mae: 7.2610\n",
            "Epoch 35/100\n",
            "1/1 [==============================] - 0s 19ms/step - loss: 7.2450 - mae: 7.2450\n",
            "Epoch 36/100\n",
            "1/1 [==============================] - 0s 13ms/step - loss: 7.2394 - mae: 7.2394\n",
            "Epoch 37/100\n",
            "1/1 [==============================] - 0s 10ms/step - loss: 7.2338 - mae: 7.2338\n",
            "Epoch 38/100\n",
            "1/1 [==============================] - 0s 11ms/step - loss: 7.2281 - mae: 7.2281\n",
            "Epoch 39/100\n",
            "1/1 [==============================] - 0s 47ms/step - loss: 7.2225 - mae: 7.2225\n",
            "Epoch 40/100\n",
            "1/1 [==============================] - 0s 18ms/step - loss: 7.2169 - mae: 7.2169\n",
            "Epoch 41/100\n",
            "1/1 [==============================] - 0s 16ms/step - loss: 7.2113 - mae: 7.2113\n",
            "Epoch 42/100\n",
            "1/1 [==============================] - 0s 19ms/step - loss: 7.2056 - mae: 7.2056\n",
            "Epoch 43/100\n",
            "1/1 [==============================] - 0s 13ms/step - loss: 7.2000 - mae: 7.2000\n",
            "Epoch 44/100\n",
            "1/1 [==============================] - 0s 22ms/step - loss: 7.1944 - mae: 7.1944\n",
            "Epoch 45/100\n",
            "1/1 [==============================] - 0s 14ms/step - loss: 7.1888 - mae: 7.1888\n",
            "Epoch 46/100\n",
            "1/1 [==============================] - 0s 18ms/step - loss: 7.1831 - mae: 7.1831\n",
            "Epoch 47/100\n",
            "1/1 [==============================] - 0s 15ms/step - loss: 7.1775 - mae: 7.1775\n",
            "Epoch 48/100\n",
            "1/1 [==============================] - 0s 11ms/step - loss: 7.1719 - mae: 7.1719\n",
            "Epoch 49/100\n",
            "1/1 [==============================] - 0s 12ms/step - loss: 7.1663 - mae: 7.1663\n",
            "Epoch 50/100\n",
            "1/1 [==============================] - 0s 23ms/step - loss: 7.1606 - mae: 7.1606\n",
            "Epoch 51/100\n",
            "1/1 [==============================] - 0s 21ms/step - loss: 7.1550 - mae: 7.1550\n",
            "Epoch 52/100\n",
            "1/1 [==============================] - 0s 11ms/step - loss: 7.1494 - mae: 7.1494\n",
            "Epoch 53/100\n",
            "1/1 [==============================] - 0s 11ms/step - loss: 7.1438 - mae: 7.1438\n",
            "Epoch 54/100\n",
            "1/1 [==============================] - 0s 17ms/step - loss: 7.1381 - mae: 7.1381\n",
            "Epoch 55/100\n",
            "1/1 [==============================] - 0s 16ms/step - loss: 7.1325 - mae: 7.1325\n",
            "Epoch 56/100\n",
            "1/1 [==============================] - 0s 16ms/step - loss: 7.1269 - mae: 7.1269\n",
            "Epoch 57/100\n",
            "1/1 [==============================] - 0s 16ms/step - loss: 7.1213 - mae: 7.1213\n",
            "Epoch 58/100\n",
            "1/1 [==============================] - 0s 16ms/step - loss: 7.1156 - mae: 7.1156\n",
            "Epoch 59/100\n",
            "1/1 [==============================] - 0s 30ms/step - loss: 7.1100 - mae: 7.1100\n",
            "Epoch 60/100\n",
            "1/1 [==============================] - 0s 21ms/step - loss: 7.1044 - mae: 7.1044\n",
            "Epoch 61/100\n",
            "1/1 [==============================] - 0s 16ms/step - loss: 7.0988 - mae: 7.0988\n",
            "Epoch 62/100\n",
            "1/1 [==============================] - 0s 22ms/step - loss: 7.0931 - mae: 7.0931\n",
            "Epoch 63/100\n",
            "1/1 [==============================] - 0s 17ms/step - loss: 7.0875 - mae: 7.0875\n",
            "Epoch 64/100\n",
            "1/1 [==============================] - 0s 32ms/step - loss: 7.0819 - mae: 7.0819\n",
            "Epoch 65/100\n",
            "1/1 [==============================] - 0s 24ms/step - loss: 7.0763 - mae: 7.0763\n",
            "Epoch 66/100\n",
            "1/1 [==============================] - 0s 30ms/step - loss: 7.0706 - mae: 7.0706\n",
            "Epoch 67/100\n",
            "1/1 [==============================] - 0s 29ms/step - loss: 7.0650 - mae: 7.0650\n",
            "Epoch 68/100\n",
            "1/1 [==============================] - 0s 46ms/step - loss: 7.0594 - mae: 7.0594\n",
            "Epoch 69/100\n",
            "1/1 [==============================] - 0s 35ms/step - loss: 7.0538 - mae: 7.0538\n",
            "Epoch 70/100\n",
            "1/1 [==============================] - 0s 40ms/step - loss: 7.0481 - mae: 7.0481\n",
            "Epoch 71/100\n",
            "1/1 [==============================] - 0s 33ms/step - loss: 7.0425 - mae: 7.0425\n",
            "Epoch 72/100\n",
            "1/1 [==============================] - 0s 27ms/step - loss: 7.0369 - mae: 7.0369\n",
            "Epoch 73/100\n",
            "1/1 [==============================] - 0s 15ms/step - loss: 7.0312 - mae: 7.0312\n",
            "Epoch 74/100\n",
            "1/1 [==============================] - 0s 12ms/step - loss: 7.0256 - mae: 7.0256\n",
            "Epoch 75/100\n",
            "1/1 [==============================] - 0s 37ms/step - loss: 7.0200 - mae: 7.0200\n",
            "Epoch 76/100\n",
            "1/1 [==============================] - 0s 29ms/step - loss: 7.0144 - mae: 7.0144\n",
            "Epoch 77/100\n",
            "1/1 [==============================] - 0s 26ms/step - loss: 7.0088 - mae: 7.0088\n",
            "Epoch 78/100\n",
            "1/1 [==============================] - 0s 18ms/step - loss: 7.0031 - mae: 7.0031\n",
            "Epoch 79/100\n",
            "1/1 [==============================] - 0s 50ms/step - loss: 6.9975 - mae: 6.9975\n",
            "Epoch 80/100\n",
            "1/1 [==============================] - 0s 28ms/step - loss: 6.9919 - mae: 6.9919\n",
            "Epoch 81/100\n",
            "1/1 [==============================] - 0s 26ms/step - loss: 6.9863 - mae: 6.9863\n",
            "Epoch 82/100\n",
            "1/1 [==============================] - 0s 35ms/step - loss: 6.9806 - mae: 6.9806\n",
            "Epoch 83/100\n",
            "1/1 [==============================] - 0s 28ms/step - loss: 6.9750 - mae: 6.9750\n",
            "Epoch 84/100\n",
            "1/1 [==============================] - 0s 21ms/step - loss: 6.9694 - mae: 6.9694\n",
            "Epoch 85/100\n",
            "1/1 [==============================] - 0s 21ms/step - loss: 6.9638 - mae: 6.9638\n",
            "Epoch 86/100\n",
            "1/1 [==============================] - 0s 22ms/step - loss: 6.9581 - mae: 6.9581\n",
            "Epoch 87/100\n",
            "1/1 [==============================] - 0s 22ms/step - loss: 6.9525 - mae: 6.9525\n",
            "Epoch 88/100\n",
            "1/1 [==============================] - 0s 17ms/step - loss: 6.9469 - mae: 6.9469\n",
            "Epoch 89/100\n",
            "1/1 [==============================] - 0s 12ms/step - loss: 6.9413 - mae: 6.9413\n",
            "Epoch 90/100\n",
            "1/1 [==============================] - 0s 10ms/step - loss: 6.9356 - mae: 6.9356\n",
            "Epoch 91/100\n",
            "1/1 [==============================] - 0s 13ms/step - loss: 6.9300 - mae: 6.9300\n",
            "Epoch 92/100\n",
            "1/1 [==============================] - 0s 19ms/step - loss: 6.9244 - mae: 6.9244\n",
            "Epoch 93/100\n",
            "1/1 [==============================] - 0s 17ms/step - loss: 6.9188 - mae: 6.9188\n",
            "Epoch 94/100\n",
            "1/1 [==============================] - 0s 16ms/step - loss: 6.9131 - mae: 6.9131\n",
            "Epoch 95/100\n",
            "1/1 [==============================] - 0s 18ms/step - loss: 6.9075 - mae: 6.9075\n",
            "Epoch 96/100\n",
            "1/1 [==============================] - 0s 34ms/step - loss: 6.9019 - mae: 6.9019\n",
            "Epoch 97/100\n",
            "1/1 [==============================] - 0s 32ms/step - loss: 6.8963 - mae: 6.8963\n",
            "Epoch 98/100\n",
            "1/1 [==============================] - 0s 17ms/step - loss: 6.8906 - mae: 6.8906\n",
            "Epoch 99/100\n",
            "1/1 [==============================] - 0s 16ms/step - loss: 6.8850 - mae: 6.8850\n",
            "Epoch 100/100\n",
            "1/1 [==============================] - 0s 14ms/step - loss: 6.8794 - mae: 6.8794\n"
          ]
        },
        {
          "output_type": "execute_result",
          "data": {
            "text/plain": [
              "<keras.callbacks.History at 0x7f13fdd6ada0>"
            ]
          },
          "metadata": {},
          "execution_count": 6
        }
      ]
    },
    {
      "cell_type": "code",
      "source": [
        "model.predict([17.0])"
      ],
      "metadata": {
        "colab": {
          "base_uri": "https://localhost:8080/"
        },
        "id": "TzO9Iws1OEFV",
        "outputId": "5f1a495a-09ef-4fbd-f1e3-71ed619a9a82"
      },
      "execution_count": 7,
      "outputs": [
        {
          "output_type": "stream",
          "name": "stdout",
          "text": [
            "1/1 [==============================] - 0s 137ms/step\n"
          ]
        },
        {
          "output_type": "execute_result",
          "data": {
            "text/plain": [
              "array([[30.130924]], dtype=float32)"
            ]
          },
          "metadata": {},
          "execution_count": 7
        }
      ]
    },
    {
      "cell_type": "code",
      "source": [
        "model = tf.keras.Sequential([\n",
        "    tf.keras.layers.Dense(1)\n",
        "])\n",
        "\n",
        "model.compile(loss=tf.keras.losses.mae,\n",
        "              optimizer=tf.keras.optimizers.Adam(learning_rate=0.1),\n",
        "              metrics=['mae'])\n",
        "\n",
        "model.fit(tf.expand_dims(X, axis=-1), y, epochs=100)"
      ],
      "metadata": {
        "colab": {
          "base_uri": "https://localhost:8080/"
        },
        "id": "wuUKAXqZO9-t",
        "outputId": "2886fd4e-d7f2-4ed0-bdab-7777f988b029"
      },
      "execution_count": 8,
      "outputs": [
        {
          "output_type": "stream",
          "name": "stdout",
          "text": [
            "Epoch 1/100\n",
            "1/1 [==============================] - 1s 968ms/step - loss: 13.8257 - mae: 13.8257\n",
            "Epoch 2/100\n",
            "1/1 [==============================] - 0s 21ms/step - loss: 13.3757 - mae: 13.3757\n",
            "Epoch 3/100\n",
            "1/1 [==============================] - 0s 23ms/step - loss: 12.9257 - mae: 12.9257\n",
            "Epoch 4/100\n",
            "1/1 [==============================] - 0s 27ms/step - loss: 12.4757 - mae: 12.4757\n",
            "Epoch 5/100\n",
            "1/1 [==============================] - 0s 27ms/step - loss: 12.0257 - mae: 12.0257\n",
            "Epoch 6/100\n",
            "1/1 [==============================] - 0s 23ms/step - loss: 11.5757 - mae: 11.5757\n",
            "Epoch 7/100\n",
            "1/1 [==============================] - 0s 25ms/step - loss: 11.1257 - mae: 11.1257\n",
            "Epoch 8/100\n",
            "1/1 [==============================] - 0s 26ms/step - loss: 10.6757 - mae: 10.6757\n",
            "Epoch 9/100\n",
            "1/1 [==============================] - 0s 40ms/step - loss: 10.2257 - mae: 10.2257\n",
            "Epoch 10/100\n",
            "1/1 [==============================] - 0s 26ms/step - loss: 9.7757 - mae: 9.7757\n",
            "Epoch 11/100\n",
            "1/1 [==============================] - 0s 19ms/step - loss: 9.3257 - mae: 9.3257\n",
            "Epoch 12/100\n",
            "1/1 [==============================] - 0s 16ms/step - loss: 8.8757 - mae: 8.8757\n",
            "Epoch 13/100\n",
            "1/1 [==============================] - 0s 16ms/step - loss: 8.4257 - mae: 8.4257\n",
            "Epoch 14/100\n",
            "1/1 [==============================] - 0s 16ms/step - loss: 7.9757 - mae: 7.9757\n",
            "Epoch 15/100\n",
            "1/1 [==============================] - 0s 23ms/step - loss: 7.5257 - mae: 7.5257\n",
            "Epoch 16/100\n",
            "1/1 [==============================] - 0s 21ms/step - loss: 7.0757 - mae: 7.0757\n",
            "Epoch 17/100\n",
            "1/1 [==============================] - 0s 20ms/step - loss: 6.6257 - mae: 6.6257\n",
            "Epoch 18/100\n",
            "1/1 [==============================] - 0s 23ms/step - loss: 6.2250 - mae: 6.2250\n",
            "Epoch 19/100\n",
            "1/1 [==============================] - 0s 18ms/step - loss: 6.1513 - mae: 6.1513\n",
            "Epoch 20/100\n",
            "1/1 [==============================] - 0s 15ms/step - loss: 6.1983 - mae: 6.1983\n",
            "Epoch 21/100\n",
            "1/1 [==============================] - 0s 11ms/step - loss: 6.3281 - mae: 6.3281\n",
            "Epoch 22/100\n",
            "1/1 [==============================] - 0s 13ms/step - loss: 6.4147 - mae: 6.4147\n",
            "Epoch 23/100\n",
            "1/1 [==============================] - 0s 25ms/step - loss: 6.4629 - mae: 6.4629\n",
            "Epoch 24/100\n",
            "1/1 [==============================] - 0s 20ms/step - loss: 6.4769 - mae: 6.4769\n",
            "Epoch 25/100\n",
            "1/1 [==============================] - 0s 18ms/step - loss: 6.4604 - mae: 6.4604\n",
            "Epoch 26/100\n",
            "1/1 [==============================] - 0s 18ms/step - loss: 6.4296 - mae: 6.4296\n",
            "Epoch 27/100\n",
            "1/1 [==============================] - 0s 17ms/step - loss: 6.3325 - mae: 6.3325\n",
            "Epoch 28/100\n",
            "1/1 [==============================] - 0s 16ms/step - loss: 6.2288 - mae: 6.2288\n",
            "Epoch 29/100\n",
            "1/1 [==============================] - 0s 18ms/step - loss: 6.1074 - mae: 6.1074\n",
            "Epoch 30/100\n",
            "1/1 [==============================] - 0s 30ms/step - loss: 5.9702 - mae: 5.9702\n",
            "Epoch 31/100\n",
            "1/1 [==============================] - 0s 25ms/step - loss: 5.8186 - mae: 5.8186\n",
            "Epoch 32/100\n",
            "1/1 [==============================] - 0s 26ms/step - loss: 5.6541 - mae: 5.6541\n",
            "Epoch 33/100\n",
            "1/1 [==============================] - 0s 25ms/step - loss: 5.4780 - mae: 5.4780\n",
            "Epoch 34/100\n",
            "1/1 [==============================] - 0s 25ms/step - loss: 5.2913 - mae: 5.2913\n",
            "Epoch 35/100\n",
            "1/1 [==============================] - 0s 21ms/step - loss: 5.1893 - mae: 5.1893\n",
            "Epoch 36/100\n",
            "1/1 [==============================] - 0s 28ms/step - loss: 5.1338 - mae: 5.1338\n",
            "Epoch 37/100\n",
            "1/1 [==============================] - 0s 26ms/step - loss: 5.0766 - mae: 5.0766\n",
            "Epoch 38/100\n",
            "1/1 [==============================] - 0s 28ms/step - loss: 5.1186 - mae: 5.1186\n",
            "Epoch 39/100\n",
            "1/1 [==============================] - 0s 43ms/step - loss: 5.1328 - mae: 5.1328\n",
            "Epoch 40/100\n",
            "1/1 [==============================] - 0s 27ms/step - loss: 5.0921 - mae: 5.0921\n",
            "Epoch 41/100\n",
            "1/1 [==============================] - 0s 24ms/step - loss: 5.0027 - mae: 5.0027\n",
            "Epoch 42/100\n",
            "1/1 [==============================] - 0s 23ms/step - loss: 4.8698 - mae: 4.8698\n",
            "Epoch 43/100\n",
            "1/1 [==============================] - 0s 31ms/step - loss: 4.6984 - mae: 4.6984\n",
            "Epoch 44/100\n",
            "1/1 [==============================] - 0s 17ms/step - loss: 4.6115 - mae: 4.6115\n",
            "Epoch 45/100\n",
            "1/1 [==============================] - 0s 24ms/step - loss: 4.5392 - mae: 4.5392\n",
            "Epoch 46/100\n",
            "1/1 [==============================] - 0s 19ms/step - loss: 4.4671 - mae: 4.4671\n",
            "Epoch 47/100\n",
            "1/1 [==============================] - 0s 16ms/step - loss: 4.4441 - mae: 4.4441\n",
            "Epoch 48/100\n",
            "1/1 [==============================] - 0s 15ms/step - loss: 4.4300 - mae: 4.4300\n",
            "Epoch 49/100\n",
            "1/1 [==============================] - 0s 23ms/step - loss: 4.3883 - mae: 4.3883\n",
            "Epoch 50/100\n",
            "1/1 [==============================] - 0s 14ms/step - loss: 4.3218 - mae: 4.3218\n",
            "Epoch 51/100\n",
            "1/1 [==============================] - 0s 16ms/step - loss: 4.2329 - mae: 4.2329\n",
            "Epoch 52/100\n",
            "1/1 [==============================] - 0s 16ms/step - loss: 4.1239 - mae: 4.1239\n",
            "Epoch 53/100\n",
            "1/1 [==============================] - 0s 22ms/step - loss: 4.0022 - mae: 4.0022\n",
            "Epoch 54/100\n",
            "1/1 [==============================] - 0s 23ms/step - loss: 3.9393 - mae: 3.9393\n",
            "Epoch 55/100\n",
            "1/1 [==============================] - 0s 20ms/step - loss: 3.8755 - mae: 3.8755\n",
            "Epoch 56/100\n",
            "1/1 [==============================] - 0s 18ms/step - loss: 3.8109 - mae: 3.8109\n",
            "Epoch 57/100\n",
            "1/1 [==============================] - 0s 17ms/step - loss: 3.7455 - mae: 3.7455\n",
            "Epoch 58/100\n",
            "1/1 [==============================] - 0s 19ms/step - loss: 3.6795 - mae: 3.6795\n",
            "Epoch 59/100\n",
            "1/1 [==============================] - 0s 19ms/step - loss: 3.6129 - mae: 3.6129\n",
            "Epoch 60/100\n",
            "1/1 [==============================] - 0s 19ms/step - loss: 3.5683 - mae: 3.5683\n",
            "Epoch 61/100\n",
            "1/1 [==============================] - 0s 30ms/step - loss: 3.4813 - mae: 3.4813\n",
            "Epoch 62/100\n",
            "1/1 [==============================] - 0s 29ms/step - loss: 3.4042 - mae: 3.4042\n",
            "Epoch 63/100\n",
            "1/1 [==============================] - 0s 20ms/step - loss: 3.3324 - mae: 3.3324\n",
            "Epoch 64/100\n",
            "1/1 [==============================] - 0s 22ms/step - loss: 3.2607 - mae: 3.2607\n",
            "Epoch 65/100\n",
            "1/1 [==============================] - 0s 16ms/step - loss: 3.1889 - mae: 3.1889\n",
            "Epoch 66/100\n",
            "1/1 [==============================] - 0s 24ms/step - loss: 3.1171 - mae: 3.1171\n",
            "Epoch 67/100\n",
            "1/1 [==============================] - 0s 24ms/step - loss: 3.0813 - mae: 3.0813\n",
            "Epoch 68/100\n",
            "1/1 [==============================] - 0s 17ms/step - loss: 3.0235 - mae: 3.0235\n",
            "Epoch 69/100\n",
            "1/1 [==============================] - 0s 17ms/step - loss: 2.9399 - mae: 2.9399\n",
            "Epoch 70/100\n",
            "1/1 [==============================] - 0s 13ms/step - loss: 2.8419 - mae: 2.8419\n",
            "Epoch 71/100\n",
            "1/1 [==============================] - 0s 16ms/step - loss: 2.7752 - mae: 2.7752\n",
            "Epoch 72/100\n",
            "1/1 [==============================] - 0s 14ms/step - loss: 2.7079 - mae: 2.7079\n",
            "Epoch 73/100\n",
            "1/1 [==============================] - 0s 17ms/step - loss: 2.6401 - mae: 2.6401\n",
            "Epoch 74/100\n",
            "1/1 [==============================] - 0s 18ms/step - loss: 2.5718 - mae: 2.5718\n",
            "Epoch 75/100\n",
            "1/1 [==============================] - 0s 30ms/step - loss: 2.5030 - mae: 2.5030\n",
            "Epoch 76/100\n",
            "1/1 [==============================] - 0s 10ms/step - loss: 2.4339 - mae: 2.4339\n",
            "Epoch 77/100\n",
            "1/1 [==============================] - 0s 11ms/step - loss: 2.3644 - mae: 2.3644\n",
            "Epoch 78/100\n",
            "1/1 [==============================] - 0s 23ms/step - loss: 2.2945 - mae: 2.2945\n",
            "Epoch 79/100\n",
            "1/1 [==============================] - 0s 19ms/step - loss: 2.2252 - mae: 2.2252\n",
            "Epoch 80/100\n",
            "1/1 [==============================] - 0s 18ms/step - loss: 2.1519 - mae: 2.1519\n",
            "Epoch 81/100\n",
            "1/1 [==============================] - 0s 48ms/step - loss: 2.0795 - mae: 2.0795\n",
            "Epoch 82/100\n",
            "1/1 [==============================] - 0s 25ms/step - loss: 2.0070 - mae: 2.0070\n",
            "Epoch 83/100\n",
            "1/1 [==============================] - 0s 18ms/step - loss: 1.9345 - mae: 1.9345\n",
            "Epoch 84/100\n",
            "1/1 [==============================] - 0s 12ms/step - loss: 1.8845 - mae: 1.8845\n",
            "Epoch 85/100\n",
            "1/1 [==============================] - 0s 31ms/step - loss: 1.8161 - mae: 1.8161\n",
            "Epoch 86/100\n",
            "1/1 [==============================] - 0s 27ms/step - loss: 1.7232 - mae: 1.7232\n",
            "Epoch 87/100\n",
            "1/1 [==============================] - 0s 15ms/step - loss: 1.6544 - mae: 1.6544\n",
            "Epoch 88/100\n",
            "1/1 [==============================] - 0s 15ms/step - loss: 1.5851 - mae: 1.5851\n",
            "Epoch 89/100\n",
            "1/1 [==============================] - 0s 27ms/step - loss: 1.5154 - mae: 1.5154\n",
            "Epoch 90/100\n",
            "1/1 [==============================] - 0s 33ms/step - loss: 1.4454 - mae: 1.4454\n",
            "Epoch 91/100\n",
            "1/1 [==============================] - 0s 29ms/step - loss: 1.3751 - mae: 1.3751\n",
            "Epoch 92/100\n",
            "1/1 [==============================] - 0s 34ms/step - loss: 1.3045 - mae: 1.3045\n",
            "Epoch 93/100\n",
            "1/1 [==============================] - 0s 20ms/step - loss: 1.2336 - mae: 1.2336\n",
            "Epoch 94/100\n",
            "1/1 [==============================] - 0s 24ms/step - loss: 1.1625 - mae: 1.1625\n",
            "Epoch 95/100\n",
            "1/1 [==============================] - 0s 22ms/step - loss: 1.0911 - mae: 1.0911\n",
            "Epoch 96/100\n",
            "1/1 [==============================] - 0s 25ms/step - loss: 1.0196 - mae: 1.0196\n",
            "Epoch 97/100\n",
            "1/1 [==============================] - 0s 29ms/step - loss: 0.9479 - mae: 0.9479\n",
            "Epoch 98/100\n",
            "1/1 [==============================] - 0s 23ms/step - loss: 0.8761 - mae: 0.8761\n",
            "Epoch 99/100\n",
            "1/1 [==============================] - 0s 27ms/step - loss: 0.8041 - mae: 0.8041\n",
            "Epoch 100/100\n",
            "1/1 [==============================] - 0s 21ms/step - loss: 0.7319 - mae: 0.7319\n"
          ]
        },
        {
          "output_type": "execute_result",
          "data": {
            "text/plain": [
              "<keras.callbacks.History at 0x7f13fd43bb80>"
            ]
          },
          "metadata": {},
          "execution_count": 8
        }
      ]
    },
    {
      "cell_type": "code",
      "source": [
        "model.predict([17.0])"
      ],
      "metadata": {
        "colab": {
          "base_uri": "https://localhost:8080/"
        },
        "id": "K5RWYoGSPYj3",
        "outputId": "2af64aec-49e2-4d2b-e8bd-575bed23d608"
      },
      "execution_count": 9,
      "outputs": [
        {
          "output_type": "stream",
          "name": "stdout",
          "text": [
            "1/1 [==============================] - 0s 218ms/step\n"
          ]
        },
        {
          "output_type": "execute_result",
          "data": {
            "text/plain": [
              "array([[27.37003]], dtype=float32)"
            ]
          },
          "metadata": {},
          "execution_count": 9
        }
      ]
    },
    {
      "cell_type": "markdown",
      "source": [
        "### Evaluating the model\n"
      ],
      "metadata": {
        "id": "dX3A-BgcbOPL"
      }
    },
    {
      "cell_type": "code",
      "source": [
        "X = tf.range(-100, 100, 4)\n",
        "y = X+10\n",
        "X, y"
      ],
      "metadata": {
        "colab": {
          "base_uri": "https://localhost:8080/"
        },
        "id": "ddXoyA-7bZQ-",
        "outputId": "b70f85ee-b93c-4307-f9bd-b7973c1fc097"
      },
      "execution_count": 10,
      "outputs": [
        {
          "output_type": "execute_result",
          "data": {
            "text/plain": [
              "(<tf.Tensor: shape=(50,), dtype=int32, numpy=\n",
              " array([-100,  -96,  -92,  -88,  -84,  -80,  -76,  -72,  -68,  -64,  -60,\n",
              "         -56,  -52,  -48,  -44,  -40,  -36,  -32,  -28,  -24,  -20,  -16,\n",
              "         -12,   -8,   -4,    0,    4,    8,   12,   16,   20,   24,   28,\n",
              "          32,   36,   40,   44,   48,   52,   56,   60,   64,   68,   72,\n",
              "          76,   80,   84,   88,   92,   96], dtype=int32)>,\n",
              " <tf.Tensor: shape=(50,), dtype=int32, numpy=\n",
              " array([-90, -86, -82, -78, -74, -70, -66, -62, -58, -54, -50, -46, -42,\n",
              "        -38, -34, -30, -26, -22, -18, -14, -10,  -6,  -2,   2,   6,  10,\n",
              "         14,  18,  22,  26,  30,  34,  38,  42,  46,  50,  54,  58,  62,\n",
              "         66,  70,  74,  78,  82,  86,  90,  94,  98, 102, 106], dtype=int32)>)"
            ]
          },
          "metadata": {},
          "execution_count": 10
        }
      ]
    },
    {
      "cell_type": "code",
      "source": [
        "import matplotlib.pyplot as plt\n",
        "plt.scatter(X, y);"
      ],
      "metadata": {
        "colab": {
          "base_uri": "https://localhost:8080/",
          "height": 430
        },
        "id": "JMjYexg_bg6g",
        "outputId": "71350395-40f5-4df3-887c-5c1626395921"
      },
      "execution_count": 11,
      "outputs": [
        {
          "output_type": "display_data",
          "data": {
            "text/plain": [
              "<Figure size 640x480 with 1 Axes>"
            ],
            "image/png": "[encoded data removed]"
          },
          "metadata": {}
        }
      ]
    },
    {
      "cell_type": "markdown",
      "source": [
        "Train, test and validation sets.\n"
      ],
      "metadata": {
        "id": "eEWYs48UdQA0"
      }
    },
    {
      "cell_type": "code",
      "source": [
        "X_train = X[:40]\n",
        "y_train = y[:40]\n",
        "\n",
        "X_test = X[40:]\n",
        "y_test = y[40:]\n",
        "\n",
        "len(X_train), len(y_train), len(X_test), len(y_test)"
      ],
      "metadata": {
        "colab": {
          "base_uri": "https://localhost:8080/"
        },
        "id": "4L97BDvCWeoT",
        "outputId": "af75aea6-ba97-49e1-87a0-ad63902ecb96"
      },
      "execution_count": 12,
      "outputs": [
        {
          "output_type": "execute_result",
          "data": {
            "text/plain": [
              "(40, 40, 10, 10)"
            ]
          },
          "metadata": {},
          "execution_count": 12
        }
      ]
    },
    {
      "cell_type": "code",
      "source": [
        "plt.figure(figsize=(5,5))\n",
        "plt.scatter(X_train, y_train, c='b', label=\"Training Data\")\n",
        "plt.scatter(X_test, y_test, c='g', label=\"Testing Data\")\n",
        "plt.legend();"
      ],
      "metadata": {
        "colab": {
          "base_uri": "https://localhost:8080/",
          "height": 445
        },
        "id": "jwqXqX2bXD15",
        "outputId": "4d965b90-5e1d-489f-c1f5-e2615d1dd8ad"
      },
      "execution_count": 16,
      "outputs": [
        {
          "output_type": "display_data",
          "data": {
            "text/plain": [
              "<Figure size 500x500 with 1 Axes>"
            ],
            "image/png": "[encoded data removed]"
          },
          "metadata": {}
        }
      ]
    },
    {
      "cell_type": "code",
      "source": [
        "model = tf.keras.Sequential([\n",
        "    tf.keras.layers.Dense(1, input_shape=[1])\n",
        "])\n",
        "model.compile(loss=tf.keras.losses.mae,\n",
        "              optimizer=tf.keras.optimizers.Adam(learning_rate=0.1),\n",
        "              metrics=['mae'])\n",
        "#model.fit(tf.expand_dims(X_train,axis=-1), y_train, epochs=100)"
      ],
      "metadata": {
        "id": "yyK105O-Zb75"
      },
      "execution_count": 26,
      "outputs": []
    },
    {
      "cell_type": "code",
      "source": [
        "model.summary()"
      ],
      "metadata": {
        "colab": {
          "base_uri": "https://localhost:8080/"
        },
        "id": "G20Ljp49lFG9",
        "outputId": "04750e6f-b9f7-4642-a1d3-451d45b404ec"
      },
      "execution_count": 27,
      "outputs": [
        {
          "output_type": "stream",
          "name": "stdout",
          "text": [
            "Model: \"sequential_8\"\n",
            "_________________________________________________________________\n",
            " Layer (type)                Output Shape              Param #   \n",
            "=================================================================\n",
            " dense_8 (Dense)             (None, 1)                 2         \n",
            "                                                                 \n",
            "=================================================================\n",
            "Total params: 2\n",
            "Trainable params: 2\n",
            "Non-trainable params: 0\n",
            "_________________________________________________________________\n"
          ]
        }
      ]
    },
    {
      "cell_type": "markdown",
      "source": [
        "1. Total params - total number of parameters in the model.\n",
        "2. Trainable parameters - parameters the model can update as it trains.\n",
        "3. Non-trainable parameters - parameters that aren't updated during training."
      ],
      "metadata": {
        "id": "cnZ8KIzNnUX_"
      }
    },
    {
      "cell_type": "code",
      "source": [
        "model.fit(tf.expand_dims(X_train,axis=-1), y_train, epochs=100, verbose=2)"
      ],
      "metadata": {
        "colab": {
          "base_uri": "https://localhost:8080/"
        },
        "id": "WlyvXxuOnmrF",
        "outputId": "f6275d9d-007d-414e-eb24-09a74e73a101"
      },
      "execution_count": 28,
      "outputs": [
        {
          "output_type": "stream",
          "name": "stdout",
          "text": [
            "Epoch 1/100\n",
            "2/2 - 1s - loss: 13.0418 - mae: 13.0418 - 689ms/epoch - 344ms/step\n",
            "Epoch 2/100\n",
            "2/2 - 0s - loss: 8.3536 - mae: 8.3536 - 11ms/epoch - 6ms/step\n",
            "Epoch 3/100\n",
            "2/2 - 0s - loss: 10.1286 - mae: 10.1286 - 11ms/epoch - 5ms/step\n",
            "Epoch 4/100\n",
            "2/2 - 0s - loss: 10.2461 - mae: 10.2461 - 11ms/epoch - 5ms/step\n",
            "Epoch 5/100\n",
            "2/2 - 0s - loss: 7.8602 - mae: 7.8602 - 11ms/epoch - 5ms/step\n",
            "Epoch 6/100\n",
            "2/2 - 0s - loss: 7.8418 - mae: 7.8418 - 11ms/epoch - 5ms/step\n",
            "Epoch 7/100\n",
            "2/2 - 0s - loss: 8.5824 - mae: 8.5824 - 10ms/epoch - 5ms/step\n",
            "Epoch 8/100\n",
            "2/2 - 0s - loss: 8.0364 - mae: 8.0364 - 15ms/epoch - 7ms/step\n",
            "Epoch 9/100\n",
            "2/2 - 0s - loss: 6.9888 - mae: 6.9888 - 13ms/epoch - 7ms/step\n",
            "Epoch 10/100\n",
            "2/2 - 0s - loss: 7.1631 - mae: 7.1631 - 13ms/epoch - 6ms/step\n",
            "Epoch 11/100\n",
            "2/2 - 0s - loss: 7.4373 - mae: 7.4373 - 10ms/epoch - 5ms/step\n",
            "Epoch 12/100\n",
            "2/2 - 0s - loss: 6.5342 - mae: 6.5342 - 12ms/epoch - 6ms/step\n",
            "Epoch 13/100\n",
            "2/2 - 0s - loss: 6.2148 - mae: 6.2148 - 13ms/epoch - 6ms/step\n",
            "Epoch 14/100\n",
            "2/2 - 0s - loss: 6.4699 - mae: 6.4699 - 11ms/epoch - 5ms/step\n",
            "Epoch 15/100\n",
            "2/2 - 0s - loss: 5.9168 - mae: 5.9168 - 10ms/epoch - 5ms/step\n",
            "Epoch 16/100\n",
            "2/2 - 0s - loss: 5.7176 - mae: 5.7176 - 15ms/epoch - 7ms/step\n",
            "Epoch 17/100\n",
            "2/2 - 0s - loss: 5.7423 - mae: 5.7423 - 10ms/epoch - 5ms/step\n",
            "Epoch 18/100\n",
            "2/2 - 0s - loss: 5.3843 - mae: 5.3843 - 11ms/epoch - 6ms/step\n",
            "Epoch 19/100\n",
            "2/2 - 0s - loss: 5.2869 - mae: 5.2869 - 11ms/epoch - 5ms/step\n",
            "Epoch 20/100\n",
            "2/2 - 0s - loss: 4.9941 - mae: 4.9941 - 10ms/epoch - 5ms/step\n",
            "Epoch 21/100\n",
            "2/2 - 0s - loss: 4.9532 - mae: 4.9532 - 10ms/epoch - 5ms/step\n",
            "Epoch 22/100\n",
            "2/2 - 0s - loss: 4.6693 - mae: 4.6693 - 14ms/epoch - 7ms/step\n",
            "Epoch 23/100\n",
            "2/2 - 0s - loss: 4.8628 - mae: 4.8628 - 12ms/epoch - 6ms/step\n",
            "Epoch 24/100\n",
            "2/2 - 0s - loss: 4.5945 - mae: 4.5945 - 12ms/epoch - 6ms/step\n",
            "Epoch 25/100\n",
            "2/2 - 0s - loss: 4.2896 - mae: 4.2896 - 10ms/epoch - 5ms/step\n",
            "Epoch 26/100\n",
            "2/2 - 0s - loss: 4.1499 - mae: 4.1499 - 10ms/epoch - 5ms/step\n",
            "Epoch 27/100\n",
            "2/2 - 0s - loss: 3.9801 - mae: 3.9801 - 10ms/epoch - 5ms/step\n",
            "Epoch 28/100\n",
            "2/2 - 0s - loss: 3.8684 - mae: 3.8684 - 17ms/epoch - 9ms/step\n",
            "Epoch 29/100\n",
            "2/2 - 0s - loss: 3.7164 - mae: 3.7164 - 19ms/epoch - 10ms/step\n",
            "Epoch 30/100\n",
            "2/2 - 0s - loss: 3.6221 - mae: 3.6221 - 11ms/epoch - 6ms/step\n",
            "Epoch 31/100\n",
            "2/2 - 0s - loss: 3.4835 - mae: 3.4835 - 10ms/epoch - 5ms/step\n",
            "Epoch 32/100\n",
            "2/2 - 0s - loss: 3.4309 - mae: 3.4309 - 12ms/epoch - 6ms/step\n",
            "Epoch 33/100\n",
            "2/2 - 0s - loss: 3.2382 - mae: 3.2382 - 13ms/epoch - 7ms/step\n",
            "Epoch 34/100\n",
            "2/2 - 0s - loss: 3.0931 - mae: 3.0931 - 13ms/epoch - 7ms/step\n",
            "Epoch 35/100\n",
            "2/2 - 0s - loss: 3.0989 - mae: 3.0989 - 15ms/epoch - 8ms/step\n",
            "Epoch 36/100\n",
            "2/2 - 0s - loss: 2.7900 - mae: 2.7900 - 11ms/epoch - 6ms/step\n",
            "Epoch 37/100\n",
            "2/2 - 0s - loss: 2.8899 - mae: 2.8899 - 11ms/epoch - 6ms/step\n",
            "Epoch 38/100\n",
            "2/2 - 0s - loss: 2.5959 - mae: 2.5959 - 11ms/epoch - 6ms/step\n",
            "Epoch 39/100\n",
            "2/2 - 0s - loss: 2.4527 - mae: 2.4527 - 11ms/epoch - 5ms/step\n",
            "Epoch 40/100\n",
            "2/2 - 0s - loss: 2.4063 - mae: 2.4063 - 11ms/epoch - 5ms/step\n",
            "Epoch 41/100\n",
            "2/2 - 0s - loss: 2.1505 - mae: 2.1505 - 11ms/epoch - 5ms/step\n",
            "Epoch 42/100\n",
            "2/2 - 0s - loss: 2.0623 - mae: 2.0623 - 10ms/epoch - 5ms/step\n",
            "Epoch 43/100\n",
            "2/2 - 0s - loss: 1.7854 - mae: 1.7854 - 11ms/epoch - 6ms/step\n",
            "Epoch 44/100\n",
            "2/2 - 0s - loss: 1.7557 - mae: 1.7557 - 10ms/epoch - 5ms/step\n",
            "Epoch 45/100\n",
            "2/2 - 0s - loss: 1.5429 - mae: 1.5429 - 12ms/epoch - 6ms/step\n",
            "Epoch 46/100\n",
            "2/2 - 0s - loss: 1.4788 - mae: 1.4788 - 16ms/epoch - 8ms/step\n",
            "Epoch 47/100\n",
            "2/2 - 0s - loss: 1.2344 - mae: 1.2344 - 14ms/epoch - 7ms/step\n",
            "Epoch 48/100\n",
            "2/2 - 0s - loss: 1.2239 - mae: 1.2239 - 11ms/epoch - 6ms/step\n",
            "Epoch 49/100\n",
            "2/2 - 0s - loss: 1.1410 - mae: 1.1410 - 12ms/epoch - 6ms/step\n",
            "Epoch 50/100\n",
            "2/2 - 0s - loss: 0.7583 - mae: 0.7583 - 10ms/epoch - 5ms/step\n",
            "Epoch 51/100\n",
            "2/2 - 0s - loss: 0.7551 - mae: 0.7551 - 11ms/epoch - 5ms/step\n",
            "Epoch 52/100\n",
            "2/2 - 0s - loss: 0.4978 - mae: 0.4978 - 10ms/epoch - 5ms/step\n",
            "Epoch 53/100\n",
            "2/2 - 0s - loss: 0.6459 - mae: 0.6459 - 10ms/epoch - 5ms/step\n",
            "Epoch 54/100\n",
            "2/2 - 0s - loss: 0.8387 - mae: 0.8387 - 13ms/epoch - 6ms/step\n",
            "Epoch 55/100\n",
            "2/2 - 0s - loss: 0.5071 - mae: 0.5071 - 10ms/epoch - 5ms/step\n",
            "Epoch 56/100\n",
            "2/2 - 0s - loss: 1.4358 - mae: 1.4358 - 10ms/epoch - 5ms/step\n",
            "Epoch 57/100\n",
            "2/2 - 0s - loss: 0.4202 - mae: 0.4202 - 10ms/epoch - 5ms/step\n",
            "Epoch 58/100\n",
            "2/2 - 0s - loss: 2.3006 - mae: 2.3006 - 10ms/epoch - 5ms/step\n",
            "Epoch 59/100\n",
            "2/2 - 0s - loss: 1.4814 - mae: 1.4814 - 10ms/epoch - 5ms/step\n",
            "Epoch 60/100\n",
            "2/2 - 0s - loss: 1.4700 - mae: 1.4700 - 10ms/epoch - 5ms/step\n",
            "Epoch 61/100\n",
            "2/2 - 0s - loss: 2.0227 - mae: 2.0227 - 10ms/epoch - 5ms/step\n",
            "Epoch 62/100\n",
            "2/2 - 0s - loss: 0.5376 - mae: 0.5376 - 10ms/epoch - 5ms/step\n",
            "Epoch 63/100\n",
            "2/2 - 0s - loss: 2.1086 - mae: 2.1086 - 10ms/epoch - 5ms/step\n",
            "Epoch 64/100\n",
            "2/2 - 0s - loss: 1.1509 - mae: 1.1509 - 12ms/epoch - 6ms/step\n",
            "Epoch 65/100\n",
            "2/2 - 0s - loss: 1.6253 - mae: 1.6253 - 10ms/epoch - 5ms/step\n",
            "Epoch 66/100\n",
            "2/2 - 0s - loss: 1.9825 - mae: 1.9825 - 10ms/epoch - 5ms/step\n",
            "Epoch 67/100\n",
            "2/2 - 0s - loss: 0.4549 - mae: 0.4549 - 12ms/epoch - 6ms/step\n",
            "Epoch 68/100\n",
            "2/2 - 0s - loss: 2.2057 - mae: 2.2057 - 14ms/epoch - 7ms/step\n",
            "Epoch 69/100\n",
            "2/2 - 0s - loss: 1.3780 - mae: 1.3780 - 10ms/epoch - 5ms/step\n",
            "Epoch 70/100\n",
            "2/2 - 0s - loss: 1.4992 - mae: 1.4992 - 11ms/epoch - 6ms/step\n",
            "Epoch 71/100\n",
            "2/2 - 0s - loss: 2.1074 - mae: 2.1074 - 13ms/epoch - 6ms/step\n",
            "Epoch 72/100\n",
            "2/2 - 0s - loss: 0.6299 - mae: 0.6299 - 12ms/epoch - 6ms/step\n",
            "Epoch 73/100\n",
            "2/2 - 0s - loss: 2.1688 - mae: 2.1688 - 12ms/epoch - 6ms/step\n",
            "Epoch 74/100\n",
            "2/2 - 0s - loss: 1.4807 - mae: 1.4807 - 10ms/epoch - 5ms/step\n",
            "Epoch 75/100\n",
            "2/2 - 0s - loss: 1.3560 - mae: 1.3560 - 10ms/epoch - 5ms/step\n",
            "Epoch 76/100\n",
            "2/2 - 0s - loss: 2.0423 - mae: 2.0423 - 10ms/epoch - 5ms/step\n",
            "Epoch 77/100\n",
            "2/2 - 0s - loss: 0.6536 - mae: 0.6536 - 10ms/epoch - 5ms/step\n",
            "Epoch 78/100\n",
            "2/2 - 0s - loss: 1.8963 - mae: 1.8963 - 10ms/epoch - 5ms/step\n",
            "Epoch 79/100\n",
            "2/2 - 0s - loss: 1.0918 - mae: 1.0918 - 13ms/epoch - 7ms/step\n",
            "Epoch 80/100\n",
            "2/2 - 0s - loss: 1.7178 - mae: 1.7178 - 10ms/epoch - 5ms/step\n",
            "Epoch 81/100\n",
            "2/2 - 0s - loss: 2.8225 - mae: 2.8225 - 13ms/epoch - 6ms/step\n",
            "Epoch 82/100\n",
            "2/2 - 0s - loss: 1.6869 - mae: 1.6869 - 12ms/epoch - 6ms/step\n",
            "Epoch 83/100\n",
            "2/2 - 0s - loss: 0.8583 - mae: 0.8583 - 11ms/epoch - 5ms/step\n",
            "Epoch 84/100\n",
            "2/2 - 0s - loss: 1.6884 - mae: 1.6884 - 12ms/epoch - 6ms/step\n",
            "Epoch 85/100\n",
            "2/2 - 0s - loss: 0.5843 - mae: 0.5843 - 13ms/epoch - 7ms/step\n",
            "Epoch 86/100\n",
            "2/2 - 0s - loss: 1.6894 - mae: 1.6894 - 15ms/epoch - 7ms/step\n",
            "Epoch 87/100\n",
            "2/2 - 0s - loss: 0.8877 - mae: 0.8877 - 13ms/epoch - 7ms/step\n",
            "Epoch 88/100\n",
            "2/2 - 0s - loss: 1.7140 - mae: 1.7140 - 10ms/epoch - 5ms/step\n",
            "Epoch 89/100\n",
            "2/2 - 0s - loss: 2.6761 - mae: 2.6761 - 10ms/epoch - 5ms/step\n",
            "Epoch 90/100\n",
            "2/2 - 0s - loss: 1.2937 - mae: 1.2937 - 10ms/epoch - 5ms/step\n",
            "Epoch 91/100\n",
            "2/2 - 0s - loss: 1.8477 - mae: 1.8477 - 13ms/epoch - 6ms/step\n",
            "Epoch 92/100\n",
            "2/2 - 0s - loss: 2.8864 - mae: 2.8864 - 12ms/epoch - 6ms/step\n",
            "Epoch 93/100\n",
            "2/2 - 0s - loss: 1.6018 - mae: 1.6018 - 11ms/epoch - 6ms/step\n",
            "Epoch 94/100\n",
            "2/2 - 0s - loss: 1.3051 - mae: 1.3051 - 13ms/epoch - 6ms/step\n",
            "Epoch 95/100\n",
            "2/2 - 0s - loss: 2.2367 - mae: 2.2367 - 11ms/epoch - 6ms/step\n",
            "Epoch 96/100\n",
            "2/2 - 0s - loss: 0.9060 - mae: 0.9060 - 13ms/epoch - 7ms/step\n",
            "Epoch 97/100\n",
            "2/2 - 0s - loss: 0.5757 - mae: 0.5757 - 18ms/epoch - 9ms/step\n",
            "Epoch 98/100\n",
            "2/2 - 0s - loss: 0.1085 - mae: 0.1085 - 15ms/epoch - 8ms/step\n",
            "Epoch 99/100\n",
            "2/2 - 0s - loss: 0.4370 - mae: 0.4370 - 14ms/epoch - 7ms/step\n",
            "Epoch 100/100\n",
            "2/2 - 0s - loss: 0.2929 - mae: 0.2929 - 11ms/epoch - 6ms/step\n"
          ]
        },
        {
          "output_type": "execute_result",
          "data": {
            "text/plain": [
              "<keras.callbacks.History at 0x7f13e76e52a0>"
            ]
          },
          "metadata": {},
          "execution_count": 28
        }
      ]
    },
    {
      "cell_type": "code",
      "source": [
        "model.predict([20.0])"
      ],
      "metadata": {
        "colab": {
          "base_uri": "https://localhost:8080/"
        },
        "id": "UxBQb53EoILB",
        "outputId": "0f7cba59-4525-4033-9d07-b8ad8f116db3"
      },
      "execution_count": 29,
      "outputs": [
        {
          "output_type": "stream",
          "name": "stdout",
          "text": [
            "1/1 [==============================] - 0s 330ms/step\n"
          ]
        },
        {
          "output_type": "execute_result",
          "data": {
            "text/plain": [
              "array([[29.952517]], dtype=float32)"
            ]
          },
          "metadata": {},
          "execution_count": 29
        }
      ]
    },
    {
      "cell_type": "code",
      "source": [],
      "metadata": {
        "id": "0RxSfxhjoi70"
      },
      "execution_count": null,
      "outputs": []
    }
  ]
}