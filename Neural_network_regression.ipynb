{
  "nbformat": 4,
  "nbformat_minor": 0,
  "metadata": {
    "colab": {
      "provenance": [],
      "authorship_tag": "ABX9TyNMSXvVZJUb8W+xeADimm8T"
    },
    "kernelspec": {
      "name": "python3",
      "display_name": "Python 3"
    },
    "language_info": {
      "name": "python"
    }
  },
  "cells": [
    {
      "cell_type": "markdown",
      "source": [
        "Architecture of a neural netwrok regression.\n",
        "1. Input layer shape - Same shape as number of features.\n",
        "2. Hidden layer - minimum:1 , maximum: unlimited.\n",
        "3. Neurons per hidden layer - Problem specific, generally 10 to 100.\n",
        "4. Output layer shape : Same shape as desired predition shape.\n",
        "5. Hidden activation - Usually ReLU\n",
        "6. Output activation - None, ReLU, logistic/tanh\n",
        "7. Loss function - MSE, MAE if outliers\n",
        "8. Optimizer - SGD, Adam"
      ],
      "metadata": {
        "id": "lVFoa14OWJV1"
      }
    },
    {
      "cell_type": "code",
      "source": [
        "import tensorflow as tf\n",
        "print(tf.__version__)"
      ],
      "metadata": {
        "colab": {
          "base_uri": "https://localhost:8080/"
        },
        "id": "0wxEXxYbXLli",
        "outputId": "d4b6b3b3-1c28-41c0-aa55-c34809375150"
      },
      "execution_count": 1,
      "outputs": [
        {
          "output_type": "stream",
          "name": "stdout",
          "text": [
            "2.12.0\n"
          ]
        }
      ]
    },
    {
      "cell_type": "code",
      "source": [
        "house_info = tf.constant(['bedroom', 'bathroom', 'garage'])\n",
        "house_price = tf.constant([939700])\n",
        "house_info, house_price"
      ],
      "metadata": {
        "colab": {
          "base_uri": "https://localhost:8080/"
        },
        "id": "7vQnye9N_ApT",
        "outputId": "492acb99-fa8a-44ca-fa30-d5f60c5c28a1"
      },
      "execution_count": 2,
      "outputs": [
        {
          "output_type": "execute_result",
          "data": {
            "text/plain": [
              "(<tf.Tensor: shape=(3,), dtype=string, numpy=array([b'bedroom', b'bathroom', b'garage'], dtype=object)>,\n",
              " <tf.Tensor: shape=(1,), dtype=int32, numpy=array([939700], dtype=int32)>)"
            ]
          },
          "metadata": {},
          "execution_count": 2
        }
      ]
    },
    {
      "cell_type": "markdown",
      "source": [
        "## Steps in modelling with tensorflow\n",
        "1. **Creating a model** - define the input and output layers as well as the hidden layers.\n",
        "2. **Compiling a model** - define the loss function, optimizer, evaluation metrics.\n",
        "3. Fitting a model - Letting a model to try to find patterns between features and labels."
      ],
      "metadata": {
        "id": "EHtObwKHEmns"
      }
    },
    {
      "cell_type": "code",
      "source": [
        "import numpy as np\n",
        "X = np.array([-7.0, -4.0, -1.0, 2.0, 5.0, 8.0, 11.0, 14.0])\n",
        "y = np.array( [3.0, 6.0, 9.0, 12.0, 15.0, 18.0, 21.0, 24.0])\n",
        "\n",
        "\n",
        "X = tf.constant(X)\n",
        "y = tf.constant(y)\n",
        "\n",
        "X,y"
      ],
      "metadata": {
        "colab": {
          "base_uri": "https://localhost:8080/"
        },
        "id": "EQpnzKZyFaTv",
        "outputId": "9b934fc9-961a-44ed-b70d-8d40d1d0d11e"
      },
      "execution_count": 3,
      "outputs": [
        {
          "output_type": "execute_result",
          "data": {
            "text/plain": [
              "(<tf.Tensor: shape=(8,), dtype=float64, numpy=array([-7., -4., -1.,  2.,  5.,  8., 11., 14.])>,\n",
              " <tf.Tensor: shape=(8,), dtype=float64, numpy=array([ 3.,  6.,  9., 12., 15., 18., 21., 24.])>)"
            ]
          },
          "metadata": {},
          "execution_count": 3
        }
      ]
    },
    {
      "cell_type": "code",
      "source": [
        "tf.random.set_seed(42)\n",
        "\n",
        "#create a model using sequential API\n",
        "model = tf.keras.Sequential()\n",
        "model.add(tf.keras.layers.Dense(1))\n",
        "\n",
        "#Compiling model\n",
        "model.compile(loss=tf.keras.losses.mae,\n",
        "              optimizer=tf.keras.optimizers.SGD(),\n",
        "              metrics=['mae'])\n",
        "\n",
        "model.fit(tf.expand_dims(X, axis=-1), y, epochs=10)"
      ],
      "metadata": {
        "colab": {
          "base_uri": "https://localhost:8080/"
        },
        "id": "EPIXAZkFJLOZ",
        "outputId": "2b08619c-7cd9-4b5b-d2ab-945d1175c236"
      },
      "execution_count": 4,
      "outputs": [
        {
          "output_type": "stream",
          "name": "stdout",
          "text": [
            "Epoch 1/10\n",
            "1/1 [==============================] - 1s 820ms/step - loss: 18.4142 - mae: 18.4142\n",
            "Epoch 2/10\n",
            "1/1 [==============================] - 0s 18ms/step - loss: 18.1330 - mae: 18.1330\n",
            "Epoch 3/10\n",
            "1/1 [==============================] - 0s 10ms/step - loss: 17.8517 - mae: 17.8517\n",
            "Epoch 4/10\n",
            "1/1 [==============================] - 0s 11ms/step - loss: 17.5705 - mae: 17.5705\n",
            "Epoch 5/10\n",
            "1/1 [==============================] - 0s 8ms/step - loss: 17.2892 - mae: 17.2892\n",
            "Epoch 6/10\n",
            "1/1 [==============================] - 0s 15ms/step - loss: 17.0080 - mae: 17.0080\n",
            "Epoch 7/10\n",
            "1/1 [==============================] - 0s 14ms/step - loss: 16.7267 - mae: 16.7267\n",
            "Epoch 8/10\n",
            "1/1 [==============================] - 0s 24ms/step - loss: 16.4455 - mae: 16.4455\n",
            "Epoch 9/10\n",
            "1/1 [==============================] - 0s 13ms/step - loss: 16.1642 - mae: 16.1642\n",
            "Epoch 10/10\n",
            "1/1 [==============================] - 0s 20ms/step - loss: 15.8830 - mae: 15.8830\n"
          ]
        },
        {
          "output_type": "execute_result",
          "data": {
            "text/plain": [
              "<keras.callbacks.History at 0x7faeacfc6830>"
            ]
          },
          "metadata": {},
          "execution_count": 4
        }
      ]
    },
    {
      "cell_type": "code",
      "source": [
        "model.predict([17.0])"
      ],
      "metadata": {
        "colab": {
          "base_uri": "https://localhost:8080/"
        },
        "id": "MO0gpDK-Ilie",
        "outputId": "562b69a2-969a-49ff-8ff2-f98fee6b9dc9"
      },
      "execution_count": 5,
      "outputs": [
        {
          "output_type": "stream",
          "name": "stdout",
          "text": [
            "1/1 [==============================] - 0s 286ms/step\n"
          ]
        },
        {
          "output_type": "execute_result",
          "data": {
            "text/plain": [
              "array([[-9.341248]], dtype=float32)"
            ]
          },
          "metadata": {},
          "execution_count": 5
        }
      ]
    },
    {
      "cell_type": "markdown",
      "source": [
        "### Improving the model\n",
        "\n",
        "1. Creating a model - Here we can **add more layers**, increase the number of hidden units with each of the hidden layers, **change the activation functions** of each layer.\n",
        "2. Compiling a model - Change the optimization function or maybe the **learning rate** of the function.\n",
        "3. Fitting a model - Fit the model for **more epochs**.\n",
        "\n",
        "\n",
        "The lower the learning rate, the smaller the steps the optimizer tells the neural network to improve."
      ],
      "metadata": {
        "id": "3wSOKTakGPPe"
      }
    },
    {
      "cell_type": "code",
      "source": [
        "model = tf.keras.Sequential([\n",
        "    tf.keras.layers.Dense(1)\n",
        "])\n",
        "\n",
        "model.compile(loss=tf.keras.losses.mae,\n",
        "              optimizer=tf.keras.optimizers.SGD(),\n",
        "              metrics=['mae'])\n",
        "\n",
        "model.fit(tf.expand_dims(X, axis=-1), y, epochs=100)\n"
      ],
      "metadata": {
        "colab": {
          "base_uri": "https://localhost:8080/"
        },
        "id": "1lK7SErVLJSu",
        "outputId": "0c5fcdb7-200a-41ac-f8aa-d5d77d11a8d2"
      },
      "execution_count": 6,
      "outputs": [
        {
          "output_type": "stream",
          "name": "stdout",
          "text": [
            "Epoch 1/100\n",
            "1/1 [==============================] - 1s 790ms/step - loss: 10.1881 - mae: 10.1881\n",
            "Epoch 2/100\n",
            "1/1 [==============================] - 0s 17ms/step - loss: 10.0556 - mae: 10.0556\n",
            "Epoch 3/100\n",
            "1/1 [==============================] - 0s 23ms/step - loss: 9.9231 - mae: 9.9231\n",
            "Epoch 4/100\n",
            "1/1 [==============================] - 0s 32ms/step - loss: 9.7906 - mae: 9.7906\n",
            "Epoch 5/100\n",
            "1/1 [==============================] - 0s 29ms/step - loss: 9.6581 - mae: 9.6581\n",
            "Epoch 6/100\n",
            "1/1 [==============================] - 0s 26ms/step - loss: 9.5256 - mae: 9.5256\n",
            "Epoch 7/100\n",
            "1/1 [==============================] - 0s 24ms/step - loss: 9.3931 - mae: 9.3931\n",
            "Epoch 8/100\n",
            "1/1 [==============================] - 0s 19ms/step - loss: 9.2606 - mae: 9.2606\n",
            "Epoch 9/100\n",
            "1/1 [==============================] - 0s 17ms/step - loss: 9.1281 - mae: 9.1281\n",
            "Epoch 10/100\n",
            "1/1 [==============================] - 0s 17ms/step - loss: 8.9956 - mae: 8.9956\n",
            "Epoch 11/100\n",
            "1/1 [==============================] - 0s 21ms/step - loss: 8.8631 - mae: 8.8631\n",
            "Epoch 12/100\n",
            "1/1 [==============================] - 0s 15ms/step - loss: 8.7306 - mae: 8.7306\n",
            "Epoch 13/100\n",
            "1/1 [==============================] - 0s 21ms/step - loss: 8.5981 - mae: 8.5981\n",
            "Epoch 14/100\n",
            "1/1 [==============================] - 0s 20ms/step - loss: 8.4656 - mae: 8.4656\n",
            "Epoch 15/100\n",
            "1/1 [==============================] - 0s 18ms/step - loss: 8.3331 - mae: 8.3331\n",
            "Epoch 16/100\n",
            "1/1 [==============================] - 0s 22ms/step - loss: 8.2006 - mae: 8.2006\n",
            "Epoch 17/100\n",
            "1/1 [==============================] - 0s 17ms/step - loss: 8.0681 - mae: 8.0681\n",
            "Epoch 18/100\n",
            "1/1 [==============================] - 0s 13ms/step - loss: 7.9356 - mae: 7.9356\n",
            "Epoch 19/100\n",
            "1/1 [==============================] - 0s 29ms/step - loss: 7.8031 - mae: 7.8031\n",
            "Epoch 20/100\n",
            "1/1 [==============================] - 0s 14ms/step - loss: 7.6706 - mae: 7.6706\n",
            "Epoch 21/100\n",
            "1/1 [==============================] - 0s 13ms/step - loss: 7.5381 - mae: 7.5381\n",
            "Epoch 22/100\n",
            "1/1 [==============================] - 0s 12ms/step - loss: 7.4056 - mae: 7.4056\n",
            "Epoch 23/100\n",
            "1/1 [==============================] - 0s 6ms/step - loss: 7.3350 - mae: 7.3350\n",
            "Epoch 24/100\n",
            "1/1 [==============================] - 0s 19ms/step - loss: 7.3294 - mae: 7.3294\n",
            "Epoch 25/100\n",
            "1/1 [==============================] - 0s 11ms/step - loss: 7.3238 - mae: 7.3238\n",
            "Epoch 26/100\n",
            "1/1 [==============================] - 0s 19ms/step - loss: 7.3181 - mae: 7.3181\n",
            "Epoch 27/100\n",
            "1/1 [==============================] - 0s 15ms/step - loss: 7.3125 - mae: 7.3125\n",
            "Epoch 28/100\n",
            "1/1 [==============================] - 0s 17ms/step - loss: 7.3069 - mae: 7.3069\n",
            "Epoch 29/100\n",
            "1/1 [==============================] - 0s 10ms/step - loss: 7.3012 - mae: 7.3012\n",
            "Epoch 30/100\n",
            "1/1 [==============================] - 0s 10ms/step - loss: 7.2956 - mae: 7.2956\n",
            "Epoch 31/100\n",
            "1/1 [==============================] - 0s 8ms/step - loss: 7.2900 - mae: 7.2900\n",
            "Epoch 32/100\n",
            "1/1 [==============================] - 0s 10ms/step - loss: 7.2844 - mae: 7.2844\n",
            "Epoch 33/100\n",
            "1/1 [==============================] - 0s 21ms/step - loss: 7.2788 - mae: 7.2788\n",
            "Epoch 34/100\n",
            "1/1 [==============================] - 0s 13ms/step - loss: 7.2731 - mae: 7.2731\n",
            "Epoch 35/100\n",
            "1/1 [==============================] - 0s 24ms/step - loss: 7.2675 - mae: 7.2675\n",
            "Epoch 36/100\n",
            "1/1 [==============================] - 0s 12ms/step - loss: 7.2619 - mae: 7.2619\n",
            "Epoch 37/100\n",
            "1/1 [==============================] - 0s 11ms/step - loss: 7.2563 - mae: 7.2563\n",
            "Epoch 38/100\n",
            "1/1 [==============================] - 0s 16ms/step - loss: 7.2506 - mae: 7.2506\n",
            "Epoch 39/100\n",
            "1/1 [==============================] - 0s 10ms/step - loss: 7.2450 - mae: 7.2450\n",
            "Epoch 40/100\n",
            "1/1 [==============================] - 0s 12ms/step - loss: 7.2394 - mae: 7.2394\n",
            "Epoch 41/100\n",
            "1/1 [==============================] - 0s 21ms/step - loss: 7.2338 - mae: 7.2338\n",
            "Epoch 42/100\n",
            "1/1 [==============================] - 0s 14ms/step - loss: 7.2281 - mae: 7.2281\n",
            "Epoch 43/100\n",
            "1/1 [==============================] - 0s 15ms/step - loss: 7.2225 - mae: 7.2225\n",
            "Epoch 44/100\n",
            "1/1 [==============================] - 0s 14ms/step - loss: 7.2169 - mae: 7.2169\n",
            "Epoch 45/100\n",
            "1/1 [==============================] - 0s 10ms/step - loss: 7.2113 - mae: 7.2113\n",
            "Epoch 46/100\n",
            "1/1 [==============================] - 0s 10ms/step - loss: 7.2056 - mae: 7.2056\n",
            "Epoch 47/100\n",
            "1/1 [==============================] - 0s 16ms/step - loss: 7.2000 - mae: 7.2000\n",
            "Epoch 48/100\n",
            "1/1 [==============================] - 0s 21ms/step - loss: 7.1944 - mae: 7.1944\n",
            "Epoch 49/100\n",
            "1/1 [==============================] - 0s 16ms/step - loss: 7.1887 - mae: 7.1887\n",
            "Epoch 50/100\n",
            "1/1 [==============================] - 0s 22ms/step - loss: 7.1831 - mae: 7.1831\n",
            "Epoch 51/100\n",
            "1/1 [==============================] - 0s 22ms/step - loss: 7.1775 - mae: 7.1775\n",
            "Epoch 52/100\n",
            "1/1 [==============================] - 0s 13ms/step - loss: 7.1719 - mae: 7.1719\n",
            "Epoch 53/100\n",
            "1/1 [==============================] - 0s 15ms/step - loss: 7.1663 - mae: 7.1663\n",
            "Epoch 54/100\n",
            "1/1 [==============================] - 0s 13ms/step - loss: 7.1606 - mae: 7.1606\n",
            "Epoch 55/100\n",
            "1/1 [==============================] - 0s 15ms/step - loss: 7.1550 - mae: 7.1550\n",
            "Epoch 56/100\n",
            "1/1 [==============================] - 0s 18ms/step - loss: 7.1494 - mae: 7.1494\n",
            "Epoch 57/100\n",
            "1/1 [==============================] - 0s 15ms/step - loss: 7.1438 - mae: 7.1438\n",
            "Epoch 58/100\n",
            "1/1 [==============================] - 0s 13ms/step - loss: 7.1381 - mae: 7.1381\n",
            "Epoch 59/100\n",
            "1/1 [==============================] - 0s 15ms/step - loss: 7.1325 - mae: 7.1325\n",
            "Epoch 60/100\n",
            "1/1 [==============================] - 0s 11ms/step - loss: 7.1269 - mae: 7.1269\n",
            "Epoch 61/100\n",
            "1/1 [==============================] - 0s 13ms/step - loss: 7.1213 - mae: 7.1213\n",
            "Epoch 62/100\n",
            "1/1 [==============================] - 0s 16ms/step - loss: 7.1156 - mae: 7.1156\n",
            "Epoch 63/100\n",
            "1/1 [==============================] - 0s 23ms/step - loss: 7.1100 - mae: 7.1100\n",
            "Epoch 64/100\n",
            "1/1 [==============================] - 0s 12ms/step - loss: 7.1044 - mae: 7.1044\n",
            "Epoch 65/100\n",
            "1/1 [==============================] - 0s 15ms/step - loss: 7.0988 - mae: 7.0988\n",
            "Epoch 66/100\n",
            "1/1 [==============================] - 0s 16ms/step - loss: 7.0931 - mae: 7.0931\n",
            "Epoch 67/100\n",
            "1/1 [==============================] - 0s 13ms/step - loss: 7.0875 - mae: 7.0875\n",
            "Epoch 68/100\n",
            "1/1 [==============================] - 0s 19ms/step - loss: 7.0819 - mae: 7.0819\n",
            "Epoch 69/100\n",
            "1/1 [==============================] - 0s 27ms/step - loss: 7.0763 - mae: 7.0763\n",
            "Epoch 70/100\n",
            "1/1 [==============================] - 0s 15ms/step - loss: 7.0706 - mae: 7.0706\n",
            "Epoch 71/100\n",
            "1/1 [==============================] - 0s 15ms/step - loss: 7.0650 - mae: 7.0650\n",
            "Epoch 72/100\n",
            "1/1 [==============================] - 0s 17ms/step - loss: 7.0594 - mae: 7.0594\n",
            "Epoch 73/100\n",
            "1/1 [==============================] - 0s 19ms/step - loss: 7.0538 - mae: 7.0538\n",
            "Epoch 74/100\n",
            "1/1 [==============================] - 0s 24ms/step - loss: 7.0481 - mae: 7.0481\n",
            "Epoch 75/100\n",
            "1/1 [==============================] - 0s 33ms/step - loss: 7.0425 - mae: 7.0425\n",
            "Epoch 76/100\n",
            "1/1 [==============================] - 0s 15ms/step - loss: 7.0369 - mae: 7.0369\n",
            "Epoch 77/100\n",
            "1/1 [==============================] - 0s 20ms/step - loss: 7.0313 - mae: 7.0313\n",
            "Epoch 78/100\n",
            "1/1 [==============================] - 0s 18ms/step - loss: 7.0256 - mae: 7.0256\n",
            "Epoch 79/100\n",
            "1/1 [==============================] - 0s 20ms/step - loss: 7.0200 - mae: 7.0200\n",
            "Epoch 80/100\n",
            "1/1 [==============================] - 0s 13ms/step - loss: 7.0144 - mae: 7.0144\n",
            "Epoch 81/100\n",
            "1/1 [==============================] - 0s 14ms/step - loss: 7.0087 - mae: 7.0087\n",
            "Epoch 82/100\n",
            "1/1 [==============================] - 0s 18ms/step - loss: 7.0031 - mae: 7.0031\n",
            "Epoch 83/100\n",
            "1/1 [==============================] - 0s 14ms/step - loss: 6.9975 - mae: 6.9975\n",
            "Epoch 84/100\n",
            "1/1 [==============================] - 0s 17ms/step - loss: 6.9919 - mae: 6.9919\n",
            "Epoch 85/100\n",
            "1/1 [==============================] - 0s 30ms/step - loss: 6.9863 - mae: 6.9863\n",
            "Epoch 86/100\n",
            "1/1 [==============================] - 0s 12ms/step - loss: 6.9806 - mae: 6.9806\n",
            "Epoch 87/100\n",
            "1/1 [==============================] - 0s 15ms/step - loss: 6.9750 - mae: 6.9750\n",
            "Epoch 88/100\n",
            "1/1 [==============================] - 0s 16ms/step - loss: 6.9694 - mae: 6.9694\n",
            "Epoch 89/100\n",
            "1/1 [==============================] - 0s 21ms/step - loss: 6.9638 - mae: 6.9638\n",
            "Epoch 90/100\n",
            "1/1 [==============================] - 0s 14ms/step - loss: 6.9581 - mae: 6.9581\n",
            "Epoch 91/100\n",
            "1/1 [==============================] - 0s 25ms/step - loss: 6.9525 - mae: 6.9525\n",
            "Epoch 92/100\n",
            "1/1 [==============================] - 0s 35ms/step - loss: 6.9469 - mae: 6.9469\n",
            "Epoch 93/100\n",
            "1/1 [==============================] - 0s 23ms/step - loss: 6.9413 - mae: 6.9413\n",
            "Epoch 94/100\n",
            "1/1 [==============================] - 0s 24ms/step - loss: 6.9356 - mae: 6.9356\n",
            "Epoch 95/100\n",
            "1/1 [==============================] - 0s 51ms/step - loss: 6.9300 - mae: 6.9300\n",
            "Epoch 96/100\n",
            "1/1 [==============================] - 0s 50ms/step - loss: 6.9244 - mae: 6.9244\n",
            "Epoch 97/100\n",
            "1/1 [==============================] - 0s 26ms/step - loss: 6.9188 - mae: 6.9188\n",
            "Epoch 98/100\n",
            "1/1 [==============================] - 0s 18ms/step - loss: 6.9131 - mae: 6.9131\n",
            "Epoch 99/100\n",
            "1/1 [==============================] - 0s 15ms/step - loss: 6.9075 - mae: 6.9075\n",
            "Epoch 100/100\n",
            "1/1 [==============================] - 0s 29ms/step - loss: 6.9019 - mae: 6.9019\n"
          ]
        },
        {
          "output_type": "execute_result",
          "data": {
            "text/plain": [
              "<keras.callbacks.History at 0x7faeac5d3a30>"
            ]
          },
          "metadata": {},
          "execution_count": 6
        }
      ]
    },
    {
      "cell_type": "code",
      "source": [
        "model.predict([17.0])"
      ],
      "metadata": {
        "colab": {
          "base_uri": "https://localhost:8080/"
        },
        "id": "TzO9Iws1OEFV",
        "outputId": "51b2dc0e-8374-41d9-e085-85069d58693d"
      },
      "execution_count": 7,
      "outputs": [
        {
          "output_type": "stream",
          "name": "stdout",
          "text": [
            "1/1 [==============================] - 0s 76ms/step\n"
          ]
        },
        {
          "output_type": "execute_result",
          "data": {
            "text/plain": [
              "array([[29.981327]], dtype=float32)"
            ]
          },
          "metadata": {},
          "execution_count": 7
        }
      ]
    },
    {
      "cell_type": "code",
      "source": [
        "model = tf.keras.Sequential([\n",
        "    tf.keras.layers.Dense(1)\n",
        "])\n",
        "\n",
        "model.compile(loss=tf.keras.losses.mae,\n",
        "              optimizer=tf.keras.optimizers.Adam(learning_rate=0.1),\n",
        "              metrics=['mae'])\n",
        "\n",
        "model.fit(tf.expand_dims(X, axis=-1), y, epochs=100)"
      ],
      "metadata": {
        "colab": {
          "base_uri": "https://localhost:8080/"
        },
        "id": "wuUKAXqZO9-t",
        "outputId": "aee0e8f6-6c52-43b6-9a50-2b8381c84f56"
      },
      "execution_count": 8,
      "outputs": [
        {
          "output_type": "stream",
          "name": "stdout",
          "text": [
            "Epoch 1/100\n",
            "1/1 [==============================] - 1s 669ms/step - loss: 9.2134 - mae: 9.2134\n",
            "Epoch 2/100\n",
            "1/1 [==============================] - 0s 12ms/step - loss: 8.7635 - mae: 8.7635\n",
            "Epoch 3/100\n",
            "1/1 [==============================] - 0s 8ms/step - loss: 8.3135 - mae: 8.3135\n",
            "Epoch 4/100\n",
            "1/1 [==============================] - 0s 9ms/step - loss: 7.8635 - mae: 7.8635\n",
            "Epoch 5/100\n",
            "1/1 [==============================] - 0s 8ms/step - loss: 7.4135 - mae: 7.4135\n",
            "Epoch 6/100\n",
            "1/1 [==============================] - 0s 8ms/step - loss: 7.1250 - mae: 7.1250\n",
            "Epoch 7/100\n",
            "1/1 [==============================] - 0s 8ms/step - loss: 7.0513 - mae: 7.0513\n",
            "Epoch 8/100\n",
            "1/1 [==============================] - 0s 8ms/step - loss: 7.0892 - mae: 7.0892\n",
            "Epoch 9/100\n",
            "1/1 [==============================] - 0s 10ms/step - loss: 7.1691 - mae: 7.1691\n",
            "Epoch 10/100\n",
            "1/1 [==============================] - 0s 8ms/step - loss: 7.1880 - mae: 7.1880\n",
            "Epoch 11/100\n",
            "1/1 [==============================] - 0s 12ms/step - loss: 7.1581 - mae: 7.1581\n",
            "Epoch 12/100\n",
            "1/1 [==============================] - 0s 13ms/step - loss: 7.0888 - mae: 7.0888\n",
            "Epoch 13/100\n",
            "1/1 [==============================] - 0s 14ms/step - loss: 6.9869 - mae: 6.9869\n",
            "Epoch 14/100\n",
            "1/1 [==============================] - 0s 11ms/step - loss: 6.8577 - mae: 6.8577\n",
            "Epoch 15/100\n",
            "1/1 [==============================] - 0s 11ms/step - loss: 6.7057 - mae: 6.7057\n",
            "Epoch 16/100\n",
            "1/1 [==============================] - 0s 12ms/step - loss: 6.5341 - mae: 6.5341\n",
            "Epoch 17/100\n",
            "1/1 [==============================] - 0s 13ms/step - loss: 6.3899 - mae: 6.3899\n",
            "Epoch 18/100\n",
            "1/1 [==============================] - 0s 13ms/step - loss: 6.3258 - mae: 6.3258\n",
            "Epoch 19/100\n",
            "1/1 [==============================] - 0s 13ms/step - loss: 6.2602 - mae: 6.2602\n",
            "Epoch 20/100\n",
            "1/1 [==============================] - 0s 15ms/step - loss: 6.1934 - mae: 6.1934\n",
            "Epoch 21/100\n",
            "1/1 [==============================] - 0s 14ms/step - loss: 6.1254 - mae: 6.1254\n",
            "Epoch 22/100\n",
            "1/1 [==============================] - 0s 20ms/step - loss: 6.1263 - mae: 6.1263\n",
            "Epoch 23/100\n",
            "1/1 [==============================] - 0s 14ms/step - loss: 6.0783 - mae: 6.0783\n",
            "Epoch 24/100\n",
            "1/1 [==============================] - 0s 16ms/step - loss: 5.9697 - mae: 5.9697\n",
            "Epoch 25/100\n",
            "1/1 [==============================] - 0s 15ms/step - loss: 5.8373 - mae: 5.8373\n",
            "Epoch 26/100\n",
            "1/1 [==============================] - 0s 10ms/step - loss: 5.7626 - mae: 5.7626\n",
            "Epoch 27/100\n",
            "1/1 [==============================] - 0s 19ms/step - loss: 5.6879 - mae: 5.6879\n",
            "Epoch 28/100\n",
            "1/1 [==============================] - 0s 17ms/step - loss: 5.6134 - mae: 5.6134\n",
            "Epoch 29/100\n",
            "1/1 [==============================] - 0s 13ms/step - loss: 5.5389 - mae: 5.5389\n",
            "Epoch 30/100\n",
            "1/1 [==============================] - 0s 17ms/step - loss: 5.4644 - mae: 5.4644\n",
            "Epoch 31/100\n",
            "1/1 [==============================] - 0s 13ms/step - loss: 5.3901 - mae: 5.3901\n",
            "Epoch 32/100\n",
            "1/1 [==============================] - 0s 10ms/step - loss: 5.3270 - mae: 5.3270\n",
            "Epoch 33/100\n",
            "1/1 [==============================] - 0s 14ms/step - loss: 5.2670 - mae: 5.2670\n",
            "Epoch 34/100\n",
            "1/1 [==============================] - 0s 17ms/step - loss: 5.1761 - mae: 5.1761\n",
            "Epoch 35/100\n",
            "1/1 [==============================] - 0s 15ms/step - loss: 5.1036 - mae: 5.1036\n",
            "Epoch 36/100\n",
            "1/1 [==============================] - 0s 20ms/step - loss: 5.0339 - mae: 5.0339\n",
            "Epoch 37/100\n",
            "1/1 [==============================] - 0s 27ms/step - loss: 4.9636 - mae: 4.9636\n",
            "Epoch 38/100\n",
            "1/1 [==============================] - 0s 18ms/step - loss: 4.8927 - mae: 4.8927\n",
            "Epoch 39/100\n",
            "1/1 [==============================] - 0s 26ms/step - loss: 4.8214 - mae: 4.8214\n",
            "Epoch 40/100\n",
            "1/1 [==============================] - 0s 28ms/step - loss: 4.7497 - mae: 4.7497\n",
            "Epoch 41/100\n",
            "1/1 [==============================] - 0s 20ms/step - loss: 4.6776 - mae: 4.6776\n",
            "Epoch 42/100\n",
            "1/1 [==============================] - 0s 32ms/step - loss: 4.6052 - mae: 4.6052\n",
            "Epoch 43/100\n",
            "1/1 [==============================] - 0s 18ms/step - loss: 4.5325 - mae: 4.5325\n",
            "Epoch 44/100\n",
            "1/1 [==============================] - 0s 14ms/step - loss: 4.4596 - mae: 4.4596\n",
            "Epoch 45/100\n",
            "1/1 [==============================] - 0s 14ms/step - loss: 4.3864 - mae: 4.3864\n",
            "Epoch 46/100\n",
            "1/1 [==============================] - 0s 15ms/step - loss: 4.3129 - mae: 4.3129\n",
            "Epoch 47/100\n",
            "1/1 [==============================] - 0s 11ms/step - loss: 4.2393 - mae: 4.2393\n",
            "Epoch 48/100\n",
            "1/1 [==============================] - 0s 17ms/step - loss: 4.1655 - mae: 4.1655\n",
            "Epoch 49/100\n",
            "1/1 [==============================] - 0s 10ms/step - loss: 4.0916 - mae: 4.0916\n",
            "Epoch 50/100\n",
            "1/1 [==============================] - 0s 7ms/step - loss: 4.0175 - mae: 4.0175\n",
            "Epoch 51/100\n",
            "1/1 [==============================] - 0s 9ms/step - loss: 3.9433 - mae: 3.9433\n",
            "Epoch 52/100\n",
            "1/1 [==============================] - 0s 8ms/step - loss: 3.8690 - mae: 3.8690\n",
            "Epoch 53/100\n",
            "1/1 [==============================] - 0s 21ms/step - loss: 3.7946 - mae: 3.7946\n",
            "Epoch 54/100\n",
            "1/1 [==============================] - 0s 25ms/step - loss: 3.7201 - mae: 3.7201\n",
            "Epoch 55/100\n",
            "1/1 [==============================] - 0s 18ms/step - loss: 3.6455 - mae: 3.6455\n",
            "Epoch 56/100\n",
            "1/1 [==============================] - 0s 25ms/step - loss: 3.5709 - mae: 3.5709\n",
            "Epoch 57/100\n",
            "1/1 [==============================] - 0s 29ms/step - loss: 3.4962 - mae: 3.4962\n",
            "Epoch 58/100\n",
            "1/1 [==============================] - 0s 21ms/step - loss: 3.4214 - mae: 3.4214\n",
            "Epoch 59/100\n",
            "1/1 [==============================] - 0s 24ms/step - loss: 3.3466 - mae: 3.3466\n",
            "Epoch 60/100\n",
            "1/1 [==============================] - 0s 45ms/step - loss: 3.2718 - mae: 3.2718\n",
            "Epoch 61/100\n",
            "1/1 [==============================] - 0s 26ms/step - loss: 3.1969 - mae: 3.1969\n",
            "Epoch 62/100\n",
            "1/1 [==============================] - 0s 14ms/step - loss: 3.1219 - mae: 3.1219\n",
            "Epoch 63/100\n",
            "1/1 [==============================] - 0s 32ms/step - loss: 3.0470 - mae: 3.0470\n",
            "Epoch 64/100\n",
            "1/1 [==============================] - 0s 11ms/step - loss: 2.9720 - mae: 2.9720\n",
            "Epoch 65/100\n",
            "1/1 [==============================] - 0s 15ms/step - loss: 2.9010 - mae: 2.9010\n",
            "Epoch 66/100\n",
            "1/1 [==============================] - 0s 12ms/step - loss: 2.8241 - mae: 2.8241\n",
            "Epoch 67/100\n",
            "1/1 [==============================] - 0s 11ms/step - loss: 2.7510 - mae: 2.7510\n",
            "Epoch 68/100\n",
            "1/1 [==============================] - 0s 22ms/step - loss: 2.6776 - mae: 2.6776\n",
            "Epoch 69/100\n",
            "1/1 [==============================] - 0s 23ms/step - loss: 2.6041 - mae: 2.6041\n",
            "Epoch 70/100\n",
            "1/1 [==============================] - 0s 15ms/step - loss: 2.5303 - mae: 2.5303\n",
            "Epoch 71/100\n",
            "1/1 [==============================] - 0s 9ms/step - loss: 2.4564 - mae: 2.4564\n",
            "Epoch 72/100\n",
            "1/1 [==============================] - 0s 11ms/step - loss: 2.3823 - mae: 2.3823\n",
            "Epoch 73/100\n",
            "1/1 [==============================] - 0s 11ms/step - loss: 2.3080 - mae: 2.3080\n",
            "Epoch 74/100\n",
            "1/1 [==============================] - 0s 12ms/step - loss: 2.2337 - mae: 2.2337\n",
            "Epoch 75/100\n",
            "1/1 [==============================] - 0s 10ms/step - loss: 2.1592 - mae: 2.1592\n",
            "Epoch 76/100\n",
            "1/1 [==============================] - 0s 16ms/step - loss: 2.0846 - mae: 2.0846\n",
            "Epoch 77/100\n",
            "1/1 [==============================] - 0s 13ms/step - loss: 2.0100 - mae: 2.0100\n",
            "Epoch 78/100\n",
            "1/1 [==============================] - 0s 11ms/step - loss: 1.9353 - mae: 1.9353\n",
            "Epoch 79/100\n",
            "1/1 [==============================] - 0s 14ms/step - loss: 1.8604 - mae: 1.8604\n",
            "Epoch 80/100\n",
            "1/1 [==============================] - 0s 11ms/step - loss: 1.7856 - mae: 1.7856\n",
            "Epoch 81/100\n",
            "1/1 [==============================] - 0s 20ms/step - loss: 1.7106 - mae: 1.7106\n",
            "Epoch 82/100\n",
            "1/1 [==============================] - 0s 18ms/step - loss: 1.6466 - mae: 1.6466\n",
            "Epoch 83/100\n",
            "1/1 [==============================] - 0s 12ms/step - loss: 1.5629 - mae: 1.5629\n",
            "Epoch 84/100\n",
            "1/1 [==============================] - 0s 10ms/step - loss: 1.4899 - mae: 1.4899\n",
            "Epoch 85/100\n",
            "1/1 [==============================] - 0s 11ms/step - loss: 1.4165 - mae: 1.4165\n",
            "Epoch 86/100\n",
            "1/1 [==============================] - 0s 13ms/step - loss: 1.3430 - mae: 1.3430\n",
            "Epoch 87/100\n",
            "1/1 [==============================] - 0s 18ms/step - loss: 1.2865 - mae: 1.2865\n",
            "Epoch 88/100\n",
            "1/1 [==============================] - 0s 15ms/step - loss: 1.1931 - mae: 1.1931\n",
            "Epoch 89/100\n",
            "1/1 [==============================] - 0s 8ms/step - loss: 1.1171 - mae: 1.1171\n",
            "Epoch 90/100\n",
            "1/1 [==============================] - 0s 13ms/step - loss: 1.0890 - mae: 1.0890\n",
            "Epoch 91/100\n",
            "1/1 [==============================] - 0s 12ms/step - loss: 1.0118 - mae: 1.0118\n",
            "Epoch 92/100\n",
            "1/1 [==============================] - 0s 11ms/step - loss: 0.8960 - mae: 0.8960\n",
            "Epoch 93/100\n",
            "1/1 [==============================] - 0s 18ms/step - loss: 0.8241 - mae: 0.8241\n",
            "Epoch 94/100\n",
            "1/1 [==============================] - 0s 21ms/step - loss: 0.7884 - mae: 0.7884\n",
            "Epoch 95/100\n",
            "1/1 [==============================] - 0s 29ms/step - loss: 0.6787 - mae: 0.6787\n",
            "Epoch 96/100\n",
            "1/1 [==============================] - 0s 19ms/step - loss: 0.6416 - mae: 0.6416\n",
            "Epoch 97/100\n",
            "1/1 [==============================] - 0s 18ms/step - loss: 0.6146 - mae: 0.6146\n",
            "Epoch 98/100\n",
            "1/1 [==============================] - 0s 19ms/step - loss: 0.4926 - mae: 0.4926\n",
            "Epoch 99/100\n",
            "1/1 [==============================] - 0s 13ms/step - loss: 0.4053 - mae: 0.4053\n",
            "Epoch 100/100\n",
            "1/1 [==============================] - 0s 12ms/step - loss: 0.3556 - mae: 0.3556\n"
          ]
        },
        {
          "output_type": "execute_result",
          "data": {
            "text/plain": [
              "<keras.callbacks.History at 0x7faeac489000>"
            ]
          },
          "metadata": {},
          "execution_count": 8
        }
      ]
    },
    {
      "cell_type": "code",
      "source": [
        "model.predict([17.0])"
      ],
      "metadata": {
        "colab": {
          "base_uri": "https://localhost:8080/"
        },
        "id": "K5RWYoGSPYj3",
        "outputId": "f1f8473a-327d-46b8-efd8-6149afc05aa7"
      },
      "execution_count": 9,
      "outputs": [
        {
          "output_type": "stream",
          "name": "stdout",
          "text": [
            "1/1 [==============================] - 0s 218ms/step\n"
          ]
        },
        {
          "output_type": "execute_result",
          "data": {
            "text/plain": [
              "array([[27.134321]], dtype=float32)"
            ]
          },
          "metadata": {},
          "execution_count": 9
        }
      ]
    },
    {
      "cell_type": "markdown",
      "source": [
        "### Evaluating the model\n"
      ],
      "metadata": {
        "id": "dX3A-BgcbOPL"
      }
    },
    {
      "cell_type": "code",
      "source": [
        "X = tf.range(-100, 100, 4)\n",
        "y = X+10\n",
        "X, y"
      ],
      "metadata": {
        "colab": {
          "base_uri": "https://localhost:8080/"
        },
        "id": "ddXoyA-7bZQ-",
        "outputId": "24c0ee39-788c-426d-a127-df0ed8ad80f9"
      },
      "execution_count": 10,
      "outputs": [
        {
          "output_type": "execute_result",
          "data": {
            "text/plain": [
              "(<tf.Tensor: shape=(50,), dtype=int32, numpy=\n",
              " array([-100,  -96,  -92,  -88,  -84,  -80,  -76,  -72,  -68,  -64,  -60,\n",
              "         -56,  -52,  -48,  -44,  -40,  -36,  -32,  -28,  -24,  -20,  -16,\n",
              "         -12,   -8,   -4,    0,    4,    8,   12,   16,   20,   24,   28,\n",
              "          32,   36,   40,   44,   48,   52,   56,   60,   64,   68,   72,\n",
              "          76,   80,   84,   88,   92,   96], dtype=int32)>,\n",
              " <tf.Tensor: shape=(50,), dtype=int32, numpy=\n",
              " array([-90, -86, -82, -78, -74, -70, -66, -62, -58, -54, -50, -46, -42,\n",
              "        -38, -34, -30, -26, -22, -18, -14, -10,  -6,  -2,   2,   6,  10,\n",
              "         14,  18,  22,  26,  30,  34,  38,  42,  46,  50,  54,  58,  62,\n",
              "         66,  70,  74,  78,  82,  86,  90,  94,  98, 102, 106], dtype=int32)>)"
            ]
          },
          "metadata": {},
          "execution_count": 10
        }
      ]
    },
    {
      "cell_type": "code",
      "source": [
        "import matplotlib.pyplot as plt\n",
        "plt.scatter(X, y);"
      ],
      "metadata": {
        "colab": {
          "base_uri": "https://localhost:8080/",
          "height": 430
        },
        "id": "JMjYexg_bg6g",
        "outputId": "85278210-b3ef-4cda-b86d-a2fa2c21f759"
      },
      "execution_count": 11,
      "outputs": [
        {
          "output_type": "display_data",
          "data": {
            "text/plain": [
              "<Figure size 640x480 with 1 Axes>"
            ],
            "image/png": "[encoded data removed]"
          },
          "metadata": {}
        }
      ]
    },
    {
      "cell_type": "markdown",
      "source": [
        "Train, test and validation sets.\n"
      ],
      "metadata": {
        "id": "eEWYs48UdQA0"
      }
    },
    {
      "cell_type": "code",
      "source": [
        "X_train = X[:40]\n",
        "y_train = y[:40]\n",
        "\n",
        "X_test = X[40:]\n",
        "y_test = y[40:]\n",
        "\n",
        "len(X_train), len(y_train), len(X_test), len(y_test)"
      ],
      "metadata": {
        "colab": {
          "base_uri": "https://localhost:8080/"
        },
        "id": "4L97BDvCWeoT",
        "outputId": "7bea34ee-030d-4a3b-94bd-e15370f49e57"
      },
      "execution_count": 12,
      "outputs": [
        {
          "output_type": "execute_result",
          "data": {
            "text/plain": [
              "(40, 40, 10, 10)"
            ]
          },
          "metadata": {},
          "execution_count": 12
        }
      ]
    },
    {
      "cell_type": "code",
      "source": [
        "plt.figure(figsize=(5,5))\n",
        "plt.scatter(X_train, y_train, c='b', label=\"Training Data\")\n",
        "plt.scatter(X_test, y_test, c='g', label=\"Testing Data\")\n",
        "plt.legend();"
      ],
      "metadata": {
        "colab": {
          "base_uri": "https://localhost:8080/",
          "height": 445
        },
        "id": "jwqXqX2bXD15",
        "outputId": "9543c29e-9ad8-4fcb-ed20-ec7f5b31538b"
      },
      "execution_count": 13,
      "outputs": [
        {
          "output_type": "display_data",
          "data": {
            "text/plain": [
              "<Figure size 500x500 with 1 Axes>"
            ],
            "image/png": "[encoded data removed]"
          },
          "metadata": {}
        }
      ]
    },
    {
      "cell_type": "code",
      "source": [
        "model = tf.keras.Sequential([\n",
        "    tf.keras.layers.Dense(1, input_shape=[1])\n",
        "])\n",
        "model.compile(loss=tf.keras.losses.mae,\n",
        "              optimizer=tf.keras.optimizers.Adam(learning_rate=0.1),\n",
        "              metrics=['mae'])\n",
        "#model.fit(tf.expand_dims(X_train,axis=-1), y_train, epochs=100)"
      ],
      "metadata": {
        "id": "yyK105O-Zb75"
      },
      "execution_count": 14,
      "outputs": []
    },
    {
      "cell_type": "code",
      "source": [
        "model.summary()"
      ],
      "metadata": {
        "colab": {
          "base_uri": "https://localhost:8080/"
        },
        "id": "G20Ljp49lFG9",
        "outputId": "4644c9c7-7793-48bf-9d92-7a2a9bbe5a0a"
      },
      "execution_count": 15,
      "outputs": [
        {
          "output_type": "stream",
          "name": "stdout",
          "text": [
            "Model: \"sequential_3\"\n",
            "_________________________________________________________________\n",
            " Layer (type)                Output Shape              Param #   \n",
            "=================================================================\n",
            " dense_3 (Dense)             (None, 1)                 2         \n",
            "                                                                 \n",
            "=================================================================\n",
            "Total params: 2\n",
            "Trainable params: 2\n",
            "Non-trainable params: 0\n",
            "_________________________________________________________________\n"
          ]
        }
      ]
    },
    {
      "cell_type": "markdown",
      "source": [
        "1. Total params - total number of parameters in the model.\n",
        "2. Trainable parameters - parameters the model can update as it trains.\n",
        "3. Non-trainable parameters - parameters that aren't updated during training."
      ],
      "metadata": {
        "id": "cnZ8KIzNnUX_"
      }
    },
    {
      "cell_type": "code",
      "source": [
        "model.fit(tf.expand_dims(X_train,axis=-1), y_train, epochs=100, verbose=2)"
      ],
      "metadata": {
        "colab": {
          "base_uri": "https://localhost:8080/"
        },
        "id": "WlyvXxuOnmrF",
        "outputId": "e83e909d-a895-46e9-8e73-6609052fb368"
      },
      "execution_count": 16,
      "outputs": [
        {
          "output_type": "stream",
          "name": "stdout",
          "text": [
            "Epoch 1/100\n",
            "2/2 - 1s - loss: 18.2702 - mae: 18.2702 - 824ms/epoch - 412ms/step\n",
            "Epoch 2/100\n",
            "2/2 - 0s - loss: 12.0522 - mae: 12.0522 - 18ms/epoch - 9ms/step\n",
            "Epoch 3/100\n",
            "2/2 - 0s - loss: 8.3634 - mae: 8.3634 - 14ms/epoch - 7ms/step\n",
            "Epoch 4/100\n",
            "2/2 - 0s - loss: 9.6655 - mae: 9.6655 - 14ms/epoch - 7ms/step\n",
            "Epoch 5/100\n",
            "2/2 - 0s - loss: 10.8529 - mae: 10.8529 - 26ms/epoch - 13ms/step\n",
            "Epoch 6/100\n",
            "2/2 - 0s - loss: 9.4015 - mae: 9.4015 - 19ms/epoch - 9ms/step\n",
            "Epoch 7/100\n",
            "2/2 - 0s - loss: 7.1627 - mae: 7.1627 - 22ms/epoch - 11ms/step\n",
            "Epoch 8/100\n",
            "2/2 - 0s - loss: 7.9327 - mae: 7.9327 - 19ms/epoch - 9ms/step\n",
            "Epoch 9/100\n",
            "2/2 - 0s - loss: 8.2780 - mae: 8.2780 - 17ms/epoch - 8ms/step\n",
            "Epoch 10/100\n",
            "2/2 - 0s - loss: 7.8232 - mae: 7.8232 - 23ms/epoch - 11ms/step\n",
            "Epoch 11/100\n",
            "2/2 - 0s - loss: 6.7086 - mae: 6.7086 - 22ms/epoch - 11ms/step\n",
            "Epoch 12/100\n",
            "2/2 - 0s - loss: 6.3284 - mae: 6.3284 - 18ms/epoch - 9ms/step\n",
            "Epoch 13/100\n",
            "2/2 - 0s - loss: 6.9986 - mae: 6.9986 - 21ms/epoch - 11ms/step\n",
            "Epoch 14/100\n",
            "2/2 - 0s - loss: 6.3405 - mae: 6.3405 - 21ms/epoch - 11ms/step\n",
            "Epoch 15/100\n",
            "2/2 - 0s - loss: 5.7186 - mae: 5.7186 - 23ms/epoch - 12ms/step\n",
            "Epoch 16/100\n",
            "2/2 - 0s - loss: 6.3237 - mae: 6.3237 - 19ms/epoch - 9ms/step\n",
            "Epoch 17/100\n",
            "2/2 - 0s - loss: 6.1804 - mae: 6.1804 - 28ms/epoch - 14ms/step\n",
            "Epoch 18/100\n",
            "2/2 - 0s - loss: 5.3426 - mae: 5.3426 - 18ms/epoch - 9ms/step\n",
            "Epoch 19/100\n",
            "2/2 - 0s - loss: 5.3869 - mae: 5.3869 - 28ms/epoch - 14ms/step\n",
            "Epoch 20/100\n",
            "2/2 - 0s - loss: 5.7056 - mae: 5.7056 - 23ms/epoch - 11ms/step\n",
            "Epoch 21/100\n",
            "2/2 - 0s - loss: 5.1488 - mae: 5.1488 - 23ms/epoch - 11ms/step\n",
            "Epoch 22/100\n",
            "2/2 - 0s - loss: 4.8028 - mae: 4.8028 - 33ms/epoch - 17ms/step\n",
            "Epoch 23/100\n",
            "2/2 - 0s - loss: 5.2162 - mae: 5.2162 - 23ms/epoch - 12ms/step\n",
            "Epoch 24/100\n",
            "2/2 - 0s - loss: 4.7797 - mae: 4.7797 - 19ms/epoch - 9ms/step\n",
            "Epoch 25/100\n",
            "2/2 - 0s - loss: 4.3577 - mae: 4.3577 - 24ms/epoch - 12ms/step\n",
            "Epoch 26/100\n",
            "2/2 - 0s - loss: 4.3285 - mae: 4.3285 - 34ms/epoch - 17ms/step\n",
            "Epoch 27/100\n",
            "2/2 - 0s - loss: 4.0260 - mae: 4.0260 - 24ms/epoch - 12ms/step\n",
            "Epoch 28/100\n",
            "2/2 - 0s - loss: 3.8584 - mae: 3.8584 - 19ms/epoch - 10ms/step\n",
            "Epoch 29/100\n",
            "2/2 - 0s - loss: 3.7771 - mae: 3.7771 - 12ms/epoch - 6ms/step\n",
            "Epoch 30/100\n",
            "2/2 - 0s - loss: 3.6448 - mae: 3.6448 - 22ms/epoch - 11ms/step\n",
            "Epoch 31/100\n",
            "2/2 - 0s - loss: 3.5283 - mae: 3.5283 - 18ms/epoch - 9ms/step\n",
            "Epoch 32/100\n",
            "2/2 - 0s - loss: 3.4578 - mae: 3.4578 - 25ms/epoch - 13ms/step\n",
            "Epoch 33/100\n",
            "2/2 - 0s - loss: 3.2488 - mae: 3.2488 - 22ms/epoch - 11ms/step\n",
            "Epoch 34/100\n",
            "2/2 - 0s - loss: 3.1168 - mae: 3.1168 - 25ms/epoch - 12ms/step\n",
            "Epoch 35/100\n",
            "2/2 - 0s - loss: 3.0679 - mae: 3.0679 - 22ms/epoch - 11ms/step\n",
            "Epoch 36/100\n",
            "2/2 - 0s - loss: 2.8283 - mae: 2.8283 - 16ms/epoch - 8ms/step\n",
            "Epoch 37/100\n",
            "2/2 - 0s - loss: 2.8523 - mae: 2.8523 - 35ms/epoch - 18ms/step\n",
            "Epoch 38/100\n",
            "2/2 - 0s - loss: 2.5764 - mae: 2.5764 - 29ms/epoch - 15ms/step\n",
            "Epoch 39/100\n",
            "2/2 - 0s - loss: 2.4406 - mae: 2.4406 - 10ms/epoch - 5ms/step\n",
            "Epoch 40/100\n",
            "2/2 - 0s - loss: 2.4356 - mae: 2.4356 - 14ms/epoch - 7ms/step\n",
            "Epoch 41/100\n",
            "2/2 - 0s - loss: 2.2191 - mae: 2.2191 - 14ms/epoch - 7ms/step\n",
            "Epoch 42/100\n",
            "2/2 - 0s - loss: 2.2370 - mae: 2.2370 - 12ms/epoch - 6ms/step\n",
            "Epoch 43/100\n",
            "2/2 - 0s - loss: 2.1597 - mae: 2.1597 - 16ms/epoch - 8ms/step\n",
            "Epoch 44/100\n",
            "2/2 - 0s - loss: 1.8509 - mae: 1.8509 - 31ms/epoch - 16ms/step\n",
            "Epoch 45/100\n",
            "2/2 - 0s - loss: 1.9780 - mae: 1.9780 - 20ms/epoch - 10ms/step\n",
            "Epoch 46/100\n",
            "2/2 - 0s - loss: 1.5351 - mae: 1.5351 - 24ms/epoch - 12ms/step\n",
            "Epoch 47/100\n",
            "2/2 - 0s - loss: 1.5642 - mae: 1.5642 - 20ms/epoch - 10ms/step\n",
            "Epoch 48/100\n",
            "2/2 - 0s - loss: 1.1312 - mae: 1.1312 - 23ms/epoch - 11ms/step\n",
            "Epoch 49/100\n",
            "2/2 - 0s - loss: 1.1738 - mae: 1.1738 - 23ms/epoch - 12ms/step\n",
            "Epoch 50/100\n",
            "2/2 - 0s - loss: 0.8407 - mae: 0.8407 - 25ms/epoch - 12ms/step\n",
            "Epoch 51/100\n",
            "2/2 - 0s - loss: 0.8352 - mae: 0.8352 - 29ms/epoch - 15ms/step\n",
            "Epoch 52/100\n",
            "2/2 - 0s - loss: 0.9634 - mae: 0.9634 - 22ms/epoch - 11ms/step\n",
            "Epoch 53/100\n",
            "2/2 - 0s - loss: 0.6929 - mae: 0.6929 - 22ms/epoch - 11ms/step\n",
            "Epoch 54/100\n",
            "2/2 - 0s - loss: 1.8990 - mae: 1.8990 - 24ms/epoch - 12ms/step\n",
            "Epoch 55/100\n",
            "2/2 - 0s - loss: 2.0528 - mae: 2.0528 - 11ms/epoch - 5ms/step\n",
            "Epoch 56/100\n",
            "2/2 - 0s - loss: 0.3962 - mae: 0.3962 - 16ms/epoch - 8ms/step\n",
            "Epoch 57/100\n",
            "2/2 - 0s - loss: 0.6907 - mae: 0.6907 - 18ms/epoch - 9ms/step\n",
            "Epoch 58/100\n",
            "2/2 - 0s - loss: 0.7285 - mae: 0.7285 - 24ms/epoch - 12ms/step\n",
            "Epoch 59/100\n",
            "2/2 - 0s - loss: 0.2765 - mae: 0.2765 - 16ms/epoch - 8ms/step\n",
            "Epoch 60/100\n",
            "2/2 - 0s - loss: 1.2339 - mae: 1.2339 - 20ms/epoch - 10ms/step\n",
            "Epoch 61/100\n",
            "2/2 - 0s - loss: 0.3227 - mae: 0.3227 - 18ms/epoch - 9ms/step\n",
            "Epoch 62/100\n",
            "2/2 - 0s - loss: 0.5030 - mae: 0.5030 - 16ms/epoch - 8ms/step\n",
            "Epoch 63/100\n",
            "2/2 - 0s - loss: 0.4127 - mae: 0.4127 - 17ms/epoch - 8ms/step\n",
            "Epoch 64/100\n",
            "2/2 - 0s - loss: 0.1312 - mae: 0.1312 - 16ms/epoch - 8ms/step\n",
            "Epoch 65/100\n",
            "2/2 - 0s - loss: 0.0832 - mae: 0.0832 - 20ms/epoch - 10ms/step\n",
            "Epoch 66/100\n",
            "2/2 - 0s - loss: 0.2599 - mae: 0.2599 - 10ms/epoch - 5ms/step\n",
            "Epoch 67/100\n",
            "2/2 - 0s - loss: 0.7818 - mae: 0.7818 - 35ms/epoch - 17ms/step\n",
            "Epoch 68/100\n",
            "2/2 - 0s - loss: 0.4557 - mae: 0.4557 - 13ms/epoch - 7ms/step\n",
            "Epoch 69/100\n",
            "2/2 - 0s - loss: 1.0266 - mae: 1.0266 - 12ms/epoch - 6ms/step\n",
            "Epoch 70/100\n",
            "2/2 - 0s - loss: 0.2551 - mae: 0.2551 - 11ms/epoch - 6ms/step\n",
            "Epoch 71/100\n",
            "2/2 - 0s - loss: 0.7847 - mae: 0.7847 - 15ms/epoch - 7ms/step\n",
            "Epoch 72/100\n",
            "2/2 - 0s - loss: 0.8772 - mae: 0.8772 - 12ms/epoch - 6ms/step\n",
            "Epoch 73/100\n",
            "2/2 - 0s - loss: 0.7299 - mae: 0.7299 - 17ms/epoch - 9ms/step\n",
            "Epoch 74/100\n",
            "2/2 - 0s - loss: 1.5104 - mae: 1.5104 - 15ms/epoch - 7ms/step\n",
            "Epoch 75/100\n",
            "2/2 - 0s - loss: 2.1661 - mae: 2.1661 - 13ms/epoch - 7ms/step\n",
            "Epoch 76/100\n",
            "2/2 - 0s - loss: 0.7464 - mae: 0.7464 - 11ms/epoch - 5ms/step\n",
            "Epoch 77/100\n",
            "2/2 - 0s - loss: 1.6015 - mae: 1.6015 - 14ms/epoch - 7ms/step\n",
            "Epoch 78/100\n",
            "2/2 - 0s - loss: 0.8655 - mae: 0.8655 - 31ms/epoch - 15ms/step\n",
            "Epoch 79/100\n",
            "2/2 - 0s - loss: 1.8240 - mae: 1.8240 - 12ms/epoch - 6ms/step\n",
            "Epoch 80/100\n",
            "2/2 - 0s - loss: 2.4304 - mae: 2.4304 - 19ms/epoch - 10ms/step\n",
            "Epoch 81/100\n",
            "2/2 - 0s - loss: 0.8918 - mae: 0.8918 - 22ms/epoch - 11ms/step\n",
            "Epoch 82/100\n",
            "2/2 - 0s - loss: 2.0797 - mae: 2.0797 - 10ms/epoch - 5ms/step\n",
            "Epoch 83/100\n",
            "2/2 - 0s - loss: 2.4239 - mae: 2.4239 - 27ms/epoch - 13ms/step\n",
            "Epoch 84/100\n",
            "2/2 - 0s - loss: 0.8012 - mae: 0.8012 - 25ms/epoch - 12ms/step\n",
            "Epoch 85/100\n",
            "2/2 - 0s - loss: 0.9037 - mae: 0.9037 - 25ms/epoch - 12ms/step\n",
            "Epoch 86/100\n",
            "2/2 - 0s - loss: 0.2625 - mae: 0.2625 - 12ms/epoch - 6ms/step\n",
            "Epoch 87/100\n",
            "2/2 - 0s - loss: 1.1222 - mae: 1.1222 - 13ms/epoch - 7ms/step\n",
            "Epoch 88/100\n",
            "2/2 - 0s - loss: 0.1532 - mae: 0.1532 - 8ms/epoch - 4ms/step\n",
            "Epoch 89/100\n",
            "2/2 - 0s - loss: 0.4729 - mae: 0.4729 - 9ms/epoch - 5ms/step\n",
            "Epoch 90/100\n",
            "2/2 - 0s - loss: 1.1678 - mae: 1.1678 - 11ms/epoch - 6ms/step\n",
            "Epoch 91/100\n",
            "2/2 - 0s - loss: 1.2408 - mae: 1.2408 - 20ms/epoch - 10ms/step\n",
            "Epoch 92/100\n",
            "2/2 - 0s - loss: 0.6096 - mae: 0.6096 - 19ms/epoch - 9ms/step\n",
            "Epoch 93/100\n",
            "2/2 - 0s - loss: 0.9658 - mae: 0.9658 - 14ms/epoch - 7ms/step\n",
            "Epoch 94/100\n",
            "2/2 - 0s - loss: 0.6057 - mae: 0.6057 - 15ms/epoch - 7ms/step\n",
            "Epoch 95/100\n",
            "2/2 - 0s - loss: 0.5625 - mae: 0.5625 - 7ms/epoch - 4ms/step\n",
            "Epoch 96/100\n",
            "2/2 - 0s - loss: 0.3825 - mae: 0.3825 - 7ms/epoch - 4ms/step\n",
            "Epoch 97/100\n",
            "2/2 - 0s - loss: 0.7024 - mae: 0.7024 - 10ms/epoch - 5ms/step\n",
            "Epoch 98/100\n",
            "2/2 - 0s - loss: 0.5147 - mae: 0.5147 - 13ms/epoch - 6ms/step\n",
            "Epoch 99/100\n",
            "2/2 - 0s - loss: 0.3642 - mae: 0.3642 - 25ms/epoch - 12ms/step\n",
            "Epoch 100/100\n",
            "2/2 - 0s - loss: 0.9138 - mae: 0.9138 - 14ms/epoch - 7ms/step\n"
          ]
        },
        {
          "output_type": "execute_result",
          "data": {
            "text/plain": [
              "<keras.callbacks.History at 0x7faead687dc0>"
            ]
          },
          "metadata": {},
          "execution_count": 16
        }
      ]
    },
    {
      "cell_type": "code",
      "source": [
        "y_pred = model.predict([X_test])\n",
        "y_pred"
      ],
      "metadata": {
        "colab": {
          "base_uri": "https://localhost:8080/"
        },
        "id": "UxBQb53EoILB",
        "outputId": "6d4f5154-c96e-4449-adbf-84c9ec7a6310"
      },
      "execution_count": 17,
      "outputs": [
        {
          "output_type": "stream",
          "name": "stdout",
          "text": [
            "1/1 [==============================] - 0s 67ms/step\n"
          ]
        },
        {
          "output_type": "execute_result",
          "data": {
            "text/plain": [
              "array([[ 71.21407 ],\n",
              "       [ 75.29577 ],\n",
              "       [ 79.377464],\n",
              "       [ 83.45916 ],\n",
              "       [ 87.540855],\n",
              "       [ 91.62255 ],\n",
              "       [ 95.70425 ],\n",
              "       [ 99.78594 ],\n",
              "       [103.86764 ],\n",
              "       [107.94933 ]], dtype=float32)"
            ]
          },
          "metadata": {},
          "execution_count": 17
        }
      ]
    },
    {
      "cell_type": "code",
      "source": [
        "def mae(y_test, y_pred):\n",
        "  \"\"\"\n",
        "  Calculuates mean absolute error between y_test and y_preds.\n",
        "  \"\"\"\n",
        "  return tf.metrics.mean_absolute_error(y_test,\n",
        "                                        y_pred)\n",
        "\n",
        "def mse(y_test, y_pred):\n",
        "  \"\"\"\n",
        "  Calculates mean squared error between y_test and y_preds.\n",
        "  \"\"\"\n",
        "  return tf.metrics.mean_squared_error(y_test,\n",
        "                                       y_pred)"
      ],
      "metadata": {
        "id": "hgcP7bEzxdA2"
      },
      "execution_count": 18,
      "outputs": []
    },
    {
      "cell_type": "code",
      "source": [
        "mae_1 = mae(y_test, y_pred.squeeze()).numpy()\n",
        "mse_1 = mse(y_test, y_pred.squeeze()).numpy()\n",
        "mae_1, mse_1"
      ],
      "metadata": {
        "colab": {
          "base_uri": "https://localhost:8080/"
        },
        "id": "P5gzGQYAwtpr",
        "outputId": "cb52b88c-c69e-4e47-d913-6394e2729ffa"
      },
      "execution_count": 19,
      "outputs": [
        {
          "output_type": "execute_result",
          "data": {
            "text/plain": [
              "(1.5817032, 2.5568469)"
            ]
          },
          "metadata": {},
          "execution_count": 19
        }
      ]
    },
    {
      "cell_type": "code",
      "source": [
        "y_pred=model.evaluate(X_test, y_test)"
      ],
      "metadata": {
        "colab": {
          "base_uri": "https://localhost:8080/"
        },
        "id": "0RxSfxhjoi70",
        "outputId": "3ef8046b-c7a0-4a37-c91c-ae50333b970b"
      },
      "execution_count": 20,
      "outputs": [
        {
          "output_type": "stream",
          "name": "stdout",
          "text": [
            "1/1 [==============================] - 0s 117ms/step - loss: 1.5817 - mae: 1.5817\n"
          ]
        }
      ]
    },
    {
      "cell_type": "markdown",
      "source": [
        "### Running experiments to improve model\n",
        "1. Maybe try with more hidden layers.\n",
        "2. Change the larning rate.\n",
        "3. Increase the number of epochs."
      ],
      "metadata": {
        "id": "FGxMdLCp6lHc"
      }
    },
    {
      "cell_type": "code",
      "source": [
        "model = tf.keras.Sequential([\n",
        "    tf.keras.layers.Dense(1, input_shape=[1])\n",
        "])\n",
        "model.compile(loss=tf.keras.losses.mae,\n",
        "              optimizer=tf.keras.optimizers.Adam(learning_rate=0.1),\n",
        "              metrics=['mae'])\n",
        "model.fit(tf.expand_dims(X_train,axis=-1), y_train, epochs=50)"
      ],
      "metadata": {
        "colab": {
          "base_uri": "https://localhost:8080/"
        },
        "id": "cxieyrH56nnb",
        "outputId": "98f6ed60-1333-4009-e487-6ab8ee1bc900"
      },
      "execution_count": 21,
      "outputs": [
        {
          "output_type": "stream",
          "name": "stdout",
          "text": [
            "Epoch 1/50\n",
            "2/2 [==============================] - 0s 9ms/step - loss: 31.9841 - mae: 31.9841\n",
            "Epoch 2/50\n",
            "2/2 [==============================] - 0s 13ms/step - loss: 23.4761 - mae: 23.4761\n",
            "Epoch 3/50\n",
            "2/2 [==============================] - 0s 8ms/step - loss: 16.0428 - mae: 16.0428\n",
            "Epoch 4/50\n",
            "2/2 [==============================] - 0s 8ms/step - loss: 11.1380 - mae: 11.1380\n",
            "Epoch 5/50\n",
            "2/2 [==============================] - 0s 6ms/step - loss: 7.3007 - mae: 7.3007\n",
            "Epoch 6/50\n",
            "2/2 [==============================] - 0s 7ms/step - loss: 10.2327 - mae: 10.2327\n",
            "Epoch 7/50\n",
            "2/2 [==============================] - 0s 9ms/step - loss: 12.3242 - mae: 12.3242\n",
            "Epoch 8/50\n",
            "2/2 [==============================] - 0s 7ms/step - loss: 11.9361 - mae: 11.9361\n",
            "Epoch 9/50\n",
            "2/2 [==============================] - 0s 7ms/step - loss: 9.6721 - mae: 9.6721\n",
            "Epoch 10/50\n",
            "2/2 [==============================] - 0s 6ms/step - loss: 6.7657 - mae: 6.7657\n",
            "Epoch 11/50\n",
            "2/2 [==============================] - 0s 8ms/step - loss: 7.9092 - mae: 7.9092\n",
            "Epoch 12/50\n",
            "2/2 [==============================] - 0s 7ms/step - loss: 8.9755 - mae: 8.9755\n",
            "Epoch 13/50\n",
            "2/2 [==============================] - 0s 5ms/step - loss: 9.2198 - mae: 9.2198\n",
            "Epoch 14/50\n",
            "2/2 [==============================] - 0s 7ms/step - loss: 8.6741 - mae: 8.6741\n",
            "Epoch 15/50\n",
            "2/2 [==============================] - 0s 11ms/step - loss: 7.5562 - mae: 7.5562\n",
            "Epoch 16/50\n",
            "2/2 [==============================] - 0s 8ms/step - loss: 5.8838 - mae: 5.8838\n",
            "Epoch 17/50\n",
            "2/2 [==============================] - 0s 6ms/step - loss: 6.1278 - mae: 6.1278\n",
            "Epoch 18/50\n",
            "2/2 [==============================] - 0s 6ms/step - loss: 6.8480 - mae: 6.8480\n",
            "Epoch 19/50\n",
            "2/2 [==============================] - 0s 8ms/step - loss: 6.3211 - mae: 6.3211\n",
            "Epoch 20/50\n",
            "2/2 [==============================] - 0s 6ms/step - loss: 5.1499 - mae: 5.1499\n",
            "Epoch 21/50\n",
            "2/2 [==============================] - 0s 7ms/step - loss: 5.3146 - mae: 5.3146\n",
            "Epoch 22/50\n",
            "2/2 [==============================] - 0s 7ms/step - loss: 5.4622 - mae: 5.4622\n",
            "Epoch 23/50\n",
            "2/2 [==============================] - 0s 5ms/step - loss: 4.9447 - mae: 4.9447\n",
            "Epoch 24/50\n",
            "2/2 [==============================] - 0s 8ms/step - loss: 4.6481 - mae: 4.6481\n",
            "Epoch 25/50\n",
            "2/2 [==============================] - 0s 5ms/step - loss: 4.7861 - mae: 4.7861\n",
            "Epoch 26/50\n",
            "2/2 [==============================] - 0s 5ms/step - loss: 4.2971 - mae: 4.2971\n",
            "Epoch 27/50\n",
            "2/2 [==============================] - 0s 6ms/step - loss: 4.1768 - mae: 4.1768\n",
            "Epoch 28/50\n",
            "2/2 [==============================] - 0s 6ms/step - loss: 3.9133 - mae: 3.9133\n",
            "Epoch 29/50\n",
            "2/2 [==============================] - 0s 5ms/step - loss: 3.9173 - mae: 3.9173\n",
            "Epoch 30/50\n",
            "2/2 [==============================] - 0s 5ms/step - loss: 3.7245 - mae: 3.7245\n",
            "Epoch 31/50\n",
            "2/2 [==============================] - 0s 5ms/step - loss: 3.5119 - mae: 3.5119\n",
            "Epoch 32/50\n",
            "2/2 [==============================] - 0s 5ms/step - loss: 3.5861 - mae: 3.5861\n",
            "Epoch 33/50\n",
            "2/2 [==============================] - 0s 5ms/step - loss: 3.2395 - mae: 3.2395\n",
            "Epoch 34/50\n",
            "2/2 [==============================] - 0s 7ms/step - loss: 3.2566 - mae: 3.2566\n",
            "Epoch 35/50\n",
            "2/2 [==============================] - 0s 5ms/step - loss: 3.0005 - mae: 3.0005\n",
            "Epoch 36/50\n",
            "2/2 [==============================] - 0s 4ms/step - loss: 2.8054 - mae: 2.8054\n",
            "Epoch 37/50\n",
            "2/2 [==============================] - 0s 5ms/step - loss: 2.6992 - mae: 2.6992\n",
            "Epoch 38/50\n",
            "2/2 [==============================] - 0s 5ms/step - loss: 2.4926 - mae: 2.4926\n",
            "Epoch 39/50\n",
            "2/2 [==============================] - 0s 5ms/step - loss: 2.3567 - mae: 2.3567\n",
            "Epoch 40/50\n",
            "2/2 [==============================] - 0s 5ms/step - loss: 2.2214 - mae: 2.2214\n",
            "Epoch 41/50\n",
            "2/2 [==============================] - 0s 5ms/step - loss: 2.1044 - mae: 2.1044\n",
            "Epoch 42/50\n",
            "2/2 [==============================] - 0s 5ms/step - loss: 2.0384 - mae: 2.0384\n",
            "Epoch 43/50\n",
            "2/2 [==============================] - 0s 5ms/step - loss: 1.8158 - mae: 1.8158\n",
            "Epoch 44/50\n",
            "2/2 [==============================] - 0s 5ms/step - loss: 1.7573 - mae: 1.7573\n",
            "Epoch 45/50\n",
            "2/2 [==============================] - 0s 5ms/step - loss: 1.5005 - mae: 1.5005\n",
            "Epoch 46/50\n",
            "2/2 [==============================] - 0s 6ms/step - loss: 1.4981 - mae: 1.4981\n",
            "Epoch 47/50\n",
            "2/2 [==============================] - 0s 4ms/step - loss: 1.2369 - mae: 1.2369\n",
            "Epoch 48/50\n",
            "2/2 [==============================] - 0s 5ms/step - loss: 1.0571 - mae: 1.0571\n",
            "Epoch 49/50\n",
            "2/2 [==============================] - 0s 5ms/step - loss: 1.2040 - mae: 1.2040\n",
            "Epoch 50/50\n",
            "2/2 [==============================] - 0s 9ms/step - loss: 0.8380 - mae: 0.8380\n"
          ]
        },
        {
          "output_type": "execute_result",
          "data": {
            "text/plain": [
              "<keras.callbacks.History at 0x7faead592110>"
            ]
          },
          "metadata": {},
          "execution_count": 21
        }
      ]
    },
    {
      "cell_type": "code",
      "source": [
        "tf.random.set_seed(42)\n",
        "model_2 = tf.keras.Sequential([\n",
        "    tf.keras.layers.Dense(10),\n",
        "    tf.keras.layers.Dense(1)\n",
        "])\n",
        "model_2.compile(loss=tf.keras.losses.mae,\n",
        "               optimizer=tf.keras.optimizers.SGD(),\n",
        "               metrics=['mae'])\n",
        "model_2.fit(tf.expand_dims(X_train,axis=-1), y_train, epochs=100)"
      ],
      "metadata": {
        "colab": {
          "base_uri": "https://localhost:8080/"
        },
        "id": "xGZH3PWI81Ke",
        "outputId": "1b18cb8b-f8aa-4aea-f6d6-ac3176679a5b"
      },
      "execution_count": 22,
      "outputs": [
        {
          "output_type": "stream",
          "name": "stdout",
          "text": [
            "Epoch 1/100\n",
            "2/2 [==============================] - 0s 8ms/step - loss: 54.8794 - mae: 54.8794\n",
            "Epoch 2/100\n",
            "2/2 [==============================] - 0s 9ms/step - loss: 24.1537 - mae: 24.1537\n",
            "Epoch 3/100\n",
            "2/2 [==============================] - 0s 6ms/step - loss: 17.1364 - mae: 17.1364\n",
            "Epoch 4/100\n",
            "2/2 [==============================] - 0s 4ms/step - loss: 14.3769 - mae: 14.3769\n",
            "Epoch 5/100\n",
            "2/2 [==============================] - 0s 6ms/step - loss: 16.3663 - mae: 16.3663\n",
            "Epoch 6/100\n",
            "2/2 [==============================] - 0s 6ms/step - loss: 11.1315 - mae: 11.1315\n",
            "Epoch 7/100\n",
            "2/2 [==============================] - 0s 5ms/step - loss: 12.1366 - mae: 12.1366\n",
            "Epoch 8/100\n",
            "2/2 [==============================] - 0s 4ms/step - loss: 10.8921 - mae: 10.8921\n",
            "Epoch 9/100\n",
            "2/2 [==============================] - 0s 4ms/step - loss: 37.8538 - mae: 37.8538\n",
            "Epoch 10/100\n",
            "2/2 [==============================] - 0s 5ms/step - loss: 25.4645 - mae: 25.4645\n",
            "Epoch 11/100\n",
            "2/2 [==============================] - 0s 5ms/step - loss: 10.2501 - mae: 10.2501\n",
            "Epoch 12/100\n",
            "2/2 [==============================] - 0s 6ms/step - loss: 25.3198 - mae: 25.3198\n",
            "Epoch 13/100\n",
            "2/2 [==============================] - 0s 4ms/step - loss: 16.9542 - mae: 16.9542\n",
            "Epoch 14/100\n",
            "2/2 [==============================] - 0s 6ms/step - loss: 25.8552 - mae: 25.8552\n",
            "Epoch 15/100\n",
            "2/2 [==============================] - 0s 5ms/step - loss: 17.6827 - mae: 17.6827\n",
            "Epoch 16/100\n",
            "2/2 [==============================] - 0s 4ms/step - loss: 10.0821 - mae: 10.0821\n",
            "Epoch 17/100\n",
            "2/2 [==============================] - 0s 3ms/step - loss: 18.6838 - mae: 18.6838\n",
            "Epoch 18/100\n",
            "2/2 [==============================] - 0s 4ms/step - loss: 11.8005 - mae: 11.8005\n",
            "Epoch 19/100\n",
            "2/2 [==============================] - 0s 4ms/step - loss: 16.5238 - mae: 16.5238\n",
            "Epoch 20/100\n",
            "2/2 [==============================] - 0s 5ms/step - loss: 8.2388 - mae: 8.2388\n",
            "Epoch 21/100\n",
            "2/2 [==============================] - 0s 5ms/step - loss: 14.4066 - mae: 14.4066\n",
            "Epoch 22/100\n",
            "2/2 [==============================] - 0s 4ms/step - loss: 12.8191 - mae: 12.8191\n",
            "Epoch 23/100\n",
            "2/2 [==============================] - 0s 7ms/step - loss: 15.4581 - mae: 15.4581\n",
            "Epoch 24/100\n",
            "2/2 [==============================] - 0s 6ms/step - loss: 15.2469 - mae: 15.2469\n",
            "Epoch 25/100\n",
            "2/2 [==============================] - 0s 5ms/step - loss: 14.3275 - mae: 14.3275\n",
            "Epoch 26/100\n",
            "2/2 [==============================] - 0s 5ms/step - loss: 19.3205 - mae: 19.3205\n",
            "Epoch 27/100\n",
            "2/2 [==============================] - 0s 4ms/step - loss: 11.4665 - mae: 11.4665\n",
            "Epoch 28/100\n",
            "2/2 [==============================] - 0s 5ms/step - loss: 29.1780 - mae: 29.1780\n",
            "Epoch 29/100\n",
            "2/2 [==============================] - 0s 6ms/step - loss: 9.2529 - mae: 9.2529\n",
            "Epoch 30/100\n",
            "2/2 [==============================] - 0s 7ms/step - loss: 29.8953 - mae: 29.8953\n",
            "Epoch 31/100\n",
            "2/2 [==============================] - 0s 6ms/step - loss: 54.2556 - mae: 54.2556\n",
            "Epoch 32/100\n",
            "2/2 [==============================] - 0s 5ms/step - loss: 9.5855 - mae: 9.5855\n",
            "Epoch 33/100\n",
            "2/2 [==============================] - 0s 4ms/step - loss: 12.1794 - mae: 12.1794\n",
            "Epoch 34/100\n",
            "2/2 [==============================] - 0s 5ms/step - loss: 23.9648 - mae: 23.9648\n",
            "Epoch 35/100\n",
            "2/2 [==============================] - 0s 9ms/step - loss: 12.6149 - mae: 12.6149\n",
            "Epoch 36/100\n",
            "2/2 [==============================] - 0s 6ms/step - loss: 21.5134 - mae: 21.5134\n",
            "Epoch 37/100\n",
            "2/2 [==============================] - 0s 5ms/step - loss: 11.3939 - mae: 11.3939\n",
            "Epoch 38/100\n",
            "2/2 [==============================] - 0s 9ms/step - loss: 13.4868 - mae: 13.4868\n",
            "Epoch 39/100\n",
            "2/2 [==============================] - 0s 7ms/step - loss: 10.8023 - mae: 10.8023\n",
            "Epoch 40/100\n",
            "2/2 [==============================] - 0s 7ms/step - loss: 16.6309 - mae: 16.6309\n",
            "Epoch 41/100\n",
            "2/2 [==============================] - 0s 8ms/step - loss: 10.9903 - mae: 10.9903\n",
            "Epoch 42/100\n",
            "2/2 [==============================] - 0s 12ms/step - loss: 9.3137 - mae: 9.3137\n",
            "Epoch 43/100\n",
            "2/2 [==============================] - 0s 8ms/step - loss: 9.5977 - mae: 9.5977\n",
            "Epoch 44/100\n",
            "2/2 [==============================] - 0s 9ms/step - loss: 28.0444 - mae: 28.0444\n",
            "Epoch 45/100\n",
            "2/2 [==============================] - 0s 6ms/step - loss: 11.2994 - mae: 11.2994\n",
            "Epoch 46/100\n",
            "2/2 [==============================] - 0s 9ms/step - loss: 14.1024 - mae: 14.1024\n",
            "Epoch 47/100\n",
            "2/2 [==============================] - 0s 9ms/step - loss: 13.4910 - mae: 13.4910\n",
            "Epoch 48/100\n",
            "2/2 [==============================] - 0s 6ms/step - loss: 17.3222 - mae: 17.3222\n",
            "Epoch 49/100\n",
            "2/2 [==============================] - 0s 8ms/step - loss: 9.5282 - mae: 9.5282\n",
            "Epoch 50/100\n",
            "2/2 [==============================] - 0s 5ms/step - loss: 13.7275 - mae: 13.7275\n",
            "Epoch 51/100\n",
            "2/2 [==============================] - 0s 6ms/step - loss: 11.5688 - mae: 11.5688\n",
            "Epoch 52/100\n",
            "2/2 [==============================] - 0s 7ms/step - loss: 30.2754 - mae: 30.2754\n",
            "Epoch 53/100\n",
            "2/2 [==============================] - 0s 7ms/step - loss: 14.2381 - mae: 14.2381\n",
            "Epoch 54/100\n",
            "2/2 [==============================] - 0s 7ms/step - loss: 23.5367 - mae: 23.5367\n",
            "Epoch 55/100\n",
            "2/2 [==============================] - 0s 11ms/step - loss: 24.4495 - mae: 24.4495\n",
            "Epoch 56/100\n",
            "2/2 [==============================] - 0s 8ms/step - loss: 11.3002 - mae: 11.3002\n",
            "Epoch 57/100\n",
            "2/2 [==============================] - 0s 6ms/step - loss: 13.3019 - mae: 13.3019\n",
            "Epoch 58/100\n",
            "2/2 [==============================] - 0s 6ms/step - loss: 9.9170 - mae: 9.9170\n",
            "Epoch 59/100\n",
            "2/2 [==============================] - 0s 8ms/step - loss: 13.8358 - mae: 13.8358\n",
            "Epoch 60/100\n",
            "2/2 [==============================] - 0s 7ms/step - loss: 9.9595 - mae: 9.9595\n",
            "Epoch 61/100\n",
            "2/2 [==============================] - 0s 8ms/step - loss: 14.8903 - mae: 14.8903\n",
            "Epoch 62/100\n",
            "2/2 [==============================] - 0s 7ms/step - loss: 11.8764 - mae: 11.8764\n",
            "Epoch 63/100\n",
            "2/2 [==============================] - 0s 6ms/step - loss: 10.2615 - mae: 10.2615\n",
            "Epoch 64/100\n",
            "2/2 [==============================] - 0s 8ms/step - loss: 23.7415 - mae: 23.7415\n",
            "Epoch 65/100\n",
            "2/2 [==============================] - 0s 7ms/step - loss: 10.4363 - mae: 10.4363\n",
            "Epoch 66/100\n",
            "2/2 [==============================] - 0s 7ms/step - loss: 20.8036 - mae: 20.8036\n",
            "Epoch 67/100\n",
            "2/2 [==============================] - 0s 6ms/step - loss: 10.4052 - mae: 10.4052\n",
            "Epoch 68/100\n",
            "2/2 [==============================] - 0s 6ms/step - loss: 14.0849 - mae: 14.0849\n",
            "Epoch 69/100\n",
            "2/2 [==============================] - 0s 7ms/step - loss: 10.4667 - mae: 10.4667\n",
            "Epoch 70/100\n",
            "2/2 [==============================] - 0s 7ms/step - loss: 12.5316 - mae: 12.5316\n",
            "Epoch 71/100\n",
            "2/2 [==============================] - 0s 6ms/step - loss: 12.9612 - mae: 12.9612\n",
            "Epoch 72/100\n",
            "2/2 [==============================] - 0s 6ms/step - loss: 19.2300 - mae: 19.2300\n",
            "Epoch 73/100\n",
            "2/2 [==============================] - 0s 7ms/step - loss: 11.0985 - mae: 11.0985\n",
            "Epoch 74/100\n",
            "2/2 [==============================] - 0s 10ms/step - loss: 21.2994 - mae: 21.2994\n",
            "Epoch 75/100\n",
            "2/2 [==============================] - 0s 10ms/step - loss: 9.4197 - mae: 9.4197\n",
            "Epoch 76/100\n",
            "2/2 [==============================] - 0s 8ms/step - loss: 12.2349 - mae: 12.2349\n",
            "Epoch 77/100\n",
            "2/2 [==============================] - 0s 7ms/step - loss: 16.2117 - mae: 16.2117\n",
            "Epoch 78/100\n",
            "2/2 [==============================] - 0s 7ms/step - loss: 8.9949 - mae: 8.9949\n",
            "Epoch 79/100\n",
            "2/2 [==============================] - 0s 6ms/step - loss: 23.4330 - mae: 23.4330\n",
            "Epoch 80/100\n",
            "2/2 [==============================] - 0s 6ms/step - loss: 26.1016 - mae: 26.1016\n",
            "Epoch 81/100\n",
            "2/2 [==============================] - 0s 6ms/step - loss: 11.3677 - mae: 11.3677\n",
            "Epoch 82/100\n",
            "2/2 [==============================] - 0s 5ms/step - loss: 12.4881 - mae: 12.4881\n",
            "Epoch 83/100\n",
            "2/2 [==============================] - 0s 5ms/step - loss: 17.1703 - mae: 17.1703\n",
            "Epoch 84/100\n",
            "2/2 [==============================] - 0s 6ms/step - loss: 6.5734 - mae: 6.5734\n",
            "Epoch 85/100\n",
            "2/2 [==============================] - 0s 5ms/step - loss: 20.3102 - mae: 20.3102\n",
            "Epoch 86/100\n",
            "2/2 [==============================] - 0s 5ms/step - loss: 10.1527 - mae: 10.1527\n",
            "Epoch 87/100\n",
            "2/2 [==============================] - 0s 7ms/step - loss: 24.3667 - mae: 24.3667\n",
            "Epoch 88/100\n",
            "2/2 [==============================] - 0s 6ms/step - loss: 19.0317 - mae: 19.0317\n",
            "Epoch 89/100\n",
            "2/2 [==============================] - 0s 7ms/step - loss: 7.1469 - mae: 7.1469\n",
            "Epoch 90/100\n",
            "2/2 [==============================] - 0s 5ms/step - loss: 18.2368 - mae: 18.2368\n",
            "Epoch 91/100\n",
            "2/2 [==============================] - 0s 7ms/step - loss: 13.2846 - mae: 13.2846\n",
            "Epoch 92/100\n",
            "2/2 [==============================] - 0s 6ms/step - loss: 14.8261 - mae: 14.8261\n",
            "Epoch 93/100\n",
            "2/2 [==============================] - 0s 7ms/step - loss: 11.6216 - mae: 11.6216\n",
            "Epoch 94/100\n",
            "2/2 [==============================] - 0s 7ms/step - loss: 16.1782 - mae: 16.1782\n",
            "Epoch 95/100\n",
            "2/2 [==============================] - 0s 7ms/step - loss: 15.5191 - mae: 15.5191\n",
            "Epoch 96/100\n",
            "2/2 [==============================] - 0s 7ms/step - loss: 15.0491 - mae: 15.0491\n",
            "Epoch 97/100\n",
            "2/2 [==============================] - 0s 6ms/step - loss: 10.8778 - mae: 10.8778\n",
            "Epoch 98/100\n",
            "2/2 [==============================] - 0s 5ms/step - loss: 14.3367 - mae: 14.3367\n",
            "Epoch 99/100\n",
            "2/2 [==============================] - 0s 6ms/step - loss: 13.3603 - mae: 13.3603\n",
            "Epoch 100/100\n",
            "2/2 [==============================] - 0s 8ms/step - loss: 19.9634 - mae: 19.9634\n"
          ]
        },
        {
          "output_type": "execute_result",
          "data": {
            "text/plain": [
              "<keras.callbacks.History at 0x7faead46f220>"
            ]
          },
          "metadata": {},
          "execution_count": 22
        }
      ]
    },
    {
      "cell_type": "code",
      "source": [
        "y_preds_2=model_2.predict(X_test)"
      ],
      "metadata": {
        "colab": {
          "base_uri": "https://localhost:8080/"
        },
        "id": "yGSNgdF3BHzz",
        "outputId": "fb5a53ed-b4f2-4f7f-89c4-38d1cdada473"
      },
      "execution_count": 23,
      "outputs": [
        {
          "output_type": "stream",
          "name": "stderr",
          "text": [
            "WARNING:tensorflow:5 out of the last 5 calls to <function Model.make_predict_function.<locals>.predict_function at 0x7faead5c6170> triggered tf.function retracing. Tracing is expensive and the excessive number of tracings could be due to (1) creating @tf.function repeatedly in a loop, (2) passing tensors with different shapes, (3) passing Python objects instead of tensors. For (1), please define your @tf.function outside of the loop. For (2), @tf.function has reduce_retracing=True option that can avoid unnecessary retracing. For (3), please refer to https://www.tensorflow.org/guide/function#controlling_retracing and https://www.tensorflow.org/api_docs/python/tf/function for  more details.\n"
          ]
        },
        {
          "output_type": "stream",
          "name": "stdout",
          "text": [
            "1/1 [==============================] - 0s 51ms/step\n"
          ]
        }
      ]
    },
    {
      "cell_type": "code",
      "source": [
        "mae_2 = mae(y_test, y_preds_2.squeeze()).numpy()\n",
        "mse_2 = mse(y_test, y_preds_2.squeeze()).numpy()\n",
        "mae_2, mse_2"
      ],
      "metadata": {
        "colab": {
          "base_uri": "https://localhost:8080/"
        },
        "id": "uCX4NcXrx4ky",
        "outputId": "8716bf12-fc1d-48d0-f202-04dd6d83b2db"
      },
      "execution_count": 24,
      "outputs": [
        {
          "output_type": "execute_result",
          "data": {
            "text/plain": [
              "(29.902582, 925.55145)"
            ]
          },
          "metadata": {},
          "execution_count": 24
        }
      ]
    },
    {
      "cell_type": "code",
      "source": [
        "def plot_predictions(train_data=X_train,\n",
        "                     train_labels=y_train,\n",
        "                     test_data=X_test,\n",
        "                     test_labels=y_test,\n",
        "                     predictions=y_pred):\n",
        "  \"\"\"\n",
        "  Plots training data, test data and compares predictions.\n",
        "  \"\"\"\n",
        "  plt.figure(figsize=(10, 7))\n",
        "  # Plot training data in blue\n",
        "  plt.scatter(train_data, train_labels, c=\"b\", label=\"Training data\")\n",
        "  # Plot test data in green\n",
        "  plt.scatter(test_data, test_labels, c=\"g\", label=\"Testing data\")\n",
        "  # Plot the predictions in red (predictions were made on the test data)\n",
        "  plt.scatter(test_data, predictions, c=\"r\", label=\"Predictions\")\n",
        "  # Show the legend\n",
        "  plt.legend();"
      ],
      "metadata": {
        "id": "3FG9JBdy_ai2"
      },
      "execution_count": 25,
      "outputs": []
    },
    {
      "cell_type": "code",
      "source": [
        "plot_predictions(train_data=X_train,\n",
        "                 train_labels=y_train,\n",
        "                 test_data=X_test,\n",
        "                 test_labels=y_test,\n",
        "                 predictions=y_preds_2)"
      ],
      "metadata": {
        "colab": {
          "base_uri": "https://localhost:8080/",
          "height": 599
        },
        "id": "gNWUaaG9AJgL",
        "outputId": "5a38100e-0790-4379-8474-cdd2af91b91a"
      },
      "execution_count": 26,
      "outputs": [
        {
          "output_type": "display_data",
          "data": {
            "text/plain": [
              "<Figure size 1000x700 with 1 Axes>"
            ],
            "image/png": "[encoded data removed]"
          },
          "metadata": {}
        }
      ]
    },
    {
      "cell_type": "code",
      "source": [
        "tf.random.set_seed(42)\n",
        "model_3 = tf.keras.Sequential([\n",
        "    tf.keras.layers.Dense(1)\n",
        "])\n",
        "model_3.compile(loss=tf.keras.losses.mae,\n",
        "               optimizer=tf.keras.optimizers.Adam(learning_rate=0.1),\n",
        "               metrics=['mae'])\n",
        "model_3.fit(tf.expand_dims(X_train,axis=-1), y_train, epochs=100)"
      ],
      "metadata": {
        "colab": {
          "base_uri": "https://localhost:8080/"
        },
        "id": "EhCNdsNdAak_",
        "outputId": "b934fb9b-a33a-4401-9c01-5fb9da36ecca"
      },
      "execution_count": 27,
      "outputs": [
        {
          "output_type": "stream",
          "name": "stdout",
          "text": [
            "Epoch 1/100\n",
            "2/2 [==============================] - 0s 10ms/step - loss: 16.2808 - mae: 16.2808\n",
            "Epoch 2/100\n",
            "2/2 [==============================] - 0s 7ms/step - loss: 9.6017 - mae: 9.6017\n",
            "Epoch 3/100\n",
            "2/2 [==============================] - 0s 6ms/step - loss: 8.6485 - mae: 8.6485\n",
            "Epoch 4/100\n",
            "2/2 [==============================] - 0s 6ms/step - loss: 9.4436 - mae: 9.4436\n",
            "Epoch 5/100\n",
            "2/2 [==============================] - 0s 6ms/step - loss: 8.9814 - mae: 8.9814\n",
            "Epoch 6/100\n",
            "2/2 [==============================] - 0s 5ms/step - loss: 7.6588 - mae: 7.6588\n",
            "Epoch 7/100\n",
            "2/2 [==============================] - 0s 6ms/step - loss: 7.1761 - mae: 7.1761\n",
            "Epoch 8/100\n",
            "2/2 [==============================] - 0s 7ms/step - loss: 8.1351 - mae: 8.1351\n",
            "Epoch 9/100\n",
            "2/2 [==============================] - 0s 5ms/step - loss: 7.4063 - mae: 7.4063\n",
            "Epoch 10/100\n",
            "2/2 [==============================] - 0s 6ms/step - loss: 6.4339 - mae: 6.4339\n",
            "Epoch 11/100\n",
            "2/2 [==============================] - 0s 7ms/step - loss: 7.4722 - mae: 7.4722\n",
            "Epoch 12/100\n",
            "2/2 [==============================] - 0s 7ms/step - loss: 7.2371 - mae: 7.2371\n",
            "Epoch 13/100\n",
            "2/2 [==============================] - 0s 5ms/step - loss: 6.2500 - mae: 6.2500\n",
            "Epoch 14/100\n",
            "2/2 [==============================] - 0s 10ms/step - loss: 6.2373 - mae: 6.2373\n",
            "Epoch 15/100\n",
            "2/2 [==============================] - 0s 6ms/step - loss: 5.9957 - mae: 5.9957\n",
            "Epoch 16/100\n",
            "2/2 [==============================] - 0s 6ms/step - loss: 5.8054 - mae: 5.8054\n",
            "Epoch 17/100\n",
            "2/2 [==============================] - 0s 6ms/step - loss: 5.8098 - mae: 5.8098\n",
            "Epoch 18/100\n",
            "2/2 [==============================] - 0s 6ms/step - loss: 5.4115 - mae: 5.4115\n",
            "Epoch 19/100\n",
            "2/2 [==============================] - 0s 6ms/step - loss: 5.3655 - mae: 5.3655\n",
            "Epoch 20/100\n",
            "2/2 [==============================] - 0s 6ms/step - loss: 5.1668 - mae: 5.1668\n",
            "Epoch 21/100\n",
            "2/2 [==============================] - 0s 7ms/step - loss: 5.0145 - mae: 5.0145\n",
            "Epoch 22/100\n",
            "2/2 [==============================] - 0s 8ms/step - loss: 4.8771 - mae: 4.8771\n",
            "Epoch 23/100\n",
            "2/2 [==============================] - 0s 7ms/step - loss: 4.7764 - mae: 4.7764\n",
            "Epoch 24/100\n",
            "2/2 [==============================] - 0s 6ms/step - loss: 4.6630 - mae: 4.6630\n",
            "Epoch 25/100\n",
            "2/2 [==============================] - 0s 7ms/step - loss: 4.4446 - mae: 4.4446\n",
            "Epoch 26/100\n",
            "2/2 [==============================] - 0s 7ms/step - loss: 4.3221 - mae: 4.3221\n",
            "Epoch 27/100\n",
            "2/2 [==============================] - 0s 6ms/step - loss: 4.1346 - mae: 4.1346\n",
            "Epoch 28/100\n",
            "2/2 [==============================] - 0s 6ms/step - loss: 3.9981 - mae: 3.9981\n",
            "Epoch 29/100\n",
            "2/2 [==============================] - 0s 6ms/step - loss: 3.8492 - mae: 3.8492\n",
            "Epoch 30/100\n",
            "2/2 [==============================] - 0s 7ms/step - loss: 3.7630 - mae: 3.7630\n",
            "Epoch 31/100\n",
            "2/2 [==============================] - 0s 6ms/step - loss: 3.7456 - mae: 3.7456\n",
            "Epoch 32/100\n",
            "2/2 [==============================] - 0s 11ms/step - loss: 3.9746 - mae: 3.9746\n",
            "Epoch 33/100\n",
            "2/2 [==============================] - 0s 6ms/step - loss: 3.3799 - mae: 3.3799\n",
            "Epoch 34/100\n",
            "2/2 [==============================] - 0s 11ms/step - loss: 3.3630 - mae: 3.3630\n",
            "Epoch 35/100\n",
            "2/2 [==============================] - 0s 7ms/step - loss: 3.0219 - mae: 3.0219\n",
            "Epoch 36/100\n",
            "2/2 [==============================] - 0s 5ms/step - loss: 3.0616 - mae: 3.0616\n",
            "Epoch 37/100\n",
            "2/2 [==============================] - 0s 5ms/step - loss: 2.8282 - mae: 2.8282\n",
            "Epoch 38/100\n",
            "2/2 [==============================] - 0s 5ms/step - loss: 2.7146 - mae: 2.7146\n",
            "Epoch 39/100\n",
            "2/2 [==============================] - 0s 5ms/step - loss: 2.6817 - mae: 2.6817\n",
            "Epoch 40/100\n",
            "2/2 [==============================] - 0s 6ms/step - loss: 2.5395 - mae: 2.5395\n",
            "Epoch 41/100\n",
            "2/2 [==============================] - 0s 5ms/step - loss: 2.5357 - mae: 2.5357\n",
            "Epoch 42/100\n",
            "2/2 [==============================] - 0s 7ms/step - loss: 2.6939 - mae: 2.6939\n",
            "Epoch 43/100\n",
            "2/2 [==============================] - 0s 6ms/step - loss: 2.0841 - mae: 2.0841\n",
            "Epoch 44/100\n",
            "2/2 [==============================] - 0s 7ms/step - loss: 2.1728 - mae: 2.1728\n",
            "Epoch 45/100\n",
            "2/2 [==============================] - 0s 6ms/step - loss: 1.7652 - mae: 1.7652\n",
            "Epoch 46/100\n",
            "2/2 [==============================] - 0s 6ms/step - loss: 1.9200 - mae: 1.9200\n",
            "Epoch 47/100\n",
            "2/2 [==============================] - 0s 5ms/step - loss: 1.5193 - mae: 1.5193\n",
            "Epoch 48/100\n",
            "2/2 [==============================] - 0s 6ms/step - loss: 1.4725 - mae: 1.4725\n",
            "Epoch 49/100\n",
            "2/2 [==============================] - 0s 5ms/step - loss: 1.1954 - mae: 1.1954\n",
            "Epoch 50/100\n",
            "2/2 [==============================] - 0s 6ms/step - loss: 0.9331 - mae: 0.9331\n",
            "Epoch 51/100\n",
            "2/2 [==============================] - 0s 7ms/step - loss: 0.8376 - mae: 0.8376\n",
            "Epoch 52/100\n",
            "2/2 [==============================] - 0s 11ms/step - loss: 0.6773 - mae: 0.6773\n",
            "Epoch 53/100\n",
            "2/2 [==============================] - 0s 6ms/step - loss: 0.8864 - mae: 0.8864\n",
            "Epoch 54/100\n",
            "2/2 [==============================] - 0s 10ms/step - loss: 0.8438 - mae: 0.8438\n",
            "Epoch 55/100\n",
            "2/2 [==============================] - 0s 7ms/step - loss: 0.7807 - mae: 0.7807\n",
            "Epoch 56/100\n",
            "2/2 [==============================] - 0s 11ms/step - loss: 0.7891 - mae: 0.7891\n",
            "Epoch 57/100\n",
            "2/2 [==============================] - 0s 6ms/step - loss: 0.3691 - mae: 0.3691\n",
            "Epoch 58/100\n",
            "2/2 [==============================] - 0s 5ms/step - loss: 0.1430 - mae: 0.1430\n",
            "Epoch 59/100\n",
            "2/2 [==============================] - 0s 6ms/step - loss: 0.2423 - mae: 0.2423\n",
            "Epoch 60/100\n",
            "2/2 [==============================] - 0s 5ms/step - loss: 0.1872 - mae: 0.1872\n",
            "Epoch 61/100\n",
            "2/2 [==============================] - 0s 8ms/step - loss: 0.1644 - mae: 0.1644\n",
            "Epoch 62/100\n",
            "2/2 [==============================] - 0s 5ms/step - loss: 0.4009 - mae: 0.4009\n",
            "Epoch 63/100\n",
            "2/2 [==============================] - 0s 5ms/step - loss: 0.3960 - mae: 0.3960\n",
            "Epoch 64/100\n",
            "2/2 [==============================] - 0s 5ms/step - loss: 0.6642 - mae: 0.6642\n",
            "Epoch 65/100\n",
            "2/2 [==============================] - 0s 5ms/step - loss: 0.2347 - mae: 0.2347\n",
            "Epoch 66/100\n",
            "2/2 [==============================] - 0s 6ms/step - loss: 0.8676 - mae: 0.8676\n",
            "Epoch 67/100\n",
            "2/2 [==============================] - 0s 5ms/step - loss: 1.0386 - mae: 1.0386\n",
            "Epoch 68/100\n",
            "2/2 [==============================] - 0s 5ms/step - loss: 0.9844 - mae: 0.9844\n",
            "Epoch 69/100\n",
            "2/2 [==============================] - 0s 6ms/step - loss: 1.3434 - mae: 1.3434\n",
            "Epoch 70/100\n",
            "2/2 [==============================] - 0s 5ms/step - loss: 1.7447 - mae: 1.7447\n",
            "Epoch 71/100\n",
            "2/2 [==============================] - 0s 5ms/step - loss: 0.3536 - mae: 0.3536\n",
            "Epoch 72/100\n",
            "2/2 [==============================] - 0s 5ms/step - loss: 1.4104 - mae: 1.4104\n",
            "Epoch 73/100\n",
            "2/2 [==============================] - 0s 5ms/step - loss: 0.4050 - mae: 0.4050\n",
            "Epoch 74/100\n",
            "2/2 [==============================] - 0s 6ms/step - loss: 1.1441 - mae: 1.1441\n",
            "Epoch 75/100\n",
            "2/2 [==============================] - 0s 6ms/step - loss: 0.4540 - mae: 0.4540\n",
            "Epoch 76/100\n",
            "2/2 [==============================] - 0s 6ms/step - loss: 0.3785 - mae: 0.3785\n",
            "Epoch 77/100\n",
            "2/2 [==============================] - 0s 5ms/step - loss: 0.7666 - mae: 0.7666\n",
            "Epoch 78/100\n",
            "2/2 [==============================] - 0s 5ms/step - loss: 0.7811 - mae: 0.7811\n",
            "Epoch 79/100\n",
            "2/2 [==============================] - 0s 6ms/step - loss: 0.5390 - mae: 0.5390\n",
            "Epoch 80/100\n",
            "2/2 [==============================] - 0s 7ms/step - loss: 0.3575 - mae: 0.3575\n",
            "Epoch 81/100\n",
            "2/2 [==============================] - 0s 6ms/step - loss: 0.1645 - mae: 0.1645\n",
            "Epoch 82/100\n",
            "2/2 [==============================] - 0s 6ms/step - loss: 1.1031 - mae: 1.1031\n",
            "Epoch 83/100\n",
            "2/2 [==============================] - 0s 6ms/step - loss: 0.3254 - mae: 0.3254\n",
            "Epoch 84/100\n",
            "2/2 [==============================] - 0s 6ms/step - loss: 1.9048 - mae: 1.9048\n",
            "Epoch 85/100\n",
            "2/2 [==============================] - 0s 6ms/step - loss: 1.0939 - mae: 1.0939\n",
            "Epoch 86/100\n",
            "2/2 [==============================] - 0s 9ms/step - loss: 1.7412 - mae: 1.7412\n",
            "Epoch 87/100\n",
            "2/2 [==============================] - 0s 5ms/step - loss: 2.6246 - mae: 2.6246\n",
            "Epoch 88/100\n",
            "2/2 [==============================] - 0s 5ms/step - loss: 1.1095 - mae: 1.1095\n",
            "Epoch 89/100\n",
            "2/2 [==============================] - 0s 5ms/step - loss: 1.1734 - mae: 1.1734\n",
            "Epoch 90/100\n",
            "2/2 [==============================] - 0s 5ms/step - loss: 0.7337 - mae: 0.7337\n",
            "Epoch 91/100\n",
            "2/2 [==============================] - 0s 6ms/step - loss: 0.4228 - mae: 0.4228\n",
            "Epoch 92/100\n",
            "2/2 [==============================] - 0s 6ms/step - loss: 0.7026 - mae: 0.7026\n",
            "Epoch 93/100\n",
            "2/2 [==============================] - 0s 5ms/step - loss: 0.5151 - mae: 0.5151\n",
            "Epoch 94/100\n",
            "2/2 [==============================] - 0s 5ms/step - loss: 0.4410 - mae: 0.4410\n",
            "Epoch 95/100\n",
            "2/2 [==============================] - 0s 5ms/step - loss: 0.8420 - mae: 0.8420\n",
            "Epoch 96/100\n",
            "2/2 [==============================] - 0s 7ms/step - loss: 0.6215 - mae: 0.6215\n",
            "Epoch 97/100\n",
            "2/2 [==============================] - 0s 6ms/step - loss: 1.4342 - mae: 1.4342\n",
            "Epoch 98/100\n",
            "2/2 [==============================] - 0s 6ms/step - loss: 1.9258 - mae: 1.9258\n",
            "Epoch 99/100\n",
            "2/2 [==============================] - 0s 6ms/step - loss: 0.6175 - mae: 0.6175\n",
            "Epoch 100/100\n",
            "2/2 [==============================] - 0s 5ms/step - loss: 1.4784 - mae: 1.4784\n"
          ]
        },
        {
          "output_type": "execute_result",
          "data": {
            "text/plain": [
              "<keras.callbacks.History at 0x7faeacc63400>"
            ]
          },
          "metadata": {},
          "execution_count": 27
        }
      ]
    },
    {
      "cell_type": "code",
      "source": [
        "y_preds_3=model_3.predict(X_test)"
      ],
      "metadata": {
        "colab": {
          "base_uri": "https://localhost:8080/"
        },
        "id": "Uys8RIKsBiZ1",
        "outputId": "6d10b644-7aaa-46ed-fe5f-d54a2ec49209"
      },
      "execution_count": 28,
      "outputs": [
        {
          "output_type": "stream",
          "name": "stderr",
          "text": [
            "WARNING:tensorflow:6 out of the last 6 calls to <function Model.make_predict_function.<locals>.predict_function at 0x7faead69dcf0> triggered tf.function retracing. Tracing is expensive and the excessive number of tracings could be due to (1) creating @tf.function repeatedly in a loop, (2) passing tensors with different shapes, (3) passing Python objects instead of tensors. For (1), please define your @tf.function outside of the loop. For (2), @tf.function has reduce_retracing=True option that can avoid unnecessary retracing. For (3), please refer to https://www.tensorflow.org/guide/function#controlling_retracing and https://www.tensorflow.org/api_docs/python/tf/function for  more details.\n"
          ]
        },
        {
          "output_type": "stream",
          "name": "stdout",
          "text": [
            "1/1 [==============================] - 0s 60ms/step\n"
          ]
        }
      ]
    },
    {
      "cell_type": "code",
      "source": [
        "plot_predictions(train_data=X_train,\n",
        "                 train_labels=y_train,\n",
        "                 test_data=X_test,\n",
        "                 test_labels=y_test,\n",
        "                 predictions=y_preds_3)"
      ],
      "metadata": {
        "colab": {
          "base_uri": "https://localhost:8080/",
          "height": 599
        },
        "id": "XI4HeKuJBsXp",
        "outputId": "19b84a2b-434a-4b4f-e786-d064c50a7624"
      },
      "execution_count": 29,
      "outputs": [
        {
          "output_type": "display_data",
          "data": {
            "text/plain": [
              "<Figure size 1000x700 with 1 Axes>"
            ],
            "image/png": "[encoded data removed]"
          },
          "metadata": {}
        }
      ]
    },
    {
      "cell_type": "code",
      "source": [],
      "metadata": {
        "id": "Te5ck8WiBvgk"
      },
      "execution_count": 29,
      "outputs": []
    },
    {
      "cell_type": "code",
      "source": [
        "mae_3 = mae(y_test, y_preds_3.squeeze()).numpy()\n",
        "mse_3 = mse(y_test, y_preds_3.squeeze()).numpy()\n",
        "mae_3, mse_3"
      ],
      "metadata": {
        "colab": {
          "base_uri": "https://localhost:8080/"
        },
        "id": "nRNNUe9iC5u-",
        "outputId": "bf6a0bd8-68cc-4afb-a92e-fe9bb4b65261"
      },
      "execution_count": 30,
      "outputs": [
        {
          "output_type": "execute_result",
          "data": {
            "text/plain": [
              "(1.4616845, 2.185616)"
            ]
          },
          "metadata": {},
          "execution_count": 30
        }
      ]
    },
    {
      "cell_type": "code",
      "source": [
        "model_results = [[\"model_1\", mae_1, mse_1],\n",
        "                 [\"model_2\", mae_2, mse_2],\n",
        "                 [\"model_3\", mae_3, mse_3]]"
      ],
      "metadata": {
        "id": "cN9hjg6EDABa"
      },
      "execution_count": 33,
      "outputs": []
    },
    {
      "cell_type": "code",
      "source": [
        "\n",
        "import pandas as pd\n",
        "all_results = pd.DataFrame(model_results, columns=[\"model\", \"mae\", \"mse\"])\n",
        "all_results"
      ],
      "metadata": {
        "colab": {
          "base_uri": "https://localhost:8080/",
          "height": 143
        },
        "id": "WtbNIsUpxyRo",
        "outputId": "03a5ecaa-0b23-449a-bab7-ad3b8bb6f819"
      },
      "execution_count": 34,
      "outputs": [
        {
          "output_type": "execute_result",
          "data": {
            "text/plain": [
              "     model        mae         mse\n",
              "0  model_1   1.581703    2.556847\n",
              "1  model_2  29.902582  925.551453\n",
              "2  model_3   1.461684    2.185616"
            ],
            "text/html": [
              "\n",
              "  <div id=\"df-20c222f5-5003-43c9-bb8f-78761c03f9f3\">\n",
              "    <div class=\"colab-df-container\">\n",
              "      <div>\n",
              "<style scoped>\n",
              "    .dataframe tbody tr th:only-of-type {\n",
              "        vertical-align: middle;\n",
              "    }\n",
              "\n",
              "    .dataframe tbody tr th {\n",
              "        vertical-align: top;\n",
              "    }\n",
              "\n",
              "    .dataframe thead th {\n",
              "        text-align: right;\n",
              "    }\n",
              "</style>\n",
              "<table border=\"1\" class=\"dataframe\">\n",
              "  <thead>\n",
              "    <tr style=\"text-align: right;\">\n",
              "      <th></th>\n",
              "      <th>model</th>\n",
              "      <th>mae</th>\n",
              "      <th>mse</th>\n",
              "    </tr>\n",
              "  </thead>\n",
              "  <tbody>\n",
              "    <tr>\n",
              "      <th>0</th>\n",
              "      <td>model_1</td>\n",
              "      <td>1.581703</td>\n",
              "      <td>2.556847</td>\n",
              "    </tr>\n",
              "    <tr>\n",
              "      <th>1</th>\n",
              "      <td>model_2</td>\n",
              "      <td>29.902582</td>\n",
              "      <td>925.551453</td>\n",
              "    </tr>\n",
              "    <tr>\n",
              "      <th>2</th>\n",
              "      <td>model_3</td>\n",
              "      <td>1.461684</td>\n",
              "      <td>2.185616</td>\n",
              "    </tr>\n",
              "  </tbody>\n",
              "</table>\n",
              "</div>\n",
              "      <button class=\"colab-df-convert\" onclick=\"convertToInteractive('df-20c222f5-5003-43c9-bb8f-78761c03f9f3')\"\n",
              "              title=\"Convert this dataframe to an interactive table.\"\n",
              "              style=\"display:none;\">\n",
              "        \n",
              "  <svg xmlns=\"http://www.w3.org/2000/svg\" height=\"24px\"viewBox=\"0 0 24 24\"\n",
              "       width=\"24px\">\n",
              "    <path d=\"M0 0h24v24H0V0z\" fill=\"none\"/>\n",
              "    <path d=\"M18.56 5.44l.94 2.06.94-2.06 2.06-.94-2.06-.94-.94-2.06-.94 2.06-2.06.94zm-11 1L8.5 8.5l.94-2.06 2.06-.94-2.06-.94L8.5 2.5l-.94 2.06-2.06.94zm10 10l.94 2.06.94-2.06 2.06-.94-2.06-.94-.94-2.06-.94 2.06-2.06.94z\"/><path d=\"M17.41 7.96l-1.37-1.37c-.4-.4-.92-.59-1.43-.59-.52 0-1.04.2-1.43.59L10.3 9.45l-7.72 7.72c-.78.78-.78 2.05 0 2.83L4 21.41c.39.39.9.59 1.41.59.51 0 1.02-.2 1.41-.59l7.78-7.78 2.81-2.81c.8-.78.8-2.07 0-2.86zM5.41 20L4 18.59l7.72-7.72 1.47 1.35L5.41 20z\"/>\n",
              "  </svg>\n",
              "      </button>\n",
              "      \n",
              "  <style>\n",
              "    .colab-df-container {\n",
              "      display:flex;\n",
              "      flex-wrap:wrap;\n",
              "      gap: 12px;\n",
              "    }\n",
              "\n",
              "    .colab-df-convert {\n",
              "      background-color: #E8F0FE;\n",
              "      border: none;\n",
              "      border-radius: 50%;\n",
              "      cursor: pointer;\n",
              "      display: none;\n",
              "      fill: #1967D2;\n",
              "      height: 32px;\n",
              "      padding: 0 0 0 0;\n",
              "      width: 32px;\n",
              "    }\n",
              "\n",
              "    .colab-df-convert:hover {\n",
              "      background-color: #E2EBFA;\n",
              "      box-shadow: 0px 1px 2px rgba(60, 64, 67, 0.3), 0px 1px 3px 1px rgba(60, 64, 67, 0.15);\n",
              "      fill: #174EA6;\n",
              "    }\n",
              "\n",
              "    [theme=dark] .colab-df-convert {\n",
              "      background-color: #3B4455;\n",
              "      fill: #D2E3FC;\n",
              "    }\n",
              "\n",
              "    [theme=dark] .colab-df-convert:hover {\n",
              "      background-color: #434B5C;\n",
              "      box-shadow: 0px 1px 3px 1px rgba(0, 0, 0, 0.15);\n",
              "      filter: drop-shadow(0px 1px 2px rgba(0, 0, 0, 0.3));\n",
              "      fill: #FFFFFF;\n",
              "    }\n",
              "  </style>\n",
              "\n",
              "      <script>\n",
              "        const buttonEl =\n",
              "          document.querySelector('#df-20c222f5-5003-43c9-bb8f-78761c03f9f3 button.colab-df-convert');\n",
              "        buttonEl.style.display =\n",
              "          google.colab.kernel.accessAllowed ? 'block' : 'none';\n",
              "\n",
              "        async function convertToInteractive(key) {\n",
              "          const element = document.querySelector('#df-20c222f5-5003-43c9-bb8f-78761c03f9f3');\n",
              "          const dataTable =\n",
              "            await google.colab.kernel.invokeFunction('convertToInteractive',\n",
              "                                                     [key], {});\n",
              "          if (!dataTable) return;\n",
              "\n",
              "          const docLinkHtml = 'Like what you see? Visit the ' +\n",
              "            '<a target=\"_blank\" href=https://colab.research.google.com/notebooks/data_table.ipynb>data table notebook</a>'\n",
              "            + ' to learn more about interactive tables.';\n",
              "          element.innerHTML = '';\n",
              "          dataTable['output_type'] = 'display_data';\n",
              "          await google.colab.output.renderOutput(dataTable, element);\n",
              "          const docLink = document.createElement('div');\n",
              "          docLink.innerHTML = docLinkHtml;\n",
              "          element.appendChild(docLink);\n",
              "        }\n",
              "      </script>\n",
              "    </div>\n",
              "  </div>\n",
              "  "
            ]
          },
          "metadata": {},
          "execution_count": 34
        }
      ]
    },
    {
      "cell_type": "code",
      "source": [],
      "metadata": {
        "id": "Y9n9sfgfy4sm"
      },
      "execution_count": null,
      "outputs": []
    }
  ]
}