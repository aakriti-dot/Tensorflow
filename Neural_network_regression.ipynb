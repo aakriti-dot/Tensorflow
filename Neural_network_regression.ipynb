{
  "nbformat": 4,
  "nbformat_minor": 0,
  "metadata": {
    "colab": {
      "provenance": [],
      "authorship_tag": "ABX9TyNQ1HQ0vSju2UrAVRztdHVH"
    },
    "kernelspec": {
      "name": "python3",
      "display_name": "Python 3"
    },
    "language_info": {
      "name": "python"
    }
  },
  "cells": [
    {
      "cell_type": "markdown",
      "source": [
        "Architecture of a neural netwrok regression.\n",
        "1. Input layer shape - Same shape as number of features.\n",
        "2. Hidden layer - minimum:1 , maximum: unlimited.\n",
        "3. Neurons per hidden layer - Problem specific, generally 10 to 100.\n",
        "4. Output layer shape : Same shape as desired predition shape.\n",
        "5. Hidden activation - Usually ReLU\n",
        "6. Output activation - None, ReLU, logistic/tanh\n",
        "7. Loss function - MSE, MAE if outliers\n",
        "8. Optimizer - SGD, Adam"
      ],
      "metadata": {
        "id": "lVFoa14OWJV1"
      }
    },
    {
      "cell_type": "code",
      "source": [
        "import tensorflow as tf\n",
        "print(tf.__version__)"
      ],
      "metadata": {
        "colab": {
          "base_uri": "https://localhost:8080/"
        },
        "id": "0wxEXxYbXLli",
        "outputId": "92f14309-1976-4ff1-88d9-fdbb34a56b7f"
      },
      "execution_count": 1,
      "outputs": [
        {
          "output_type": "stream",
          "name": "stdout",
          "text": [
            "2.12.0\n"
          ]
        }
      ]
    },
    {
      "cell_type": "code",
      "source": [
        "house_info = tf.constant(['bedroom', 'bathroom', 'garage'])\n",
        "house_price = tf.constant([939700])\n",
        "house_info, house_price"
      ],
      "metadata": {
        "colab": {
          "base_uri": "https://localhost:8080/"
        },
        "id": "7vQnye9N_ApT",
        "outputId": "8c98dd3e-c89c-459e-cd72-b4a5661f6787"
      },
      "execution_count": 2,
      "outputs": [
        {
          "output_type": "execute_result",
          "data": {
            "text/plain": [
              "(<tf.Tensor: shape=(3,), dtype=string, numpy=array([b'bedroom', b'bathroom', b'garage'], dtype=object)>,\n",
              " <tf.Tensor: shape=(1,), dtype=int32, numpy=array([939700], dtype=int32)>)"
            ]
          },
          "metadata": {},
          "execution_count": 2
        }
      ]
    },
    {
      "cell_type": "markdown",
      "source": [
        "## Steps in modelling with tensorflow\n",
        "1. **Creating a model** - define the input and output layers as well as the hidden layers.\n",
        "2. **Compiling a model** - define the loss function, optimizer, evaluation metrics.\n",
        "3. Fitting a model - Letting a model to try to find patterns between features and labels."
      ],
      "metadata": {
        "id": "EHtObwKHEmns"
      }
    },
    {
      "cell_type": "code",
      "source": [
        "import numpy as np\n",
        "X = np.array([-7.0, -4.0, -1.0, 2.0, 5.0, 8.0, 11.0, 14.0])\n",
        "y = np.array( [3.0, 6.0, 9.0, 12.0, 15.0, 18.0, 21.0, 24.0])\n",
        "\n",
        "\n",
        "X = tf.constant(X)\n",
        "y = tf.constant(y)\n",
        "\n",
        "X,y"
      ],
      "metadata": {
        "colab": {
          "base_uri": "https://localhost:8080/"
        },
        "id": "EQpnzKZyFaTv",
        "outputId": "8eaadd4f-2ba8-4c45-ac9b-a9a7c419d896"
      },
      "execution_count": 3,
      "outputs": [
        {
          "output_type": "execute_result",
          "data": {
            "text/plain": [
              "(<tf.Tensor: shape=(8,), dtype=float64, numpy=array([-7., -4., -1.,  2.,  5.,  8., 11., 14.])>,\n",
              " <tf.Tensor: shape=(8,), dtype=float64, numpy=array([ 3.,  6.,  9., 12., 15., 18., 21., 24.])>)"
            ]
          },
          "metadata": {},
          "execution_count": 3
        }
      ]
    },
    {
      "cell_type": "code",
      "source": [
        "tf.random.set_seed(42)\n",
        "\n",
        "#create a model using sequential API\n",
        "model = tf.keras.Sequential()\n",
        "model.add(tf.keras.layers.Dense(1))\n",
        "\n",
        "#Compiling model\n",
        "model.compile(loss=tf.keras.losses.mae,\n",
        "              optimizer=tf.keras.optimizers.SGD(),\n",
        "              metrics=['mae'])\n",
        "\n",
        "model.fit(tf.expand_dims(X, axis=-1), y, epochs=10)"
      ],
      "metadata": {
        "colab": {
          "base_uri": "https://localhost:8080/"
        },
        "id": "EPIXAZkFJLOZ",
        "outputId": "e4bd3f1c-5caf-45e1-e9e8-a0a2cdc70ecc"
      },
      "execution_count": 4,
      "outputs": [
        {
          "output_type": "stream",
          "name": "stdout",
          "text": [
            "Epoch 1/10\n",
            "1/1 [==============================] - 1s 1s/step - loss: 15.2406 - mae: 15.2406\n",
            "Epoch 2/10\n",
            "1/1 [==============================] - 0s 24ms/step - loss: 14.9692 - mae: 14.9692\n",
            "Epoch 3/10\n",
            "1/1 [==============================] - 0s 31ms/step - loss: 14.8367 - mae: 14.8367\n",
            "Epoch 4/10\n",
            "1/1 [==============================] - 0s 17ms/step - loss: 14.7042 - mae: 14.7042\n",
            "Epoch 5/10\n",
            "1/1 [==============================] - 0s 22ms/step - loss: 14.5717 - mae: 14.5717\n",
            "Epoch 6/10\n",
            "1/1 [==============================] - 0s 17ms/step - loss: 14.4392 - mae: 14.4392\n",
            "Epoch 7/10\n",
            "1/1 [==============================] - 0s 43ms/step - loss: 14.3067 - mae: 14.3067\n",
            "Epoch 8/10\n",
            "1/1 [==============================] - 0s 22ms/step - loss: 14.1742 - mae: 14.1742\n",
            "Epoch 9/10\n",
            "1/1 [==============================] - 0s 21ms/step - loss: 14.0417 - mae: 14.0417\n",
            "Epoch 10/10\n",
            "1/1 [==============================] - 0s 26ms/step - loss: 13.9092 - mae: 13.9092\n"
          ]
        },
        {
          "output_type": "execute_result",
          "data": {
            "text/plain": [
              "<keras.callbacks.History at 0x7f5d4d67b130>"
            ]
          },
          "metadata": {},
          "execution_count": 4
        }
      ]
    },
    {
      "cell_type": "code",
      "source": [
        "model.predict([17.0])"
      ],
      "metadata": {
        "colab": {
          "base_uri": "https://localhost:8080/"
        },
        "id": "MO0gpDK-Ilie",
        "outputId": "72e21449-0124-4f60-bece-b9982347dfb5"
      },
      "execution_count": 5,
      "outputs": [
        {
          "output_type": "stream",
          "name": "stdout",
          "text": [
            "1/1 [==============================] - 0s 382ms/step\n"
          ]
        },
        {
          "output_type": "execute_result",
          "data": {
            "text/plain": [
              "array([[-1.7198721]], dtype=float32)"
            ]
          },
          "metadata": {},
          "execution_count": 5
        }
      ]
    },
    {
      "cell_type": "markdown",
      "source": [
        "### Improving the model\n",
        "\n",
        "1. Creating a model - Here we can **add more layers**, increase the number of hidden units with each of the hidden layers, **change the activation functions** of each layer.\n",
        "2. Compiling a model - Change the optimization function or maybe the **learning rate** of the function.\n",
        "3. Fitting a model - Fit the model for **more epochs**.\n",
        "\n",
        "\n",
        "The lower the learning rate, the smaller the steps the optimizer tells the neural network to improve."
      ],
      "metadata": {
        "id": "3wSOKTakGPPe"
      }
    },
    {
      "cell_type": "code",
      "source": [
        "model = tf.keras.Sequential([\n",
        "    tf.keras.layers.Dense(1)\n",
        "])\n",
        "\n",
        "model.compile(loss=tf.keras.losses.mae,\n",
        "              optimizer=tf.keras.optimizers.SGD(),\n",
        "              metrics=['mae'])\n",
        "\n",
        "model.fit(tf.expand_dims(X, axis=-1), y, epochs=100)\n"
      ],
      "metadata": {
        "colab": {
          "base_uri": "https://localhost:8080/"
        },
        "id": "1lK7SErVLJSu",
        "outputId": "f2883972-4386-4cc8-c968-dca96a2de370"
      },
      "execution_count": 6,
      "outputs": [
        {
          "output_type": "stream",
          "name": "stdout",
          "text": [
            "Epoch 1/100\n",
            "1/1 [==============================] - 2s 2s/step - loss: 16.7010 - mae: 16.7010\n",
            "Epoch 2/100\n",
            "1/1 [==============================] - 0s 16ms/step - loss: 16.4198 - mae: 16.4198\n",
            "Epoch 3/100\n",
            "1/1 [==============================] - 0s 22ms/step - loss: 16.1385 - mae: 16.1385\n",
            "Epoch 4/100\n",
            "1/1 [==============================] - 0s 13ms/step - loss: 15.8573 - mae: 15.8573\n",
            "Epoch 5/100\n",
            "1/1 [==============================] - 0s 15ms/step - loss: 15.5760 - mae: 15.5760\n",
            "Epoch 6/100\n",
            "1/1 [==============================] - 0s 10ms/step - loss: 15.2948 - mae: 15.2948\n",
            "Epoch 7/100\n",
            "1/1 [==============================] - 0s 43ms/step - loss: 15.0135 - mae: 15.0135\n",
            "Epoch 8/100\n",
            "1/1 [==============================] - 0s 13ms/step - loss: 14.7953 - mae: 14.7953\n",
            "Epoch 9/100\n",
            "1/1 [==============================] - 0s 14ms/step - loss: 14.6628 - mae: 14.6628\n",
            "Epoch 10/100\n",
            "1/1 [==============================] - 0s 16ms/step - loss: 14.5303 - mae: 14.5303\n",
            "Epoch 11/100\n",
            "1/1 [==============================] - 0s 14ms/step - loss: 14.3978 - mae: 14.3978\n",
            "Epoch 12/100\n",
            "1/1 [==============================] - 0s 57ms/step - loss: 14.2653 - mae: 14.2653\n",
            "Epoch 13/100\n",
            "1/1 [==============================] - 0s 26ms/step - loss: 14.1328 - mae: 14.1328\n",
            "Epoch 14/100\n",
            "1/1 [==============================] - 0s 24ms/step - loss: 14.0003 - mae: 14.0003\n",
            "Epoch 15/100\n",
            "1/1 [==============================] - 0s 17ms/step - loss: 13.8678 - mae: 13.8678\n",
            "Epoch 16/100\n",
            "1/1 [==============================] - 0s 15ms/step - loss: 13.7353 - mae: 13.7353\n",
            "Epoch 17/100\n",
            "1/1 [==============================] - 0s 14ms/step - loss: 13.6028 - mae: 13.6028\n",
            "Epoch 18/100\n",
            "1/1 [==============================] - 0s 15ms/step - loss: 13.4703 - mae: 13.4703\n",
            "Epoch 19/100\n",
            "1/1 [==============================] - 0s 24ms/step - loss: 13.3378 - mae: 13.3378\n",
            "Epoch 20/100\n",
            "1/1 [==============================] - 0s 14ms/step - loss: 13.2053 - mae: 13.2053\n",
            "Epoch 21/100\n",
            "1/1 [==============================] - 0s 21ms/step - loss: 13.0728 - mae: 13.0728\n",
            "Epoch 22/100\n",
            "1/1 [==============================] - 0s 13ms/step - loss: 12.9403 - mae: 12.9403\n",
            "Epoch 23/100\n",
            "1/1 [==============================] - 0s 16ms/step - loss: 12.8078 - mae: 12.8078\n",
            "Epoch 24/100\n",
            "1/1 [==============================] - 0s 11ms/step - loss: 12.6753 - mae: 12.6753\n",
            "Epoch 25/100\n",
            "1/1 [==============================] - 0s 22ms/step - loss: 12.5428 - mae: 12.5428\n",
            "Epoch 26/100\n",
            "1/1 [==============================] - 0s 14ms/step - loss: 12.4103 - mae: 12.4103\n",
            "Epoch 27/100\n",
            "1/1 [==============================] - 0s 10ms/step - loss: 12.2778 - mae: 12.2778\n",
            "Epoch 28/100\n",
            "1/1 [==============================] - 0s 10ms/step - loss: 12.1453 - mae: 12.1453\n",
            "Epoch 29/100\n",
            "1/1 [==============================] - 0s 16ms/step - loss: 12.0128 - mae: 12.0128\n",
            "Epoch 30/100\n",
            "1/1 [==============================] - 0s 14ms/step - loss: 11.8803 - mae: 11.8803\n",
            "Epoch 31/100\n",
            "1/1 [==============================] - 0s 14ms/step - loss: 11.7478 - mae: 11.7478\n",
            "Epoch 32/100\n",
            "1/1 [==============================] - 0s 14ms/step - loss: 11.6153 - mae: 11.6153\n",
            "Epoch 33/100\n",
            "1/1 [==============================] - 0s 14ms/step - loss: 11.4828 - mae: 11.4828\n",
            "Epoch 34/100\n",
            "1/1 [==============================] - 0s 13ms/step - loss: 11.3503 - mae: 11.3503\n",
            "Epoch 35/100\n",
            "1/1 [==============================] - 0s 17ms/step - loss: 11.2178 - mae: 11.2178\n",
            "Epoch 36/100\n",
            "1/1 [==============================] - 0s 15ms/step - loss: 11.0853 - mae: 11.0853\n",
            "Epoch 37/100\n",
            "1/1 [==============================] - 0s 16ms/step - loss: 10.9528 - mae: 10.9528\n",
            "Epoch 38/100\n",
            "1/1 [==============================] - 0s 16ms/step - loss: 10.8203 - mae: 10.8203\n",
            "Epoch 39/100\n",
            "1/1 [==============================] - 0s 18ms/step - loss: 10.6878 - mae: 10.6878\n",
            "Epoch 40/100\n",
            "1/1 [==============================] - 0s 19ms/step - loss: 10.5553 - mae: 10.5553\n",
            "Epoch 41/100\n",
            "1/1 [==============================] - 0s 20ms/step - loss: 10.4228 - mae: 10.4228\n",
            "Epoch 42/100\n",
            "1/1 [==============================] - 0s 13ms/step - loss: 10.2903 - mae: 10.2903\n",
            "Epoch 43/100\n",
            "1/1 [==============================] - 0s 30ms/step - loss: 10.1578 - mae: 10.1578\n",
            "Epoch 44/100\n",
            "1/1 [==============================] - 0s 32ms/step - loss: 10.0253 - mae: 10.0253\n",
            "Epoch 45/100\n",
            "1/1 [==============================] - 0s 16ms/step - loss: 9.8928 - mae: 9.8928\n",
            "Epoch 46/100\n",
            "1/1 [==============================] - 0s 18ms/step - loss: 9.7603 - mae: 9.7603\n",
            "Epoch 47/100\n",
            "1/1 [==============================] - 0s 24ms/step - loss: 9.6278 - mae: 9.6278\n",
            "Epoch 48/100\n",
            "1/1 [==============================] - 0s 17ms/step - loss: 9.4953 - mae: 9.4953\n",
            "Epoch 49/100\n",
            "1/1 [==============================] - 0s 32ms/step - loss: 9.3628 - mae: 9.3628\n",
            "Epoch 50/100\n",
            "1/1 [==============================] - 0s 32ms/step - loss: 9.2303 - mae: 9.2303\n",
            "Epoch 51/100\n",
            "1/1 [==============================] - 0s 19ms/step - loss: 9.0978 - mae: 9.0978\n",
            "Epoch 52/100\n",
            "1/1 [==============================] - 0s 26ms/step - loss: 8.9653 - mae: 8.9653\n",
            "Epoch 53/100\n",
            "1/1 [==============================] - 0s 20ms/step - loss: 8.8328 - mae: 8.8328\n",
            "Epoch 54/100\n",
            "1/1 [==============================] - 0s 21ms/step - loss: 8.7003 - mae: 8.7003\n",
            "Epoch 55/100\n",
            "1/1 [==============================] - 0s 16ms/step - loss: 8.5678 - mae: 8.5678\n",
            "Epoch 56/100\n",
            "1/1 [==============================] - 0s 11ms/step - loss: 8.4353 - mae: 8.4353\n",
            "Epoch 57/100\n",
            "1/1 [==============================] - 0s 11ms/step - loss: 8.3028 - mae: 8.3028\n",
            "Epoch 58/100\n",
            "1/1 [==============================] - 0s 11ms/step - loss: 8.1703 - mae: 8.1703\n",
            "Epoch 59/100\n",
            "1/1 [==============================] - 0s 13ms/step - loss: 8.0378 - mae: 8.0378\n",
            "Epoch 60/100\n",
            "1/1 [==============================] - 0s 17ms/step - loss: 7.9053 - mae: 7.9053\n",
            "Epoch 61/100\n",
            "1/1 [==============================] - 0s 18ms/step - loss: 7.7728 - mae: 7.7728\n",
            "Epoch 62/100\n",
            "1/1 [==============================] - 0s 18ms/step - loss: 7.6403 - mae: 7.6403\n",
            "Epoch 63/100\n",
            "1/1 [==============================] - 0s 25ms/step - loss: 7.5078 - mae: 7.5078\n",
            "Epoch 64/100\n",
            "1/1 [==============================] - 0s 19ms/step - loss: 7.3753 - mae: 7.3753\n",
            "Epoch 65/100\n",
            "1/1 [==============================] - 0s 19ms/step - loss: 7.2428 - mae: 7.2428\n",
            "Epoch 66/100\n",
            "1/1 [==============================] - 0s 30ms/step - loss: 7.1103 - mae: 7.1103\n",
            "Epoch 67/100\n",
            "1/1 [==============================] - 0s 25ms/step - loss: 7.0181 - mae: 7.0181\n",
            "Epoch 68/100\n",
            "1/1 [==============================] - 0s 25ms/step - loss: 7.0125 - mae: 7.0125\n",
            "Epoch 69/100\n",
            "1/1 [==============================] - 0s 37ms/step - loss: 7.0069 - mae: 7.0069\n",
            "Epoch 70/100\n",
            "1/1 [==============================] - 0s 24ms/step - loss: 7.0013 - mae: 7.0013\n",
            "Epoch 71/100\n",
            "1/1 [==============================] - 0s 25ms/step - loss: 6.9956 - mae: 6.9956\n",
            "Epoch 72/100\n",
            "1/1 [==============================] - 0s 15ms/step - loss: 6.9900 - mae: 6.9900\n",
            "Epoch 73/100\n",
            "1/1 [==============================] - 0s 12ms/step - loss: 6.9844 - mae: 6.9844\n",
            "Epoch 74/100\n",
            "1/1 [==============================] - 0s 16ms/step - loss: 6.9788 - mae: 6.9788\n",
            "Epoch 75/100\n",
            "1/1 [==============================] - 0s 18ms/step - loss: 6.9731 - mae: 6.9731\n",
            "Epoch 76/100\n",
            "1/1 [==============================] - 0s 22ms/step - loss: 6.9675 - mae: 6.9675\n",
            "Epoch 77/100\n",
            "1/1 [==============================] - 0s 9ms/step - loss: 6.9619 - mae: 6.9619\n",
            "Epoch 78/100\n",
            "1/1 [==============================] - 0s 14ms/step - loss: 6.9563 - mae: 6.9563\n",
            "Epoch 79/100\n",
            "1/1 [==============================] - 0s 25ms/step - loss: 6.9506 - mae: 6.9506\n",
            "Epoch 80/100\n",
            "1/1 [==============================] - 0s 11ms/step - loss: 6.9450 - mae: 6.9450\n",
            "Epoch 81/100\n",
            "1/1 [==============================] - 0s 12ms/step - loss: 6.9394 - mae: 6.9394\n",
            "Epoch 82/100\n",
            "1/1 [==============================] - 0s 16ms/step - loss: 6.9338 - mae: 6.9338\n",
            "Epoch 83/100\n",
            "1/1 [==============================] - 0s 20ms/step - loss: 6.9281 - mae: 6.9281\n",
            "Epoch 84/100\n",
            "1/1 [==============================] - 0s 21ms/step - loss: 6.9225 - mae: 6.9225\n",
            "Epoch 85/100\n",
            "1/1 [==============================] - 0s 11ms/step - loss: 6.9169 - mae: 6.9169\n",
            "Epoch 86/100\n",
            "1/1 [==============================] - 0s 17ms/step - loss: 6.9113 - mae: 6.9113\n",
            "Epoch 87/100\n",
            "1/1 [==============================] - 0s 20ms/step - loss: 6.9056 - mae: 6.9056\n",
            "Epoch 88/100\n",
            "1/1 [==============================] - 0s 15ms/step - loss: 6.9000 - mae: 6.9000\n",
            "Epoch 89/100\n",
            "1/1 [==============================] - 0s 16ms/step - loss: 6.8944 - mae: 6.8944\n",
            "Epoch 90/100\n",
            "1/1 [==============================] - 0s 23ms/step - loss: 6.8888 - mae: 6.8888\n",
            "Epoch 91/100\n",
            "1/1 [==============================] - 0s 12ms/step - loss: 6.8831 - mae: 6.8831\n",
            "Epoch 92/100\n",
            "1/1 [==============================] - 0s 19ms/step - loss: 6.8775 - mae: 6.8775\n",
            "Epoch 93/100\n",
            "1/1 [==============================] - 0s 14ms/step - loss: 6.8719 - mae: 6.8719\n",
            "Epoch 94/100\n",
            "1/1 [==============================] - 0s 17ms/step - loss: 6.8663 - mae: 6.8663\n",
            "Epoch 95/100\n",
            "1/1 [==============================] - 0s 19ms/step - loss: 6.8606 - mae: 6.8606\n",
            "Epoch 96/100\n",
            "1/1 [==============================] - 0s 21ms/step - loss: 6.8550 - mae: 6.8550\n",
            "Epoch 97/100\n",
            "1/1 [==============================] - 0s 12ms/step - loss: 6.8494 - mae: 6.8494\n",
            "Epoch 98/100\n",
            "1/1 [==============================] - 0s 16ms/step - loss: 6.8438 - mae: 6.8438\n",
            "Epoch 99/100\n",
            "1/1 [==============================] - 0s 13ms/step - loss: 6.8381 - mae: 6.8381\n",
            "Epoch 100/100\n",
            "1/1 [==============================] - 0s 12ms/step - loss: 6.8325 - mae: 6.8325\n"
          ]
        },
        {
          "output_type": "execute_result",
          "data": {
            "text/plain": [
              "<keras.callbacks.History at 0x7f5d4ccafeb0>"
            ]
          },
          "metadata": {},
          "execution_count": 6
        }
      ]
    },
    {
      "cell_type": "code",
      "source": [
        "model.predict([17.0])"
      ],
      "metadata": {
        "colab": {
          "base_uri": "https://localhost:8080/"
        },
        "id": "TzO9Iws1OEFV",
        "outputId": "207c9783-d280-47d8-8e52-a37b41f868e6"
      },
      "execution_count": 7,
      "outputs": [
        {
          "output_type": "stream",
          "name": "stdout",
          "text": [
            "1/1 [==============================] - 0s 108ms/step\n"
          ]
        },
        {
          "output_type": "execute_result",
          "data": {
            "text/plain": [
              "array([[29.45618]], dtype=float32)"
            ]
          },
          "metadata": {},
          "execution_count": 7
        }
      ]
    },
    {
      "cell_type": "code",
      "source": [
        "model = tf.keras.Sequential([\n",
        "    tf.keras.layers.Dense(1)\n",
        "])\n",
        "\n",
        "model.compile(loss=tf.keras.losses.mae,\n",
        "              optimizer=tf.keras.optimizers.Adam(learning_rate=0.1),\n",
        "              metrics=['mae'])\n",
        "\n",
        "model.fit(tf.expand_dims(X, axis=-1), y, epochs=100)"
      ],
      "metadata": {
        "colab": {
          "base_uri": "https://localhost:8080/"
        },
        "id": "wuUKAXqZO9-t",
        "outputId": "bf708ce8-5acd-43aa-e94f-83e5e8ff960b"
      },
      "execution_count": 8,
      "outputs": [
        {
          "output_type": "stream",
          "name": "stdout",
          "text": [
            "Epoch 1/100\n",
            "1/1 [==============================] - 1s 929ms/step - loss: 17.3990 - mae: 17.3990\n",
            "Epoch 2/100\n",
            "1/1 [==============================] - 0s 14ms/step - loss: 16.7990 - mae: 16.7990\n",
            "Epoch 3/100\n",
            "1/1 [==============================] - 0s 28ms/step - loss: 16.1990 - mae: 16.1990\n",
            "Epoch 4/100\n",
            "1/1 [==============================] - 0s 12ms/step - loss: 15.5990 - mae: 15.5990\n",
            "Epoch 5/100\n",
            "1/1 [==============================] - 0s 12ms/step - loss: 14.9990 - mae: 14.9990\n",
            "Epoch 6/100\n",
            "1/1 [==============================] - 0s 18ms/step - loss: 14.3990 - mae: 14.3990\n",
            "Epoch 7/100\n",
            "1/1 [==============================] - 0s 13ms/step - loss: 13.8994 - mae: 13.8994\n",
            "Epoch 8/100\n",
            "1/1 [==============================] - 0s 17ms/step - loss: 13.4569 - mae: 13.4569\n",
            "Epoch 9/100\n",
            "1/1 [==============================] - 0s 14ms/step - loss: 13.0200 - mae: 13.0200\n",
            "Epoch 10/100\n",
            "1/1 [==============================] - 0s 12ms/step - loss: 12.5871 - mae: 12.5871\n",
            "Epoch 11/100\n",
            "1/1 [==============================] - 0s 12ms/step - loss: 12.1573 - mae: 12.1573\n",
            "Epoch 12/100\n",
            "1/1 [==============================] - 0s 12ms/step - loss: 11.7298 - mae: 11.7298\n",
            "Epoch 13/100\n",
            "1/1 [==============================] - 0s 19ms/step - loss: 11.3041 - mae: 11.3041\n",
            "Epoch 14/100\n",
            "1/1 [==============================] - 0s 14ms/step - loss: 10.8799 - mae: 10.8799\n",
            "Epoch 15/100\n",
            "1/1 [==============================] - 0s 26ms/step - loss: 10.4566 - mae: 10.4566\n",
            "Epoch 16/100\n",
            "1/1 [==============================] - 0s 11ms/step - loss: 10.0342 - mae: 10.0342\n",
            "Epoch 17/100\n",
            "1/1 [==============================] - 0s 14ms/step - loss: 9.6124 - mae: 9.6124\n",
            "Epoch 18/100\n",
            "1/1 [==============================] - 0s 10ms/step - loss: 9.1909 - mae: 9.1909\n",
            "Epoch 19/100\n",
            "1/1 [==============================] - 0s 18ms/step - loss: 8.7698 - mae: 8.7698\n",
            "Epoch 20/100\n",
            "1/1 [==============================] - 0s 17ms/step - loss: 8.3488 - mae: 8.3488\n",
            "Epoch 21/100\n",
            "1/1 [==============================] - 0s 20ms/step - loss: 7.9278 - mae: 7.9278\n",
            "Epoch 22/100\n",
            "1/1 [==============================] - 0s 12ms/step - loss: 7.5068 - mae: 7.5068\n",
            "Epoch 23/100\n",
            "1/1 [==============================] - 0s 13ms/step - loss: 7.0858 - mae: 7.0858\n",
            "Epoch 24/100\n",
            "1/1 [==============================] - 0s 12ms/step - loss: 6.6646 - mae: 6.6646\n",
            "Epoch 25/100\n",
            "1/1 [==============================] - 0s 14ms/step - loss: 6.2432 - mae: 6.2432\n",
            "Epoch 26/100\n",
            "1/1 [==============================] - 0s 16ms/step - loss: 5.8215 - mae: 5.8215\n",
            "Epoch 27/100\n",
            "1/1 [==============================] - 0s 17ms/step - loss: 5.4994 - mae: 5.4994\n",
            "Epoch 28/100\n",
            "1/1 [==============================] - 0s 21ms/step - loss: 5.4229 - mae: 5.4229\n",
            "Epoch 29/100\n",
            "1/1 [==============================] - 0s 17ms/step - loss: 5.5190 - mae: 5.5190\n",
            "Epoch 30/100\n",
            "1/1 [==============================] - 0s 37ms/step - loss: 5.6371 - mae: 5.6371\n",
            "Epoch 31/100\n",
            "1/1 [==============================] - 0s 17ms/step - loss: 5.7196 - mae: 5.7196\n",
            "Epoch 32/100\n",
            "1/1 [==============================] - 0s 21ms/step - loss: 5.7701 - mae: 5.7701\n",
            "Epoch 33/100\n",
            "1/1 [==============================] - 0s 14ms/step - loss: 5.8534 - mae: 5.8534\n",
            "Epoch 34/100\n",
            "1/1 [==============================] - 0s 13ms/step - loss: 5.8704 - mae: 5.8704\n",
            "Epoch 35/100\n",
            "1/1 [==============================] - 0s 25ms/step - loss: 5.8229 - mae: 5.8229\n",
            "Epoch 36/100\n",
            "1/1 [==============================] - 0s 10ms/step - loss: 5.7187 - mae: 5.7187\n",
            "Epoch 37/100\n",
            "1/1 [==============================] - 0s 11ms/step - loss: 5.5645 - mae: 5.5645\n",
            "Epoch 38/100\n",
            "1/1 [==============================] - 0s 20ms/step - loss: 5.3772 - mae: 5.3772\n",
            "Epoch 39/100\n",
            "1/1 [==============================] - 0s 10ms/step - loss: 5.2287 - mae: 5.2287\n",
            "Epoch 40/100\n",
            "1/1 [==============================] - 0s 12ms/step - loss: 5.0712 - mae: 5.0712\n",
            "Epoch 41/100\n",
            "1/1 [==============================] - 0s 11ms/step - loss: 4.9054 - mae: 4.9054\n",
            "Epoch 42/100\n",
            "1/1 [==============================] - 0s 11ms/step - loss: 4.7319 - mae: 4.7319\n",
            "Epoch 43/100\n",
            "1/1 [==============================] - 0s 12ms/step - loss: 4.5515 - mae: 4.5515\n",
            "Epoch 44/100\n",
            "1/1 [==============================] - 0s 11ms/step - loss: 4.4921 - mae: 4.4921\n",
            "Epoch 45/100\n",
            "1/1 [==============================] - 0s 36ms/step - loss: 4.4399 - mae: 4.4399\n",
            "Epoch 46/100\n",
            "1/1 [==============================] - 0s 24ms/step - loss: 4.4432 - mae: 4.4432\n",
            "Epoch 47/100\n",
            "1/1 [==============================] - 0s 27ms/step - loss: 4.4775 - mae: 4.4775\n",
            "Epoch 48/100\n",
            "1/1 [==============================] - 0s 14ms/step - loss: 4.4623 - mae: 4.4623\n",
            "Epoch 49/100\n",
            "1/1 [==============================] - 0s 13ms/step - loss: 4.4028 - mae: 4.4028\n",
            "Epoch 50/100\n",
            "1/1 [==============================] - 0s 12ms/step - loss: 4.3033 - mae: 4.3033\n",
            "Epoch 51/100\n",
            "1/1 [==============================] - 0s 23ms/step - loss: 4.1680 - mae: 4.1680\n",
            "Epoch 52/100\n",
            "1/1 [==============================] - 0s 23ms/step - loss: 4.0004 - mae: 4.0004\n",
            "Epoch 53/100\n",
            "1/1 [==============================] - 0s 20ms/step - loss: 3.9241 - mae: 3.9241\n",
            "Epoch 54/100\n",
            "1/1 [==============================] - 0s 16ms/step - loss: 3.8519 - mae: 3.8519\n",
            "Epoch 55/100\n",
            "1/1 [==============================] - 0s 17ms/step - loss: 3.7800 - mae: 3.7800\n",
            "Epoch 56/100\n",
            "1/1 [==============================] - 0s 19ms/step - loss: 3.7893 - mae: 3.7893\n",
            "Epoch 57/100\n",
            "1/1 [==============================] - 0s 22ms/step - loss: 3.7745 - mae: 3.7745\n",
            "Epoch 58/100\n",
            "1/1 [==============================] - 0s 12ms/step - loss: 3.7362 - mae: 3.7362\n",
            "Epoch 59/100\n",
            "1/1 [==============================] - 0s 13ms/step - loss: 3.6767 - mae: 3.6767\n",
            "Epoch 60/100\n",
            "1/1 [==============================] - 0s 12ms/step - loss: 3.5980 - mae: 3.5980\n",
            "Epoch 61/100\n",
            "1/1 [==============================] - 0s 13ms/step - loss: 3.5018 - mae: 3.5018\n",
            "Epoch 62/100\n",
            "1/1 [==============================] - 0s 11ms/step - loss: 3.3897 - mae: 3.3897\n",
            "Epoch 63/100\n",
            "1/1 [==============================] - 0s 11ms/step - loss: 3.2633 - mae: 3.2633\n",
            "Epoch 64/100\n",
            "1/1 [==============================] - 0s 12ms/step - loss: 3.1978 - mae: 3.1978\n",
            "Epoch 65/100\n",
            "1/1 [==============================] - 0s 11ms/step - loss: 3.1372 - mae: 3.1372\n",
            "Epoch 66/100\n",
            "1/1 [==============================] - 0s 19ms/step - loss: 3.0754 - mae: 3.0754\n",
            "Epoch 67/100\n",
            "1/1 [==============================] - 0s 20ms/step - loss: 3.0690 - mae: 3.0690\n",
            "Epoch 68/100\n",
            "1/1 [==============================] - 0s 14ms/step - loss: 3.0300 - mae: 3.0300\n",
            "Epoch 69/100\n",
            "1/1 [==============================] - 0s 12ms/step - loss: 2.9461 - mae: 2.9461\n",
            "Epoch 70/100\n",
            "1/1 [==============================] - 0s 15ms/step - loss: 2.8218 - mae: 2.8218\n",
            "Epoch 71/100\n",
            "1/1 [==============================] - 0s 20ms/step - loss: 2.7351 - mae: 2.7351\n",
            "Epoch 72/100\n",
            "1/1 [==============================] - 0s 18ms/step - loss: 2.6625 - mae: 2.6625\n",
            "Epoch 73/100\n",
            "1/1 [==============================] - 0s 29ms/step - loss: 2.5901 - mae: 2.5901\n",
            "Epoch 74/100\n",
            "1/1 [==============================] - 0s 18ms/step - loss: 2.5764 - mae: 2.5764\n",
            "Epoch 75/100\n",
            "1/1 [==============================] - 0s 13ms/step - loss: 2.5402 - mae: 2.5402\n",
            "Epoch 76/100\n",
            "1/1 [==============================] - 0s 21ms/step - loss: 2.4811 - mae: 2.4811\n",
            "Epoch 77/100\n",
            "1/1 [==============================] - 0s 15ms/step - loss: 2.4014 - mae: 2.4014\n",
            "Epoch 78/100\n",
            "1/1 [==============================] - 0s 14ms/step - loss: 2.3030 - mae: 2.3030\n",
            "Epoch 79/100\n",
            "1/1 [==============================] - 0s 17ms/step - loss: 2.1877 - mae: 2.1877\n",
            "Epoch 80/100\n",
            "1/1 [==============================] - 0s 25ms/step - loss: 2.1235 - mae: 2.1235\n",
            "Epoch 81/100\n",
            "1/1 [==============================] - 0s 18ms/step - loss: 2.0605 - mae: 2.0605\n",
            "Epoch 82/100\n",
            "1/1 [==============================] - 0s 13ms/step - loss: 2.0417 - mae: 2.0417\n",
            "Epoch 83/100\n",
            "1/1 [==============================] - 0s 12ms/step - loss: 1.9979 - mae: 1.9979\n",
            "Epoch 84/100\n",
            "1/1 [==============================] - 0s 12ms/step - loss: 1.9079 - mae: 1.9079\n",
            "Epoch 85/100\n",
            "1/1 [==============================] - 0s 12ms/step - loss: 1.7880 - mae: 1.7880\n",
            "Epoch 86/100\n",
            "1/1 [==============================] - 0s 14ms/step - loss: 1.7161 - mae: 1.7161\n",
            "Epoch 87/100\n",
            "1/1 [==============================] - 0s 12ms/step - loss: 1.6442 - mae: 1.6442\n",
            "Epoch 88/100\n",
            "1/1 [==============================] - 0s 12ms/step - loss: 1.5946 - mae: 1.5946\n",
            "Epoch 89/100\n",
            "1/1 [==============================] - 0s 13ms/step - loss: 1.5428 - mae: 1.5428\n",
            "Epoch 90/100\n",
            "1/1 [==============================] - 0s 12ms/step - loss: 1.4688 - mae: 1.4688\n",
            "Epoch 91/100\n",
            "1/1 [==============================] - 0s 17ms/step - loss: 1.3748 - mae: 1.3748\n",
            "Epoch 92/100\n",
            "1/1 [==============================] - 0s 14ms/step - loss: 1.3040 - mae: 1.3040\n",
            "Epoch 93/100\n",
            "1/1 [==============================] - 0s 12ms/step - loss: 1.2387 - mae: 1.2387\n",
            "Epoch 94/100\n",
            "1/1 [==============================] - 0s 17ms/step - loss: 1.2148 - mae: 1.2148\n",
            "Epoch 95/100\n",
            "1/1 [==============================] - 0s 22ms/step - loss: 1.1482 - mae: 1.1482\n",
            "Epoch 96/100\n",
            "1/1 [==============================] - 0s 14ms/step - loss: 1.0365 - mae: 1.0365\n",
            "Epoch 97/100\n",
            "1/1 [==============================] - 0s 13ms/step - loss: 0.9586 - mae: 0.9586\n",
            "Epoch 98/100\n",
            "1/1 [==============================] - 0s 10ms/step - loss: 0.9382 - mae: 0.9382\n",
            "Epoch 99/100\n",
            "1/1 [==============================] - 0s 9ms/step - loss: 0.9010 - mae: 0.9010\n",
            "Epoch 100/100\n",
            "1/1 [==============================] - 0s 24ms/step - loss: 0.8411 - mae: 0.8411\n"
          ]
        },
        {
          "output_type": "execute_result",
          "data": {
            "text/plain": [
              "<keras.callbacks.History at 0x7f5d4debd660>"
            ]
          },
          "metadata": {},
          "execution_count": 8
        }
      ]
    },
    {
      "cell_type": "code",
      "source": [
        "model.predict([17.0])"
      ],
      "metadata": {
        "colab": {
          "base_uri": "https://localhost:8080/"
        },
        "id": "K5RWYoGSPYj3",
        "outputId": "693d7c60-d4c8-40cc-ca52-5d9b5b8b0b3c"
      },
      "execution_count": 9,
      "outputs": [
        {
          "output_type": "stream",
          "name": "stdout",
          "text": [
            "1/1 [==============================] - 0s 104ms/step\n"
          ]
        },
        {
          "output_type": "execute_result",
          "data": {
            "text/plain": [
              "array([[27.871895]], dtype=float32)"
            ]
          },
          "metadata": {},
          "execution_count": 9
        }
      ]
    },
    {
      "cell_type": "markdown",
      "source": [
        "### Evaluating the model\n"
      ],
      "metadata": {
        "id": "dX3A-BgcbOPL"
      }
    },
    {
      "cell_type": "code",
      "source": [
        "X = tf.range(-100, 100, 4)\n",
        "y = X+10\n",
        "X, y"
      ],
      "metadata": {
        "colab": {
          "base_uri": "https://localhost:8080/"
        },
        "id": "ddXoyA-7bZQ-",
        "outputId": "0ee0f986-43e2-413e-c44d-2e38f2f86ffd"
      },
      "execution_count": 10,
      "outputs": [
        {
          "output_type": "execute_result",
          "data": {
            "text/plain": [
              "(<tf.Tensor: shape=(50,), dtype=int32, numpy=\n",
              " array([-100,  -96,  -92,  -88,  -84,  -80,  -76,  -72,  -68,  -64,  -60,\n",
              "         -56,  -52,  -48,  -44,  -40,  -36,  -32,  -28,  -24,  -20,  -16,\n",
              "         -12,   -8,   -4,    0,    4,    8,   12,   16,   20,   24,   28,\n",
              "          32,   36,   40,   44,   48,   52,   56,   60,   64,   68,   72,\n",
              "          76,   80,   84,   88,   92,   96], dtype=int32)>,\n",
              " <tf.Tensor: shape=(50,), dtype=int32, numpy=\n",
              " array([-90, -86, -82, -78, -74, -70, -66, -62, -58, -54, -50, -46, -42,\n",
              "        -38, -34, -30, -26, -22, -18, -14, -10,  -6,  -2,   2,   6,  10,\n",
              "         14,  18,  22,  26,  30,  34,  38,  42,  46,  50,  54,  58,  62,\n",
              "         66,  70,  74,  78,  82,  86,  90,  94,  98, 102, 106], dtype=int32)>)"
            ]
          },
          "metadata": {},
          "execution_count": 10
        }
      ]
    },
    {
      "cell_type": "code",
      "source": [
        "import matplotlib.pyplot as plt\n",
        "plt.scatter(X, y);"
      ],
      "metadata": {
        "colab": {
          "base_uri": "https://localhost:8080/",
          "height": 430
        },
        "id": "JMjYexg_bg6g",
        "outputId": "a979cdb9-fecf-4054-81e4-26585a32e28e"
      },
      "execution_count": 11,
      "outputs": [
        {
          "output_type": "display_data",
          "data": {
            "text/plain": [
              "<Figure size 640x480 with 1 Axes>"
            ],
            "image/png": "[encoded data removed]"
          },
          "metadata": {}
        }
      ]
    },
    {
      "cell_type": "markdown",
      "source": [
        "Train, test and validation sets.\n"
      ],
      "metadata": {
        "id": "eEWYs48UdQA0"
      }
    },
    {
      "cell_type": "code",
      "source": [
        "X_train = X[:40]\n",
        "y_train = y[:40]\n",
        "\n",
        "X_test = X[40:]\n",
        "y_test = y[40:]\n",
        "\n",
        "len(X_train), len(y_train), len(X_test), len(y_test)"
      ],
      "metadata": {
        "colab": {
          "base_uri": "https://localhost:8080/"
        },
        "id": "4L97BDvCWeoT",
        "outputId": "91299808-0642-4a5a-9618-e2b90eca404f"
      },
      "execution_count": 12,
      "outputs": [
        {
          "output_type": "execute_result",
          "data": {
            "text/plain": [
              "(40, 40, 10, 10)"
            ]
          },
          "metadata": {},
          "execution_count": 12
        }
      ]
    },
    {
      "cell_type": "code",
      "source": [
        "plt.figure(figsize=(5,5))\n",
        "plt.scatter(X_train, y_train, c='b', label=\"Training Data\")\n",
        "plt.scatter(X_test, y_test, c='g', label=\"Testing Data\")\n",
        "plt.legend();"
      ],
      "metadata": {
        "colab": {
          "base_uri": "https://localhost:8080/",
          "height": 445
        },
        "id": "jwqXqX2bXD15",
        "outputId": "3952d031-6881-4127-8657-7070e2492b07"
      },
      "execution_count": 13,
      "outputs": [
        {
          "output_type": "display_data",
          "data": {
            "text/plain": [
              "<Figure size 500x500 with 1 Axes>"
            ],
            "image/png": "[encoded data removed]"
          },
          "metadata": {}
        }
      ]
    },
    {
      "cell_type": "code",
      "source": [
        "model = tf.keras.Sequential([\n",
        "    tf.keras.layers.Dense(1, input_shape=[1])\n",
        "])\n",
        "model.compile(loss=tf.keras.losses.mae,\n",
        "              optimizer=tf.keras.optimizers.Adam(learning_rate=0.1),\n",
        "              metrics=['mae'])\n",
        "#model.fit(tf.expand_dims(X_train,axis=-1), y_train, epochs=100)"
      ],
      "metadata": {
        "id": "yyK105O-Zb75"
      },
      "execution_count": 14,
      "outputs": []
    },
    {
      "cell_type": "code",
      "source": [
        "model.summary()"
      ],
      "metadata": {
        "colab": {
          "base_uri": "https://localhost:8080/"
        },
        "id": "G20Ljp49lFG9",
        "outputId": "b657398b-8ac6-4ffd-9b69-2b226a7bc4ce"
      },
      "execution_count": 15,
      "outputs": [
        {
          "output_type": "stream",
          "name": "stdout",
          "text": [
            "Model: \"sequential_3\"\n",
            "_________________________________________________________________\n",
            " Layer (type)                Output Shape              Param #   \n",
            "=================================================================\n",
            " dense_3 (Dense)             (None, 1)                 2         \n",
            "                                                                 \n",
            "=================================================================\n",
            "Total params: 2\n",
            "Trainable params: 2\n",
            "Non-trainable params: 0\n",
            "_________________________________________________________________\n"
          ]
        }
      ]
    },
    {
      "cell_type": "markdown",
      "source": [
        "1. Total params - total number of parameters in the model.\n",
        "2. Trainable parameters - parameters the model can update as it trains.\n",
        "3. Non-trainable parameters - parameters that aren't updated during training."
      ],
      "metadata": {
        "id": "cnZ8KIzNnUX_"
      }
    },
    {
      "cell_type": "code",
      "source": [
        "model.fit(tf.expand_dims(X_train,axis=-1), y_train, epochs=100, verbose=2)"
      ],
      "metadata": {
        "colab": {
          "base_uri": "https://localhost:8080/"
        },
        "id": "WlyvXxuOnmrF",
        "outputId": "00966be3-c797-4b56-f121-ee0cad631da0"
      },
      "execution_count": 16,
      "outputs": [
        {
          "output_type": "stream",
          "name": "stdout",
          "text": [
            "Epoch 1/100\n",
            "2/2 - 2s - loss: 96.6988 - mae: 96.6988 - 2s/epoch - 817ms/step\n",
            "Epoch 2/100\n",
            "2/2 - 0s - loss: 87.9269 - mae: 87.9269 - 20ms/epoch - 10ms/step\n",
            "Epoch 3/100\n",
            "2/2 - 0s - loss: 79.4574 - mae: 79.4574 - 10ms/epoch - 5ms/step\n",
            "Epoch 4/100\n",
            "2/2 - 0s - loss: 70.8485 - mae: 70.8485 - 18ms/epoch - 9ms/step\n",
            "Epoch 5/100\n",
            "2/2 - 0s - loss: 62.3973 - mae: 62.3973 - 21ms/epoch - 11ms/step\n",
            "Epoch 6/100\n",
            "2/2 - 0s - loss: 53.8758 - mae: 53.8758 - 21ms/epoch - 10ms/step\n",
            "Epoch 7/100\n",
            "2/2 - 0s - loss: 45.3654 - mae: 45.3654 - 24ms/epoch - 12ms/step\n",
            "Epoch 8/100\n",
            "2/2 - 0s - loss: 36.5745 - mae: 36.5745 - 15ms/epoch - 7ms/step\n",
            "Epoch 9/100\n",
            "2/2 - 0s - loss: 28.4630 - mae: 28.4630 - 22ms/epoch - 11ms/step\n",
            "Epoch 10/100\n",
            "2/2 - 0s - loss: 20.5790 - mae: 20.5790 - 19ms/epoch - 9ms/step\n",
            "Epoch 11/100\n",
            "2/2 - 0s - loss: 12.9738 - mae: 12.9738 - 29ms/epoch - 14ms/step\n",
            "Epoch 12/100\n",
            "2/2 - 0s - loss: 8.9450 - mae: 8.9450 - 11ms/epoch - 5ms/step\n",
            "Epoch 13/100\n",
            "2/2 - 0s - loss: 12.0298 - mae: 12.0298 - 60ms/epoch - 30ms/step\n",
            "Epoch 14/100\n",
            "2/2 - 0s - loss: 13.9279 - mae: 13.9279 - 27ms/epoch - 14ms/step\n",
            "Epoch 15/100\n",
            "2/2 - 0s - loss: 14.8792 - mae: 14.8792 - 22ms/epoch - 11ms/step\n",
            "Epoch 16/100\n",
            "2/2 - 0s - loss: 15.2233 - mae: 15.2233 - 22ms/epoch - 11ms/step\n",
            "Epoch 17/100\n",
            "2/2 - 0s - loss: 14.8146 - mae: 14.8146 - 14ms/epoch - 7ms/step\n",
            "Epoch 18/100\n",
            "2/2 - 0s - loss: 13.7557 - mae: 13.7557 - 23ms/epoch - 11ms/step\n",
            "Epoch 19/100\n",
            "2/2 - 0s - loss: 12.4679 - mae: 12.4679 - 13ms/epoch - 6ms/step\n",
            "Epoch 20/100\n",
            "2/2 - 0s - loss: 10.7658 - mae: 10.7658 - 12ms/epoch - 6ms/step\n",
            "Epoch 21/100\n",
            "2/2 - 0s - loss: 8.6422 - mae: 8.6422 - 10ms/epoch - 5ms/step\n",
            "Epoch 22/100\n",
            "2/2 - 0s - loss: 7.2799 - mae: 7.2799 - 21ms/epoch - 11ms/step\n",
            "Epoch 23/100\n",
            "2/2 - 0s - loss: 8.6533 - mae: 8.6533 - 19ms/epoch - 10ms/step\n",
            "Epoch 24/100\n",
            "2/2 - 0s - loss: 9.5555 - mae: 9.5555 - 16ms/epoch - 8ms/step\n",
            "Epoch 25/100\n",
            "2/2 - 0s - loss: 9.0716 - mae: 9.0716 - 9ms/epoch - 5ms/step\n",
            "Epoch 26/100\n",
            "2/2 - 0s - loss: 7.5176 - mae: 7.5176 - 14ms/epoch - 7ms/step\n",
            "Epoch 27/100\n",
            "2/2 - 0s - loss: 6.4821 - mae: 6.4821 - 21ms/epoch - 10ms/step\n",
            "Epoch 28/100\n",
            "2/2 - 0s - loss: 7.0955 - mae: 7.0955 - 32ms/epoch - 16ms/step\n",
            "Epoch 29/100\n",
            "2/2 - 0s - loss: 7.1845 - mae: 7.1845 - 35ms/epoch - 18ms/step\n",
            "Epoch 30/100\n",
            "2/2 - 0s - loss: 6.3370 - mae: 6.3370 - 15ms/epoch - 7ms/step\n",
            "Epoch 31/100\n",
            "2/2 - 0s - loss: 5.9083 - mae: 5.9083 - 27ms/epoch - 13ms/step\n",
            "Epoch 32/100\n",
            "2/2 - 0s - loss: 6.9259 - mae: 6.9259 - 14ms/epoch - 7ms/step\n",
            "Epoch 33/100\n",
            "2/2 - 0s - loss: 7.1471 - mae: 7.1471 - 14ms/epoch - 7ms/step\n",
            "Epoch 34/100\n",
            "2/2 - 0s - loss: 6.3261 - mae: 6.3261 - 17ms/epoch - 8ms/step\n",
            "Epoch 35/100\n",
            "2/2 - 0s - loss: 5.4652 - mae: 5.4652 - 11ms/epoch - 6ms/step\n",
            "Epoch 36/100\n",
            "2/2 - 0s - loss: 5.4758 - mae: 5.4758 - 14ms/epoch - 7ms/step\n",
            "Epoch 37/100\n",
            "2/2 - 0s - loss: 5.2986 - mae: 5.2986 - 26ms/epoch - 13ms/step\n",
            "Epoch 38/100\n",
            "2/2 - 0s - loss: 4.8123 - mae: 4.8123 - 15ms/epoch - 7ms/step\n",
            "Epoch 39/100\n",
            "2/2 - 0s - loss: 4.7937 - mae: 4.7937 - 14ms/epoch - 7ms/step\n",
            "Epoch 40/100\n",
            "2/2 - 0s - loss: 4.6836 - mae: 4.6836 - 8ms/epoch - 4ms/step\n",
            "Epoch 41/100\n",
            "2/2 - 0s - loss: 4.3337 - mae: 4.3337 - 14ms/epoch - 7ms/step\n",
            "Epoch 42/100\n",
            "2/2 - 0s - loss: 4.3637 - mae: 4.3637 - 15ms/epoch - 7ms/step\n",
            "Epoch 43/100\n",
            "2/2 - 0s - loss: 4.1207 - mae: 4.1207 - 15ms/epoch - 7ms/step\n",
            "Epoch 44/100\n",
            "2/2 - 0s - loss: 3.8549 - mae: 3.8549 - 15ms/epoch - 8ms/step\n",
            "Epoch 45/100\n",
            "2/2 - 0s - loss: 3.9311 - mae: 3.9311 - 15ms/epoch - 8ms/step\n",
            "Epoch 46/100\n",
            "2/2 - 0s - loss: 3.8355 - mae: 3.8355 - 11ms/epoch - 5ms/step\n",
            "Epoch 47/100\n",
            "2/2 - 0s - loss: 3.4516 - mae: 3.4516 - 13ms/epoch - 6ms/step\n",
            "Epoch 48/100\n",
            "2/2 - 0s - loss: 3.2414 - mae: 3.2414 - 14ms/epoch - 7ms/step\n",
            "Epoch 49/100\n",
            "2/2 - 0s - loss: 3.0966 - mae: 3.0966 - 15ms/epoch - 7ms/step\n",
            "Epoch 50/100\n",
            "2/2 - 0s - loss: 2.9666 - mae: 2.9666 - 12ms/epoch - 6ms/step\n",
            "Epoch 51/100\n",
            "2/2 - 0s - loss: 2.8868 - mae: 2.8868 - 14ms/epoch - 7ms/step\n",
            "Epoch 52/100\n",
            "2/2 - 0s - loss: 2.7091 - mae: 2.7091 - 25ms/epoch - 12ms/step\n",
            "Epoch 53/100\n",
            "2/2 - 0s - loss: 2.4903 - mae: 2.4903 - 37ms/epoch - 19ms/step\n",
            "Epoch 54/100\n",
            "2/2 - 0s - loss: 2.6606 - mae: 2.6606 - 35ms/epoch - 17ms/step\n",
            "Epoch 55/100\n",
            "2/2 - 0s - loss: 2.4188 - mae: 2.4188 - 21ms/epoch - 11ms/step\n",
            "Epoch 56/100\n",
            "2/2 - 0s - loss: 2.3830 - mae: 2.3830 - 12ms/epoch - 6ms/step\n",
            "Epoch 57/100\n",
            "2/2 - 0s - loss: 2.6062 - mae: 2.6062 - 18ms/epoch - 9ms/step\n",
            "Epoch 58/100\n",
            "2/2 - 0s - loss: 2.2151 - mae: 2.2151 - 27ms/epoch - 13ms/step\n",
            "Epoch 59/100\n",
            "2/2 - 0s - loss: 1.5956 - mae: 1.5956 - 10ms/epoch - 5ms/step\n",
            "Epoch 60/100\n",
            "2/2 - 0s - loss: 2.0987 - mae: 2.0987 - 17ms/epoch - 8ms/step\n",
            "Epoch 61/100\n",
            "2/2 - 0s - loss: 1.4992 - mae: 1.4992 - 17ms/epoch - 9ms/step\n",
            "Epoch 62/100\n",
            "2/2 - 0s - loss: 1.5365 - mae: 1.5365 - 15ms/epoch - 8ms/step\n",
            "Epoch 63/100\n",
            "2/2 - 0s - loss: 1.2506 - mae: 1.2506 - 27ms/epoch - 13ms/step\n",
            "Epoch 64/100\n",
            "2/2 - 0s - loss: 1.3492 - mae: 1.3492 - 26ms/epoch - 13ms/step\n",
            "Epoch 65/100\n",
            "2/2 - 0s - loss: 1.1119 - mae: 1.1119 - 17ms/epoch - 8ms/step\n",
            "Epoch 66/100\n",
            "2/2 - 0s - loss: 1.0303 - mae: 1.0303 - 14ms/epoch - 7ms/step\n",
            "Epoch 67/100\n",
            "2/2 - 0s - loss: 1.0380 - mae: 1.0380 - 17ms/epoch - 9ms/step\n",
            "Epoch 68/100\n",
            "2/2 - 0s - loss: 0.6887 - mae: 0.6887 - 21ms/epoch - 10ms/step\n",
            "Epoch 69/100\n",
            "2/2 - 0s - loss: 0.5087 - mae: 0.5087 - 12ms/epoch - 6ms/step\n",
            "Epoch 70/100\n",
            "2/2 - 0s - loss: 0.8330 - mae: 0.8330 - 22ms/epoch - 11ms/step\n",
            "Epoch 71/100\n",
            "2/2 - 0s - loss: 0.3041 - mae: 0.3041 - 21ms/epoch - 10ms/step\n",
            "Epoch 72/100\n",
            "2/2 - 0s - loss: 0.0835 - mae: 0.0835 - 24ms/epoch - 12ms/step\n",
            "Epoch 73/100\n",
            "2/2 - 0s - loss: 0.4099 - mae: 0.4099 - 23ms/epoch - 12ms/step\n",
            "Epoch 74/100\n",
            "2/2 - 0s - loss: 0.5696 - mae: 0.5696 - 18ms/epoch - 9ms/step\n",
            "Epoch 75/100\n",
            "2/2 - 0s - loss: 0.3727 - mae: 0.3727 - 17ms/epoch - 9ms/step\n",
            "Epoch 76/100\n",
            "2/2 - 0s - loss: 0.7054 - mae: 0.7054 - 17ms/epoch - 9ms/step\n",
            "Epoch 77/100\n",
            "2/2 - 0s - loss: 0.8086 - mae: 0.8086 - 22ms/epoch - 11ms/step\n",
            "Epoch 78/100\n",
            "2/2 - 0s - loss: 0.6484 - mae: 0.6484 - 23ms/epoch - 11ms/step\n",
            "Epoch 79/100\n",
            "2/2 - 0s - loss: 0.2032 - mae: 0.2032 - 20ms/epoch - 10ms/step\n",
            "Epoch 80/100\n",
            "2/2 - 0s - loss: 0.4334 - mae: 0.4334 - 18ms/epoch - 9ms/step\n",
            "Epoch 81/100\n",
            "2/2 - 0s - loss: 0.2038 - mae: 0.2038 - 21ms/epoch - 11ms/step\n",
            "Epoch 82/100\n",
            "2/2 - 0s - loss: 0.1582 - mae: 0.1582 - 19ms/epoch - 10ms/step\n",
            "Epoch 83/100\n",
            "2/2 - 0s - loss: 0.1091 - mae: 0.1091 - 14ms/epoch - 7ms/step\n",
            "Epoch 84/100\n",
            "2/2 - 0s - loss: 1.0638 - mae: 1.0638 - 12ms/epoch - 6ms/step\n",
            "Epoch 85/100\n",
            "2/2 - 0s - loss: 0.2464 - mae: 0.2464 - 11ms/epoch - 6ms/step\n",
            "Epoch 86/100\n",
            "2/2 - 0s - loss: 0.4539 - mae: 0.4539 - 15ms/epoch - 8ms/step\n",
            "Epoch 87/100\n",
            "2/2 - 0s - loss: 0.2064 - mae: 0.2064 - 12ms/epoch - 6ms/step\n",
            "Epoch 88/100\n",
            "2/2 - 0s - loss: 0.1869 - mae: 0.1869 - 15ms/epoch - 8ms/step\n",
            "Epoch 89/100\n",
            "2/2 - 0s - loss: 0.3848 - mae: 0.3848 - 18ms/epoch - 9ms/step\n",
            "Epoch 90/100\n",
            "2/2 - 0s - loss: 0.1597 - mae: 0.1597 - 15ms/epoch - 8ms/step\n",
            "Epoch 91/100\n",
            "2/2 - 0s - loss: 0.3896 - mae: 0.3896 - 23ms/epoch - 11ms/step\n",
            "Epoch 92/100\n",
            "2/2 - 0s - loss: 0.1311 - mae: 0.1311 - 16ms/epoch - 8ms/step\n",
            "Epoch 93/100\n",
            "2/2 - 0s - loss: 0.2205 - mae: 0.2205 - 18ms/epoch - 9ms/step\n",
            "Epoch 94/100\n",
            "2/2 - 0s - loss: 0.5591 - mae: 0.5591 - 10ms/epoch - 5ms/step\n",
            "Epoch 95/100\n",
            "2/2 - 0s - loss: 0.9247 - mae: 0.9247 - 8ms/epoch - 4ms/step\n",
            "Epoch 96/100\n",
            "2/2 - 0s - loss: 0.8919 - mae: 0.8919 - 10ms/epoch - 5ms/step\n",
            "Epoch 97/100\n",
            "2/2 - 0s - loss: 1.0059 - mae: 1.0059 - 21ms/epoch - 10ms/step\n",
            "Epoch 98/100\n",
            "2/2 - 0s - loss: 1.3941 - mae: 1.3941 - 13ms/epoch - 7ms/step\n",
            "Epoch 99/100\n",
            "2/2 - 0s - loss: 0.1502 - mae: 0.1502 - 17ms/epoch - 9ms/step\n",
            "Epoch 100/100\n",
            "2/2 - 0s - loss: 0.2519 - mae: 0.2519 - 25ms/epoch - 12ms/step\n"
          ]
        },
        {
          "output_type": "execute_result",
          "data": {
            "text/plain": [
              "<keras.callbacks.History at 0x7f5d4db84f70>"
            ]
          },
          "metadata": {},
          "execution_count": 16
        }
      ]
    },
    {
      "cell_type": "code",
      "source": [
        "y_pred = model.predict([X_test])\n",
        "y_pred"
      ],
      "metadata": {
        "colab": {
          "base_uri": "https://localhost:8080/"
        },
        "id": "UxBQb53EoILB",
        "outputId": "da1d416c-75d5-4645-a7b4-0989809a7e8e"
      },
      "execution_count": 17,
      "outputs": [
        {
          "output_type": "stream",
          "name": "stdout",
          "text": [
            "1/1 [==============================] - 0s 157ms/step\n"
          ]
        },
        {
          "output_type": "execute_result",
          "data": {
            "text/plain": [
              "array([[ 68.83496 ],\n",
              "       [ 72.75749 ],\n",
              "       [ 76.680016],\n",
              "       [ 80.60255 ],\n",
              "       [ 84.52507 ],\n",
              "       [ 88.4476  ],\n",
              "       [ 92.370125],\n",
              "       [ 96.292656],\n",
              "       [100.21518 ],\n",
              "       [104.13771 ]], dtype=float32)"
            ]
          },
          "metadata": {},
          "execution_count": 17
        }
      ]
    },
    {
      "cell_type": "code",
      "source": [
        "def mae(y_test, y_pred):\n",
        "  \"\"\"\n",
        "  Calculuates mean absolute error between y_test and y_preds.\n",
        "  \"\"\"\n",
        "  return tf.metrics.mean_absolute_error(y_test,\n",
        "                                        y_pred)\n",
        "\n",
        "def mse(y_test, y_pred):\n",
        "  \"\"\"\n",
        "  Calculates mean squared error between y_test and y_preds.\n",
        "  \"\"\"\n",
        "  return tf.metrics.mean_squared_error(y_test,\n",
        "                                       y_pred)"
      ],
      "metadata": {
        "id": "hgcP7bEzxdA2"
      },
      "execution_count": 18,
      "outputs": []
    },
    {
      "cell_type": "code",
      "source": [
        "mae_1 = mae(y_test, y_pred.squeeze()).numpy()\n",
        "mse_1 = mse(y_test, y_pred.squeeze()).numpy()\n",
        "mae_1, mse_1"
      ],
      "metadata": {
        "colab": {
          "base_uri": "https://localhost:8080/"
        },
        "id": "P5gzGQYAwtpr",
        "outputId": "fd7b2fdb-60ad-43bf-da5a-787cbea005ea"
      },
      "execution_count": 19,
      "outputs": [
        {
          "output_type": "execute_result",
          "data": {
            "text/plain": [
              "(1.5136642, 2.3406959)"
            ]
          },
          "metadata": {},
          "execution_count": 19
        }
      ]
    },
    {
      "cell_type": "code",
      "source": [
        "y_pred=model.evaluate(X_test, y_test)"
      ],
      "metadata": {
        "colab": {
          "base_uri": "https://localhost:8080/"
        },
        "id": "0RxSfxhjoi70",
        "outputId": "b861e6f9-60b8-4776-dbff-121570dbeb44"
      },
      "execution_count": 20,
      "outputs": [
        {
          "output_type": "stream",
          "name": "stdout",
          "text": [
            "1/1 [==============================] - 0s 357ms/step - loss: 1.5137 - mae: 1.5137\n"
          ]
        }
      ]
    },
    {
      "cell_type": "markdown",
      "source": [
        "### Running experiments to improve model\n",
        "1. Maybe try with more hidden layers.\n",
        "2. Change the larning rate.\n",
        "3. Increase the number of epochs."
      ],
      "metadata": {
        "id": "FGxMdLCp6lHc"
      }
    },
    {
      "cell_type": "code",
      "source": [
        "model = tf.keras.Sequential([\n",
        "    tf.keras.layers.Dense(1, input_shape=[1])\n",
        "])\n",
        "model.compile(loss=tf.keras.losses.mae,\n",
        "              optimizer=tf.keras.optimizers.Adam(learning_rate=0.1),\n",
        "              metrics=['mae'])\n",
        "model.fit(tf.expand_dims(X_train,axis=-1), y_train, epochs=50)"
      ],
      "metadata": {
        "colab": {
          "base_uri": "https://localhost:8080/"
        },
        "id": "cxieyrH56nnb",
        "outputId": "8cb7af60-a4be-4bb2-fe5a-e34a698db580"
      },
      "execution_count": 21,
      "outputs": [
        {
          "output_type": "stream",
          "name": "stdout",
          "text": [
            "Epoch 1/50\n",
            "2/2 [==============================] - 1s 13ms/step - loss: 27.6999 - mae: 27.6999\n",
            "Epoch 2/50\n",
            "2/2 [==============================] - 0s 17ms/step - loss: 19.3736 - mae: 19.3736\n",
            "Epoch 3/50\n",
            "2/2 [==============================] - 0s 7ms/step - loss: 13.0923 - mae: 13.0923\n",
            "Epoch 4/50\n",
            "2/2 [==============================] - 0s 8ms/step - loss: 8.9969 - mae: 8.9969\n",
            "Epoch 5/50\n",
            "2/2 [==============================] - 0s 8ms/step - loss: 8.2640 - mae: 8.2640\n",
            "Epoch 6/50\n",
            "2/2 [==============================] - 0s 13ms/step - loss: 10.1379 - mae: 10.1379\n",
            "Epoch 7/50\n",
            "2/2 [==============================] - 0s 15ms/step - loss: 9.8605 - mae: 9.8605\n",
            "Epoch 8/50\n",
            "2/2 [==============================] - 0s 10ms/step - loss: 7.9113 - mae: 7.9113\n",
            "Epoch 9/50\n",
            "2/2 [==============================] - 0s 7ms/step - loss: 6.4209 - mae: 6.4209\n",
            "Epoch 10/50\n",
            "2/2 [==============================] - 0s 8ms/step - loss: 7.8149 - mae: 7.8149\n",
            "Epoch 11/50\n",
            "2/2 [==============================] - 0s 9ms/step - loss: 8.7904 - mae: 8.7904\n",
            "Epoch 12/50\n",
            "2/2 [==============================] - 0s 9ms/step - loss: 8.6041 - mae: 8.6041\n",
            "Epoch 13/50\n",
            "2/2 [==============================] - 0s 9ms/step - loss: 7.5840 - mae: 7.5840\n",
            "Epoch 14/50\n",
            "2/2 [==============================] - 0s 13ms/step - loss: 6.1758 - mae: 6.1758\n",
            "Epoch 15/50\n",
            "2/2 [==============================] - 0s 9ms/step - loss: 6.2204 - mae: 6.2204\n",
            "Epoch 16/50\n",
            "2/2 [==============================] - 0s 10ms/step - loss: 6.7236 - mae: 6.7236\n",
            "Epoch 17/50\n",
            "2/2 [==============================] - 0s 11ms/step - loss: 6.0358 - mae: 6.0358\n",
            "Epoch 18/50\n",
            "2/2 [==============================] - 0s 12ms/step - loss: 5.4342 - mae: 5.4342\n",
            "Epoch 19/50\n",
            "2/2 [==============================] - 0s 17ms/step - loss: 5.7949 - mae: 5.7949\n",
            "Epoch 20/50\n",
            "2/2 [==============================] - 0s 9ms/step - loss: 5.3499 - mae: 5.3499\n",
            "Epoch 21/50\n",
            "2/2 [==============================] - 0s 11ms/step - loss: 4.9442 - mae: 4.9442\n",
            "Epoch 22/50\n",
            "2/2 [==============================] - 0s 14ms/step - loss: 5.1196 - mae: 5.1196\n",
            "Epoch 23/50\n",
            "2/2 [==============================] - 0s 11ms/step - loss: 4.7519 - mae: 4.7519\n",
            "Epoch 24/50\n",
            "2/2 [==============================] - 0s 12ms/step - loss: 4.3637 - mae: 4.3637\n",
            "Epoch 25/50\n",
            "2/2 [==============================] - 0s 11ms/step - loss: 4.2948 - mae: 4.2948\n",
            "Epoch 26/50\n",
            "2/2 [==============================] - 0s 10ms/step - loss: 4.0831 - mae: 4.0831\n",
            "Epoch 27/50\n",
            "2/2 [==============================] - 0s 7ms/step - loss: 4.0156 - mae: 4.0156\n",
            "Epoch 28/50\n",
            "2/2 [==============================] - 0s 6ms/step - loss: 3.8207 - mae: 3.8207\n",
            "Epoch 29/50\n",
            "2/2 [==============================] - 0s 6ms/step - loss: 3.6530 - mae: 3.6530\n",
            "Epoch 30/50\n",
            "2/2 [==============================] - 0s 8ms/step - loss: 3.5236 - mae: 3.5236\n",
            "Epoch 31/50\n",
            "2/2 [==============================] - 0s 9ms/step - loss: 3.4013 - mae: 3.4013\n",
            "Epoch 32/50\n",
            "2/2 [==============================] - 0s 6ms/step - loss: 3.4527 - mae: 3.4527\n",
            "Epoch 33/50\n",
            "2/2 [==============================] - 0s 9ms/step - loss: 3.1116 - mae: 3.1116\n",
            "Epoch 34/50\n",
            "2/2 [==============================] - 0s 7ms/step - loss: 3.1211 - mae: 3.1211\n",
            "Epoch 35/50\n",
            "2/2 [==============================] - 0s 6ms/step - loss: 2.7660 - mae: 2.7660\n",
            "Epoch 36/50\n",
            "2/2 [==============================] - 0s 7ms/step - loss: 2.9471 - mae: 2.9471\n",
            "Epoch 37/50\n",
            "2/2 [==============================] - 0s 6ms/step - loss: 2.7989 - mae: 2.7989\n",
            "Epoch 38/50\n",
            "2/2 [==============================] - 0s 11ms/step - loss: 2.5028 - mae: 2.5028\n",
            "Epoch 39/50\n",
            "2/2 [==============================] - 0s 11ms/step - loss: 2.3138 - mae: 2.3138\n",
            "Epoch 40/50\n",
            "2/2 [==============================] - 0s 7ms/step - loss: 2.3827 - mae: 2.3827\n",
            "Epoch 41/50\n",
            "2/2 [==============================] - 0s 7ms/step - loss: 2.1493 - mae: 2.1493\n",
            "Epoch 42/50\n",
            "2/2 [==============================] - 0s 7ms/step - loss: 2.0940 - mae: 2.0940\n",
            "Epoch 43/50\n",
            "2/2 [==============================] - 0s 7ms/step - loss: 2.0615 - mae: 2.0615\n",
            "Epoch 44/50\n",
            "2/2 [==============================] - 0s 6ms/step - loss: 1.6279 - mae: 1.6279\n",
            "Epoch 45/50\n",
            "2/2 [==============================] - 0s 7ms/step - loss: 1.6845 - mae: 1.6845\n",
            "Epoch 46/50\n",
            "2/2 [==============================] - 0s 6ms/step - loss: 1.5253 - mae: 1.5253\n",
            "Epoch 47/50\n",
            "2/2 [==============================] - 0s 8ms/step - loss: 1.5610 - mae: 1.5610\n",
            "Epoch 48/50\n",
            "2/2 [==============================] - 0s 9ms/step - loss: 1.0130 - mae: 1.0130\n",
            "Epoch 49/50\n",
            "2/2 [==============================] - 0s 9ms/step - loss: 1.7424 - mae: 1.7424\n",
            "Epoch 50/50\n",
            "2/2 [==============================] - 0s 10ms/step - loss: 0.7856 - mae: 0.7856\n"
          ]
        },
        {
          "output_type": "execute_result",
          "data": {
            "text/plain": [
              "<keras.callbacks.History at 0x7f5d4da57520>"
            ]
          },
          "metadata": {},
          "execution_count": 21
        }
      ]
    },
    {
      "cell_type": "code",
      "source": [
        "tf.random.set_seed(42)\n",
        "model_2 = tf.keras.Sequential([\n",
        "    tf.keras.layers.Dense(10),\n",
        "    tf.keras.layers.Dense(1)\n",
        "])\n",
        "model_2.compile(loss=tf.keras.losses.mae,\n",
        "               optimizer=tf.keras.optimizers.SGD(),\n",
        "               metrics=['mae'])\n",
        "model_2.fit(tf.expand_dims(X_train,axis=-1), y_train, epochs=100)"
      ],
      "metadata": {
        "colab": {
          "base_uri": "https://localhost:8080/"
        },
        "id": "xGZH3PWI81Ke",
        "outputId": "13d56c89-13e6-4a48-bf13-0ae51fa5f359"
      },
      "execution_count": 22,
      "outputs": [
        {
          "output_type": "stream",
          "name": "stdout",
          "text": [
            "Epoch 1/100\n",
            "2/2 [==============================] - 1s 19ms/step - loss: 37.9928 - mae: 37.9928\n",
            "Epoch 2/100\n",
            "2/2 [==============================] - 0s 10ms/step - loss: 29.6785 - mae: 29.6785\n",
            "Epoch 3/100\n",
            "2/2 [==============================] - 0s 9ms/step - loss: 33.4807 - mae: 33.4807\n",
            "Epoch 4/100\n",
            "2/2 [==============================] - 0s 9ms/step - loss: 13.8508 - mae: 13.8508\n",
            "Epoch 5/100\n",
            "2/2 [==============================] - 0s 9ms/step - loss: 19.0236 - mae: 19.0236\n",
            "Epoch 6/100\n",
            "2/2 [==============================] - 0s 11ms/step - loss: 9.5161 - mae: 9.5161\n",
            "Epoch 7/100\n",
            "2/2 [==============================] - 0s 8ms/step - loss: 10.5461 - mae: 10.5461\n",
            "Epoch 8/100\n",
            "2/2 [==============================] - 0s 9ms/step - loss: 12.9112 - mae: 12.9112\n",
            "Epoch 9/100\n",
            "2/2 [==============================] - 0s 9ms/step - loss: 33.9745 - mae: 33.9745\n",
            "Epoch 10/100\n",
            "2/2 [==============================] - 0s 8ms/step - loss: 23.2721 - mae: 23.2721\n",
            "Epoch 11/100\n",
            "2/2 [==============================] - 0s 8ms/step - loss: 10.2526 - mae: 10.2526\n",
            "Epoch 12/100\n",
            "2/2 [==============================] - 0s 9ms/step - loss: 25.2488 - mae: 25.2488\n",
            "Epoch 13/100\n",
            "2/2 [==============================] - 0s 8ms/step - loss: 17.1560 - mae: 17.1560\n",
            "Epoch 14/100\n",
            "2/2 [==============================] - 0s 12ms/step - loss: 26.4104 - mae: 26.4104\n",
            "Epoch 15/100\n",
            "2/2 [==============================] - 0s 10ms/step - loss: 16.8873 - mae: 16.8873\n",
            "Epoch 16/100\n",
            "2/2 [==============================] - 0s 10ms/step - loss: 9.8312 - mae: 9.8312\n",
            "Epoch 17/100\n",
            "2/2 [==============================] - 0s 9ms/step - loss: 17.6253 - mae: 17.6253\n",
            "Epoch 18/100\n",
            "2/2 [==============================] - 0s 10ms/step - loss: 14.0998 - mae: 14.0998\n",
            "Epoch 19/100\n",
            "2/2 [==============================] - 0s 10ms/step - loss: 13.9386 - mae: 13.9386\n",
            "Epoch 20/100\n",
            "2/2 [==============================] - 0s 11ms/step - loss: 11.2013 - mae: 11.2013\n",
            "Epoch 21/100\n",
            "2/2 [==============================] - 0s 16ms/step - loss: 17.2570 - mae: 17.2570\n",
            "Epoch 22/100\n",
            "2/2 [==============================] - 0s 18ms/step - loss: 15.4948 - mae: 15.4948\n",
            "Epoch 23/100\n",
            "2/2 [==============================] - 0s 10ms/step - loss: 9.2435 - mae: 9.2435\n",
            "Epoch 24/100\n",
            "2/2 [==============================] - 0s 10ms/step - loss: 17.2747 - mae: 17.2747\n",
            "Epoch 25/100\n",
            "2/2 [==============================] - 0s 14ms/step - loss: 15.9465 - mae: 15.9465\n",
            "Epoch 26/100\n",
            "2/2 [==============================] - 0s 8ms/step - loss: 20.9463 - mae: 20.9463\n",
            "Epoch 27/100\n",
            "2/2 [==============================] - 0s 8ms/step - loss: 25.9288 - mae: 25.9288\n",
            "Epoch 28/100\n",
            "2/2 [==============================] - 0s 9ms/step - loss: 18.4316 - mae: 18.4316\n",
            "Epoch 29/100\n",
            "2/2 [==============================] - 0s 7ms/step - loss: 9.2439 - mae: 9.2439\n",
            "Epoch 30/100\n",
            "2/2 [==============================] - 0s 8ms/step - loss: 29.0436 - mae: 29.0436\n",
            "Epoch 31/100\n",
            "2/2 [==============================] - 0s 9ms/step - loss: 52.5992 - mae: 52.5992\n",
            "Epoch 32/100\n",
            "2/2 [==============================] - 0s 9ms/step - loss: 11.9121 - mae: 11.9121\n",
            "Epoch 33/100\n",
            "2/2 [==============================] - 0s 11ms/step - loss: 15.4931 - mae: 15.4931\n",
            "Epoch 34/100\n",
            "2/2 [==============================] - 0s 7ms/step - loss: 12.5950 - mae: 12.5950\n",
            "Epoch 35/100\n",
            "2/2 [==============================] - 0s 20ms/step - loss: 9.1972 - mae: 9.1972\n",
            "Epoch 36/100\n",
            "2/2 [==============================] - 0s 14ms/step - loss: 16.4722 - mae: 16.4722\n",
            "Epoch 37/100\n",
            "2/2 [==============================] - 0s 10ms/step - loss: 11.0881 - mae: 11.0881\n",
            "Epoch 38/100\n",
            "2/2 [==============================] - 0s 12ms/step - loss: 18.2175 - mae: 18.2175\n",
            "Epoch 39/100\n",
            "2/2 [==============================] - 0s 8ms/step - loss: 19.1493 - mae: 19.1493\n",
            "Epoch 40/100\n",
            "2/2 [==============================] - 0s 8ms/step - loss: 20.5187 - mae: 20.5187\n",
            "Epoch 41/100\n",
            "2/2 [==============================] - 0s 7ms/step - loss: 14.8042 - mae: 14.8042\n",
            "Epoch 42/100\n",
            "2/2 [==============================] - 0s 8ms/step - loss: 12.2015 - mae: 12.2015\n",
            "Epoch 43/100\n",
            "2/2 [==============================] - 0s 8ms/step - loss: 10.6955 - mae: 10.6955\n",
            "Epoch 44/100\n",
            "2/2 [==============================] - 0s 14ms/step - loss: 32.2596 - mae: 32.2596\n",
            "Epoch 45/100\n",
            "2/2 [==============================] - 0s 8ms/step - loss: 12.4681 - mae: 12.4681\n",
            "Epoch 46/100\n",
            "2/2 [==============================] - 0s 8ms/step - loss: 17.5107 - mae: 17.5107\n",
            "Epoch 47/100\n",
            "2/2 [==============================] - 0s 8ms/step - loss: 15.7589 - mae: 15.7589\n",
            "Epoch 48/100\n",
            "2/2 [==============================] - 0s 8ms/step - loss: 8.3782 - mae: 8.3782\n",
            "Epoch 49/100\n",
            "2/2 [==============================] - 0s 7ms/step - loss: 13.9891 - mae: 13.9891\n",
            "Epoch 50/100\n",
            "2/2 [==============================] - 0s 8ms/step - loss: 12.8294 - mae: 12.8294\n",
            "Epoch 51/100\n",
            "2/2 [==============================] - 0s 8ms/step - loss: 14.8398 - mae: 14.8398\n",
            "Epoch 52/100\n",
            "2/2 [==============================] - 0s 9ms/step - loss: 18.7252 - mae: 18.7252\n",
            "Epoch 53/100\n",
            "2/2 [==============================] - 0s 9ms/step - loss: 24.1746 - mae: 24.1746\n",
            "Epoch 54/100\n",
            "2/2 [==============================] - 0s 14ms/step - loss: 23.1651 - mae: 23.1651\n",
            "Epoch 55/100\n",
            "2/2 [==============================] - 0s 13ms/step - loss: 24.0149 - mae: 24.0149\n",
            "Epoch 56/100\n",
            "2/2 [==============================] - 0s 8ms/step - loss: 11.1572 - mae: 11.1572\n",
            "Epoch 57/100\n",
            "2/2 [==============================] - 0s 12ms/step - loss: 13.1098 - mae: 13.1098\n",
            "Epoch 58/100\n",
            "2/2 [==============================] - 0s 7ms/step - loss: 9.8079 - mae: 9.8079\n",
            "Epoch 59/100\n",
            "2/2 [==============================] - 0s 8ms/step - loss: 13.2947 - mae: 13.2947\n",
            "Epoch 60/100\n",
            "2/2 [==============================] - 0s 8ms/step - loss: 10.8654 - mae: 10.8654\n",
            "Epoch 61/100\n",
            "2/2 [==============================] - 0s 10ms/step - loss: 13.4629 - mae: 13.4629\n",
            "Epoch 62/100\n",
            "2/2 [==============================] - 0s 9ms/step - loss: 17.4783 - mae: 17.4783\n",
            "Epoch 63/100\n",
            "2/2 [==============================] - 0s 13ms/step - loss: 9.1568 - mae: 9.1568\n",
            "Epoch 64/100\n",
            "2/2 [==============================] - 0s 8ms/step - loss: 18.3500 - mae: 18.3500\n",
            "Epoch 65/100\n",
            "2/2 [==============================] - 0s 10ms/step - loss: 10.1121 - mae: 10.1121\n",
            "Epoch 66/100\n",
            "2/2 [==============================] - 0s 8ms/step - loss: 24.2051 - mae: 24.2051\n",
            "Epoch 67/100\n",
            "2/2 [==============================] - 0s 11ms/step - loss: 10.8758 - mae: 10.8758\n",
            "Epoch 68/100\n",
            "2/2 [==============================] - 0s 10ms/step - loss: 10.7618 - mae: 10.7618\n",
            "Epoch 69/100\n",
            "2/2 [==============================] - 0s 8ms/step - loss: 23.1855 - mae: 23.1855\n",
            "Epoch 70/100\n",
            "2/2 [==============================] - 0s 9ms/step - loss: 8.8273 - mae: 8.8273\n",
            "Epoch 71/100\n",
            "2/2 [==============================] - 0s 8ms/step - loss: 16.0027 - mae: 16.0027\n",
            "Epoch 72/100\n",
            "2/2 [==============================] - 0s 11ms/step - loss: 8.1563 - mae: 8.1563\n",
            "Epoch 73/100\n",
            "2/2 [==============================] - 0s 8ms/step - loss: 9.4697 - mae: 9.4697\n",
            "Epoch 74/100\n",
            "2/2 [==============================] - 0s 7ms/step - loss: 28.1748 - mae: 28.1748\n",
            "Epoch 75/100\n",
            "2/2 [==============================] - 0s 7ms/step - loss: 10.1805 - mae: 10.1805\n",
            "Epoch 76/100\n",
            "2/2 [==============================] - 0s 7ms/step - loss: 13.1269 - mae: 13.1269\n",
            "Epoch 77/100\n",
            "2/2 [==============================] - 0s 7ms/step - loss: 18.3354 - mae: 18.3354\n",
            "Epoch 78/100\n",
            "2/2 [==============================] - 0s 6ms/step - loss: 9.0113 - mae: 9.0113\n",
            "Epoch 79/100\n",
            "2/2 [==============================] - 0s 8ms/step - loss: 29.2813 - mae: 29.2813\n",
            "Epoch 80/100\n",
            "2/2 [==============================] - 0s 6ms/step - loss: 31.7153 - mae: 31.7153\n",
            "Epoch 81/100\n",
            "2/2 [==============================] - 0s 6ms/step - loss: 13.9386 - mae: 13.9386\n",
            "Epoch 82/100\n",
            "2/2 [==============================] - 0s 7ms/step - loss: 15.6876 - mae: 15.6876\n",
            "Epoch 83/100\n",
            "2/2 [==============================] - 0s 6ms/step - loss: 11.1763 - mae: 11.1763\n",
            "Epoch 84/100\n",
            "2/2 [==============================] - 0s 6ms/step - loss: 7.3112 - mae: 7.3112\n",
            "Epoch 85/100\n",
            "2/2 [==============================] - 0s 9ms/step - loss: 15.1168 - mae: 15.1168\n",
            "Epoch 86/100\n",
            "2/2 [==============================] - 0s 9ms/step - loss: 15.4087 - mae: 15.4087\n",
            "Epoch 87/100\n",
            "2/2 [==============================] - 0s 11ms/step - loss: 19.3480 - mae: 19.3480\n",
            "Epoch 88/100\n",
            "2/2 [==============================] - 0s 7ms/step - loss: 29.2035 - mae: 29.2035\n",
            "Epoch 89/100\n",
            "2/2 [==============================] - 0s 6ms/step - loss: 10.0970 - mae: 10.0970\n",
            "Epoch 90/100\n",
            "2/2 [==============================] - 0s 6ms/step - loss: 21.0139 - mae: 21.0139\n",
            "Epoch 91/100\n",
            "2/2 [==============================] - 0s 7ms/step - loss: 10.4614 - mae: 10.4614\n",
            "Epoch 92/100\n",
            "2/2 [==============================] - 0s 7ms/step - loss: 17.9391 - mae: 17.9391\n",
            "Epoch 93/100\n",
            "2/2 [==============================] - 0s 6ms/step - loss: 6.5665 - mae: 6.5665\n",
            "Epoch 94/100\n",
            "2/2 [==============================] - 0s 6ms/step - loss: 11.1160 - mae: 11.1160\n",
            "Epoch 95/100\n",
            "2/2 [==============================] - 0s 9ms/step - loss: 24.3064 - mae: 24.3064\n",
            "Epoch 96/100\n",
            "2/2 [==============================] - 0s 7ms/step - loss: 10.7215 - mae: 10.7215\n",
            "Epoch 97/100\n",
            "2/2 [==============================] - 0s 8ms/step - loss: 15.3185 - mae: 15.3185\n",
            "Epoch 98/100\n",
            "2/2 [==============================] - 0s 5ms/step - loss: 8.2437 - mae: 8.2437\n",
            "Epoch 99/100\n",
            "2/2 [==============================] - 0s 6ms/step - loss: 16.4910 - mae: 16.4910\n",
            "Epoch 100/100\n",
            "2/2 [==============================] - 0s 5ms/step - loss: 14.2794 - mae: 14.2794\n"
          ]
        },
        {
          "output_type": "execute_result",
          "data": {
            "text/plain": [
              "<keras.callbacks.History at 0x7f5d4daad8d0>"
            ]
          },
          "metadata": {},
          "execution_count": 22
        }
      ]
    },
    {
      "cell_type": "code",
      "source": [
        "y_preds_2=model_2.predict(X_test)"
      ],
      "metadata": {
        "colab": {
          "base_uri": "https://localhost:8080/"
        },
        "id": "yGSNgdF3BHzz",
        "outputId": "3daebf3e-eed3-4b6f-f50b-a4abae1309f4"
      },
      "execution_count": 23,
      "outputs": [
        {
          "output_type": "stream",
          "name": "stderr",
          "text": [
            "WARNING:tensorflow:5 out of the last 5 calls to <function Model.make_predict_function.<locals>.predict_function at 0x7f5d4d527010> triggered tf.function retracing. Tracing is expensive and the excessive number of tracings could be due to (1) creating @tf.function repeatedly in a loop, (2) passing tensors with different shapes, (3) passing Python objects instead of tensors. For (1), please define your @tf.function outside of the loop. For (2), @tf.function has reduce_retracing=True option that can avoid unnecessary retracing. For (3), please refer to https://www.tensorflow.org/guide/function#controlling_retracing and https://www.tensorflow.org/api_docs/python/tf/function for  more details.\n"
          ]
        },
        {
          "output_type": "stream",
          "name": "stdout",
          "text": [
            "1/1 [==============================] - 0s 88ms/step\n"
          ]
        }
      ]
    },
    {
      "cell_type": "code",
      "source": [
        "mae_2 = mae(y_test, y_preds_2.squeeze()).numpy()\n",
        "mse_2 = mse(y_test, y_preds_2.squeeze()).numpy()\n",
        "mae_2, mse_2"
      ],
      "metadata": {
        "colab": {
          "base_uri": "https://localhost:8080/"
        },
        "id": "uCX4NcXrx4ky",
        "outputId": "cfb69cad-f607-4b0c-e148-6c54ad1fd2f7"
      },
      "execution_count": 24,
      "outputs": [
        {
          "output_type": "execute_result",
          "data": {
            "text/plain": [
              "(10.669653, 121.62886)"
            ]
          },
          "metadata": {},
          "execution_count": 24
        }
      ]
    },
    {
      "cell_type": "code",
      "source": [
        "def plot_predictions(train_data=X_train,\n",
        "                     train_labels=y_train,\n",
        "                     test_data=X_test,\n",
        "                     test_labels=y_test,\n",
        "                     predictions=y_pred):\n",
        "  \"\"\"\n",
        "  Plots training data, test data and compares predictions.\n",
        "  \"\"\"\n",
        "  plt.figure(figsize=(10, 7))\n",
        "  # Plot training data in blue\n",
        "  plt.scatter(train_data, train_labels, c=\"b\", label=\"Training data\")\n",
        "  # Plot test data in green\n",
        "  plt.scatter(test_data, test_labels, c=\"g\", label=\"Testing data\")\n",
        "  # Plot the predictions in red (predictions were made on the test data)\n",
        "  plt.scatter(test_data, predictions, c=\"r\", label=\"Predictions\")\n",
        "  # Show the legend\n",
        "  plt.legend();"
      ],
      "metadata": {
        "id": "3FG9JBdy_ai2"
      },
      "execution_count": 25,
      "outputs": []
    },
    {
      "cell_type": "code",
      "source": [
        "plot_predictions(train_data=X_train,\n",
        "                 train_labels=y_train,\n",
        "                 test_data=X_test,\n",
        "                 test_labels=y_test,\n",
        "                 predictions=y_preds_2)"
      ],
      "metadata": {
        "colab": {
          "base_uri": "https://localhost:8080/",
          "height": 599
        },
        "id": "gNWUaaG9AJgL",
        "outputId": "427e34a2-bff5-4c9d-c0b2-ba56309bc428"
      },
      "execution_count": 26,
      "outputs": [
        {
          "output_type": "display_data",
          "data": {
            "text/plain": [
              "<Figure size 1000x700 with 1 Axes>"
            ],
            "image/png": "[encoded data removed]"
          },
          "metadata": {}
        }
      ]
    },
    {
      "cell_type": "code",
      "source": [
        "tf.random.set_seed(42)\n",
        "model_3 = tf.keras.Sequential([\n",
        "    tf.keras.layers.Dense(1)\n",
        "])\n",
        "model_3.compile(loss=tf.keras.losses.mae,\n",
        "               optimizer=tf.keras.optimizers.Adam(learning_rate=0.1),\n",
        "               metrics=['mae'])\n",
        "model_3.fit(tf.expand_dims(X_train,axis=-1), y_train, epochs=100)"
      ],
      "metadata": {
        "colab": {
          "base_uri": "https://localhost:8080/"
        },
        "id": "EhCNdsNdAak_",
        "outputId": "ec7cfe12-4eaf-4e30-e2c3-1f79088434d6"
      },
      "execution_count": 27,
      "outputs": [
        {
          "output_type": "stream",
          "name": "stdout",
          "text": [
            "Epoch 1/100\n",
            "2/2 [==============================] - 0s 11ms/step - loss: 24.8553 - mae: 24.8553\n",
            "Epoch 2/100\n",
            "2/2 [==============================] - 0s 6ms/step - loss: 16.8749 - mae: 16.8749\n",
            "Epoch 3/100\n",
            "2/2 [==============================] - 0s 7ms/step - loss: 11.6367 - mae: 11.6367\n",
            "Epoch 4/100\n",
            "2/2 [==============================] - 0s 7ms/step - loss: 7.8920 - mae: 7.8920\n",
            "Epoch 5/100\n",
            "2/2 [==============================] - 0s 6ms/step - loss: 10.2533 - mae: 10.2533\n",
            "Epoch 6/100\n",
            "2/2 [==============================] - 0s 6ms/step - loss: 11.8388 - mae: 11.8388\n",
            "Epoch 7/100\n",
            "2/2 [==============================] - 0s 6ms/step - loss: 10.8686 - mae: 10.8686\n",
            "Epoch 8/100\n",
            "2/2 [==============================] - 0s 6ms/step - loss: 8.2138 - mae: 8.2138\n",
            "Epoch 9/100\n",
            "2/2 [==============================] - 0s 6ms/step - loss: 6.4782 - mae: 6.4782\n",
            "Epoch 10/100\n",
            "2/2 [==============================] - 0s 7ms/step - loss: 8.2073 - mae: 8.2073\n",
            "Epoch 11/100\n",
            "2/2 [==============================] - 0s 7ms/step - loss: 9.4419 - mae: 9.4419\n",
            "Epoch 12/100\n",
            "2/2 [==============================] - 0s 6ms/step - loss: 9.3966 - mae: 9.3966\n",
            "Epoch 13/100\n",
            "2/2 [==============================] - 0s 7ms/step - loss: 8.4994 - mae: 8.4994\n",
            "Epoch 14/100\n",
            "2/2 [==============================] - 0s 9ms/step - loss: 7.0543 - mae: 7.0543\n",
            "Epoch 15/100\n",
            "2/2 [==============================] - 0s 7ms/step - loss: 5.8372 - mae: 5.8372\n",
            "Epoch 16/100\n",
            "2/2 [==============================] - 0s 12ms/step - loss: 6.9941 - mae: 6.9941\n",
            "Epoch 17/100\n",
            "2/2 [==============================] - 0s 10ms/step - loss: 7.0021 - mae: 7.0021\n",
            "Epoch 18/100\n",
            "2/2 [==============================] - 0s 10ms/step - loss: 5.8757 - mae: 5.8757\n",
            "Epoch 19/100\n",
            "2/2 [==============================] - 0s 9ms/step - loss: 5.4624 - mae: 5.4624\n",
            "Epoch 20/100\n",
            "2/2 [==============================] - 0s 7ms/step - loss: 5.6593 - mae: 5.6593\n",
            "Epoch 21/100\n",
            "2/2 [==============================] - 0s 6ms/step - loss: 5.0738 - mae: 5.0738\n",
            "Epoch 22/100\n",
            "2/2 [==============================] - 0s 6ms/step - loss: 5.0744 - mae: 5.0744\n",
            "Epoch 23/100\n",
            "2/2 [==============================] - 0s 6ms/step - loss: 5.4605 - mae: 5.4605\n",
            "Epoch 24/100\n",
            "2/2 [==============================] - 0s 6ms/step - loss: 4.8907 - mae: 4.8907\n",
            "Epoch 25/100\n",
            "2/2 [==============================] - 0s 6ms/step - loss: 4.5521 - mae: 4.5521\n",
            "Epoch 26/100\n",
            "2/2 [==============================] - 0s 6ms/step - loss: 4.8562 - mae: 4.8562\n",
            "Epoch 27/100\n",
            "2/2 [==============================] - 0s 6ms/step - loss: 4.3274 - mae: 4.3274\n",
            "Epoch 28/100\n",
            "2/2 [==============================] - 0s 6ms/step - loss: 4.0088 - mae: 4.0088\n",
            "Epoch 29/100\n",
            "2/2 [==============================] - 0s 5ms/step - loss: 4.4365 - mae: 4.4365\n",
            "Epoch 30/100\n",
            "2/2 [==============================] - 0s 6ms/step - loss: 3.8534 - mae: 3.8534\n",
            "Epoch 31/100\n",
            "2/2 [==============================] - 0s 5ms/step - loss: 3.7027 - mae: 3.7027\n",
            "Epoch 32/100\n",
            "2/2 [==============================] - 0s 6ms/step - loss: 3.8557 - mae: 3.8557\n",
            "Epoch 33/100\n",
            "2/2 [==============================] - 0s 7ms/step - loss: 3.3109 - mae: 3.3109\n",
            "Epoch 34/100\n",
            "2/2 [==============================] - 0s 6ms/step - loss: 3.2988 - mae: 3.2988\n",
            "Epoch 35/100\n",
            "2/2 [==============================] - 0s 6ms/step - loss: 3.1431 - mae: 3.1431\n",
            "Epoch 36/100\n",
            "2/2 [==============================] - 0s 7ms/step - loss: 2.8844 - mae: 2.8844\n",
            "Epoch 37/100\n",
            "2/2 [==============================] - 0s 6ms/step - loss: 2.7275 - mae: 2.7275\n",
            "Epoch 38/100\n",
            "2/2 [==============================] - 0s 7ms/step - loss: 2.6016 - mae: 2.6016\n",
            "Epoch 39/100\n",
            "2/2 [==============================] - 0s 5ms/step - loss: 2.4314 - mae: 2.4314\n",
            "Epoch 40/100\n",
            "2/2 [==============================] - 0s 5ms/step - loss: 2.2875 - mae: 2.2875\n",
            "Epoch 41/100\n",
            "2/2 [==============================] - 0s 5ms/step - loss: 2.1439 - mae: 2.1439\n",
            "Epoch 42/100\n",
            "2/2 [==============================] - 0s 6ms/step - loss: 2.0317 - mae: 2.0317\n",
            "Epoch 43/100\n",
            "2/2 [==============================] - 0s 5ms/step - loss: 1.9216 - mae: 1.9216\n",
            "Epoch 44/100\n",
            "2/2 [==============================] - 0s 5ms/step - loss: 1.7475 - mae: 1.7475\n",
            "Epoch 45/100\n",
            "2/2 [==============================] - 0s 7ms/step - loss: 1.5972 - mae: 1.5972\n",
            "Epoch 46/100\n",
            "2/2 [==============================] - 0s 6ms/step - loss: 1.5901 - mae: 1.5901\n",
            "Epoch 47/100\n",
            "2/2 [==============================] - 0s 6ms/step - loss: 1.2859 - mae: 1.2859\n",
            "Epoch 48/100\n",
            "2/2 [==============================] - 0s 6ms/step - loss: 1.1375 - mae: 1.1375\n",
            "Epoch 49/100\n",
            "2/2 [==============================] - 0s 6ms/step - loss: 1.1606 - mae: 1.1606\n",
            "Epoch 50/100\n",
            "2/2 [==============================] - 0s 5ms/step - loss: 0.8904 - mae: 0.8904\n",
            "Epoch 51/100\n",
            "2/2 [==============================] - 0s 5ms/step - loss: 0.7868 - mae: 0.7868\n",
            "Epoch 52/100\n",
            "2/2 [==============================] - 0s 6ms/step - loss: 0.9058 - mae: 0.9058\n",
            "Epoch 53/100\n",
            "2/2 [==============================] - 0s 6ms/step - loss: 0.5462 - mae: 0.5462\n",
            "Epoch 54/100\n",
            "2/2 [==============================] - 0s 7ms/step - loss: 1.7317 - mae: 1.7317\n",
            "Epoch 55/100\n",
            "2/2 [==============================] - 0s 6ms/step - loss: 1.5896 - mae: 1.5896\n",
            "Epoch 56/100\n",
            "2/2 [==============================] - 0s 6ms/step - loss: 1.0898 - mae: 1.0898\n",
            "Epoch 57/100\n",
            "2/2 [==============================] - 0s 7ms/step - loss: 1.5324 - mae: 1.5324\n",
            "Epoch 58/100\n",
            "2/2 [==============================] - 0s 6ms/step - loss: 0.4521 - mae: 0.4521\n",
            "Epoch 59/100\n",
            "2/2 [==============================] - 0s 6ms/step - loss: 0.5900 - mae: 0.5900\n",
            "Epoch 60/100\n",
            "2/2 [==============================] - 0s 6ms/step - loss: 0.6824 - mae: 0.6824\n",
            "Epoch 61/100\n",
            "2/2 [==============================] - 0s 7ms/step - loss: 0.4075 - mae: 0.4075\n",
            "Epoch 62/100\n",
            "2/2 [==============================] - 0s 8ms/step - loss: 0.3162 - mae: 0.3162\n",
            "Epoch 63/100\n",
            "2/2 [==============================] - 0s 6ms/step - loss: 0.5491 - mae: 0.5491\n",
            "Epoch 64/100\n",
            "2/2 [==============================] - 0s 6ms/step - loss: 0.1007 - mae: 0.1007\n",
            "Epoch 65/100\n",
            "2/2 [==============================] - 0s 8ms/step - loss: 0.3899 - mae: 0.3899\n",
            "Epoch 66/100\n",
            "2/2 [==============================] - 0s 8ms/step - loss: 0.6606 - mae: 0.6606\n",
            "Epoch 67/100\n",
            "2/2 [==============================] - 0s 7ms/step - loss: 0.3385 - mae: 0.3385\n",
            "Epoch 68/100\n",
            "2/2 [==============================] - 0s 6ms/step - loss: 1.2852 - mae: 1.2852\n",
            "Epoch 69/100\n",
            "2/2 [==============================] - 0s 7ms/step - loss: 0.3613 - mae: 0.3613\n",
            "Epoch 70/100\n",
            "2/2 [==============================] - 0s 10ms/step - loss: 1.9588 - mae: 1.9588\n",
            "Epoch 71/100\n",
            "2/2 [==============================] - 0s 8ms/step - loss: 1.1784 - mae: 1.1784\n",
            "Epoch 72/100\n",
            "2/2 [==============================] - 0s 9ms/step - loss: 1.2905 - mae: 1.2905\n",
            "Epoch 73/100\n",
            "2/2 [==============================] - 0s 10ms/step - loss: 1.6022 - mae: 1.6022\n",
            "Epoch 74/100\n",
            "2/2 [==============================] - 0s 7ms/step - loss: 0.4051 - mae: 0.4051\n",
            "Epoch 75/100\n",
            "2/2 [==============================] - 0s 6ms/step - loss: 1.2578 - mae: 1.2578\n",
            "Epoch 76/100\n",
            "2/2 [==============================] - 0s 7ms/step - loss: 0.2226 - mae: 0.2226\n",
            "Epoch 77/100\n",
            "2/2 [==============================] - 0s 7ms/step - loss: 0.7151 - mae: 0.7151\n",
            "Epoch 78/100\n",
            "2/2 [==============================] - 0s 7ms/step - loss: 0.9873 - mae: 0.9873\n",
            "Epoch 79/100\n",
            "2/2 [==============================] - 0s 7ms/step - loss: 0.7314 - mae: 0.7314\n",
            "Epoch 80/100\n",
            "2/2 [==============================] - 0s 7ms/step - loss: 1.6581 - mae: 1.6581\n",
            "Epoch 81/100\n",
            "2/2 [==============================] - 0s 6ms/step - loss: 2.4331 - mae: 2.4331\n",
            "Epoch 82/100\n",
            "2/2 [==============================] - 0s 7ms/step - loss: 1.0335 - mae: 1.0335\n",
            "Epoch 83/100\n",
            "2/2 [==============================] - 0s 6ms/step - loss: 1.0515 - mae: 1.0515\n",
            "Epoch 84/100\n",
            "2/2 [==============================] - 0s 6ms/step - loss: 0.9262 - mae: 0.9262\n",
            "Epoch 85/100\n",
            "2/2 [==============================] - 0s 7ms/step - loss: 1.0810 - mae: 1.0810\n",
            "Epoch 86/100\n",
            "2/2 [==============================] - 0s 6ms/step - loss: 1.3940 - mae: 1.3940\n",
            "Epoch 87/100\n",
            "2/2 [==============================] - 0s 7ms/step - loss: 0.3951 - mae: 0.3951\n",
            "Epoch 88/100\n",
            "2/2 [==============================] - 0s 7ms/step - loss: 0.4947 - mae: 0.4947\n",
            "Epoch 89/100\n",
            "2/2 [==============================] - 0s 8ms/step - loss: 0.3517 - mae: 0.3517\n",
            "Epoch 90/100\n",
            "2/2 [==============================] - 0s 9ms/step - loss: 0.9744 - mae: 0.9744\n",
            "Epoch 91/100\n",
            "2/2 [==============================] - 0s 8ms/step - loss: 0.7731 - mae: 0.7731\n",
            "Epoch 92/100\n",
            "2/2 [==============================] - 0s 8ms/step - loss: 1.2997 - mae: 1.2997\n",
            "Epoch 93/100\n",
            "2/2 [==============================] - 0s 6ms/step - loss: 1.8297 - mae: 1.8297\n",
            "Epoch 94/100\n",
            "2/2 [==============================] - 0s 5ms/step - loss: 0.5746 - mae: 0.5746\n",
            "Epoch 95/100\n",
            "2/2 [==============================] - 0s 6ms/step - loss: 1.5767 - mae: 1.5767\n",
            "Epoch 96/100\n",
            "2/2 [==============================] - 0s 6ms/step - loss: 0.8642 - mae: 0.8642\n",
            "Epoch 97/100\n",
            "2/2 [==============================] - 0s 6ms/step - loss: 1.3514 - mae: 1.3514\n",
            "Epoch 98/100\n",
            "2/2 [==============================] - 0s 6ms/step - loss: 1.8999 - mae: 1.8999\n",
            "Epoch 99/100\n",
            "2/2 [==============================] - 0s 6ms/step - loss: 0.6332 - mae: 0.6332\n",
            "Epoch 100/100\n",
            "2/2 [==============================] - 0s 6ms/step - loss: 1.3179 - mae: 1.3179\n"
          ]
        },
        {
          "output_type": "execute_result",
          "data": {
            "text/plain": [
              "<keras.callbacks.History at 0x7f5d4d8b7940>"
            ]
          },
          "metadata": {},
          "execution_count": 27
        }
      ]
    },
    {
      "cell_type": "code",
      "source": [
        "y_preds_3=model_3.predict(X_test)"
      ],
      "metadata": {
        "colab": {
          "base_uri": "https://localhost:8080/"
        },
        "id": "Uys8RIKsBiZ1",
        "outputId": "30d8a4b8-9702-41a5-a932-4fe73ed45909"
      },
      "execution_count": 28,
      "outputs": [
        {
          "output_type": "stream",
          "name": "stderr",
          "text": [
            "WARNING:tensorflow:6 out of the last 6 calls to <function Model.make_predict_function.<locals>.predict_function at 0x7f5d4da9c280> triggered tf.function retracing. Tracing is expensive and the excessive number of tracings could be due to (1) creating @tf.function repeatedly in a loop, (2) passing tensors with different shapes, (3) passing Python objects instead of tensors. For (1), please define your @tf.function outside of the loop. For (2), @tf.function has reduce_retracing=True option that can avoid unnecessary retracing. For (3), please refer to https://www.tensorflow.org/guide/function#controlling_retracing and https://www.tensorflow.org/api_docs/python/tf/function for  more details.\n"
          ]
        },
        {
          "output_type": "stream",
          "name": "stdout",
          "text": [
            "1/1 [==============================] - 0s 66ms/step\n"
          ]
        }
      ]
    },
    {
      "cell_type": "code",
      "source": [
        "plot_predictions(train_data=X_train,\n",
        "                 train_labels=y_train,\n",
        "                 test_data=X_test,\n",
        "                 test_labels=y_test,\n",
        "                 predictions=y_preds_3)"
      ],
      "metadata": {
        "colab": {
          "base_uri": "https://localhost:8080/",
          "height": 599
        },
        "id": "XI4HeKuJBsXp",
        "outputId": "ce640e1e-e3ad-4fc4-a8c5-b311a9d23bd2"
      },
      "execution_count": 29,
      "outputs": [
        {
          "output_type": "display_data",
          "data": {
            "text/plain": [
              "<Figure size 1000x700 with 1 Axes>"
            ],
            "image/png": "[encoded data removed]"
          },
          "metadata": {}
        }
      ]
    },
    {
      "cell_type": "code",
      "source": [],
      "metadata": {
        "id": "Te5ck8WiBvgk"
      },
      "execution_count": 29,
      "outputs": []
    },
    {
      "cell_type": "code",
      "source": [
        "mae_3 = mae(y_test, y_preds_3.squeeze()).numpy()\n",
        "mse_3 = mse(y_test, y_preds_3.squeeze()).numpy()\n",
        "mae_3, mse_3"
      ],
      "metadata": {
        "colab": {
          "base_uri": "https://localhost:8080/"
        },
        "id": "nRNNUe9iC5u-",
        "outputId": "658718d0-e94e-4d69-c5b1-9da706f1cf1c"
      },
      "execution_count": 30,
      "outputs": [
        {
          "output_type": "execute_result",
          "data": {
            "text/plain": [
              "(1.1409905, 1.3321484)"
            ]
          },
          "metadata": {},
          "execution_count": 30
        }
      ]
    },
    {
      "cell_type": "code",
      "source": [
        "model_results = [[\"model_1\", mae_1, mse_1],\n",
        "                 [\"model_2\", mae_2, mse_2],\n",
        "                 [\"model_3\", mae_3, mse_3]]"
      ],
      "metadata": {
        "id": "cN9hjg6EDABa"
      },
      "execution_count": 31,
      "outputs": []
    },
    {
      "cell_type": "code",
      "source": [
        "\n",
        "import pandas as pd\n",
        "all_results = pd.DataFrame(model_results, columns=[\"model\", \"mae\", \"mse\"])\n",
        "all_results"
      ],
      "metadata": {
        "colab": {
          "base_uri": "https://localhost:8080/",
          "height": 143
        },
        "id": "WtbNIsUpxyRo",
        "outputId": "9f559418-ccdb-47c6-dc61-5b6e82095391"
      },
      "execution_count": 32,
      "outputs": [
        {
          "output_type": "execute_result",
          "data": {
            "text/plain": [
              "     model        mae         mse\n",
              "0  model_1   1.513664    2.340696\n",
              "1  model_2  10.669653  121.628860\n",
              "2  model_3   1.140990    1.332148"
            ],
            "text/html": [
              "\n",
              "  <div id=\"df-ae2b8041-93a3-4d4a-894a-5e9d8a201265\">\n",
              "    <div class=\"colab-df-container\">\n",
              "      <div>\n",
              "<style scoped>\n",
              "    .dataframe tbody tr th:only-of-type {\n",
              "        vertical-align: middle;\n",
              "    }\n",
              "\n",
              "    .dataframe tbody tr th {\n",
              "        vertical-align: top;\n",
              "    }\n",
              "\n",
              "    .dataframe thead th {\n",
              "        text-align: right;\n",
              "    }\n",
              "</style>\n",
              "<table border=\"1\" class=\"dataframe\">\n",
              "  <thead>\n",
              "    <tr style=\"text-align: right;\">\n",
              "      <th></th>\n",
              "      <th>model</th>\n",
              "      <th>mae</th>\n",
              "      <th>mse</th>\n",
              "    </tr>\n",
              "  </thead>\n",
              "  <tbody>\n",
              "    <tr>\n",
              "      <th>0</th>\n",
              "      <td>model_1</td>\n",
              "      <td>1.513664</td>\n",
              "      <td>2.340696</td>\n",
              "    </tr>\n",
              "    <tr>\n",
              "      <th>1</th>\n",
              "      <td>model_2</td>\n",
              "      <td>10.669653</td>\n",
              "      <td>121.628860</td>\n",
              "    </tr>\n",
              "    <tr>\n",
              "      <th>2</th>\n",
              "      <td>model_3</td>\n",
              "      <td>1.140990</td>\n",
              "      <td>1.332148</td>\n",
              "    </tr>\n",
              "  </tbody>\n",
              "</table>\n",
              "</div>\n",
              "      <button class=\"colab-df-convert\" onclick=\"convertToInteractive('df-ae2b8041-93a3-4d4a-894a-5e9d8a201265')\"\n",
              "              title=\"Convert this dataframe to an interactive table.\"\n",
              "              style=\"display:none;\">\n",
              "        \n",
              "  <svg xmlns=\"http://www.w3.org/2000/svg\" height=\"24px\"viewBox=\"0 0 24 24\"\n",
              "       width=\"24px\">\n",
              "    <path d=\"M0 0h24v24H0V0z\" fill=\"none\"/>\n",
              "    <path d=\"M18.56 5.44l.94 2.06.94-2.06 2.06-.94-2.06-.94-.94-2.06-.94 2.06-2.06.94zm-11 1L8.5 8.5l.94-2.06 2.06-.94-2.06-.94L8.5 2.5l-.94 2.06-2.06.94zm10 10l.94 2.06.94-2.06 2.06-.94-2.06-.94-.94-2.06-.94 2.06-2.06.94z\"/><path d=\"M17.41 7.96l-1.37-1.37c-.4-.4-.92-.59-1.43-.59-.52 0-1.04.2-1.43.59L10.3 9.45l-7.72 7.72c-.78.78-.78 2.05 0 2.83L4 21.41c.39.39.9.59 1.41.59.51 0 1.02-.2 1.41-.59l7.78-7.78 2.81-2.81c.8-.78.8-2.07 0-2.86zM5.41 20L4 18.59l7.72-7.72 1.47 1.35L5.41 20z\"/>\n",
              "  </svg>\n",
              "      </button>\n",
              "      \n",
              "  <style>\n",
              "    .colab-df-container {\n",
              "      display:flex;\n",
              "      flex-wrap:wrap;\n",
              "      gap: 12px;\n",
              "    }\n",
              "\n",
              "    .colab-df-convert {\n",
              "      background-color: #E8F0FE;\n",
              "      border: none;\n",
              "      border-radius: 50%;\n",
              "      cursor: pointer;\n",
              "      display: none;\n",
              "      fill: #1967D2;\n",
              "      height: 32px;\n",
              "      padding: 0 0 0 0;\n",
              "      width: 32px;\n",
              "    }\n",
              "\n",
              "    .colab-df-convert:hover {\n",
              "      background-color: #E2EBFA;\n",
              "      box-shadow: 0px 1px 2px rgba(60, 64, 67, 0.3), 0px 1px 3px 1px rgba(60, 64, 67, 0.15);\n",
              "      fill: #174EA6;\n",
              "    }\n",
              "\n",
              "    [theme=dark] .colab-df-convert {\n",
              "      background-color: #3B4455;\n",
              "      fill: #D2E3FC;\n",
              "    }\n",
              "\n",
              "    [theme=dark] .colab-df-convert:hover {\n",
              "      background-color: #434B5C;\n",
              "      box-shadow: 0px 1px 3px 1px rgba(0, 0, 0, 0.15);\n",
              "      filter: drop-shadow(0px 1px 2px rgba(0, 0, 0, 0.3));\n",
              "      fill: #FFFFFF;\n",
              "    }\n",
              "  </style>\n",
              "\n",
              "      <script>\n",
              "        const buttonEl =\n",
              "          document.querySelector('#df-ae2b8041-93a3-4d4a-894a-5e9d8a201265 button.colab-df-convert');\n",
              "        buttonEl.style.display =\n",
              "          google.colab.kernel.accessAllowed ? 'block' : 'none';\n",
              "\n",
              "        async function convertToInteractive(key) {\n",
              "          const element = document.querySelector('#df-ae2b8041-93a3-4d4a-894a-5e9d8a201265');\n",
              "          const dataTable =\n",
              "            await google.colab.kernel.invokeFunction('convertToInteractive',\n",
              "                                                     [key], {});\n",
              "          if (!dataTable) return;\n",
              "\n",
              "          const docLinkHtml = 'Like what you see? Visit the ' +\n",
              "            '<a target=\"_blank\" href=https://colab.research.google.com/notebooks/data_table.ipynb>data table notebook</a>'\n",
              "            + ' to learn more about interactive tables.';\n",
              "          element.innerHTML = '';\n",
              "          dataTable['output_type'] = 'display_data';\n",
              "          await google.colab.output.renderOutput(dataTable, element);\n",
              "          const docLink = document.createElement('div');\n",
              "          docLink.innerHTML = docLinkHtml;\n",
              "          element.appendChild(docLink);\n",
              "        }\n",
              "      </script>\n",
              "    </div>\n",
              "  </div>\n",
              "  "
            ]
          },
          "metadata": {},
          "execution_count": 32
        }
      ]
    },
    {
      "cell_type": "code",
      "source": [
        "model_3.save('best_model_format')"
      ],
      "metadata": {
        "colab": {
          "base_uri": "https://localhost:8080/"
        },
        "id": "Y9n9sfgfy4sm",
        "outputId": "f886d749-1b95-4105-a62b-b1b7c7fb507d"
      },
      "execution_count": 34,
      "outputs": [
        {
          "output_type": "stream",
          "name": "stderr",
          "text": [
            "WARNING:absl:Found untraced functions such as _update_step_xla while saving (showing 1 of 1). These functions will not be directly callable after loading.\n"
          ]
        }
      ]
    },
    {
      "cell_type": "code",
      "source": [],
      "metadata": {
        "id": "hsIykny0LPbR"
      },
      "execution_count": null,
      "outputs": []
    }
  ]
}