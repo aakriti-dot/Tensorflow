{
  "nbformat": 4,
  "nbformat_minor": 0,
  "metadata": {
    "colab": {
      "provenance": [],
      "authorship_tag": "ABX9TyP+l/bjFR5khY6caCuw0OEa"
    },
    "kernelspec": {
      "name": "python3",
      "display_name": "Python 3"
    },
    "language_info": {
      "name": "python"
    }
  },
  "cells": [
    {
      "cell_type": "markdown",
      "source": [
        "Architecture of a neural netwrok regression.\n",
        "1. Input layer shape - Same shape as number of features.\n",
        "2. Hidden layer - minimum:1 , maximum: unlimited.\n",
        "3. Neurons per hidden layer - Problem specific, generally 10 to 100.\n",
        "4. Output layer shape : Same shape as desired predition shape.\n",
        "5. Hidden activation - Usually ReLU\n",
        "6. Output activation - None, ReLU, logistic/tanh\n",
        "7. Loss function - MSE, MAE if outliers\n",
        "8. Optimizer - SGD, Adam"
      ],
      "metadata": {
        "id": "lVFoa14OWJV1"
      }
    },
    {
      "cell_type": "code",
      "source": [
        "import tensorflow as tf\n",
        "print(tf.__version__)"
      ],
      "metadata": {
        "colab": {
          "base_uri": "https://localhost:8080/"
        },
        "id": "0wxEXxYbXLli",
        "outputId": "30351ad5-7f34-453a-f409-cbd8c017f3db"
      },
      "execution_count": 1,
      "outputs": [
        {
          "output_type": "stream",
          "name": "stdout",
          "text": [
            "2.12.0\n"
          ]
        }
      ]
    },
    {
      "cell_type": "code",
      "source": [
        "house_info = tf.constant(['bedroom', 'bathroom', 'garage'])\n",
        "house_price = tf.constant([939700])\n",
        "house_info, house_price"
      ],
      "metadata": {
        "colab": {
          "base_uri": "https://localhost:8080/"
        },
        "id": "7vQnye9N_ApT",
        "outputId": "36a0c42f-99ff-4236-92a3-8325830491b8"
      },
      "execution_count": 2,
      "outputs": [
        {
          "output_type": "execute_result",
          "data": {
            "text/plain": [
              "(<tf.Tensor: shape=(3,), dtype=string, numpy=array([b'bedroom', b'bathroom', b'garage'], dtype=object)>,\n",
              " <tf.Tensor: shape=(1,), dtype=int32, numpy=array([939700], dtype=int32)>)"
            ]
          },
          "metadata": {},
          "execution_count": 2
        }
      ]
    },
    {
      "cell_type": "markdown",
      "source": [
        "## Steps in modelling with tensorflow\n",
        "1. **Creating a model** - define the input and output layers as well as the hidden layers.\n",
        "2. **Compiling a model** - define the loss function, optimizer, evaluation metrics.\n",
        "3. Fitting a model - Letting a model to try to find patterns between features and labels."
      ],
      "metadata": {
        "id": "EHtObwKHEmns"
      }
    },
    {
      "cell_type": "code",
      "source": [
        "import numpy as np\n",
        "X = np.array([-7.0, -4.0, -1.0, 2.0, 5.0, 8.0, 11.0, 14.0])\n",
        "y = np.array( [3.0, 6.0, 9.0, 12.0, 15.0, 18.0, 21.0, 24.0])\n",
        "\n",
        "\n",
        "X = tf.constant(X)\n",
        "y = tf.constant(y)\n",
        "\n",
        "X,y"
      ],
      "metadata": {
        "colab": {
          "base_uri": "https://localhost:8080/"
        },
        "id": "EQpnzKZyFaTv",
        "outputId": "0f33d5df-26a9-4305-eb1f-21a4a2583571"
      },
      "execution_count": 3,
      "outputs": [
        {
          "output_type": "execute_result",
          "data": {
            "text/plain": [
              "(<tf.Tensor: shape=(8,), dtype=float64, numpy=array([-7., -4., -1.,  2.,  5.,  8., 11., 14.])>,\n",
              " <tf.Tensor: shape=(8,), dtype=float64, numpy=array([ 3.,  6.,  9., 12., 15., 18., 21., 24.])>)"
            ]
          },
          "metadata": {},
          "execution_count": 3
        }
      ]
    },
    {
      "cell_type": "code",
      "source": [
        "tf.random.set_seed(42)\n",
        "\n",
        "#create a model using sequential API\n",
        "model = tf.keras.Sequential()\n",
        "model.add(tf.keras.layers.Dense(1))\n",
        "\n",
        "#Compiling model\n",
        "model.compile(loss=tf.keras.losses.mae,\n",
        "              optimizer=tf.keras.optimizers.SGD(),\n",
        "              metrics=['mae'])\n",
        "\n",
        "model.fit(tf.expand_dims(X, axis=-1), y, epochs=10)"
      ],
      "metadata": {
        "colab": {
          "base_uri": "https://localhost:8080/"
        },
        "id": "EPIXAZkFJLOZ",
        "outputId": "590a4bd5-a72c-47df-dfb7-f271e233ae9f"
      },
      "execution_count": 4,
      "outputs": [
        {
          "output_type": "stream",
          "name": "stdout",
          "text": [
            "Epoch 1/10\n",
            "1/1 [==============================] - 1s 1s/step - loss: 7.6237 - mae: 7.6237\n",
            "Epoch 2/10\n",
            "1/1 [==============================] - 0s 34ms/step - loss: 7.4925 - mae: 7.4925\n",
            "Epoch 3/10\n",
            "1/1 [==============================] - 0s 31ms/step - loss: 7.4869 - mae: 7.4869\n",
            "Epoch 4/10\n",
            "1/1 [==============================] - 0s 25ms/step - loss: 7.4812 - mae: 7.4812\n",
            "Epoch 5/10\n",
            "1/1 [==============================] - 0s 27ms/step - loss: 7.4756 - mae: 7.4756\n",
            "Epoch 6/10\n",
            "1/1 [==============================] - 0s 31ms/step - loss: 7.4700 - mae: 7.4700\n",
            "Epoch 7/10\n",
            "1/1 [==============================] - 0s 19ms/step - loss: 7.4644 - mae: 7.4644\n",
            "Epoch 8/10\n",
            "1/1 [==============================] - 0s 42ms/step - loss: 7.4587 - mae: 7.4587\n",
            "Epoch 9/10\n",
            "1/1 [==============================] - 0s 31ms/step - loss: 7.4531 - mae: 7.4531\n",
            "Epoch 10/10\n",
            "1/1 [==============================] - 0s 34ms/step - loss: 7.4475 - mae: 7.4475\n"
          ]
        },
        {
          "output_type": "execute_result",
          "data": {
            "text/plain": [
              "<keras.callbacks.History at 0x7f425428a1d0>"
            ]
          },
          "metadata": {},
          "execution_count": 4
        }
      ]
    },
    {
      "cell_type": "code",
      "source": [
        "model.predict([17.0])"
      ],
      "metadata": {
        "colab": {
          "base_uri": "https://localhost:8080/"
        },
        "id": "MO0gpDK-Ilie",
        "outputId": "c3d20684-4918-430d-b6a2-6d2c19ba56df"
      },
      "execution_count": 5,
      "outputs": [
        {
          "output_type": "stream",
          "name": "stdout",
          "text": [
            "1/1 [==============================] - 0s 231ms/step\n"
          ]
        },
        {
          "output_type": "execute_result",
          "data": {
            "text/plain": [
              "array([[29.214502]], dtype=float32)"
            ]
          },
          "metadata": {},
          "execution_count": 5
        }
      ]
    },
    {
      "cell_type": "markdown",
      "source": [
        "### Improving the model\n",
        "\n",
        "1. Creating a model - Here we can **add more layers**, increase the number of hidden units with each of the hidden layers, **change the activation functions** of each layer.\n",
        "2. Compiling a model - Change the optimization function or maybe the **learning rate** of the function.\n",
        "3. Fitting a model - Fit the model for **more epochs**.\n",
        "\n",
        "\n",
        "The lower the learning rate, the smaller the steps the optimizer tells the neural network to improve."
      ],
      "metadata": {
        "id": "3wSOKTakGPPe"
      }
    },
    {
      "cell_type": "code",
      "source": [
        "model = tf.keras.Sequential([\n",
        "    tf.keras.layers.Dense(1)\n",
        "])\n",
        "\n",
        "model.compile(loss=tf.keras.losses.mae,\n",
        "              optimizer=tf.keras.optimizers.SGD(),\n",
        "              metrics=['mae'])\n",
        "\n",
        "model.fit(tf.expand_dims(X, axis=-1), y, epochs=100)\n"
      ],
      "metadata": {
        "colab": {
          "base_uri": "https://localhost:8080/"
        },
        "id": "1lK7SErVLJSu",
        "outputId": "361654d4-f54c-4f1f-90ae-4c67c5ff1a4d"
      },
      "execution_count": 8,
      "outputs": [
        {
          "output_type": "stream",
          "name": "stdout",
          "text": [
            "Epoch 1/100\n",
            "1/1 [==============================] - 1s 512ms/step - loss: 8.8693 - mae: 8.8693\n",
            "Epoch 2/100\n",
            "1/1 [==============================] - 0s 13ms/step - loss: 8.7368 - mae: 8.7368\n",
            "Epoch 3/100\n",
            "1/1 [==============================] - 0s 19ms/step - loss: 8.6043 - mae: 8.6043\n",
            "Epoch 4/100\n",
            "1/1 [==============================] - 0s 20ms/step - loss: 8.4718 - mae: 8.4718\n",
            "Epoch 5/100\n",
            "1/1 [==============================] - 0s 13ms/step - loss: 8.3393 - mae: 8.3393\n",
            "Epoch 6/100\n",
            "1/1 [==============================] - 0s 15ms/step - loss: 8.2068 - mae: 8.2068\n",
            "Epoch 7/100\n",
            "1/1 [==============================] - 0s 14ms/step - loss: 8.0743 - mae: 8.0743\n",
            "Epoch 8/100\n",
            "1/1 [==============================] - 0s 12ms/step - loss: 7.9418 - mae: 7.9418\n",
            "Epoch 9/100\n",
            "1/1 [==============================] - 0s 11ms/step - loss: 7.8093 - mae: 7.8093\n",
            "Epoch 10/100\n",
            "1/1 [==============================] - 0s 11ms/step - loss: 7.6768 - mae: 7.6768\n",
            "Epoch 11/100\n",
            "1/1 [==============================] - 0s 12ms/step - loss: 7.5443 - mae: 7.5443\n",
            "Epoch 12/100\n",
            "1/1 [==============================] - 0s 13ms/step - loss: 7.4175 - mae: 7.4175\n",
            "Epoch 13/100\n",
            "1/1 [==============================] - 0s 11ms/step - loss: 7.4119 - mae: 7.4119\n",
            "Epoch 14/100\n",
            "1/1 [==============================] - 0s 12ms/step - loss: 7.4062 - mae: 7.4062\n",
            "Epoch 15/100\n",
            "1/1 [==============================] - 0s 11ms/step - loss: 7.4006 - mae: 7.4006\n",
            "Epoch 16/100\n",
            "1/1 [==============================] - 0s 11ms/step - loss: 7.3950 - mae: 7.3950\n",
            "Epoch 17/100\n",
            "1/1 [==============================] - 0s 12ms/step - loss: 7.3894 - mae: 7.3894\n",
            "Epoch 18/100\n",
            "1/1 [==============================] - 0s 16ms/step - loss: 7.3837 - mae: 7.3837\n",
            "Epoch 19/100\n",
            "1/1 [==============================] - 0s 13ms/step - loss: 7.3781 - mae: 7.3781\n",
            "Epoch 20/100\n",
            "1/1 [==============================] - 0s 16ms/step - loss: 7.3725 - mae: 7.3725\n",
            "Epoch 21/100\n",
            "1/1 [==============================] - 0s 13ms/step - loss: 7.3669 - mae: 7.3669\n",
            "Epoch 22/100\n",
            "1/1 [==============================] - 0s 15ms/step - loss: 7.3612 - mae: 7.3612\n",
            "Epoch 23/100\n",
            "1/1 [==============================] - 0s 12ms/step - loss: 7.3556 - mae: 7.3556\n",
            "Epoch 24/100\n",
            "1/1 [==============================] - 0s 12ms/step - loss: 7.3500 - mae: 7.3500\n",
            "Epoch 25/100\n",
            "1/1 [==============================] - 0s 11ms/step - loss: 7.3444 - mae: 7.3444\n",
            "Epoch 26/100\n",
            "1/1 [==============================] - 0s 11ms/step - loss: 7.3387 - mae: 7.3387\n",
            "Epoch 27/100\n",
            "1/1 [==============================] - 0s 11ms/step - loss: 7.3331 - mae: 7.3331\n",
            "Epoch 28/100\n",
            "1/1 [==============================] - 0s 12ms/step - loss: 7.3275 - mae: 7.3275\n",
            "Epoch 29/100\n",
            "1/1 [==============================] - 0s 10ms/step - loss: 7.3219 - mae: 7.3219\n",
            "Epoch 30/100\n",
            "1/1 [==============================] - 0s 12ms/step - loss: 7.3162 - mae: 7.3162\n",
            "Epoch 31/100\n",
            "1/1 [==============================] - 0s 13ms/step - loss: 7.3106 - mae: 7.3106\n",
            "Epoch 32/100\n",
            "1/1 [==============================] - 0s 12ms/step - loss: 7.3050 - mae: 7.3050\n",
            "Epoch 33/100\n",
            "1/1 [==============================] - 0s 13ms/step - loss: 7.2994 - mae: 7.2994\n",
            "Epoch 34/100\n",
            "1/1 [==============================] - 0s 14ms/step - loss: 7.2938 - mae: 7.2938\n",
            "Epoch 35/100\n",
            "1/1 [==============================] - 0s 12ms/step - loss: 7.2881 - mae: 7.2881\n",
            "Epoch 36/100\n",
            "1/1 [==============================] - 0s 12ms/step - loss: 7.2825 - mae: 7.2825\n",
            "Epoch 37/100\n",
            "1/1 [==============================] - 0s 14ms/step - loss: 7.2769 - mae: 7.2769\n",
            "Epoch 38/100\n",
            "1/1 [==============================] - 0s 15ms/step - loss: 7.2712 - mae: 7.2712\n",
            "Epoch 39/100\n",
            "1/1 [==============================] - 0s 17ms/step - loss: 7.2656 - mae: 7.2656\n",
            "Epoch 40/100\n",
            "1/1 [==============================] - 0s 18ms/step - loss: 7.2600 - mae: 7.2600\n",
            "Epoch 41/100\n",
            "1/1 [==============================] - 0s 13ms/step - loss: 7.2544 - mae: 7.2544\n",
            "Epoch 42/100\n",
            "1/1 [==============================] - 0s 17ms/step - loss: 7.2487 - mae: 7.2487\n",
            "Epoch 43/100\n",
            "1/1 [==============================] - 0s 23ms/step - loss: 7.2431 - mae: 7.2431\n",
            "Epoch 44/100\n",
            "1/1 [==============================] - 0s 15ms/step - loss: 7.2375 - mae: 7.2375\n",
            "Epoch 45/100\n",
            "1/1 [==============================] - 0s 15ms/step - loss: 7.2319 - mae: 7.2319\n",
            "Epoch 46/100\n",
            "1/1 [==============================] - 0s 12ms/step - loss: 7.2263 - mae: 7.2263\n",
            "Epoch 47/100\n",
            "1/1 [==============================] - 0s 11ms/step - loss: 7.2206 - mae: 7.2206\n",
            "Epoch 48/100\n",
            "1/1 [==============================] - 0s 11ms/step - loss: 7.2150 - mae: 7.2150\n",
            "Epoch 49/100\n",
            "1/1 [==============================] - 0s 14ms/step - loss: 7.2094 - mae: 7.2094\n",
            "Epoch 50/100\n",
            "1/1 [==============================] - 0s 14ms/step - loss: 7.2037 - mae: 7.2037\n",
            "Epoch 51/100\n",
            "1/1 [==============================] - 0s 14ms/step - loss: 7.1981 - mae: 7.1981\n",
            "Epoch 52/100\n",
            "1/1 [==============================] - 0s 13ms/step - loss: 7.1925 - mae: 7.1925\n",
            "Epoch 53/100\n",
            "1/1 [==============================] - 0s 12ms/step - loss: 7.1869 - mae: 7.1869\n",
            "Epoch 54/100\n",
            "1/1 [==============================] - 0s 12ms/step - loss: 7.1813 - mae: 7.1813\n",
            "Epoch 55/100\n",
            "1/1 [==============================] - 0s 12ms/step - loss: 7.1756 - mae: 7.1756\n",
            "Epoch 56/100\n",
            "1/1 [==============================] - 0s 12ms/step - loss: 7.1700 - mae: 7.1700\n",
            "Epoch 57/100\n",
            "1/1 [==============================] - 0s 11ms/step - loss: 7.1644 - mae: 7.1644\n",
            "Epoch 58/100\n",
            "1/1 [==============================] - 0s 12ms/step - loss: 7.1587 - mae: 7.1587\n",
            "Epoch 59/100\n",
            "1/1 [==============================] - 0s 14ms/step - loss: 7.1531 - mae: 7.1531\n",
            "Epoch 60/100\n",
            "1/1 [==============================] - 0s 15ms/step - loss: 7.1475 - mae: 7.1475\n",
            "Epoch 61/100\n",
            "1/1 [==============================] - 0s 12ms/step - loss: 7.1419 - mae: 7.1419\n",
            "Epoch 62/100\n",
            "1/1 [==============================] - 0s 11ms/step - loss: 7.1363 - mae: 7.1363\n",
            "Epoch 63/100\n",
            "1/1 [==============================] - 0s 11ms/step - loss: 7.1306 - mae: 7.1306\n",
            "Epoch 64/100\n",
            "1/1 [==============================] - 0s 10ms/step - loss: 7.1250 - mae: 7.1250\n",
            "Epoch 65/100\n",
            "1/1 [==============================] - 0s 12ms/step - loss: 7.1194 - mae: 7.1194\n",
            "Epoch 66/100\n",
            "1/1 [==============================] - 0s 20ms/step - loss: 7.1138 - mae: 7.1138\n",
            "Epoch 67/100\n",
            "1/1 [==============================] - 0s 12ms/step - loss: 7.1081 - mae: 7.1081\n",
            "Epoch 68/100\n",
            "1/1 [==============================] - 0s 12ms/step - loss: 7.1025 - mae: 7.1025\n",
            "Epoch 69/100\n",
            "1/1 [==============================] - 0s 17ms/step - loss: 7.0969 - mae: 7.0969\n",
            "Epoch 70/100\n",
            "1/1 [==============================] - 0s 12ms/step - loss: 7.0912 - mae: 7.0912\n",
            "Epoch 71/100\n",
            "1/1 [==============================] - 0s 11ms/step - loss: 7.0856 - mae: 7.0856\n",
            "Epoch 72/100\n",
            "1/1 [==============================] - 0s 11ms/step - loss: 7.0800 - mae: 7.0800\n",
            "Epoch 73/100\n",
            "1/1 [==============================] - 0s 11ms/step - loss: 7.0744 - mae: 7.0744\n",
            "Epoch 74/100\n",
            "1/1 [==============================] - 0s 12ms/step - loss: 7.0687 - mae: 7.0687\n",
            "Epoch 75/100\n",
            "1/1 [==============================] - 0s 11ms/step - loss: 7.0631 - mae: 7.0631\n",
            "Epoch 76/100\n",
            "1/1 [==============================] - 0s 12ms/step - loss: 7.0575 - mae: 7.0575\n",
            "Epoch 77/100\n",
            "1/1 [==============================] - 0s 13ms/step - loss: 7.0519 - mae: 7.0519\n",
            "Epoch 78/100\n",
            "1/1 [==============================] - 0s 12ms/step - loss: 7.0463 - mae: 7.0463\n",
            "Epoch 79/100\n",
            "1/1 [==============================] - 0s 11ms/step - loss: 7.0406 - mae: 7.0406\n",
            "Epoch 80/100\n",
            "1/1 [==============================] - 0s 11ms/step - loss: 7.0350 - mae: 7.0350\n",
            "Epoch 81/100\n",
            "1/1 [==============================] - 0s 14ms/step - loss: 7.0294 - mae: 7.0294\n",
            "Epoch 82/100\n",
            "1/1 [==============================] - 0s 16ms/step - loss: 7.0238 - mae: 7.0238\n",
            "Epoch 83/100\n",
            "1/1 [==============================] - 0s 12ms/step - loss: 7.0181 - mae: 7.0181\n",
            "Epoch 84/100\n",
            "1/1 [==============================] - 0s 13ms/step - loss: 7.0125 - mae: 7.0125\n",
            "Epoch 85/100\n",
            "1/1 [==============================] - 0s 12ms/step - loss: 7.0069 - mae: 7.0069\n",
            "Epoch 86/100\n",
            "1/1 [==============================] - 0s 12ms/step - loss: 7.0013 - mae: 7.0013\n",
            "Epoch 87/100\n",
            "1/1 [==============================] - 0s 14ms/step - loss: 6.9956 - mae: 6.9956\n",
            "Epoch 88/100\n",
            "1/1 [==============================] - 0s 13ms/step - loss: 6.9900 - mae: 6.9900\n",
            "Epoch 89/100\n",
            "1/1 [==============================] - 0s 13ms/step - loss: 6.9844 - mae: 6.9844\n",
            "Epoch 90/100\n",
            "1/1 [==============================] - 0s 12ms/step - loss: 6.9788 - mae: 6.9788\n",
            "Epoch 91/100\n",
            "1/1 [==============================] - 0s 13ms/step - loss: 6.9731 - mae: 6.9731\n",
            "Epoch 92/100\n",
            "1/1 [==============================] - 0s 13ms/step - loss: 6.9675 - mae: 6.9675\n",
            "Epoch 93/100\n",
            "1/1 [==============================] - 0s 11ms/step - loss: 6.9619 - mae: 6.9619\n",
            "Epoch 94/100\n",
            "1/1 [==============================] - 0s 12ms/step - loss: 6.9563 - mae: 6.9563\n",
            "Epoch 95/100\n",
            "1/1 [==============================] - 0s 12ms/step - loss: 6.9506 - mae: 6.9506\n",
            "Epoch 96/100\n",
            "1/1 [==============================] - 0s 11ms/step - loss: 6.9450 - mae: 6.9450\n",
            "Epoch 97/100\n",
            "1/1 [==============================] - 0s 20ms/step - loss: 6.9394 - mae: 6.9394\n",
            "Epoch 98/100\n",
            "1/1 [==============================] - 0s 22ms/step - loss: 6.9338 - mae: 6.9338\n",
            "Epoch 99/100\n",
            "1/1 [==============================] - 0s 11ms/step - loss: 6.9281 - mae: 6.9281\n",
            "Epoch 100/100\n",
            "1/1 [==============================] - 0s 16ms/step - loss: 6.9225 - mae: 6.9225\n"
          ]
        },
        {
          "output_type": "execute_result",
          "data": {
            "text/plain": [
              "<keras.callbacks.History at 0x7f4242007850>"
            ]
          },
          "metadata": {},
          "execution_count": 8
        }
      ]
    },
    {
      "cell_type": "code",
      "source": [
        "model.predict([17.0])"
      ],
      "metadata": {
        "colab": {
          "base_uri": "https://localhost:8080/"
        },
        "id": "TzO9Iws1OEFV",
        "outputId": "d9dc8373-9389-4430-b23d-319916b80917"
      },
      "execution_count": 9,
      "outputs": [
        {
          "output_type": "stream",
          "name": "stdout",
          "text": [
            "1/1 [==============================] - 1s 510ms/step\n"
          ]
        },
        {
          "output_type": "execute_result",
          "data": {
            "text/plain": [
              "array([[29.81431]], dtype=float32)"
            ]
          },
          "metadata": {},
          "execution_count": 9
        }
      ]
    },
    {
      "cell_type": "code",
      "source": [
        "model = tf.keras.Sequential([\n",
        "    tf.keras.layers.Dense(1)\n",
        "])\n",
        "\n",
        "model.compile(loss=tf.keras.losses.mae,\n",
        "              optimizer=tf.keras.optimizers.Adam(learning_rate=0.1),\n",
        "              metrics=['mae'])\n",
        "\n",
        "model.fit(tf.expand_dims(X, axis=-1), y, epochs=100)"
      ],
      "metadata": {
        "colab": {
          "base_uri": "https://localhost:8080/"
        },
        "id": "wuUKAXqZO9-t",
        "outputId": "03773b34-069e-4e0a-80b7-f622fb277d06"
      },
      "execution_count": 17,
      "outputs": [
        {
          "output_type": "stream",
          "name": "stdout",
          "text": [
            "Epoch 1/100\n",
            "1/1 [==============================] - 0s 493ms/step - loss: 10.2614 - mae: 10.2614\n",
            "Epoch 2/100\n",
            "1/1 [==============================] - 0s 17ms/step - loss: 9.8114 - mae: 9.8114\n",
            "Epoch 3/100\n",
            "1/1 [==============================] - 0s 14ms/step - loss: 9.3614 - mae: 9.3614\n",
            "Epoch 4/100\n",
            "1/1 [==============================] - 0s 11ms/step - loss: 8.9114 - mae: 8.9114\n",
            "Epoch 5/100\n",
            "1/1 [==============================] - 0s 14ms/step - loss: 8.4614 - mae: 8.4614\n",
            "Epoch 6/100\n",
            "1/1 [==============================] - 0s 15ms/step - loss: 8.0114 - mae: 8.0114\n",
            "Epoch 7/100\n",
            "1/1 [==============================] - 0s 12ms/step - loss: 7.5614 - mae: 7.5614\n",
            "Epoch 8/100\n",
            "1/1 [==============================] - 0s 12ms/step - loss: 7.1114 - mae: 7.1114\n",
            "Epoch 9/100\n",
            "1/1 [==============================] - 0s 11ms/step - loss: 6.9000 - mae: 6.9000\n",
            "Epoch 10/100\n",
            "1/1 [==============================] - 0s 10ms/step - loss: 6.8262 - mae: 6.8262\n",
            "Epoch 11/100\n",
            "1/1 [==============================] - 0s 11ms/step - loss: 6.9589 - mae: 6.9589\n",
            "Epoch 12/100\n",
            "1/1 [==============================] - 0s 10ms/step - loss: 7.0646 - mae: 7.0646\n",
            "Epoch 13/100\n",
            "1/1 [==============================] - 0s 11ms/step - loss: 7.1172 - mae: 7.1172\n",
            "Epoch 14/100\n",
            "1/1 [==============================] - 0s 10ms/step - loss: 7.1251 - mae: 7.1251\n",
            "Epoch 15/100\n",
            "1/1 [==============================] - 0s 11ms/step - loss: 7.0952 - mae: 7.0952\n",
            "Epoch 16/100\n",
            "1/1 [==============================] - 0s 10ms/step - loss: 7.0328 - mae: 7.0328\n",
            "Epoch 17/100\n",
            "1/1 [==============================] - 0s 11ms/step - loss: 6.9423 - mae: 6.9423\n",
            "Epoch 18/100\n",
            "1/1 [==============================] - 0s 12ms/step - loss: 6.8276 - mae: 6.8276\n",
            "Epoch 19/100\n",
            "1/1 [==============================] - 0s 13ms/step - loss: 6.6918 - mae: 6.6918\n",
            "Epoch 20/100\n",
            "1/1 [==============================] - 0s 12ms/step - loss: 6.5374 - mae: 6.5374\n",
            "Epoch 21/100\n",
            "1/1 [==============================] - 0s 12ms/step - loss: 6.3667 - mae: 6.3667\n",
            "Epoch 22/100\n",
            "1/1 [==============================] - 0s 11ms/step - loss: 6.1817 - mae: 6.1817\n",
            "Epoch 23/100\n",
            "1/1 [==============================] - 0s 12ms/step - loss: 5.9938 - mae: 5.9938\n",
            "Epoch 24/100\n",
            "1/1 [==============================] - 0s 12ms/step - loss: 5.9326 - mae: 5.9326\n",
            "Epoch 25/100\n",
            "1/1 [==============================] - 0s 12ms/step - loss: 5.8698 - mae: 5.8698\n",
            "Epoch 26/100\n",
            "1/1 [==============================] - 0s 11ms/step - loss: 5.8057 - mae: 5.8057\n",
            "Epoch 27/100\n",
            "1/1 [==============================] - 0s 14ms/step - loss: 5.7640 - mae: 5.7640\n",
            "Epoch 28/100\n",
            "1/1 [==============================] - 0s 14ms/step - loss: 5.7476 - mae: 5.7476\n",
            "Epoch 29/100\n",
            "1/1 [==============================] - 0s 12ms/step - loss: 5.6726 - mae: 5.6726\n",
            "Epoch 30/100\n",
            "1/1 [==============================] - 0s 12ms/step - loss: 5.5466 - mae: 5.5466\n",
            "Epoch 31/100\n",
            "1/1 [==============================] - 0s 13ms/step - loss: 5.4551 - mae: 5.4551\n",
            "Epoch 32/100\n",
            "1/1 [==============================] - 0s 11ms/step - loss: 5.3810 - mae: 5.3810\n",
            "Epoch 33/100\n",
            "1/1 [==============================] - 0s 12ms/step - loss: 5.3071 - mae: 5.3071\n",
            "Epoch 34/100\n",
            "1/1 [==============================] - 0s 11ms/step - loss: 5.2333 - mae: 5.2333\n",
            "Epoch 35/100\n",
            "1/1 [==============================] - 0s 12ms/step - loss: 5.1595 - mae: 5.1595\n",
            "Epoch 36/100\n",
            "1/1 [==============================] - 0s 13ms/step - loss: 5.0956 - mae: 5.0956\n",
            "Epoch 37/100\n",
            "1/1 [==============================] - 0s 13ms/step - loss: 5.0497 - mae: 5.0497\n",
            "Epoch 38/100\n",
            "1/1 [==============================] - 0s 13ms/step - loss: 4.9753 - mae: 4.9753\n",
            "Epoch 39/100\n",
            "1/1 [==============================] - 0s 12ms/step - loss: 4.8761 - mae: 4.8761\n",
            "Epoch 40/100\n",
            "1/1 [==============================] - 0s 10ms/step - loss: 4.8072 - mae: 4.8072\n",
            "Epoch 41/100\n",
            "1/1 [==============================] - 0s 11ms/step - loss: 4.7378 - mae: 4.7378\n",
            "Epoch 42/100\n",
            "1/1 [==============================] - 0s 12ms/step - loss: 4.6678 - mae: 4.6678\n",
            "Epoch 43/100\n",
            "1/1 [==============================] - 0s 14ms/step - loss: 4.5974 - mae: 4.5974\n",
            "Epoch 44/100\n",
            "1/1 [==============================] - 0s 12ms/step - loss: 4.5267 - mae: 4.5267\n",
            "Epoch 45/100\n",
            "1/1 [==============================] - 0s 16ms/step - loss: 4.4555 - mae: 4.4555\n",
            "Epoch 46/100\n",
            "1/1 [==============================] - 0s 12ms/step - loss: 4.3840 - mae: 4.3840\n",
            "Epoch 47/100\n",
            "1/1 [==============================] - 0s 10ms/step - loss: 4.3123 - mae: 4.3123\n",
            "Epoch 48/100\n",
            "1/1 [==============================] - 0s 12ms/step - loss: 4.2402 - mae: 4.2402\n",
            "Epoch 49/100\n",
            "1/1 [==============================] - 0s 11ms/step - loss: 4.1680 - mae: 4.1680\n",
            "Epoch 50/100\n",
            "1/1 [==============================] - 0s 19ms/step - loss: 4.0955 - mae: 4.0955\n",
            "Epoch 51/100\n",
            "1/1 [==============================] - 0s 12ms/step - loss: 4.0228 - mae: 4.0228\n",
            "Epoch 52/100\n",
            "1/1 [==============================] - 0s 14ms/step - loss: 3.9499 - mae: 3.9499\n",
            "Epoch 53/100\n",
            "1/1 [==============================] - 0s 18ms/step - loss: 3.8769 - mae: 3.8769\n",
            "Epoch 54/100\n",
            "1/1 [==============================] - 0s 12ms/step - loss: 3.8037 - mae: 3.8037\n",
            "Epoch 55/100\n",
            "1/1 [==============================] - 0s 12ms/step - loss: 3.7304 - mae: 3.7304\n",
            "Epoch 56/100\n",
            "1/1 [==============================] - 0s 11ms/step - loss: 3.6570 - mae: 3.6570\n",
            "Epoch 57/100\n",
            "1/1 [==============================] - 0s 12ms/step - loss: 3.5835 - mae: 3.5835\n",
            "Epoch 58/100\n",
            "1/1 [==============================] - 0s 12ms/step - loss: 3.5098 - mae: 3.5098\n",
            "Epoch 59/100\n",
            "1/1 [==============================] - 0s 13ms/step - loss: 3.4494 - mae: 3.4494\n",
            "Epoch 60/100\n",
            "1/1 [==============================] - 0s 12ms/step - loss: 3.3645 - mae: 3.3645\n",
            "Epoch 61/100\n",
            "1/1 [==============================] - 0s 11ms/step - loss: 3.2925 - mae: 3.2925\n",
            "Epoch 62/100\n",
            "1/1 [==============================] - 0s 12ms/step - loss: 3.2202 - mae: 3.2202\n",
            "Epoch 63/100\n",
            "1/1 [==============================] - 0s 11ms/step - loss: 3.1477 - mae: 3.1477\n",
            "Epoch 64/100\n",
            "1/1 [==============================] - 0s 11ms/step - loss: 3.0750 - mae: 3.0750\n",
            "Epoch 65/100\n",
            "1/1 [==============================] - 0s 12ms/step - loss: 3.0020 - mae: 3.0020\n",
            "Epoch 66/100\n",
            "1/1 [==============================] - 0s 11ms/step - loss: 2.9289 - mae: 2.9289\n",
            "Epoch 67/100\n",
            "1/1 [==============================] - 0s 11ms/step - loss: 2.8556 - mae: 2.8556\n",
            "Epoch 68/100\n",
            "1/1 [==============================] - 0s 11ms/step - loss: 2.7821 - mae: 2.7821\n",
            "Epoch 69/100\n",
            "1/1 [==============================] - 0s 11ms/step - loss: 2.7085 - mae: 2.7085\n",
            "Epoch 70/100\n",
            "1/1 [==============================] - 0s 12ms/step - loss: 2.6348 - mae: 2.6348\n",
            "Epoch 71/100\n",
            "1/1 [==============================] - 0s 11ms/step - loss: 2.5610 - mae: 2.5610\n",
            "Epoch 72/100\n",
            "1/1 [==============================] - 0s 11ms/step - loss: 2.4870 - mae: 2.4870\n",
            "Epoch 73/100\n",
            "1/1 [==============================] - 0s 16ms/step - loss: 2.4222 - mae: 2.4222\n",
            "Epoch 74/100\n",
            "1/1 [==============================] - 0s 10ms/step - loss: 2.3411 - mae: 2.3411\n",
            "Epoch 75/100\n",
            "1/1 [==============================] - 0s 11ms/step - loss: 2.2689 - mae: 2.2689\n",
            "Epoch 76/100\n",
            "1/1 [==============================] - 0s 11ms/step - loss: 2.1964 - mae: 2.1964\n",
            "Epoch 77/100\n",
            "1/1 [==============================] - 0s 11ms/step - loss: 2.1236 - mae: 2.1236\n",
            "Epoch 78/100\n",
            "1/1 [==============================] - 0s 13ms/step - loss: 2.0506 - mae: 2.0506\n",
            "Epoch 79/100\n",
            "1/1 [==============================] - 0s 14ms/step - loss: 1.9774 - mae: 1.9774\n",
            "Epoch 80/100\n",
            "1/1 [==============================] - 0s 13ms/step - loss: 1.9040 - mae: 1.9040\n",
            "Epoch 81/100\n",
            "1/1 [==============================] - 0s 10ms/step - loss: 1.8305 - mae: 1.8305\n",
            "Epoch 82/100\n",
            "1/1 [==============================] - 0s 12ms/step - loss: 1.7567 - mae: 1.7567\n",
            "Epoch 83/100\n",
            "1/1 [==============================] - 0s 12ms/step - loss: 1.6829 - mae: 1.6829\n",
            "Epoch 84/100\n",
            "1/1 [==============================] - 0s 12ms/step - loss: 1.6089 - mae: 1.6089\n",
            "Epoch 85/100\n",
            "1/1 [==============================] - 0s 11ms/step - loss: 1.5348 - mae: 1.5348\n",
            "Epoch 86/100\n",
            "1/1 [==============================] - 0s 11ms/step - loss: 1.4606 - mae: 1.4606\n",
            "Epoch 87/100\n",
            "1/1 [==============================] - 0s 11ms/step - loss: 1.3863 - mae: 1.3863\n",
            "Epoch 88/100\n",
            "1/1 [==============================] - 0s 11ms/step - loss: 1.3120 - mae: 1.3120\n",
            "Epoch 89/100\n",
            "1/1 [==============================] - 0s 12ms/step - loss: 1.2375 - mae: 1.2375\n",
            "Epoch 90/100\n",
            "1/1 [==============================] - 0s 10ms/step - loss: 1.1630 - mae: 1.1630\n",
            "Epoch 91/100\n",
            "1/1 [==============================] - 0s 10ms/step - loss: 1.0962 - mae: 1.0962\n",
            "Epoch 92/100\n",
            "1/1 [==============================] - 0s 11ms/step - loss: 1.0161 - mae: 1.0161\n",
            "Epoch 93/100\n",
            "1/1 [==============================] - 0s 11ms/step - loss: 0.9435 - mae: 0.9435\n",
            "Epoch 94/100\n",
            "1/1 [==============================] - 0s 11ms/step - loss: 0.8706 - mae: 0.8706\n",
            "Epoch 95/100\n",
            "1/1 [==============================] - 0s 12ms/step - loss: 0.8198 - mae: 0.8198\n",
            "Epoch 96/100\n",
            "1/1 [==============================] - 0s 12ms/step - loss: 0.7219 - mae: 0.7219\n",
            "Epoch 97/100\n",
            "1/1 [==============================] - 0s 13ms/step - loss: 0.6628 - mae: 0.6628\n",
            "Epoch 98/100\n",
            "1/1 [==============================] - 0s 11ms/step - loss: 0.5880 - mae: 0.5880\n",
            "Epoch 99/100\n",
            "1/1 [==============================] - 0s 11ms/step - loss: 0.5022 - mae: 0.5022\n",
            "Epoch 100/100\n",
            "1/1 [==============================] - 0s 15ms/step - loss: 0.4729 - mae: 0.4729\n"
          ]
        },
        {
          "output_type": "execute_result",
          "data": {
            "text/plain": [
              "<keras.callbacks.History at 0x7f42419dba90>"
            ]
          },
          "metadata": {},
          "execution_count": 17
        }
      ]
    },
    {
      "cell_type": "code",
      "source": [
        "model.predict([17.0])"
      ],
      "metadata": {
        "colab": {
          "base_uri": "https://localhost:8080/"
        },
        "id": "K5RWYoGSPYj3",
        "outputId": "cbc37fad-5e0c-44dd-e761-34e711ed0536"
      },
      "execution_count": 18,
      "outputs": [
        {
          "output_type": "stream",
          "name": "stderr",
          "text": [
            "WARNING:tensorflow:5 out of the last 5 calls to <function Model.make_predict_function.<locals>.predict_function at 0x7f42419ee680> triggered tf.function retracing. Tracing is expensive and the excessive number of tracings could be due to (1) creating @tf.function repeatedly in a loop, (2) passing tensors with different shapes, (3) passing Python objects instead of tensors. For (1), please define your @tf.function outside of the loop. For (2), @tf.function has reduce_retracing=True option that can avoid unnecessary retracing. For (3), please refer to https://www.tensorflow.org/guide/function#controlling_retracing and https://www.tensorflow.org/api_docs/python/tf/function for  more details.\n"
          ]
        },
        {
          "output_type": "stream",
          "name": "stdout",
          "text": [
            "1/1 [==============================] - 0s 86ms/step\n"
          ]
        },
        {
          "output_type": "execute_result",
          "data": {
            "text/plain": [
              "array([[27.022976]], dtype=float32)"
            ]
          },
          "metadata": {},
          "execution_count": 18
        }
      ]
    },
    {
      "cell_type": "markdown",
      "source": [
        "### Evaluating the model\n"
      ],
      "metadata": {
        "id": "dX3A-BgcbOPL"
      }
    },
    {
      "cell_type": "code",
      "source": [
        "X = tf.range(-100, 100, 4)\n",
        "y = X+10\n",
        "X, y"
      ],
      "metadata": {
        "colab": {
          "base_uri": "https://localhost:8080/"
        },
        "id": "ddXoyA-7bZQ-",
        "outputId": "74f2ca1d-9a25-4840-f0a3-cd25e0ca7e59"
      },
      "execution_count": 19,
      "outputs": [
        {
          "output_type": "execute_result",
          "data": {
            "text/plain": [
              "(<tf.Tensor: shape=(50,), dtype=int32, numpy=\n",
              " array([-100,  -96,  -92,  -88,  -84,  -80,  -76,  -72,  -68,  -64,  -60,\n",
              "         -56,  -52,  -48,  -44,  -40,  -36,  -32,  -28,  -24,  -20,  -16,\n",
              "         -12,   -8,   -4,    0,    4,    8,   12,   16,   20,   24,   28,\n",
              "          32,   36,   40,   44,   48,   52,   56,   60,   64,   68,   72,\n",
              "          76,   80,   84,   88,   92,   96], dtype=int32)>,\n",
              " <tf.Tensor: shape=(50,), dtype=int32, numpy=\n",
              " array([-90, -86, -82, -78, -74, -70, -66, -62, -58, -54, -50, -46, -42,\n",
              "        -38, -34, -30, -26, -22, -18, -14, -10,  -6,  -2,   2,   6,  10,\n",
              "         14,  18,  22,  26,  30,  34,  38,  42,  46,  50,  54,  58,  62,\n",
              "         66,  70,  74,  78,  82,  86,  90,  94,  98, 102, 106], dtype=int32)>)"
            ]
          },
          "metadata": {},
          "execution_count": 19
        }
      ]
    },
    {
      "cell_type": "code",
      "source": [
        "import matplotlib.pyplot as plt\n",
        "plt.scatter(X, y);"
      ],
      "metadata": {
        "colab": {
          "base_uri": "https://localhost:8080/",
          "height": 430
        },
        "id": "JMjYexg_bg6g",
        "outputId": "65300f1c-5ba6-4d12-acf4-381b5905f5f8"
      },
      "execution_count": 22,
      "outputs": [
        {
          "output_type": "display_data",
          "data": {
            "text/plain": [
              "<Figure size 640x480 with 1 Axes>"
            ],
            "image/png": "[encoded data removed]"
          },
          "metadata": {}
        }
      ]
    },
    {
      "cell_type": "markdown",
      "source": [
        "Train, test and validation sets.\n"
      ],
      "metadata": {
        "id": "eEWYs48UdQA0"
      }
    }
  ]
}