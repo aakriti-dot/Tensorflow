{
  "nbformat": 4,
  "nbformat_minor": 0,
  "metadata": {
    "colab": {
      "provenance": [],
      "authorship_tag": "ABX9TyNE5ImcNsTAksgraUt4bZbz"
    },
    "kernelspec": {
      "name": "python3",
      "display_name": "Python 3"
    },
    "language_info": {
      "name": "python"
    }
  },
  "cells": [
    {
      "cell_type": "markdown",
      "source": [
        "Architecture of a neural netwrok regression.\n",
        "1. Input layer shape - Same shape as number of features.\n",
        "2. Hidden layer - minimum:1 , maximum: unlimited.\n",
        "3. Neurons per hidden layer - Problem specific, generally 10 to 100.\n",
        "4. Output layer shape : Same shape as desired predition shape.\n",
        "5. Hidden activation - Usually ReLU\n",
        "6. Output activation - None, ReLU, logistic/tanh\n",
        "7. Loss function - MSE, MAE if outliers\n",
        "8. Optimizer - SGD, Adam"
      ],
      "metadata": {
        "id": "lVFoa14OWJV1"
      }
    },
    {
      "cell_type": "code",
      "source": [
        "import tensorflow as tf\n",
        "print(tf.__version__)"
      ],
      "metadata": {
        "colab": {
          "base_uri": "https://localhost:8080/"
        },
        "id": "0wxEXxYbXLli",
        "outputId": "30351ad5-7f34-453a-f409-cbd8c017f3db"
      },
      "execution_count": 1,
      "outputs": [
        {
          "output_type": "stream",
          "name": "stdout",
          "text": [
            "2.12.0\n"
          ]
        }
      ]
    },
    {
      "cell_type": "code",
      "source": [
        "house_info = tf.constant(['bedroom', 'bathroom', 'garage'])\n",
        "house_price = tf.constant([939700])\n",
        "house_info, house_price"
      ],
      "metadata": {
        "colab": {
          "base_uri": "https://localhost:8080/"
        },
        "id": "7vQnye9N_ApT",
        "outputId": "36a0c42f-99ff-4236-92a3-8325830491b8"
      },
      "execution_count": 2,
      "outputs": [
        {
          "output_type": "execute_result",
          "data": {
            "text/plain": [
              "(<tf.Tensor: shape=(3,), dtype=string, numpy=array([b'bedroom', b'bathroom', b'garage'], dtype=object)>,\n",
              " <tf.Tensor: shape=(1,), dtype=int32, numpy=array([939700], dtype=int32)>)"
            ]
          },
          "metadata": {},
          "execution_count": 2
        }
      ]
    },
    {
      "cell_type": "markdown",
      "source": [
        "## Steps in modelling with tensorflow\n",
        "1. **Creating a model** - define the input and output layers as well as the hidden layers.\n",
        "2. **Compiling a model** - define the loss function, optimizer, evaluation metrics.\n",
        "3. Fitting a model - Letting a model to try to find patterns between features and labels."
      ],
      "metadata": {
        "id": "EHtObwKHEmns"
      }
    },
    {
      "cell_type": "code",
      "source": [
        "import numpy as np\n",
        "X = np.array([-7.0, -4.0, -1.0, 2.0, 5.0, 8.0, 11.0, 14.0])\n",
        "y = np.array( [3.0, 6.0, 9.0, 12.0, 15.0, 18.0, 21.0, 24.0])\n",
        "\n",
        "\n",
        "X = tf.constant(X)\n",
        "y = tf.constant(y)\n",
        "\n",
        "X,y"
      ],
      "metadata": {
        "colab": {
          "base_uri": "https://localhost:8080/"
        },
        "id": "EQpnzKZyFaTv",
        "outputId": "0f33d5df-26a9-4305-eb1f-21a4a2583571"
      },
      "execution_count": 3,
      "outputs": [
        {
          "output_type": "execute_result",
          "data": {
            "text/plain": [
              "(<tf.Tensor: shape=(8,), dtype=float64, numpy=array([-7., -4., -1.,  2.,  5.,  8., 11., 14.])>,\n",
              " <tf.Tensor: shape=(8,), dtype=float64, numpy=array([ 3.,  6.,  9., 12., 15., 18., 21., 24.])>)"
            ]
          },
          "metadata": {},
          "execution_count": 3
        }
      ]
    },
    {
      "cell_type": "code",
      "source": [
        "tf.random.set_seed(42)\n",
        "\n",
        "#create a model using sequential API\n",
        "model = tf.keras.Sequential()\n",
        "model.add(tf.keras.layers.Dense(1))\n",
        "\n",
        "#Compiling model\n",
        "model.compile(loss=tf.keras.losses.mae,\n",
        "              optimizer=tf.keras.optimizers.SGD(),\n",
        "              metrics=['mae'])\n",
        "\n",
        "model.fit(tf.expand_dims(X, axis=-1), y, epochs=10)"
      ],
      "metadata": {
        "colab": {
          "base_uri": "https://localhost:8080/"
        },
        "id": "EPIXAZkFJLOZ",
        "outputId": "590a4bd5-a72c-47df-dfb7-f271e233ae9f"
      },
      "execution_count": 4,
      "outputs": [
        {
          "output_type": "stream",
          "name": "stdout",
          "text": [
            "Epoch 1/10\n",
            "1/1 [==============================] - 1s 1s/step - loss: 7.6237 - mae: 7.6237\n",
            "Epoch 2/10\n",
            "1/1 [==============================] - 0s 34ms/step - loss: 7.4925 - mae: 7.4925\n",
            "Epoch 3/10\n",
            "1/1 [==============================] - 0s 31ms/step - loss: 7.4869 - mae: 7.4869\n",
            "Epoch 4/10\n",
            "1/1 [==============================] - 0s 25ms/step - loss: 7.4812 - mae: 7.4812\n",
            "Epoch 5/10\n",
            "1/1 [==============================] - 0s 27ms/step - loss: 7.4756 - mae: 7.4756\n",
            "Epoch 6/10\n",
            "1/1 [==============================] - 0s 31ms/step - loss: 7.4700 - mae: 7.4700\n",
            "Epoch 7/10\n",
            "1/1 [==============================] - 0s 19ms/step - loss: 7.4644 - mae: 7.4644\n",
            "Epoch 8/10\n",
            "1/1 [==============================] - 0s 42ms/step - loss: 7.4587 - mae: 7.4587\n",
            "Epoch 9/10\n",
            "1/1 [==============================] - 0s 31ms/step - loss: 7.4531 - mae: 7.4531\n",
            "Epoch 10/10\n",
            "1/1 [==============================] - 0s 34ms/step - loss: 7.4475 - mae: 7.4475\n"
          ]
        },
        {
          "output_type": "execute_result",
          "data": {
            "text/plain": [
              "<keras.callbacks.History at 0x7f425428a1d0>"
            ]
          },
          "metadata": {},
          "execution_count": 4
        }
      ]
    },
    {
      "cell_type": "code",
      "source": [
        "model.predict([17.0])"
      ],
      "metadata": {
        "colab": {
          "base_uri": "https://localhost:8080/"
        },
        "id": "MO0gpDK-Ilie",
        "outputId": "c3d20684-4918-430d-b6a2-6d2c19ba56df"
      },
      "execution_count": 5,
      "outputs": [
        {
          "output_type": "stream",
          "name": "stdout",
          "text": [
            "1/1 [==============================] - 0s 231ms/step\n"
          ]
        },
        {
          "output_type": "execute_result",
          "data": {
            "text/plain": [
              "array([[29.214502]], dtype=float32)"
            ]
          },
          "metadata": {},
          "execution_count": 5
        }
      ]
    },
    {
      "cell_type": "markdown",
      "source": [
        "### Improving the model\n",
        "\n",
        "1. Creating a model - Here we can add more layers, increase the number of hidden units with each of the hidden layers, change the activation functions of each layer.\n",
        "2. Compiling a model - Change the optimization function or maybe the learning rate of the function.\n",
        "3. Fitting a model - Fit the model for more epochs."
      ],
      "metadata": {
        "id": "3wSOKTakGPPe"
      }
    }
  ]
}