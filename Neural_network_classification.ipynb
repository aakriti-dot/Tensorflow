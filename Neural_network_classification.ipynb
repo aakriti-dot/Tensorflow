{
  "nbformat": 4,
  "nbformat_minor": 0,
  "metadata": {
    "colab": {
      "provenance": [],
      "authorship_tag": "ABX9TyOMhPRDnjS01m/w69rO1pxX"
    },
    "kernelspec": {
      "name": "python3",
      "display_name": "Python 3"
    },
    "language_info": {
      "name": "python"
    }
  },
  "cells": [
    {
      "cell_type": "markdown",
      "source": [
        "Architecture of a classification model\n",
        "1. Input layer shape - Same as number of features.\n",
        "2. Hidden shape - Problem specific(minimum-1 and maximum-unlimited)\n",
        "3. Neurons per hidden layer - Problem specific, generally 10 to 100\n",
        "4. Output layer shape - 1(for binary) / 1 per class\n",
        "5. Hidden activation - usually ReLU\n",
        "6. Output activation - Sigmoid(for binary classification) / Softmax(for multiclass)\n",
        "7. Loss function - Cross entropy / categorical cross entropy\n",
        "8. Optimizer - SGD, Adam"
      ],
      "metadata": {
        "id": "Fc3P4Rqf9F0M"
      }
    },
    {
      "cell_type": "code",
      "source": [],
      "metadata": {
        "id": "Xf8jg5XI95u6"
      },
      "execution_count": null,
      "outputs": []
    }
  ]
}