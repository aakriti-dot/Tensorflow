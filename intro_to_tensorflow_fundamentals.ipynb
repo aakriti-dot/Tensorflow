{
  "nbformat": 4,
  "nbformat_minor": 0,
  "metadata": {
    "colab": {
      "provenance": [],
      "authorship_tag": "ABX9TyMo6jpAjvT28n/j1eapQjjb"
    },
    "kernelspec": {
      "name": "python3",
      "display_name": "Python 3"
    },
    "language_info": {
      "name": "python"
    }
  },
  "cells": [
    {
      "cell_type": "markdown",
      "source": [
        "#### Fundamentals of tensor using Tensorflow"
      ],
      "metadata": {
        "id": "WaUjB2GV33Hp"
      }
    },
    {
      "cell_type": "code",
      "source": [
        "# Import tensorflow\n",
        "import tensorflow as tf\n",
        "print(tf.__version__)"
      ],
      "metadata": {
        "colab": {
          "base_uri": "https://localhost:8080/"
        },
        "id": "Yka1c9pZ13jH",
        "outputId": "19e2e165-3e93-4ff3-8f6c-f6c4867fafa7"
      },
      "execution_count": 1,
      "outputs": [
        {
          "output_type": "stream",
          "name": "stdout",
          "text": [
            "2.12.0\n"
          ]
        }
      ]
    },
    {
      "cell_type": "code",
      "source": [
        "#creator a tensor with constant\n",
        "scalar = tf.constant(7)\n",
        "scalar"
      ],
      "metadata": {
        "colab": {
          "base_uri": "https://localhost:8080/"
        },
        "id": "ACmtW19o8F7y",
        "outputId": "176b8dcf-7c5f-4a39-f76f-586a46c14684"
      },
      "execution_count": 2,
      "outputs": [
        {
          "output_type": "execute_result",
          "data": {
            "text/plain": [
              "<tf.Tensor: shape=(), dtype=int32, numpy=7>"
            ]
          },
          "metadata": {},
          "execution_count": 2
        }
      ]
    },
    {
      "cell_type": "code",
      "source": [
        "#Check the dimension of the tensor\n",
        "scalar.ndim"
      ],
      "metadata": {
        "colab": {
          "base_uri": "https://localhost:8080/"
        },
        "id": "1GYGDa508Swj",
        "outputId": "d3ed2833-68bc-46df-efd7-1fac13c58dc5"
      },
      "execution_count": 3,
      "outputs": [
        {
          "output_type": "execute_result",
          "data": {
            "text/plain": [
              "0"
            ]
          },
          "metadata": {},
          "execution_count": 3
        }
      ]
    },
    {
      "cell_type": "code",
      "source": [
        "#create a vector\n",
        "vector = tf.constant([10,10])\n",
        "vector"
      ],
      "metadata": {
        "colab": {
          "base_uri": "https://localhost:8080/"
        },
        "id": "VXPOb_mE__V7",
        "outputId": "403dd21b-a17b-4d49-fa1b-44153f494fdf"
      },
      "execution_count": 4,
      "outputs": [
        {
          "output_type": "execute_result",
          "data": {
            "text/plain": [
              "<tf.Tensor: shape=(2,), dtype=int32, numpy=array([10, 10], dtype=int32)>"
            ]
          },
          "metadata": {},
          "execution_count": 4
        }
      ]
    },
    {
      "cell_type": "code",
      "source": [
        "vector.ndim"
      ],
      "metadata": {
        "colab": {
          "base_uri": "https://localhost:8080/"
        },
        "id": "kQF6GYeFARZM",
        "outputId": "3055cba5-c508-440e-c705-bbee0e824ee4"
      },
      "execution_count": 5,
      "outputs": [
        {
          "output_type": "execute_result",
          "data": {
            "text/plain": [
              "1"
            ]
          },
          "metadata": {},
          "execution_count": 5
        }
      ]
    },
    {
      "cell_type": "code",
      "source": [
        "# create a matrix\n",
        "matrix = tf.constant([[10,7],\n",
        "                     [7,10]])\n",
        "matrix"
      ],
      "metadata": {
        "colab": {
          "base_uri": "https://localhost:8080/"
        },
        "id": "-zhzgbMfAg6y",
        "outputId": "4bdbc39b-1640-40ff-fb34-d05d682c61c5"
      },
      "execution_count": 6,
      "outputs": [
        {
          "output_type": "execute_result",
          "data": {
            "text/plain": [
              "<tf.Tensor: shape=(2, 2), dtype=int32, numpy=\n",
              "array([[10,  7],\n",
              "       [ 7, 10]], dtype=int32)>"
            ]
          },
          "metadata": {},
          "execution_count": 6
        }
      ]
    },
    {
      "cell_type": "code",
      "source": [
        "matrix.ndim"
      ],
      "metadata": {
        "colab": {
          "base_uri": "https://localhost:8080/"
        },
        "id": "af1dcs6gAvmt",
        "outputId": "cdc317e4-0593-4497-828b-c1c545f60ddd"
      },
      "execution_count": 7,
      "outputs": [
        {
          "output_type": "execute_result",
          "data": {
            "text/plain": [
              "2"
            ]
          },
          "metadata": {},
          "execution_count": 7
        }
      ]
    },
    {
      "cell_type": "code",
      "source": [
        "another_matrix = tf.constant([[10.,7.],\n",
        "                              [3.,2.],\n",
        "                              [8.,9.]], dtype=tf.float32)\n",
        "another_matrix"
      ],
      "metadata": {
        "id": "7elISe3CA443",
        "colab": {
          "base_uri": "https://localhost:8080/"
        },
        "outputId": "38326e72-d145-4d5f-ca2a-f24d41b44f34"
      },
      "execution_count": 8,
      "outputs": [
        {
          "output_type": "execute_result",
          "data": {
            "text/plain": [
              "<tf.Tensor: shape=(3, 2), dtype=float32, numpy=\n",
              "array([[10.,  7.],\n",
              "       [ 3.,  2.],\n",
              "       [ 8.,  9.]], dtype=float32)>"
            ]
          },
          "metadata": {},
          "execution_count": 8
        }
      ]
    },
    {
      "cell_type": "code",
      "source": [
        "another_matrix.ndim"
      ],
      "metadata": {
        "colab": {
          "base_uri": "https://localhost:8080/"
        },
        "id": "-CoeVZDHDhaa",
        "outputId": "600a3abb-acd2-4ba5-81ce-be2e6a7dc796"
      },
      "execution_count": 9,
      "outputs": [
        {
          "output_type": "execute_result",
          "data": {
            "text/plain": [
              "2"
            ]
          },
          "metadata": {},
          "execution_count": 9
        }
      ]
    },
    {
      "cell_type": "code",
      "source": [
        "#For a tensor\n",
        "tensor = tf.constant([[[1,2,3,],\n",
        "                       [4,5,6]],\n",
        "                      [[7,8,9],\n",
        "                       [10,11,12]],\n",
        "                      [[13,14,15],\n",
        "                       [16,17,18]]])\n",
        "tensor"
      ],
      "metadata": {
        "colab": {
          "base_uri": "https://localhost:8080/"
        },
        "id": "EtCQX_a1Ejzz",
        "outputId": "79e2271c-d6df-45f8-ab72-6c24223e6043"
      },
      "execution_count": 10,
      "outputs": [
        {
          "output_type": "execute_result",
          "data": {
            "text/plain": [
              "<tf.Tensor: shape=(3, 2, 3), dtype=int32, numpy=\n",
              "array([[[ 1,  2,  3],\n",
              "        [ 4,  5,  6]],\n",
              "\n",
              "       [[ 7,  8,  9],\n",
              "        [10, 11, 12]],\n",
              "\n",
              "       [[13, 14, 15],\n",
              "        [16, 17, 18]]], dtype=int32)>"
            ]
          },
          "metadata": {},
          "execution_count": 10
        }
      ]
    },
    {
      "cell_type": "code",
      "source": [
        "tensor.ndim"
      ],
      "metadata": {
        "colab": {
          "base_uri": "https://localhost:8080/"
        },
        "id": "okiD4A78FdIy",
        "outputId": "00843488-bf46-40c3-df12-523821626246"
      },
      "execution_count": 11,
      "outputs": [
        {
          "output_type": "execute_result",
          "data": {
            "text/plain": [
              "3"
            ]
          },
          "metadata": {},
          "execution_count": 11
        }
      ]
    },
    {
      "cell_type": "markdown",
      "source": [
        "####Working with tf.Variable"
      ],
      "metadata": {
        "id": "PePLqvnQ2RuV"
      }
    },
    {
      "cell_type": "code",
      "source": [
        "changeable = tf.Variable([10,7])\n",
        "unchangeable = tf.constant([10,7])\n",
        "changeable, unchangeable"
      ],
      "metadata": {
        "colab": {
          "base_uri": "https://localhost:8080/"
        },
        "id": "1Pj2Ikll2U83",
        "outputId": "8c768d0b-270a-435e-8344-aea5a180e6e5"
      },
      "execution_count": 12,
      "outputs": [
        {
          "output_type": "execute_result",
          "data": {
            "text/plain": [
              "(<tf.Variable 'Variable:0' shape=(2,) dtype=int32, numpy=array([10,  7], dtype=int32)>,\n",
              " <tf.Tensor: shape=(2,), dtype=int32, numpy=array([10,  7], dtype=int32)>)"
            ]
          },
          "metadata": {},
          "execution_count": 12
        }
      ]
    },
    {
      "cell_type": "code",
      "source": [
        "# To change the number use .assign(), works only for tf.Variable\n",
        "changeable[0].assign(7)\n",
        "changeable"
      ],
      "metadata": {
        "colab": {
          "base_uri": "https://localhost:8080/"
        },
        "id": "3J8726MI2lc4",
        "outputId": "bb436751-d70c-494e-89dc-203c4997ba00"
      },
      "execution_count": 13,
      "outputs": [
        {
          "output_type": "execute_result",
          "data": {
            "text/plain": [
              "<tf.Variable 'Variable:0' shape=(2,) dtype=int32, numpy=array([7, 7], dtype=int32)>"
            ]
          },
          "metadata": {},
          "execution_count": 13
        }
      ]
    },
    {
      "cell_type": "markdown",
      "source": [
        "#### Creating random tensors"
      ],
      "metadata": {
        "id": "cTdmuEMo7CYs"
      }
    },
    {
      "cell_type": "code",
      "source": [
        "random_1= tf.random.Generator.from_seed(42)\n",
        "random_1=random_1.normal(shape=(3,2))\n",
        "random_1"
      ],
      "metadata": {
        "colab": {
          "base_uri": "https://localhost:8080/"
        },
        "id": "aSAvHpRQ7FD5",
        "outputId": "fea42238-ec2d-462b-d1d7-d96a2c831e99"
      },
      "execution_count": 14,
      "outputs": [
        {
          "output_type": "execute_result",
          "data": {
            "text/plain": [
              "<tf.Tensor: shape=(3, 2), dtype=float32, numpy=\n",
              "array([[-0.7565803 , -0.06854702],\n",
              "       [ 0.07595026, -1.2573844 ],\n",
              "       [-0.23193763, -1.8107855 ]], dtype=float32)>"
            ]
          },
          "metadata": {},
          "execution_count": 14
        }
      ]
    },
    {
      "cell_type": "code",
      "source": [
        "random_2= tf.random.Generator.from_seed(42)\n",
        "random_2=random_2.normal(shape=(3,2))\n",
        "random_2"
      ],
      "metadata": {
        "colab": {
          "base_uri": "https://localhost:8080/"
        },
        "id": "PRB5h59_72SV",
        "outputId": "76fdb4f4-d319-4831-c59c-6516ed6746d2"
      },
      "execution_count": 15,
      "outputs": [
        {
          "output_type": "execute_result",
          "data": {
            "text/plain": [
              "<tf.Tensor: shape=(3, 2), dtype=float32, numpy=\n",
              "array([[-0.7565803 , -0.06854702],\n",
              "       [ 0.07595026, -1.2573844 ],\n",
              "       [-0.23193763, -1.8107855 ]], dtype=float32)>"
            ]
          },
          "metadata": {},
          "execution_count": 15
        }
      ]
    },
    {
      "cell_type": "markdown",
      "source": [
        "#### Shuffle the order of elements in a tensor"
      ],
      "metadata": {
        "id": "lydwGCD7IjmY"
      }
    },
    {
      "cell_type": "code",
      "source": [
        "not_shuffled = tf.constant([[10,7],\n",
        "                            [3,4],\n",
        "                            [2,5]])\n",
        "\n",
        "tf.random.set_seed(42) #global level random seed\n",
        "tf.random.shuffle(not_shuffled) #operation level random seed"
      ],
      "metadata": {
        "colab": {
          "base_uri": "https://localhost:8080/"
        },
        "id": "2nwpNV4EKOH6",
        "outputId": "e83d360c-63d4-47e5-b89d-aaf1e1192e0e"
      },
      "execution_count": 16,
      "outputs": [
        {
          "output_type": "execute_result",
          "data": {
            "text/plain": [
              "<tf.Tensor: shape=(3, 2), dtype=int32, numpy=\n",
              "array([[ 3,  4],\n",
              "       [ 2,  5],\n",
              "       [10,  7]], dtype=int32)>"
            ]
          },
          "metadata": {},
          "execution_count": 16
        }
      ]
    },
    {
      "cell_type": "markdown",
      "source": [
        "#### Creating tensors from numpy arrays"
      ],
      "metadata": {
        "id": "fpQ7P8CnWRuV"
      }
    },
    {
      "cell_type": "code",
      "source": [
        "import numpy as np\n",
        "numpy_A = np.arange(1,25,dtype=np.int32)\n",
        "numpy_A"
      ],
      "metadata": {
        "colab": {
          "base_uri": "https://localhost:8080/"
        },
        "id": "XzGQfykNWVYJ",
        "outputId": "a975f45a-c1a4-4fd5-8dfa-ffd4b4c217ca"
      },
      "execution_count": 17,
      "outputs": [
        {
          "output_type": "execute_result",
          "data": {
            "text/plain": [
              "array([ 1,  2,  3,  4,  5,  6,  7,  8,  9, 10, 11, 12, 13, 14, 15, 16, 17,\n",
              "       18, 19, 20, 21, 22, 23, 24], dtype=int32)"
            ]
          },
          "metadata": {},
          "execution_count": 17
        }
      ]
    },
    {
      "cell_type": "code",
      "source": [
        "A = tf.constant(numpy_A)\n",
        "B = tf.constant(numpy_A, shape=(2,3,4))\n",
        "A,B"
      ],
      "metadata": {
        "colab": {
          "base_uri": "https://localhost:8080/"
        },
        "id": "BvjOxVsg-hDt",
        "outputId": "436f2c07-f330-4847-b67c-86c709ea9ff4"
      },
      "execution_count": 18,
      "outputs": [
        {
          "output_type": "execute_result",
          "data": {
            "text/plain": [
              "(<tf.Tensor: shape=(24,), dtype=int32, numpy=\n",
              " array([ 1,  2,  3,  4,  5,  6,  7,  8,  9, 10, 11, 12, 13, 14, 15, 16, 17,\n",
              "        18, 19, 20, 21, 22, 23, 24], dtype=int32)>,\n",
              " <tf.Tensor: shape=(2, 3, 4), dtype=int32, numpy=\n",
              " array([[[ 1,  2,  3,  4],\n",
              "         [ 5,  6,  7,  8],\n",
              "         [ 9, 10, 11, 12]],\n",
              " \n",
              "        [[13, 14, 15, 16],\n",
              "         [17, 18, 19, 20],\n",
              "         [21, 22, 23, 24]]], dtype=int32)>)"
            ]
          },
          "metadata": {},
          "execution_count": 18
        }
      ]
    },
    {
      "cell_type": "markdown",
      "source": [
        "#### Getting information from tensors\n",
        "* Shape\n",
        "* Rank\n",
        "* Size\n",
        "* Axis or dimension"
      ],
      "metadata": {
        "id": "OU5fWXRqqcfh"
      }
    },
    {
      "cell_type": "code",
      "source": [
        "#rank 4 tensor\n",
        "rank_4 = tf.zeros(shape=[2,3,4,5])\n",
        "rank_4"
      ],
      "metadata": {
        "colab": {
          "base_uri": "https://localhost:8080/"
        },
        "id": "MwQvJTcLqfNp",
        "outputId": "17c94bee-7110-4c18-ab6c-3b4b73ac0571"
      },
      "execution_count": 19,
      "outputs": [
        {
          "output_type": "execute_result",
          "data": {
            "text/plain": [
              "<tf.Tensor: shape=(2, 3, 4, 5), dtype=float32, numpy=\n",
              "array([[[[0., 0., 0., 0., 0.],\n",
              "         [0., 0., 0., 0., 0.],\n",
              "         [0., 0., 0., 0., 0.],\n",
              "         [0., 0., 0., 0., 0.]],\n",
              "\n",
              "        [[0., 0., 0., 0., 0.],\n",
              "         [0., 0., 0., 0., 0.],\n",
              "         [0., 0., 0., 0., 0.],\n",
              "         [0., 0., 0., 0., 0.]],\n",
              "\n",
              "        [[0., 0., 0., 0., 0.],\n",
              "         [0., 0., 0., 0., 0.],\n",
              "         [0., 0., 0., 0., 0.],\n",
              "         [0., 0., 0., 0., 0.]]],\n",
              "\n",
              "\n",
              "       [[[0., 0., 0., 0., 0.],\n",
              "         [0., 0., 0., 0., 0.],\n",
              "         [0., 0., 0., 0., 0.],\n",
              "         [0., 0., 0., 0., 0.]],\n",
              "\n",
              "        [[0., 0., 0., 0., 0.],\n",
              "         [0., 0., 0., 0., 0.],\n",
              "         [0., 0., 0., 0., 0.],\n",
              "         [0., 0., 0., 0., 0.]],\n",
              "\n",
              "        [[0., 0., 0., 0., 0.],\n",
              "         [0., 0., 0., 0., 0.],\n",
              "         [0., 0., 0., 0., 0.],\n",
              "         [0., 0., 0., 0., 0.]]]], dtype=float32)>"
            ]
          },
          "metadata": {},
          "execution_count": 19
        }
      ]
    },
    {
      "cell_type": "code",
      "source": [
        "rank_4.shape, rank_4.ndim, tf.size(rank_4)"
      ],
      "metadata": {
        "colab": {
          "base_uri": "https://localhost:8080/"
        },
        "id": "OdftOsmnxo68",
        "outputId": "9c2308b0-07af-4c2d-da5e-b9658c6e9326"
      },
      "execution_count": 20,
      "outputs": [
        {
          "output_type": "execute_result",
          "data": {
            "text/plain": [
              "(TensorShape([2, 3, 4, 5]), 4, <tf.Tensor: shape=(), dtype=int32, numpy=120>)"
            ]
          },
          "metadata": {},
          "execution_count": 20
        }
      ]
    },
    {
      "cell_type": "markdown",
      "source": [
        "#### Indexing"
      ],
      "metadata": {
        "id": "ARXMlD8B6Ykx"
      }
    },
    {
      "cell_type": "code",
      "source": [
        "#get the first 2 elements of each dimension\n",
        "rank_4[:2, :2, :2, :2]"
      ],
      "metadata": {
        "colab": {
          "base_uri": "https://localhost:8080/"
        },
        "id": "lvS6EPef6Z0l",
        "outputId": "bfeea3fc-7700-4d3e-e4cf-549ac22c6600"
      },
      "execution_count": 21,
      "outputs": [
        {
          "output_type": "execute_result",
          "data": {
            "text/plain": [
              "<tf.Tensor: shape=(2, 2, 2, 2), dtype=float32, numpy=\n",
              "array([[[[0., 0.],\n",
              "         [0., 0.]],\n",
              "\n",
              "        [[0., 0.],\n",
              "         [0., 0.]]],\n",
              "\n",
              "\n",
              "       [[[0., 0.],\n",
              "         [0., 0.]],\n",
              "\n",
              "        [[0., 0.],\n",
              "         [0., 0.]]]], dtype=float32)>"
            ]
          },
          "metadata": {},
          "execution_count": 21
        }
      ]
    },
    {
      "cell_type": "code",
      "source": [
        "# Adding extra dimensions\n",
        "rank_5 = rank_4[..., tf.newaxis]\n",
        "rank_5"
      ],
      "metadata": {
        "colab": {
          "base_uri": "https://localhost:8080/"
        },
        "id": "mrzBRf6s6lSe",
        "outputId": "abe229b0-c2bb-4fc7-a852-9e402543b4eb"
      },
      "execution_count": 22,
      "outputs": [
        {
          "output_type": "execute_result",
          "data": {
            "text/plain": [
              "<tf.Tensor: shape=(2, 3, 4, 5, 1), dtype=float32, numpy=\n",
              "array([[[[[0.],\n",
              "          [0.],\n",
              "          [0.],\n",
              "          [0.],\n",
              "          [0.]],\n",
              "\n",
              "         [[0.],\n",
              "          [0.],\n",
              "          [0.],\n",
              "          [0.],\n",
              "          [0.]],\n",
              "\n",
              "         [[0.],\n",
              "          [0.],\n",
              "          [0.],\n",
              "          [0.],\n",
              "          [0.]],\n",
              "\n",
              "         [[0.],\n",
              "          [0.],\n",
              "          [0.],\n",
              "          [0.],\n",
              "          [0.]]],\n",
              "\n",
              "\n",
              "        [[[0.],\n",
              "          [0.],\n",
              "          [0.],\n",
              "          [0.],\n",
              "          [0.]],\n",
              "\n",
              "         [[0.],\n",
              "          [0.],\n",
              "          [0.],\n",
              "          [0.],\n",
              "          [0.]],\n",
              "\n",
              "         [[0.],\n",
              "          [0.],\n",
              "          [0.],\n",
              "          [0.],\n",
              "          [0.]],\n",
              "\n",
              "         [[0.],\n",
              "          [0.],\n",
              "          [0.],\n",
              "          [0.],\n",
              "          [0.]]],\n",
              "\n",
              "\n",
              "        [[[0.],\n",
              "          [0.],\n",
              "          [0.],\n",
              "          [0.],\n",
              "          [0.]],\n",
              "\n",
              "         [[0.],\n",
              "          [0.],\n",
              "          [0.],\n",
              "          [0.],\n",
              "          [0.]],\n",
              "\n",
              "         [[0.],\n",
              "          [0.],\n",
              "          [0.],\n",
              "          [0.],\n",
              "          [0.]],\n",
              "\n",
              "         [[0.],\n",
              "          [0.],\n",
              "          [0.],\n",
              "          [0.],\n",
              "          [0.]]]],\n",
              "\n",
              "\n",
              "\n",
              "       [[[[0.],\n",
              "          [0.],\n",
              "          [0.],\n",
              "          [0.],\n",
              "          [0.]],\n",
              "\n",
              "         [[0.],\n",
              "          [0.],\n",
              "          [0.],\n",
              "          [0.],\n",
              "          [0.]],\n",
              "\n",
              "         [[0.],\n",
              "          [0.],\n",
              "          [0.],\n",
              "          [0.],\n",
              "          [0.]],\n",
              "\n",
              "         [[0.],\n",
              "          [0.],\n",
              "          [0.],\n",
              "          [0.],\n",
              "          [0.]]],\n",
              "\n",
              "\n",
              "        [[[0.],\n",
              "          [0.],\n",
              "          [0.],\n",
              "          [0.],\n",
              "          [0.]],\n",
              "\n",
              "         [[0.],\n",
              "          [0.],\n",
              "          [0.],\n",
              "          [0.],\n",
              "          [0.]],\n",
              "\n",
              "         [[0.],\n",
              "          [0.],\n",
              "          [0.],\n",
              "          [0.],\n",
              "          [0.]],\n",
              "\n",
              "         [[0.],\n",
              "          [0.],\n",
              "          [0.],\n",
              "          [0.],\n",
              "          [0.]]],\n",
              "\n",
              "\n",
              "        [[[0.],\n",
              "          [0.],\n",
              "          [0.],\n",
              "          [0.],\n",
              "          [0.]],\n",
              "\n",
              "         [[0.],\n",
              "          [0.],\n",
              "          [0.],\n",
              "          [0.],\n",
              "          [0.]],\n",
              "\n",
              "         [[0.],\n",
              "          [0.],\n",
              "          [0.],\n",
              "          [0.],\n",
              "          [0.]],\n",
              "\n",
              "         [[0.],\n",
              "          [0.],\n",
              "          [0.],\n",
              "          [0.],\n",
              "          [0.]]]]], dtype=float32)>"
            ]
          },
          "metadata": {},
          "execution_count": 22
        }
      ]
    },
    {
      "cell_type": "code",
      "source": [
        "tf.expand_dims(rank_4, axis=0)"
      ],
      "metadata": {
        "colab": {
          "base_uri": "https://localhost:8080/"
        },
        "id": "b9Jd5SHcMxnA",
        "outputId": "e38a8e37-c84e-413e-848b-6b04c0eaf8c8"
      },
      "execution_count": 23,
      "outputs": [
        {
          "output_type": "execute_result",
          "data": {
            "text/plain": [
              "<tf.Tensor: shape=(1, 2, 3, 4, 5), dtype=float32, numpy=\n",
              "array([[[[[0., 0., 0., 0., 0.],\n",
              "          [0., 0., 0., 0., 0.],\n",
              "          [0., 0., 0., 0., 0.],\n",
              "          [0., 0., 0., 0., 0.]],\n",
              "\n",
              "         [[0., 0., 0., 0., 0.],\n",
              "          [0., 0., 0., 0., 0.],\n",
              "          [0., 0., 0., 0., 0.],\n",
              "          [0., 0., 0., 0., 0.]],\n",
              "\n",
              "         [[0., 0., 0., 0., 0.],\n",
              "          [0., 0., 0., 0., 0.],\n",
              "          [0., 0., 0., 0., 0.],\n",
              "          [0., 0., 0., 0., 0.]]],\n",
              "\n",
              "\n",
              "        [[[0., 0., 0., 0., 0.],\n",
              "          [0., 0., 0., 0., 0.],\n",
              "          [0., 0., 0., 0., 0.],\n",
              "          [0., 0., 0., 0., 0.]],\n",
              "\n",
              "         [[0., 0., 0., 0., 0.],\n",
              "          [0., 0., 0., 0., 0.],\n",
              "          [0., 0., 0., 0., 0.],\n",
              "          [0., 0., 0., 0., 0.]],\n",
              "\n",
              "         [[0., 0., 0., 0., 0.],\n",
              "          [0., 0., 0., 0., 0.],\n",
              "          [0., 0., 0., 0., 0.],\n",
              "          [0., 0., 0., 0., 0.]]]]], dtype=float32)>"
            ]
          },
          "metadata": {},
          "execution_count": 23
        }
      ]
    },
    {
      "cell_type": "code",
      "source": [
        "tf.expand_dims(rank_4, axis=-1)"
      ],
      "metadata": {
        "colab": {
          "base_uri": "https://localhost:8080/"
        },
        "id": "0HdHxdGFT6Lr",
        "outputId": "45106f53-10d1-4add-d9fd-f2f5958c0887"
      },
      "execution_count": 24,
      "outputs": [
        {
          "output_type": "execute_result",
          "data": {
            "text/plain": [
              "<tf.Tensor: shape=(2, 3, 4, 5, 1), dtype=float32, numpy=\n",
              "array([[[[[0.],\n",
              "          [0.],\n",
              "          [0.],\n",
              "          [0.],\n",
              "          [0.]],\n",
              "\n",
              "         [[0.],\n",
              "          [0.],\n",
              "          [0.],\n",
              "          [0.],\n",
              "          [0.]],\n",
              "\n",
              "         [[0.],\n",
              "          [0.],\n",
              "          [0.],\n",
              "          [0.],\n",
              "          [0.]],\n",
              "\n",
              "         [[0.],\n",
              "          [0.],\n",
              "          [0.],\n",
              "          [0.],\n",
              "          [0.]]],\n",
              "\n",
              "\n",
              "        [[[0.],\n",
              "          [0.],\n",
              "          [0.],\n",
              "          [0.],\n",
              "          [0.]],\n",
              "\n",
              "         [[0.],\n",
              "          [0.],\n",
              "          [0.],\n",
              "          [0.],\n",
              "          [0.]],\n",
              "\n",
              "         [[0.],\n",
              "          [0.],\n",
              "          [0.],\n",
              "          [0.],\n",
              "          [0.]],\n",
              "\n",
              "         [[0.],\n",
              "          [0.],\n",
              "          [0.],\n",
              "          [0.],\n",
              "          [0.]]],\n",
              "\n",
              "\n",
              "        [[[0.],\n",
              "          [0.],\n",
              "          [0.],\n",
              "          [0.],\n",
              "          [0.]],\n",
              "\n",
              "         [[0.],\n",
              "          [0.],\n",
              "          [0.],\n",
              "          [0.],\n",
              "          [0.]],\n",
              "\n",
              "         [[0.],\n",
              "          [0.],\n",
              "          [0.],\n",
              "          [0.],\n",
              "          [0.]],\n",
              "\n",
              "         [[0.],\n",
              "          [0.],\n",
              "          [0.],\n",
              "          [0.],\n",
              "          [0.]]]],\n",
              "\n",
              "\n",
              "\n",
              "       [[[[0.],\n",
              "          [0.],\n",
              "          [0.],\n",
              "          [0.],\n",
              "          [0.]],\n",
              "\n",
              "         [[0.],\n",
              "          [0.],\n",
              "          [0.],\n",
              "          [0.],\n",
              "          [0.]],\n",
              "\n",
              "         [[0.],\n",
              "          [0.],\n",
              "          [0.],\n",
              "          [0.],\n",
              "          [0.]],\n",
              "\n",
              "         [[0.],\n",
              "          [0.],\n",
              "          [0.],\n",
              "          [0.],\n",
              "          [0.]]],\n",
              "\n",
              "\n",
              "        [[[0.],\n",
              "          [0.],\n",
              "          [0.],\n",
              "          [0.],\n",
              "          [0.]],\n",
              "\n",
              "         [[0.],\n",
              "          [0.],\n",
              "          [0.],\n",
              "          [0.],\n",
              "          [0.]],\n",
              "\n",
              "         [[0.],\n",
              "          [0.],\n",
              "          [0.],\n",
              "          [0.],\n",
              "          [0.]],\n",
              "\n",
              "         [[0.],\n",
              "          [0.],\n",
              "          [0.],\n",
              "          [0.],\n",
              "          [0.]]],\n",
              "\n",
              "\n",
              "        [[[0.],\n",
              "          [0.],\n",
              "          [0.],\n",
              "          [0.],\n",
              "          [0.]],\n",
              "\n",
              "         [[0.],\n",
              "          [0.],\n",
              "          [0.],\n",
              "          [0.],\n",
              "          [0.]],\n",
              "\n",
              "         [[0.],\n",
              "          [0.],\n",
              "          [0.],\n",
              "          [0.],\n",
              "          [0.]],\n",
              "\n",
              "         [[0.],\n",
              "          [0.],\n",
              "          [0.],\n",
              "          [0.],\n",
              "          [0.]]]]], dtype=float32)>"
            ]
          },
          "metadata": {},
          "execution_count": 24
        }
      ]
    },
    {
      "cell_type": "markdown",
      "source": [
        "#### Manipulating tensors"
      ],
      "metadata": {
        "id": "i4LaXgDEUTjD"
      }
    },
    {
      "cell_type": "code",
      "source": [
        "#Arithmetic operations(applies to all : +, *, -, /)\n",
        "tensor = tf.constant([[10,7],[3,4]])\n",
        "tensor + 10"
      ],
      "metadata": {
        "colab": {
          "base_uri": "https://localhost:8080/"
        },
        "id": "evCMmIpxUVtu",
        "outputId": "a04297b9-8ce1-4123-94be-59594bc44ac8"
      },
      "execution_count": 25,
      "outputs": [
        {
          "output_type": "execute_result",
          "data": {
            "text/plain": [
              "<tf.Tensor: shape=(2, 2), dtype=int32, numpy=\n",
              "array([[20, 17],\n",
              "       [13, 14]], dtype=int32)>"
            ]
          },
          "metadata": {},
          "execution_count": 25
        }
      ]
    },
    {
      "cell_type": "code",
      "source": [
        "tf.multiply(tensor,10)"
      ],
      "metadata": {
        "colab": {
          "base_uri": "https://localhost:8080/"
        },
        "id": "0W-FO1yuWUXG",
        "outputId": "3f29d5cb-2310-46b7-e448-921643f7aaeb"
      },
      "execution_count": 26,
      "outputs": [
        {
          "output_type": "execute_result",
          "data": {
            "text/plain": [
              "<tf.Tensor: shape=(2, 2), dtype=int32, numpy=\n",
              "array([[100,  70],\n",
              "       [ 30,  40]], dtype=int32)>"
            ]
          },
          "metadata": {},
          "execution_count": 26
        }
      ]
    },
    {
      "cell_type": "markdown",
      "source": [
        "* Tensor multiplication"
      ],
      "metadata": {
        "id": "jM-mePHZyZ09"
      }
    },
    {
      "cell_type": "code",
      "source": [
        "tf.matmul(tensor, tensor)"
      ],
      "metadata": {
        "colab": {
          "base_uri": "https://localhost:8080/"
        },
        "id": "m2txq8qlyd7Q",
        "outputId": "82f588d4-c2a5-437a-cdfb-f6788e01da1c"
      },
      "execution_count": 27,
      "outputs": [
        {
          "output_type": "execute_result",
          "data": {
            "text/plain": [
              "<tf.Tensor: shape=(2, 2), dtype=int32, numpy=\n",
              "array([[121,  98],\n",
              "       [ 42,  37]], dtype=int32)>"
            ]
          },
          "metadata": {},
          "execution_count": 27
        }
      ]
    },
    {
      "cell_type": "code",
      "source": [
        "#For matrix multiplication, the inner shape should match. Otherwise reshape/transpose them so they can be multiplied( either X or Y)."
      ],
      "metadata": {
        "id": "uT49wuSTyiSw"
      },
      "execution_count": 28,
      "outputs": []
    },
    {
      "cell_type": "code",
      "source": [
        "Y = tf.constant([[10,7],\n",
        "                 [3,4],\n",
        "                 [1,2]])\n",
        "X = tf.constant([[2,3],\n",
        "                  [5,8],\n",
        "                  [1,7]])"
      ],
      "metadata": {
        "id": "U7D5_KAK8IwR"
      },
      "execution_count": 37,
      "outputs": []
    },
    {
      "cell_type": "code",
      "source": [
        "X, Y"
      ],
      "metadata": {
        "colab": {
          "base_uri": "https://localhost:8080/"
        },
        "id": "kI40gYsz8yha",
        "outputId": "98920932-1891-4757-e3b3-a08a70e654ac"
      },
      "execution_count": 38,
      "outputs": [
        {
          "output_type": "execute_result",
          "data": {
            "text/plain": [
              "(<tf.Tensor: shape=(3, 2), dtype=int32, numpy=\n",
              " array([[2, 3],\n",
              "        [5, 8],\n",
              "        [1, 7]], dtype=int32)>,\n",
              " <tf.Tensor: shape=(3, 2), dtype=int32, numpy=\n",
              " array([[10,  7],\n",
              "        [ 3,  4],\n",
              "        [ 1,  2]], dtype=int32)>)"
            ]
          },
          "metadata": {},
          "execution_count": 38
        }
      ]
    },
    {
      "cell_type": "code",
      "source": [
        "tf.reshape(Y, shape=(2,3))"
      ],
      "metadata": {
        "colab": {
          "base_uri": "https://localhost:8080/"
        },
        "id": "eUbTo9ey9FrN",
        "outputId": "617de6a3-cd54-4df3-fb5b-e707e1e5e83d"
      },
      "execution_count": 39,
      "outputs": [
        {
          "output_type": "execute_result",
          "data": {
            "text/plain": [
              "<tf.Tensor: shape=(2, 3), dtype=int32, numpy=\n",
              "array([[10,  7,  3],\n",
              "       [ 4,  1,  2]], dtype=int32)>"
            ]
          },
          "metadata": {},
          "execution_count": 39
        }
      ]
    },
    {
      "cell_type": "code",
      "source": [
        "tf.matmul(X, tf.reshape(Y, shape=(2,3)))"
      ],
      "metadata": {
        "colab": {
          "base_uri": "https://localhost:8080/"
        },
        "id": "EA4jf97B806S",
        "outputId": "5c3c1ff6-fd08-4dd5-f9fe-7c0f5120b8d2"
      },
      "execution_count": 40,
      "outputs": [
        {
          "output_type": "execute_result",
          "data": {
            "text/plain": [
              "<tf.Tensor: shape=(3, 3), dtype=int32, numpy=\n",
              "array([[32, 17, 12],\n",
              "       [82, 43, 31],\n",
              "       [38, 14, 17]], dtype=int32)>"
            ]
          },
          "metadata": {},
          "execution_count": 40
        }
      ]
    },
    {
      "cell_type": "code",
      "source": [
        "tf.matmul(tf.transpose(X), Y)"
      ],
      "metadata": {
        "colab": {
          "base_uri": "https://localhost:8080/"
        },
        "id": "IPXQRyeQ9Dpn",
        "outputId": "83865941-41b0-45c3-836b-93c48de8014a"
      },
      "execution_count": 42,
      "outputs": [
        {
          "output_type": "execute_result",
          "data": {
            "text/plain": [
              "<tf.Tensor: shape=(2, 2), dtype=int32, numpy=\n",
              "array([[36, 36],\n",
              "       [61, 67]], dtype=int32)>"
            ]
          },
          "metadata": {},
          "execution_count": 42
        }
      ]
    },
    {
      "cell_type": "code",
      "source": [],
      "metadata": {
        "id": "rrHA0UFGAbk5"
      },
      "execution_count": null,
      "outputs": []
    }
  ]
}