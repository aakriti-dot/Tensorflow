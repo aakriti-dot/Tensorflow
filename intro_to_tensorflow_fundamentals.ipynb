{
  "nbformat": 4,
  "nbformat_minor": 0,
  "metadata": {
    "colab": {
      "provenance": [],
      "authorship_tag": "ABX9TyOe/wRN/PGG/HdLfTJTNRBb"
    },
    "kernelspec": {
      "name": "python3",
      "display_name": "Python 3"
    },
    "language_info": {
      "name": "python"
    }
  },
  "cells": [
    {
      "cell_type": "markdown",
      "source": [
        "#### Fundamentals of tensor using Tensorflow"
      ],
      "metadata": {
        "id": "WaUjB2GV33Hp"
      }
    },
    {
      "cell_type": "code",
      "source": [
        "# Import tensorflow\n",
        "import tensorflow as tf\n",
        "print(tf.__version__)"
      ],
      "metadata": {
        "colab": {
          "base_uri": "https://localhost:8080/"
        },
        "id": "Yka1c9pZ13jH",
        "outputId": "58b26338-9010-4ecb-c723-f6cf06f2e3b2"
      },
      "execution_count": 1,
      "outputs": [
        {
          "output_type": "stream",
          "name": "stdout",
          "text": [
            "2.12.0\n"
          ]
        }
      ]
    },
    {
      "cell_type": "code",
      "source": [
        "#creator a tensor with constant\n",
        "scalar = tf.constant(7)\n",
        "scalar"
      ],
      "metadata": {
        "colab": {
          "base_uri": "https://localhost:8080/"
        },
        "id": "ACmtW19o8F7y",
        "outputId": "c7879cae-476a-4dc3-ff8a-911a797a4819"
      },
      "execution_count": 2,
      "outputs": [
        {
          "output_type": "execute_result",
          "data": {
            "text/plain": [
              "<tf.Tensor: shape=(), dtype=int32, numpy=7>"
            ]
          },
          "metadata": {},
          "execution_count": 2
        }
      ]
    },
    {
      "cell_type": "code",
      "source": [
        "#Check the dimension of the tensor\n",
        "scalar.ndim"
      ],
      "metadata": {
        "colab": {
          "base_uri": "https://localhost:8080/"
        },
        "id": "1GYGDa508Swj",
        "outputId": "1a16a44f-6944-4372-8d65-691050db5000"
      },
      "execution_count": 3,
      "outputs": [
        {
          "output_type": "execute_result",
          "data": {
            "text/plain": [
              "0"
            ]
          },
          "metadata": {},
          "execution_count": 3
        }
      ]
    },
    {
      "cell_type": "code",
      "source": [
        "#create a vector\n",
        "vector = tf.constant([10,10])\n",
        "vector"
      ],
      "metadata": {
        "colab": {
          "base_uri": "https://localhost:8080/"
        },
        "id": "VXPOb_mE__V7",
        "outputId": "1780ddb8-1861-4464-aea5-7a752de4059f"
      },
      "execution_count": 4,
      "outputs": [
        {
          "output_type": "execute_result",
          "data": {
            "text/plain": [
              "<tf.Tensor: shape=(2,), dtype=int32, numpy=array([10, 10], dtype=int32)>"
            ]
          },
          "metadata": {},
          "execution_count": 4
        }
      ]
    },
    {
      "cell_type": "code",
      "source": [
        "vector.ndim"
      ],
      "metadata": {
        "colab": {
          "base_uri": "https://localhost:8080/"
        },
        "id": "kQF6GYeFARZM",
        "outputId": "cc244840-9af2-44cc-e971-e73dce7ac9d3"
      },
      "execution_count": 5,
      "outputs": [
        {
          "output_type": "execute_result",
          "data": {
            "text/plain": [
              "1"
            ]
          },
          "metadata": {},
          "execution_count": 5
        }
      ]
    },
    {
      "cell_type": "code",
      "source": [
        "# create a matrix\n",
        "matrix = tf.constant([[10,7],\n",
        "                     [7,10]])\n",
        "matrix"
      ],
      "metadata": {
        "colab": {
          "base_uri": "https://localhost:8080/"
        },
        "id": "-zhzgbMfAg6y",
        "outputId": "f2768396-4a08-4f1c-b33c-5e51069681a8"
      },
      "execution_count": 6,
      "outputs": [
        {
          "output_type": "execute_result",
          "data": {
            "text/plain": [
              "<tf.Tensor: shape=(2, 2), dtype=int32, numpy=\n",
              "array([[10,  7],\n",
              "       [ 7, 10]], dtype=int32)>"
            ]
          },
          "metadata": {},
          "execution_count": 6
        }
      ]
    },
    {
      "cell_type": "code",
      "source": [
        "matrix.ndim"
      ],
      "metadata": {
        "colab": {
          "base_uri": "https://localhost:8080/"
        },
        "id": "af1dcs6gAvmt",
        "outputId": "cdba531d-72d4-47a7-8fd5-5d996b7a1660"
      },
      "execution_count": 7,
      "outputs": [
        {
          "output_type": "execute_result",
          "data": {
            "text/plain": [
              "2"
            ]
          },
          "metadata": {},
          "execution_count": 7
        }
      ]
    },
    {
      "cell_type": "code",
      "source": [
        "another_matrix = tf.constant([[10.,7.],\n",
        "                              [3.,2.],\n",
        "                              [8.,9.]], dtype=tf.float32)\n",
        "another_matrix"
      ],
      "metadata": {
        "id": "7elISe3CA443",
        "colab": {
          "base_uri": "https://localhost:8080/"
        },
        "outputId": "2ceef94e-0b01-4ee3-bdce-87d946c5d559"
      },
      "execution_count": 8,
      "outputs": [
        {
          "output_type": "execute_result",
          "data": {
            "text/plain": [
              "<tf.Tensor: shape=(3, 2), dtype=float32, numpy=\n",
              "array([[10.,  7.],\n",
              "       [ 3.,  2.],\n",
              "       [ 8.,  9.]], dtype=float32)>"
            ]
          },
          "metadata": {},
          "execution_count": 8
        }
      ]
    },
    {
      "cell_type": "code",
      "source": [
        "another_matrix.ndim"
      ],
      "metadata": {
        "colab": {
          "base_uri": "https://localhost:8080/"
        },
        "id": "-CoeVZDHDhaa",
        "outputId": "ec5dd684-d101-4449-e853-ace84daf256d"
      },
      "execution_count": 9,
      "outputs": [
        {
          "output_type": "execute_result",
          "data": {
            "text/plain": [
              "2"
            ]
          },
          "metadata": {},
          "execution_count": 9
        }
      ]
    },
    {
      "cell_type": "code",
      "source": [
        "#For a tensor\n",
        "tensor = tf.constant([[[1,2,3,],\n",
        "                       [4,5,6]],\n",
        "                      [[7,8,9],\n",
        "                       [10,11,12]],\n",
        "                      [[13,14,15],\n",
        "                       [16,17,18]]])\n",
        "tensor"
      ],
      "metadata": {
        "colab": {
          "base_uri": "https://localhost:8080/"
        },
        "id": "EtCQX_a1Ejzz",
        "outputId": "3c78f861-711b-4de3-bc40-e619fc35676d"
      },
      "execution_count": 10,
      "outputs": [
        {
          "output_type": "execute_result",
          "data": {
            "text/plain": [
              "<tf.Tensor: shape=(3, 2, 3), dtype=int32, numpy=\n",
              "array([[[ 1,  2,  3],\n",
              "        [ 4,  5,  6]],\n",
              "\n",
              "       [[ 7,  8,  9],\n",
              "        [10, 11, 12]],\n",
              "\n",
              "       [[13, 14, 15],\n",
              "        [16, 17, 18]]], dtype=int32)>"
            ]
          },
          "metadata": {},
          "execution_count": 10
        }
      ]
    },
    {
      "cell_type": "code",
      "source": [
        "tensor.ndim"
      ],
      "metadata": {
        "colab": {
          "base_uri": "https://localhost:8080/"
        },
        "id": "okiD4A78FdIy",
        "outputId": "ce82a5f6-e1a2-4dd8-8b3f-9eae27af26da"
      },
      "execution_count": 11,
      "outputs": [
        {
          "output_type": "execute_result",
          "data": {
            "text/plain": [
              "3"
            ]
          },
          "metadata": {},
          "execution_count": 11
        }
      ]
    },
    {
      "cell_type": "markdown",
      "source": [
        "####Working with tf.Variable"
      ],
      "metadata": {
        "id": "PePLqvnQ2RuV"
      }
    },
    {
      "cell_type": "code",
      "source": [
        "changeable = tf.Variable([10,7])\n",
        "unchangeable = tf.constant([10,7])\n",
        "changeable, unchangeable"
      ],
      "metadata": {
        "colab": {
          "base_uri": "https://localhost:8080/"
        },
        "id": "1Pj2Ikll2U83",
        "outputId": "16a44e81-ca67-4c38-ef48-89d75a9690cf"
      },
      "execution_count": 12,
      "outputs": [
        {
          "output_type": "execute_result",
          "data": {
            "text/plain": [
              "(<tf.Variable 'Variable:0' shape=(2,) dtype=int32, numpy=array([10,  7], dtype=int32)>,\n",
              " <tf.Tensor: shape=(2,), dtype=int32, numpy=array([10,  7], dtype=int32)>)"
            ]
          },
          "metadata": {},
          "execution_count": 12
        }
      ]
    },
    {
      "cell_type": "code",
      "source": [
        "# To change the number use .assign(), works only for tf.Variable\n",
        "changeable[0].assign(7)\n",
        "changeable"
      ],
      "metadata": {
        "colab": {
          "base_uri": "https://localhost:8080/"
        },
        "id": "3J8726MI2lc4",
        "outputId": "9af44fb5-bfac-4965-ff1f-221f47443505"
      },
      "execution_count": 13,
      "outputs": [
        {
          "output_type": "execute_result",
          "data": {
            "text/plain": [
              "<tf.Variable 'Variable:0' shape=(2,) dtype=int32, numpy=array([7, 7], dtype=int32)>"
            ]
          },
          "metadata": {},
          "execution_count": 13
        }
      ]
    },
    {
      "cell_type": "markdown",
      "source": [
        "#### Creating random tensors"
      ],
      "metadata": {
        "id": "cTdmuEMo7CYs"
      }
    },
    {
      "cell_type": "code",
      "source": [
        "random_1= tf.random.Generator.from_seed(42)\n",
        "random_1=random_1.normal(shape=(3,2))\n",
        "random_1"
      ],
      "metadata": {
        "colab": {
          "base_uri": "https://localhost:8080/"
        },
        "id": "aSAvHpRQ7FD5",
        "outputId": "82abed17-90d6-4bdb-dc75-151ad7c878ea"
      },
      "execution_count": 14,
      "outputs": [
        {
          "output_type": "execute_result",
          "data": {
            "text/plain": [
              "<tf.Tensor: shape=(3, 2), dtype=float32, numpy=\n",
              "array([[-0.7565803 , -0.06854702],\n",
              "       [ 0.07595026, -1.2573844 ],\n",
              "       [-0.23193763, -1.8107855 ]], dtype=float32)>"
            ]
          },
          "metadata": {},
          "execution_count": 14
        }
      ]
    },
    {
      "cell_type": "code",
      "source": [
        "random_2= tf.random.Generator.from_seed(42)\n",
        "random_2=random_2.normal(shape=(3,2))\n",
        "random_2"
      ],
      "metadata": {
        "colab": {
          "base_uri": "https://localhost:8080/"
        },
        "id": "PRB5h59_72SV",
        "outputId": "30b807d6-1684-4ed8-c80b-5fbc60254442"
      },
      "execution_count": 15,
      "outputs": [
        {
          "output_type": "execute_result",
          "data": {
            "text/plain": [
              "<tf.Tensor: shape=(3, 2), dtype=float32, numpy=\n",
              "array([[-0.7565803 , -0.06854702],\n",
              "       [ 0.07595026, -1.2573844 ],\n",
              "       [-0.23193763, -1.8107855 ]], dtype=float32)>"
            ]
          },
          "metadata": {},
          "execution_count": 15
        }
      ]
    },
    {
      "cell_type": "markdown",
      "source": [
        "#### Shuffle the order of elements in a tensor"
      ],
      "metadata": {
        "id": "lydwGCD7IjmY"
      }
    },
    {
      "cell_type": "code",
      "source": [
        "not_shuffled = tf.constant([[10,7],\n",
        "                            [3,4],\n",
        "                            [2,5]])\n",
        "\n",
        "tf.random.set_seed(42) #global level random seed\n",
        "tf.random.shuffle(not_shuffled) #operation level random seed"
      ],
      "metadata": {
        "colab": {
          "base_uri": "https://localhost:8080/"
        },
        "id": "2nwpNV4EKOH6",
        "outputId": "b3380f2e-f343-4489-af83-afad4594efe1"
      },
      "execution_count": 16,
      "outputs": [
        {
          "output_type": "execute_result",
          "data": {
            "text/plain": [
              "<tf.Tensor: shape=(3, 2), dtype=int32, numpy=\n",
              "array([[ 3,  4],\n",
              "       [ 2,  5],\n",
              "       [10,  7]], dtype=int32)>"
            ]
          },
          "metadata": {},
          "execution_count": 16
        }
      ]
    },
    {
      "cell_type": "markdown",
      "source": [
        "#### Creating tensors from numpy arrays"
      ],
      "metadata": {
        "id": "fpQ7P8CnWRuV"
      }
    },
    {
      "cell_type": "code",
      "source": [
        "import numpy as np\n",
        "numpy_A = np.arange(1,25,dtype=np.int32)\n",
        "numpy_A"
      ],
      "metadata": {
        "colab": {
          "base_uri": "https://localhost:8080/"
        },
        "id": "XzGQfykNWVYJ",
        "outputId": "5ea4f228-528d-45d9-d213-e3a1d9594f17"
      },
      "execution_count": 17,
      "outputs": [
        {
          "output_type": "execute_result",
          "data": {
            "text/plain": [
              "array([ 1,  2,  3,  4,  5,  6,  7,  8,  9, 10, 11, 12, 13, 14, 15, 16, 17,\n",
              "       18, 19, 20, 21, 22, 23, 24], dtype=int32)"
            ]
          },
          "metadata": {},
          "execution_count": 17
        }
      ]
    },
    {
      "cell_type": "code",
      "source": [
        "A = tf.constant(numpy_A)\n",
        "B = tf.constant(numpy_A, shape=(2,3,4))\n",
        "A,B"
      ],
      "metadata": {
        "colab": {
          "base_uri": "https://localhost:8080/"
        },
        "id": "BvjOxVsg-hDt",
        "outputId": "0b29b9b8-2538-4a18-f98d-e94adbbcf0e1"
      },
      "execution_count": 18,
      "outputs": [
        {
          "output_type": "execute_result",
          "data": {
            "text/plain": [
              "(<tf.Tensor: shape=(24,), dtype=int32, numpy=\n",
              " array([ 1,  2,  3,  4,  5,  6,  7,  8,  9, 10, 11, 12, 13, 14, 15, 16, 17,\n",
              "        18, 19, 20, 21, 22, 23, 24], dtype=int32)>,\n",
              " <tf.Tensor: shape=(2, 3, 4), dtype=int32, numpy=\n",
              " array([[[ 1,  2,  3,  4],\n",
              "         [ 5,  6,  7,  8],\n",
              "         [ 9, 10, 11, 12]],\n",
              " \n",
              "        [[13, 14, 15, 16],\n",
              "         [17, 18, 19, 20],\n",
              "         [21, 22, 23, 24]]], dtype=int32)>)"
            ]
          },
          "metadata": {},
          "execution_count": 18
        }
      ]
    },
    {
      "cell_type": "markdown",
      "source": [
        "#### Getting information from tensors\n",
        "* Shape\n",
        "* Rank\n",
        "* Size\n",
        "* Axis or dimension"
      ],
      "metadata": {
        "id": "OU5fWXRqqcfh"
      }
    },
    {
      "cell_type": "code",
      "source": [
        "#rank 4 tensor\n",
        "rank_4 = tf.zeros(shape=[2,3,4,5])\n",
        "rank_4"
      ],
      "metadata": {
        "colab": {
          "base_uri": "https://localhost:8080/"
        },
        "id": "MwQvJTcLqfNp",
        "outputId": "a0095d14-0498-479c-a36e-d895caab8514"
      },
      "execution_count": 19,
      "outputs": [
        {
          "output_type": "execute_result",
          "data": {
            "text/plain": [
              "<tf.Tensor: shape=(2, 3, 4, 5), dtype=float32, numpy=\n",
              "array([[[[0., 0., 0., 0., 0.],\n",
              "         [0., 0., 0., 0., 0.],\n",
              "         [0., 0., 0., 0., 0.],\n",
              "         [0., 0., 0., 0., 0.]],\n",
              "\n",
              "        [[0., 0., 0., 0., 0.],\n",
              "         [0., 0., 0., 0., 0.],\n",
              "         [0., 0., 0., 0., 0.],\n",
              "         [0., 0., 0., 0., 0.]],\n",
              "\n",
              "        [[0., 0., 0., 0., 0.],\n",
              "         [0., 0., 0., 0., 0.],\n",
              "         [0., 0., 0., 0., 0.],\n",
              "         [0., 0., 0., 0., 0.]]],\n",
              "\n",
              "\n",
              "       [[[0., 0., 0., 0., 0.],\n",
              "         [0., 0., 0., 0., 0.],\n",
              "         [0., 0., 0., 0., 0.],\n",
              "         [0., 0., 0., 0., 0.]],\n",
              "\n",
              "        [[0., 0., 0., 0., 0.],\n",
              "         [0., 0., 0., 0., 0.],\n",
              "         [0., 0., 0., 0., 0.],\n",
              "         [0., 0., 0., 0., 0.]],\n",
              "\n",
              "        [[0., 0., 0., 0., 0.],\n",
              "         [0., 0., 0., 0., 0.],\n",
              "         [0., 0., 0., 0., 0.],\n",
              "         [0., 0., 0., 0., 0.]]]], dtype=float32)>"
            ]
          },
          "metadata": {},
          "execution_count": 19
        }
      ]
    },
    {
      "cell_type": "code",
      "source": [
        "rank_4.shape, rank_4.ndim, tf.size(rank_4)"
      ],
      "metadata": {
        "colab": {
          "base_uri": "https://localhost:8080/"
        },
        "id": "OdftOsmnxo68",
        "outputId": "111a64fd-9354-47da-944a-aa9329f76ff1"
      },
      "execution_count": 20,
      "outputs": [
        {
          "output_type": "execute_result",
          "data": {
            "text/plain": [
              "(TensorShape([2, 3, 4, 5]), 4, <tf.Tensor: shape=(), dtype=int32, numpy=120>)"
            ]
          },
          "metadata": {},
          "execution_count": 20
        }
      ]
    },
    {
      "cell_type": "markdown",
      "source": [
        "#### Indexing"
      ],
      "metadata": {
        "id": "ARXMlD8B6Ykx"
      }
    },
    {
      "cell_type": "code",
      "source": [
        "#get the first 2 elements of each dimension\n",
        "rank_4[:2, :2, :2, :2]"
      ],
      "metadata": {
        "colab": {
          "base_uri": "https://localhost:8080/"
        },
        "id": "lvS6EPef6Z0l",
        "outputId": "30218460-263f-4a66-9c09-12fd6d333c0c"
      },
      "execution_count": 21,
      "outputs": [
        {
          "output_type": "execute_result",
          "data": {
            "text/plain": [
              "<tf.Tensor: shape=(2, 2, 2, 2), dtype=float32, numpy=\n",
              "array([[[[0., 0.],\n",
              "         [0., 0.]],\n",
              "\n",
              "        [[0., 0.],\n",
              "         [0., 0.]]],\n",
              "\n",
              "\n",
              "       [[[0., 0.],\n",
              "         [0., 0.]],\n",
              "\n",
              "        [[0., 0.],\n",
              "         [0., 0.]]]], dtype=float32)>"
            ]
          },
          "metadata": {},
          "execution_count": 21
        }
      ]
    },
    {
      "cell_type": "code",
      "source": [
        "# Adding extra dimensions\n",
        "rank_5 = rank_4[..., tf.newaxis]\n",
        "rank_5"
      ],
      "metadata": {
        "colab": {
          "base_uri": "https://localhost:8080/"
        },
        "id": "mrzBRf6s6lSe",
        "outputId": "24c142cc-6be5-42df-f814-b89c6226a4f0"
      },
      "execution_count": 22,
      "outputs": [
        {
          "output_type": "execute_result",
          "data": {
            "text/plain": [
              "<tf.Tensor: shape=(2, 3, 4, 5, 1), dtype=float32, numpy=\n",
              "array([[[[[0.],\n",
              "          [0.],\n",
              "          [0.],\n",
              "          [0.],\n",
              "          [0.]],\n",
              "\n",
              "         [[0.],\n",
              "          [0.],\n",
              "          [0.],\n",
              "          [0.],\n",
              "          [0.]],\n",
              "\n",
              "         [[0.],\n",
              "          [0.],\n",
              "          [0.],\n",
              "          [0.],\n",
              "          [0.]],\n",
              "\n",
              "         [[0.],\n",
              "          [0.],\n",
              "          [0.],\n",
              "          [0.],\n",
              "          [0.]]],\n",
              "\n",
              "\n",
              "        [[[0.],\n",
              "          [0.],\n",
              "          [0.],\n",
              "          [0.],\n",
              "          [0.]],\n",
              "\n",
              "         [[0.],\n",
              "          [0.],\n",
              "          [0.],\n",
              "          [0.],\n",
              "          [0.]],\n",
              "\n",
              "         [[0.],\n",
              "          [0.],\n",
              "          [0.],\n",
              "          [0.],\n",
              "          [0.]],\n",
              "\n",
              "         [[0.],\n",
              "          [0.],\n",
              "          [0.],\n",
              "          [0.],\n",
              "          [0.]]],\n",
              "\n",
              "\n",
              "        [[[0.],\n",
              "          [0.],\n",
              "          [0.],\n",
              "          [0.],\n",
              "          [0.]],\n",
              "\n",
              "         [[0.],\n",
              "          [0.],\n",
              "          [0.],\n",
              "          [0.],\n",
              "          [0.]],\n",
              "\n",
              "         [[0.],\n",
              "          [0.],\n",
              "          [0.],\n",
              "          [0.],\n",
              "          [0.]],\n",
              "\n",
              "         [[0.],\n",
              "          [0.],\n",
              "          [0.],\n",
              "          [0.],\n",
              "          [0.]]]],\n",
              "\n",
              "\n",
              "\n",
              "       [[[[0.],\n",
              "          [0.],\n",
              "          [0.],\n",
              "          [0.],\n",
              "          [0.]],\n",
              "\n",
              "         [[0.],\n",
              "          [0.],\n",
              "          [0.],\n",
              "          [0.],\n",
              "          [0.]],\n",
              "\n",
              "         [[0.],\n",
              "          [0.],\n",
              "          [0.],\n",
              "          [0.],\n",
              "          [0.]],\n",
              "\n",
              "         [[0.],\n",
              "          [0.],\n",
              "          [0.],\n",
              "          [0.],\n",
              "          [0.]]],\n",
              "\n",
              "\n",
              "        [[[0.],\n",
              "          [0.],\n",
              "          [0.],\n",
              "          [0.],\n",
              "          [0.]],\n",
              "\n",
              "         [[0.],\n",
              "          [0.],\n",
              "          [0.],\n",
              "          [0.],\n",
              "          [0.]],\n",
              "\n",
              "         [[0.],\n",
              "          [0.],\n",
              "          [0.],\n",
              "          [0.],\n",
              "          [0.]],\n",
              "\n",
              "         [[0.],\n",
              "          [0.],\n",
              "          [0.],\n",
              "          [0.],\n",
              "          [0.]]],\n",
              "\n",
              "\n",
              "        [[[0.],\n",
              "          [0.],\n",
              "          [0.],\n",
              "          [0.],\n",
              "          [0.]],\n",
              "\n",
              "         [[0.],\n",
              "          [0.],\n",
              "          [0.],\n",
              "          [0.],\n",
              "          [0.]],\n",
              "\n",
              "         [[0.],\n",
              "          [0.],\n",
              "          [0.],\n",
              "          [0.],\n",
              "          [0.]],\n",
              "\n",
              "         [[0.],\n",
              "          [0.],\n",
              "          [0.],\n",
              "          [0.],\n",
              "          [0.]]]]], dtype=float32)>"
            ]
          },
          "metadata": {},
          "execution_count": 22
        }
      ]
    },
    {
      "cell_type": "code",
      "source": [
        "tf.expand_dims(rank_4, axis=0)"
      ],
      "metadata": {
        "colab": {
          "base_uri": "https://localhost:8080/"
        },
        "id": "b9Jd5SHcMxnA",
        "outputId": "5d449606-0feb-4522-cf16-b503562f65cc"
      },
      "execution_count": 23,
      "outputs": [
        {
          "output_type": "execute_result",
          "data": {
            "text/plain": [
              "<tf.Tensor: shape=(1, 2, 3, 4, 5), dtype=float32, numpy=\n",
              "array([[[[[0., 0., 0., 0., 0.],\n",
              "          [0., 0., 0., 0., 0.],\n",
              "          [0., 0., 0., 0., 0.],\n",
              "          [0., 0., 0., 0., 0.]],\n",
              "\n",
              "         [[0., 0., 0., 0., 0.],\n",
              "          [0., 0., 0., 0., 0.],\n",
              "          [0., 0., 0., 0., 0.],\n",
              "          [0., 0., 0., 0., 0.]],\n",
              "\n",
              "         [[0., 0., 0., 0., 0.],\n",
              "          [0., 0., 0., 0., 0.],\n",
              "          [0., 0., 0., 0., 0.],\n",
              "          [0., 0., 0., 0., 0.]]],\n",
              "\n",
              "\n",
              "        [[[0., 0., 0., 0., 0.],\n",
              "          [0., 0., 0., 0., 0.],\n",
              "          [0., 0., 0., 0., 0.],\n",
              "          [0., 0., 0., 0., 0.]],\n",
              "\n",
              "         [[0., 0., 0., 0., 0.],\n",
              "          [0., 0., 0., 0., 0.],\n",
              "          [0., 0., 0., 0., 0.],\n",
              "          [0., 0., 0., 0., 0.]],\n",
              "\n",
              "         [[0., 0., 0., 0., 0.],\n",
              "          [0., 0., 0., 0., 0.],\n",
              "          [0., 0., 0., 0., 0.],\n",
              "          [0., 0., 0., 0., 0.]]]]], dtype=float32)>"
            ]
          },
          "metadata": {},
          "execution_count": 23
        }
      ]
    },
    {
      "cell_type": "code",
      "source": [
        "tf.expand_dims(rank_4, axis=-1)"
      ],
      "metadata": {
        "colab": {
          "base_uri": "https://localhost:8080/"
        },
        "id": "0HdHxdGFT6Lr",
        "outputId": "dd7a2627-6337-4437-b392-da6fe7816fdc"
      },
      "execution_count": 24,
      "outputs": [
        {
          "output_type": "execute_result",
          "data": {
            "text/plain": [
              "<tf.Tensor: shape=(2, 3, 4, 5, 1), dtype=float32, numpy=\n",
              "array([[[[[0.],\n",
              "          [0.],\n",
              "          [0.],\n",
              "          [0.],\n",
              "          [0.]],\n",
              "\n",
              "         [[0.],\n",
              "          [0.],\n",
              "          [0.],\n",
              "          [0.],\n",
              "          [0.]],\n",
              "\n",
              "         [[0.],\n",
              "          [0.],\n",
              "          [0.],\n",
              "          [0.],\n",
              "          [0.]],\n",
              "\n",
              "         [[0.],\n",
              "          [0.],\n",
              "          [0.],\n",
              "          [0.],\n",
              "          [0.]]],\n",
              "\n",
              "\n",
              "        [[[0.],\n",
              "          [0.],\n",
              "          [0.],\n",
              "          [0.],\n",
              "          [0.]],\n",
              "\n",
              "         [[0.],\n",
              "          [0.],\n",
              "          [0.],\n",
              "          [0.],\n",
              "          [0.]],\n",
              "\n",
              "         [[0.],\n",
              "          [0.],\n",
              "          [0.],\n",
              "          [0.],\n",
              "          [0.]],\n",
              "\n",
              "         [[0.],\n",
              "          [0.],\n",
              "          [0.],\n",
              "          [0.],\n",
              "          [0.]]],\n",
              "\n",
              "\n",
              "        [[[0.],\n",
              "          [0.],\n",
              "          [0.],\n",
              "          [0.],\n",
              "          [0.]],\n",
              "\n",
              "         [[0.],\n",
              "          [0.],\n",
              "          [0.],\n",
              "          [0.],\n",
              "          [0.]],\n",
              "\n",
              "         [[0.],\n",
              "          [0.],\n",
              "          [0.],\n",
              "          [0.],\n",
              "          [0.]],\n",
              "\n",
              "         [[0.],\n",
              "          [0.],\n",
              "          [0.],\n",
              "          [0.],\n",
              "          [0.]]]],\n",
              "\n",
              "\n",
              "\n",
              "       [[[[0.],\n",
              "          [0.],\n",
              "          [0.],\n",
              "          [0.],\n",
              "          [0.]],\n",
              "\n",
              "         [[0.],\n",
              "          [0.],\n",
              "          [0.],\n",
              "          [0.],\n",
              "          [0.]],\n",
              "\n",
              "         [[0.],\n",
              "          [0.],\n",
              "          [0.],\n",
              "          [0.],\n",
              "          [0.]],\n",
              "\n",
              "         [[0.],\n",
              "          [0.],\n",
              "          [0.],\n",
              "          [0.],\n",
              "          [0.]]],\n",
              "\n",
              "\n",
              "        [[[0.],\n",
              "          [0.],\n",
              "          [0.],\n",
              "          [0.],\n",
              "          [0.]],\n",
              "\n",
              "         [[0.],\n",
              "          [0.],\n",
              "          [0.],\n",
              "          [0.],\n",
              "          [0.]],\n",
              "\n",
              "         [[0.],\n",
              "          [0.],\n",
              "          [0.],\n",
              "          [0.],\n",
              "          [0.]],\n",
              "\n",
              "         [[0.],\n",
              "          [0.],\n",
              "          [0.],\n",
              "          [0.],\n",
              "          [0.]]],\n",
              "\n",
              "\n",
              "        [[[0.],\n",
              "          [0.],\n",
              "          [0.],\n",
              "          [0.],\n",
              "          [0.]],\n",
              "\n",
              "         [[0.],\n",
              "          [0.],\n",
              "          [0.],\n",
              "          [0.],\n",
              "          [0.]],\n",
              "\n",
              "         [[0.],\n",
              "          [0.],\n",
              "          [0.],\n",
              "          [0.],\n",
              "          [0.]],\n",
              "\n",
              "         [[0.],\n",
              "          [0.],\n",
              "          [0.],\n",
              "          [0.],\n",
              "          [0.]]]]], dtype=float32)>"
            ]
          },
          "metadata": {},
          "execution_count": 24
        }
      ]
    },
    {
      "cell_type": "markdown",
      "source": [
        "#### Manipulating tensors"
      ],
      "metadata": {
        "id": "i4LaXgDEUTjD"
      }
    },
    {
      "cell_type": "code",
      "source": [
        "#Arithmetic operations(applies to all : +, *, -, /)\n",
        "tensor = tf.constant([[10,7],[3,4]])\n",
        "tensor + 10"
      ],
      "metadata": {
        "colab": {
          "base_uri": "https://localhost:8080/"
        },
        "id": "evCMmIpxUVtu",
        "outputId": "3d9a8f8e-5c35-40a6-9800-67ca0efcbed6"
      },
      "execution_count": 25,
      "outputs": [
        {
          "output_type": "execute_result",
          "data": {
            "text/plain": [
              "<tf.Tensor: shape=(2, 2), dtype=int32, numpy=\n",
              "array([[20, 17],\n",
              "       [13, 14]], dtype=int32)>"
            ]
          },
          "metadata": {},
          "execution_count": 25
        }
      ]
    },
    {
      "cell_type": "code",
      "source": [
        "tf.multiply(tensor,10)"
      ],
      "metadata": {
        "colab": {
          "base_uri": "https://localhost:8080/"
        },
        "id": "0W-FO1yuWUXG",
        "outputId": "7dc89903-86ab-4df9-db91-da96b0e474b8"
      },
      "execution_count": 26,
      "outputs": [
        {
          "output_type": "execute_result",
          "data": {
            "text/plain": [
              "<tf.Tensor: shape=(2, 2), dtype=int32, numpy=\n",
              "array([[100,  70],\n",
              "       [ 30,  40]], dtype=int32)>"
            ]
          },
          "metadata": {},
          "execution_count": 26
        }
      ]
    },
    {
      "cell_type": "markdown",
      "source": [
        "* Tensor multiplication"
      ],
      "metadata": {
        "id": "jM-mePHZyZ09"
      }
    },
    {
      "cell_type": "code",
      "source": [
        "tf.matmul(tensor, tensor)"
      ],
      "metadata": {
        "colab": {
          "base_uri": "https://localhost:8080/"
        },
        "id": "m2txq8qlyd7Q",
        "outputId": "1005376b-3d18-4a42-b796-c6728c070189"
      },
      "execution_count": 27,
      "outputs": [
        {
          "output_type": "execute_result",
          "data": {
            "text/plain": [
              "<tf.Tensor: shape=(2, 2), dtype=int32, numpy=\n",
              "array([[121,  98],\n",
              "       [ 42,  37]], dtype=int32)>"
            ]
          },
          "metadata": {},
          "execution_count": 27
        }
      ]
    },
    {
      "cell_type": "code",
      "source": [
        "#For matrix multiplication, the inner shape should match. Otherwise reshape/transpose them so they can be multiplied( either X or Y)."
      ],
      "metadata": {
        "id": "uT49wuSTyiSw"
      },
      "execution_count": 28,
      "outputs": []
    },
    {
      "cell_type": "code",
      "source": [
        "Y = tf.constant([[10,7],\n",
        "                 [3,4],\n",
        "                 [1,2]])\n",
        "X = tf.constant([[2,3],\n",
        "                  [5,8],\n",
        "                  [1,7]])"
      ],
      "metadata": {
        "id": "U7D5_KAK8IwR"
      },
      "execution_count": 29,
      "outputs": []
    },
    {
      "cell_type": "code",
      "source": [
        "X, Y"
      ],
      "metadata": {
        "colab": {
          "base_uri": "https://localhost:8080/"
        },
        "id": "kI40gYsz8yha",
        "outputId": "a5c43960-e081-43f7-a40c-d3c8175c9990"
      },
      "execution_count": 30,
      "outputs": [
        {
          "output_type": "execute_result",
          "data": {
            "text/plain": [
              "(<tf.Tensor: shape=(3, 2), dtype=int32, numpy=\n",
              " array([[2, 3],\n",
              "        [5, 8],\n",
              "        [1, 7]], dtype=int32)>,\n",
              " <tf.Tensor: shape=(3, 2), dtype=int32, numpy=\n",
              " array([[10,  7],\n",
              "        [ 3,  4],\n",
              "        [ 1,  2]], dtype=int32)>)"
            ]
          },
          "metadata": {},
          "execution_count": 30
        }
      ]
    },
    {
      "cell_type": "code",
      "source": [
        "tf.reshape(Y, shape=(2,3))"
      ],
      "metadata": {
        "colab": {
          "base_uri": "https://localhost:8080/"
        },
        "id": "eUbTo9ey9FrN",
        "outputId": "6e5c4591-c161-4ced-eeea-e6b1db09c489"
      },
      "execution_count": 31,
      "outputs": [
        {
          "output_type": "execute_result",
          "data": {
            "text/plain": [
              "<tf.Tensor: shape=(2, 3), dtype=int32, numpy=\n",
              "array([[10,  7,  3],\n",
              "       [ 4,  1,  2]], dtype=int32)>"
            ]
          },
          "metadata": {},
          "execution_count": 31
        }
      ]
    },
    {
      "cell_type": "code",
      "source": [
        "tf.matmul(X, tf.reshape(Y, shape=(2,3)))"
      ],
      "metadata": {
        "colab": {
          "base_uri": "https://localhost:8080/"
        },
        "id": "EA4jf97B806S",
        "outputId": "fec37e68-9ece-4117-a40f-3966c8141b82"
      },
      "execution_count": 32,
      "outputs": [
        {
          "output_type": "execute_result",
          "data": {
            "text/plain": [
              "<tf.Tensor: shape=(3, 3), dtype=int32, numpy=\n",
              "array([[32, 17, 12],\n",
              "       [82, 43, 31],\n",
              "       [38, 14, 17]], dtype=int32)>"
            ]
          },
          "metadata": {},
          "execution_count": 32
        }
      ]
    },
    {
      "cell_type": "code",
      "source": [
        "tf.matmul(tf.transpose(X), Y)"
      ],
      "metadata": {
        "colab": {
          "base_uri": "https://localhost:8080/"
        },
        "id": "IPXQRyeQ9Dpn",
        "outputId": "ef76e0a6-f87d-49d0-b9bd-dab43a755316"
      },
      "execution_count": 33,
      "outputs": [
        {
          "output_type": "execute_result",
          "data": {
            "text/plain": [
              "<tf.Tensor: shape=(2, 2), dtype=int32, numpy=\n",
              "array([[36, 36],\n",
              "       [61, 67]], dtype=int32)>"
            ]
          },
          "metadata": {},
          "execution_count": 33
        }
      ]
    },
    {
      "cell_type": "markdown",
      "source": [
        "The matrix multiplication is also called as dot product.\n",
        "\n",
        "Can be performed using:\n",
        "* tf.matmul()\n",
        "* tf.tensordot()\n"
      ],
      "metadata": {
        "id": "BzODMP4Roqsc"
      }
    },
    {
      "cell_type": "code",
      "source": [
        "tf.tensordot(tf.transpose(X),Y, axes=1)"
      ],
      "metadata": {
        "colab": {
          "base_uri": "https://localhost:8080/"
        },
        "id": "F4jcJe-UpPfD",
        "outputId": "c2e29c3b-5248-4e4f-aed9-045b6905ccd4"
      },
      "execution_count": 35,
      "outputs": [
        {
          "output_type": "execute_result",
          "data": {
            "text/plain": [
              "<tf.Tensor: shape=(2, 2), dtype=int32, numpy=\n",
              "array([[36, 36],\n",
              "       [61, 67]], dtype=int32)>"
            ]
          },
          "metadata": {},
          "execution_count": 35
        }
      ]
    },
    {
      "cell_type": "code",
      "source": [
        "Y, tf.reshape(Y, (2,3)), tf.transpose(Y) # reshape and transpose give different results"
      ],
      "metadata": {
        "colab": {
          "base_uri": "https://localhost:8080/"
        },
        "id": "lkIm_IU0rPvK",
        "outputId": "a60b407c-e0aa-4850-b985-43e20454e5c9"
      },
      "execution_count": 37,
      "outputs": [
        {
          "output_type": "execute_result",
          "data": {
            "text/plain": [
              "(<tf.Tensor: shape=(3, 2), dtype=int32, numpy=\n",
              " array([[10,  7],\n",
              "        [ 3,  4],\n",
              "        [ 1,  2]], dtype=int32)>,\n",
              " <tf.Tensor: shape=(2, 3), dtype=int32, numpy=\n",
              " array([[10,  7,  3],\n",
              "        [ 4,  1,  2]], dtype=int32)>,\n",
              " <tf.Tensor: shape=(2, 3), dtype=int32, numpy=\n",
              " array([[10,  3,  1],\n",
              "        [ 7,  4,  2]], dtype=int32)>)"
            ]
          },
          "metadata": {},
          "execution_count": 37
        }
      ]
    },
    {
      "cell_type": "code",
      "source": [],
      "metadata": {
        "id": "95Ruei16sWhB"
      },
      "execution_count": null,
      "outputs": []
    }
  ]
}